{
 "cells": [
  {
   "cell_type": "markdown",
   "id": "21fa2e13-567d-4509-9023-c99fb230f31f",
   "metadata": {
    "id": "21fa2e13-567d-4509-9023-c99fb230f31f"
   },
   "source": [
    "# Lesson 2 : LangGraph Components"
   ]
  },
  {
   "cell_type": "code",
   "execution_count": 10,
   "id": "BKQ9NEg1cTXF",
   "metadata": {
    "colab": {
     "base_uri": "https://localhost:8080/"
    },
    "id": "BKQ9NEg1cTXF",
    "outputId": "f69f1cfa-285f-43b2-9f28-13fd9e133768"
   },
   "outputs": [
    {
     "name": "stdout",
     "output_type": "stream",
     "text": [
      "Requirement already satisfied: python-dotenv in /usr/local/lib/python3.10/dist-packages (1.0.1)\n"
     ]
    }
   ],
   "source": [
    "# !pip install python-dotenv\n",
    "# !pip install langchain-openai\n",
    "# !pip install langchain-community\n",
    "# !pip install graphviz\n",
    "# !pip install langchain-community[all]\n",
    "# !pip install langgraph"
   ]
  },
  {
   "cell_type": "markdown",
   "id": "CWvj2jaDeu3N",
   "metadata": {
    "id": "CWvj2jaDeu3N"
   },
   "source": [
    "### Graphs\n",
    "\n",
    "- LangGraph is an extension of LangChain that supports graphs.\n",
    "- Single and multi-agent flows are described and represented as graphs\n",
    "- allows for extremely controlled flow\n",
    "- built- in persistence allows for human-in-the-loop workflows\n",
    "\n",
    "nodes: agents or functions\n",
    "edges: connect nodes\n",
    "conditional edges: decisions\n",
    "\n",
    "agent node, conditional edge\n",
    "function node, edge\n",
    "\n",
    "entrypoint: starting node\n",
    "node\n",
    "\n",
    "### data/state:\n",
    "agent state:\n",
    "- agent state is accessible to all parts of the graph\n",
    "- it is local to the graph\n",
    "- can be stored in a persistence layer\n",
    "\n",
    "Simple:\n",
    "  class AgentState(TypedDict):\n",
    "    messages: Annotated[Sequence[BaseMessage], operator.add\n",
    "\n",
    "Complex:  \n",
    "  class AgentState(TypedDict):\n",
    "    input: str\n",
    "    chat_history: list[BaseMessage]\n",
    "    agent_outcome: Union[AgentAction, AgentFinish, None]\n",
    "    intermediate_steps: Annottated[list[tuple[AgentAction, str]], operator.add]\n"
   ]
  },
  {
   "cell_type": "markdown",
   "id": "i03Np_yAgljY",
   "metadata": {
    "id": "i03Np_yAgljY"
   },
   "source": [
    "# Code\n",
    "\n",
    "Agent State\n",
    "\n",
    "llm: call_openai (one node)\n",
    "c_edge:exisst_action (conditional edge)\n",
    "action: take_action (another node to execute the node)\n",
    "\n",
    "### State:\n",
    "class AgentState(TypedDict):  \\\n",
    "  messages: Annotated[list[AnyMessage], operator.add]"
   ]
  },
  {
   "cell_type": "code",
   "execution_count": 16,
   "id": "r3_wh9IMeuLf",
   "metadata": {
    "id": "r3_wh9IMeuLf"
   },
   "outputs": [],
   "source": [
    "import os"
   ]
  },
  {
   "cell_type": "code",
   "execution_count": 5,
   "id": "f5762271-8736-4e94-9444-8c92bd0e8074",
   "metadata": {
    "height": 47,
    "id": "f5762271-8736-4e94-9444-8c92bd0e8074"
   },
   "outputs": [],
   "source": [
    "from dotenv import load_dotenv\n",
    "_ = load_dotenv()"
   ]
  },
  {
   "cell_type": "code",
   "execution_count": 25,
   "id": "w7PRVLhVckpa",
   "metadata": {
    "id": "w7PRVLhVckpa"
   },
   "outputs": [],
   "source": [
    "# credentials\n",
    "# oepnai_api_key = os.getenv(\"OPENAI_API_KEY\")\n",
    "# tavily_api_key = os.getenv(\"TAVILY_API_KEY\")"
   ]
  },
  {
   "cell_type": "code",
   "execution_count": 29,
   "id": "SKMP0hyviGlX",
   "metadata": {
    "id": "SKMP0hyviGlX"
   },
   "outputs": [],
   "source": [
    "# reset all those keys\n",
    "openai_api_key = os.getenv(\"OPENAI_API_KEY\")\n",
    "tavily_api_key = os.getenv(\"TAVILY_API_KEY\")\n",
    "tool = TavilySearchResults(tavily_api_key=tavily_api_key)"
   ]
  },
  {
   "cell_type": "code",
   "execution_count": 30,
   "id": "d0168aee-bce9-4d60-b827-f86a88187e31",
   "metadata": {
    "height": 130,
    "id": "d0168aee-bce9-4d60-b827-f86a88187e31"
   },
   "outputs": [],
   "source": [
    "from langgraph.graph import StateGraph, END\n",
    "from typing import TypedDict, Annotated\n",
    "import operator\n",
    "from langchain_core.messages import AnyMessage, SystemMessage, HumanMessage, ToolMessage\n",
    "from langchain_openai import ChatOpenAI\n",
    "from langchain_community.tools.tavily_search import TavilySearchResults"
   ]
  },
  {
   "cell_type": "code",
   "execution_count": 31,
   "id": "2589c5b6-6cc2-4594-9a17-dccdcf676054",
   "metadata": {
    "colab": {
     "base_uri": "https://localhost:8080/"
    },
    "height": 79,
    "id": "2589c5b6-6cc2-4594-9a17-dccdcf676054",
    "outputId": "87659dcd-f138-4b51-ba25-a614b4cff5e6"
   },
   "outputs": [
    {
     "name": "stdout",
     "output_type": "stream",
     "text": [
      "<class 'langchain_community.tools.tavily_search.tool.TavilySearchResults'>\n",
      "tavily_search_results_json\n",
      "<class 'langchain_community.tools.tavily_search.tool.TavilySearchResults'>\n",
      "tavily_search_results_json\n"
     ]
    }
   ],
   "source": [
    "# tool = TavilySearchResults(tavily_api_key = TAVILY_API_KEY, max_results=4) #increased number of results\n",
    "tool = TavilySearchResults(tavily_api_key = TAVILY_API_KEY, max_results=4) #increased number of results\n",
    "\n",
    "print(type(tool))\n",
    "print(tool.name)\n",
    "print(type(tool))\n",
    "print(tool.name)"
   ]
  },
  {
   "cell_type": "markdown",
   "id": "e196c186-af55-4f2d-b569-b7d63a859304",
   "metadata": {
    "id": "e196c186-af55-4f2d-b569-b7d63a859304"
   },
   "source": [
    "> If you are not familiar with python typing annotation, you can refer to the [python documents](https://docs.python.org/3/library/typing.html)."
   ]
  },
  {
   "cell_type": "code",
   "execution_count": 32,
   "id": "a2ba84ec-c172-4de7-ac55-e3158a531b23",
   "metadata": {
    "height": 47,
    "id": "a2ba84ec-c172-4de7-ac55-e3158a531b23"
   },
   "outputs": [],
   "source": [
    "class AgentState(TypedDict):\n",
    "    messages: Annotated[list[AnyMessage], operator.add]"
   ]
  },
  {
   "cell_type": "markdown",
   "id": "74c7ba73-e603-453b-b06f-5db92c567b19",
   "metadata": {
    "id": "74c7ba73-e603-453b-b06f-5db92c567b19"
   },
   "source": [
    "> Note: in `take_action` below, some logic was added to cover the case that the LLM returned a non-existent tool name. Even with function calling, LLMs can still occasionally hallucinate. Note that all that is done is instructing the LLM to try again! An advantage of an agentic organization."
   ]
  },
  {
   "cell_type": "code",
   "execution_count": 33,
   "id": "876d5092-b8ef-4e38-b4d7-0e80c609bf7a",
   "metadata": {
    "height": 742,
    "id": "876d5092-b8ef-4e38-b4d7-0e80c609bf7a"
   },
   "outputs": [],
   "source": [
    "class Agent:\n",
    "\n",
    "  ## one function to call openai,\n",
    "  ## one function to check if there is an action\n",
    "  ## another function to take the action\n",
    "\n",
    "    def __init__(self, model, tools, system=\"\"):\n",
    "        self.system = system\n",
    "        graph = StateGraph(AgentState)\n",
    "        graph.add_node(\"llm\", self.call_openai)\n",
    "        graph.add_node(\"action\", self.take_action)\n",
    "        graph.add_conditional_edges(\n",
    "            \"llm\",\n",
    "            self.exists_action,\n",
    "            {True: \"action\", False: END}\n",
    "        )\n",
    "        graph.add_edge(\"action\", \"llm\")\n",
    "        graph.set_entry_point(\"llm\")\n",
    "        self.graph = graph.compile()\n",
    "        self.tools = {t.name: t for t in tools}\n",
    "        self.model = model.bind_tools(tools)\n",
    "\n",
    "    def exists_action(self, state: AgentState):\n",
    "        result = state['messages'][-1]\n",
    "        return len(result.tool_calls) > 0\n",
    "\n",
    "    def call_openai(self, state: AgentState):\n",
    "        messages = state['messages']\n",
    "        if self.system:\n",
    "            messages = [SystemMessage(content=self.system)] + messages\n",
    "        message = self.model.invoke(messages)\n",
    "        return {'messages': [message]}\n",
    "\n",
    "    def take_action(self, state: AgentState):\n",
    "        tool_calls = state['messages'][-1].tool_calls\n",
    "        results = []\n",
    "        for t in tool_calls:\n",
    "            print(f\"Calling: {t}\")\n",
    "            if not t['name'] in self.tools:      # check for bad tool name from LLM\n",
    "                print(\"\\n ....bad tool name....\")\n",
    "                result = \"bad tool name, retry\"  # instruct LLM to retry if bad\n",
    "            else:\n",
    "                result = self.tools[t['name']].invoke(t['args'])\n",
    "            results.append(ToolMessage(tool_call_id=t['id'], name=t['name'], content=str(result)))\n",
    "        print(\"Back to the model!\")\n",
    "        return {'messages': results}"
   ]
  },
  {
   "cell_type": "code",
   "execution_count": null,
   "id": "VIMSs7gaoGjd",
   "metadata": {
    "id": "VIMSs7gaoGjd"
   },
   "outputs": [],
   "source": []
  },
  {
   "cell_type": "markdown",
   "id": "RprRBN6coHXb",
   "metadata": {
    "id": "RprRBN6coHXb"
   },
   "source": [
    "basically: agent class interacts with a language model and external tools using a state-based flow. It first queries the model for a response, then checks if any tool-related actions are needed and executes them. If a valid tool is called, the agent invokes it and returns the result. It retries if the tool name is invalid. The process loops, alternating between querying the model and taking actions as necessary."
   ]
  },
  {
   "cell_type": "code",
   "execution_count": 34,
   "id": "10084a02-2928-4945-9f7c-ad3f5b33caf7",
   "metadata": {
    "height": 164,
    "id": "10084a02-2928-4945-9f7c-ad3f5b33caf7"
   },
   "outputs": [],
   "source": [
    "prompt = \"\"\"You are a smart research assistant. Use the search engine to look up information. \\\n",
    "You are allowed to make multiple calls (either together or in sequence). \\\n",
    "Only look up information when you are sure of what you want. \\\n",
    "If you need to look up some information before asking a follow up question, you are allowed to do that!\n",
    "\"\"\"\n",
    "\n",
    "model = ChatOpenAI(model=\"gpt-3.5-turbo\")  #reduce inference cost\n",
    "abot = Agent(model, [tool], system=prompt)"
   ]
  },
  {
   "cell_type": "code",
   "execution_count": 43,
   "id": "duA1GcrOiZZA",
   "metadata": {
    "colab": {
     "base_uri": "https://localhost:8080/"
    },
    "id": "duA1GcrOiZZA",
    "outputId": "312140b1-214d-4b19-f07d-09d05223fc09"
   },
   "outputs": [
    {
     "name": "stdout",
     "output_type": "stream",
     "text": [
      "/bin/bash: line 1: version: No such file or directory\n"
     ]
    }
   ],
   "source": [
    "# !pip install pygraphviz\n",
    "# !pip install pygraphviz --install-option=\"--include-path=/usr/local/include/graphviz\" --install-option=\"--library-path=/usr/local/lib/graphviz\"\n",
    "!pip install pygraphviz‑<version>.whl"
   ]
  },
  {
   "cell_type": "code",
   "execution_count": 50,
   "id": "a3d6f5f4-2392-41b9-ab96-7919840baa3e",
   "metadata": {
    "height": 64,
    "id": "a3d6f5f4-2392-41b9-ab96-7919840baa3e"
   },
   "outputs": [],
   "source": [
    "# from IPython.display import Image\n",
    "\n",
    "# # Image(abot.graph.get_graph().draw_png())"
   ]
  },
  {
   "cell_type": "code",
   "execution_count": 45,
   "id": "83588e70-254f-4f83-a510-c8ae81e729b0",
   "metadata": {
    "colab": {
     "base_uri": "https://localhost:8080/"
    },
    "height": 62,
    "id": "83588e70-254f-4f83-a510-c8ae81e729b0",
    "outputId": "43c9368d-3546-4634-dd41-d717196c8d57"
   },
   "outputs": [
    {
     "name": "stdout",
     "output_type": "stream",
     "text": [
      "Calling: {'name': 'tavily_search_results_json', 'args': {'query': 'weather in San Francisco'}, 'id': 'call_rw0mvpisFLeqDPeMjaGZHpDa', 'type': 'tool_call'}\n",
      "Back to the model!\n"
     ]
    }
   ],
   "source": [
    "messages = [HumanMessage(content=\"What is the weather in sf?\")]\n",
    "result = abot.graph.invoke({\"messages\": messages})"
   ]
  },
  {
   "cell_type": "code",
   "execution_count": 46,
   "id": "89a06a8c-fcd4-4ca6-98f0-36c5809813e6",
   "metadata": {
    "colab": {
     "base_uri": "https://localhost:8080/"
    },
    "height": 30,
    "id": "89a06a8c-fcd4-4ca6-98f0-36c5809813e6",
    "outputId": "6697face-9480-44d6-edf2-36a1386ed460",
    "scrolled": true
   },
   "outputs": [
    {
     "data": {
      "text/plain": [
       "{'messages': [HumanMessage(content='What is the weather in sf?', additional_kwargs={}, response_metadata={}),\n",
       "  AIMessage(content='', additional_kwargs={'tool_calls': [{'id': 'call_rw0mvpisFLeqDPeMjaGZHpDa', 'function': {'arguments': '{\"query\":\"weather in San Francisco\"}', 'name': 'tavily_search_results_json'}, 'type': 'function'}], 'refusal': None}, response_metadata={'token_usage': {'completion_tokens': 21, 'prompt_tokens': 153, 'total_tokens': 174, 'completion_tokens_details': {'audio_tokens': None, 'reasoning_tokens': 0}, 'prompt_tokens_details': {'audio_tokens': None, 'cached_tokens': 0}}, 'model_name': 'gpt-3.5-turbo-0125', 'system_fingerprint': None, 'finish_reason': 'tool_calls', 'logprobs': None}, id='run-a67d6f5e-bc2e-423f-8faf-4fd627425ee1-0', tool_calls=[{'name': 'tavily_search_results_json', 'args': {'query': 'weather in San Francisco'}, 'id': 'call_rw0mvpisFLeqDPeMjaGZHpDa', 'type': 'tool_call'}], usage_metadata={'input_tokens': 153, 'output_tokens': 21, 'total_tokens': 174, 'input_token_details': {'cache_read': 0}, 'output_token_details': {'reasoning': 0}}),\n",
       "  ToolMessage(content='[{\\'url\\': \\'https://www.weatherapi.com/\\', \\'content\\': \"{\\'location\\': {\\'name\\': \\'San Francisco\\', \\'region\\': \\'California\\', \\'country\\': \\'United States of America\\', \\'lat\\': 37.775, \\'lon\\': -122.4183, \\'tz_id\\': \\'America/Los_Angeles\\', \\'localtime_epoch\\': 1728783850, \\'localtime\\': \\'2024-10-12 18:44\\'}, \\'current\\': {\\'last_updated_epoch\\': 1728783000, \\'last_updated\\': \\'2024-10-12 18:30\\', \\'temp_c\\': 15.9, \\'temp_f\\': 60.6, \\'is_day\\': 0, \\'condition\\': {\\'text\\': \\'Overcast\\', \\'icon\\': \\'//cdn.weatherapi.com/weather/64x64/night/122.png\\', \\'code\\': 1009}, \\'wind_mph\\': 5.4, \\'wind_kph\\': 8.6, \\'wind_degree\\': 288, \\'wind_dir\\': \\'WNW\\', \\'pressure_mb\\': 1019.0, \\'pressure_in\\': 30.09, \\'precip_mm\\': 0.0, \\'precip_in\\': 0.0, \\'humidity\\': 90, \\'cloud\\': 93, \\'feelslike_c\\': 15.9, \\'feelslike_f\\': 60.6, \\'windchill_c\\': 15.9, \\'windchill_f\\': 60.6, \\'heatindex_c\\': 15.9, \\'heatindex_f\\': 60.6, \\'dewpoint_c\\': 14.2, \\'dewpoint_f\\': 57.6, \\'vis_km\\': 10.0, \\'vis_miles\\': 6.0, \\'uv\\': 0.2, \\'gust_mph\\': 8.3, \\'gust_kph\\': 13.3}}\"}, {\\'url\\': \\'https://www.weathertab.com/en/c/e/10/united-states/california/san-francisco/\\', \\'content\\': \\'Avg Low Temps 50 to 60 °F. Explore comprehensive October 2024 weather forecasts for San Francisco, including daily high and low temperatures, precipitation risks, and monthly temperature trends. Featuring detailed day-by-day forecasts, dynamic graphs of daily rain probabilities, and temperature trends to help you plan ahead.\\'}, {\\'url\\': \\'https://weatherspark.com/h/y/557/2024/Historical-Weather-during-2024-in-San-Francisco-California-United-States\\', \\'content\\': \\'San Francisco Temperature History 2024\\\\nHourly Temperature in 2024 in San Francisco\\\\nCompare San Francisco to another city:\\\\nCloud Cover in 2024 in San Francisco\\\\nDaily Precipitation in 2024 in San Francisco\\\\nObserved Weather in 2024 in San Francisco\\\\nHours of Daylight and Twilight in 2024 in San Francisco\\\\nSunrise & Sunset with Twilight and Daylight Saving Time in 2024 in San Francisco\\\\nSolar Elevation and Azimuth in 2024 in San Francisco\\\\nMoon Rise, Set & Phases in 2024 in San Francisco\\\\nHumidity Comfort Levels in 2024 in San Francisco\\\\nWind Speed in 2024 in San Francisco\\\\nHourly Wind Speed in 2024 in San Francisco\\\\nHourly Wind Direction in 2024 in San Francisco\\\\nAtmospheric Pressure in 2024 in San Francisco\\\\nData Sources\\\\n See all nearby weather stations\\\\nLatest Report — 3:56 PM\\\\nWed, Jan 24, 2024\\\\xa0\\\\xa0\\\\xa0\\\\xa013 min ago\\\\xa0\\\\xa0\\\\xa0\\\\xa0UTC 23:56\\\\nCall Sign KSFO\\\\nTemp.\\\\n60.1°F\\\\nPrecipitation\\\\nNo Report\\\\nWind\\\\n6.9 mph\\\\nCloud Cover\\\\nMostly Cloudy\\\\n1,800 ft\\\\nRaw: KSFO 242356Z 18006G19KT 10SM FEW015 BKN018 BKN039 16/12 A3004 RMK AO2 SLP171 T01560122 10156 20122 55001\\\\n While having the tremendous advantages of temporal and spatial completeness, these reconstructions: (1) are based on computer models that may have model-based errors, (2) are coarsely sampled on a 50 km grid and are therefore unable to reconstruct the local variations of many microclimates, and (3) have particular difficulty with the weather in some coastal areas, especially small islands.\\\\n We further caution that our travel scores are only as good as the data that underpin them, that weather conditions at any given location and time are unpredictable and variable, and that the definition of the scores reflects a particular set of preferences that may not agree with those of any particular reader.\\\\n 2024 Weather History in San Francisco California, United States\\\\nThe data for this report comes from the San Francisco International Airport.\\'}, {\\'url\\': \\'https://www.almanac.com/weather/longrange/CA/San+Francisco\\', \\'content\\': \"60-Day Extended Weather Forecast for San Francisco, CA | Almanac.com Weather Weather sub-navigation FALL Forecast 2024 60-Day Long-Range Forecast 5-Day Forecast Weather Store Gardening Gardening sub-navigation Garden Store Calendar Store Weather 60-Day Extended Weather Forecast for San Francisco, CA See the 60-Day Weather Forecast for  Free 2-Month Weather Forecast October 2024 Long Range Weather Forecast for Pacific Southwest Sunny, then a few showers; mild October November 2024 Long Range Weather Forecast for Pacific Southwest The 12-Month Long-Range Weather Report From The 2024 Old Farmer\\'s Almanac November 2024 to October 2025 September and October will be warmer in the north and drier than normal.See the complete 12-month weather predictions in The 2024 Old Farmer\\'s Almanac. November 2024 to October 2025 Yankee Magazine\"}]', name='tavily_search_results_json', tool_call_id='call_rw0mvpisFLeqDPeMjaGZHpDa'),\n",
       "  AIMessage(content='The current weather in San Francisco is overcast with a temperature of 60.6°F (15.9°C). The wind speed is 5.4 mph (8.6 kph) coming from the WNW direction. The humidity is at 90%, and the cloud cover is 93%.', additional_kwargs={'refusal': None}, response_metadata={'token_usage': {'completion_tokens': 63, 'prompt_tokens': 1435, 'total_tokens': 1498, 'completion_tokens_details': {'audio_tokens': None, 'reasoning_tokens': 0}, 'prompt_tokens_details': {'audio_tokens': None, 'cached_tokens': 0}}, 'model_name': 'gpt-3.5-turbo-0125', 'system_fingerprint': None, 'finish_reason': 'stop', 'logprobs': None}, id='run-ad5c4e91-581c-41b4-8b56-c5a94d8192b6-0', usage_metadata={'input_tokens': 1435, 'output_tokens': 63, 'total_tokens': 1498, 'input_token_details': {'cache_read': 0}, 'output_token_details': {'reasoning': 0}})]}"
      ]
     },
     "execution_count": 46,
     "metadata": {},
     "output_type": "execute_result"
    }
   ],
   "source": [
    "result"
   ]
  },
  {
   "cell_type": "code",
   "execution_count": 47,
   "id": "6cb3ef4c-58b3-401b-b104-0d51e553d982",
   "metadata": {
    "colab": {
     "base_uri": "https://localhost:8080/",
     "height": 53
    },
    "height": 30,
    "id": "6cb3ef4c-58b3-401b-b104-0d51e553d982",
    "outputId": "28a81e7a-ea87-43c8-c571-449622a9fa35"
   },
   "outputs": [
    {
     "data": {
      "application/vnd.google.colaboratory.intrinsic+json": {
       "type": "string"
      },
      "text/plain": [
       "'The current weather in San Francisco is overcast with a temperature of 60.6°F (15.9°C). The wind speed is 5.4 mph (8.6 kph) coming from the WNW direction. The humidity is at 90%, and the cloud cover is 93%.'"
      ]
     },
     "execution_count": 47,
     "metadata": {},
     "output_type": "execute_result"
    }
   ],
   "source": [
    "result['messages'][-1].content"
   ]
  },
  {
   "cell_type": "code",
   "execution_count": 48,
   "id": "dc3293b7-a50c-43c8-a022-8975e1e444b8",
   "metadata": {
    "colab": {
     "base_uri": "https://localhost:8080/"
    },
    "height": 62,
    "id": "dc3293b7-a50c-43c8-a022-8975e1e444b8",
    "outputId": "300c0eb4-4008-4198-951f-38e927331ab2"
   },
   "outputs": [
    {
     "name": "stdout",
     "output_type": "stream",
     "text": [
      "Calling: {'name': 'tavily_search_results_json', 'args': {'query': 'weather in San Francisco'}, 'id': 'call_oGF9r7lHNgN0rJ5LRMKxd2tn', 'type': 'tool_call'}\n",
      "Calling: {'name': 'tavily_search_results_json', 'args': {'query': 'weather in Los Angeles'}, 'id': 'call_AxKowcnxJHWSTqAUGrPanJWI', 'type': 'tool_call'}\n",
      "Back to the model!\n"
     ]
    }
   ],
   "source": [
    "messages = [HumanMessage(content=\"What is the weather in SF and LA?\")]\n",
    "result = abot.graph.invoke({\"messages\": messages})"
   ]
  },
  {
   "cell_type": "code",
   "execution_count": 51,
   "id": "0722c3d4-4cbf-43bf-81b0-50f634c4ce61",
   "metadata": {
    "colab": {
     "base_uri": "https://localhost:8080/",
     "height": 71
    },
    "height": 30,
    "id": "0722c3d4-4cbf-43bf-81b0-50f634c4ce61",
    "outputId": "7977e9e0-dc2e-490f-f821-56994c6dd22c"
   },
   "outputs": [
    {
     "data": {
      "application/vnd.google.colaboratory.intrinsic+json": {
       "type": "string"
      },
      "text/plain": [
       "'The current weather in San Francisco is 60.6°F with overcast conditions and a slight wind of 8.6 kph coming from the west-northwest. The humidity is at 90%.\\n\\nIn Los Angeles, the current weather is 77.2°F with clear skies and a gentle wind of 10.1 kph blowing from the west-southwest. The humidity in Los Angeles is at 47%.'"
      ]
     },
     "execution_count": 51,
     "metadata": {},
     "output_type": "execute_result"
    }
   ],
   "source": [
    "result['messages'][-1].content"
   ]
  },
  {
   "cell_type": "code",
   "execution_count": 52,
   "id": "6b2f82fe-3ec4-4917-be51-9fb10d1317fa",
   "metadata": {
    "colab": {
     "base_uri": "https://localhost:8080/"
    },
    "height": 198,
    "id": "6b2f82fe-3ec4-4917-be51-9fb10d1317fa",
    "outputId": "c1d78dc6-4855-41af-ca74-b5c2a9e45817"
   },
   "outputs": [
    {
     "name": "stdout",
     "output_type": "stream",
     "text": [
      "Calling: {'name': 'tavily_search_results_json', 'args': {'query': 'Super Bowl 2024 winner'}, 'id': 'call_BSduIN9VHkkaXTVeC4upeik7', 'type': 'tool_call'}\n",
      "Back to the model!\n",
      "Calling: {'name': 'tavily_search_results_json', 'args': {'query': 'Kansas City Chiefs headquarters state'}, 'id': 'call_xKs4JSakaS82vk8QTNI2Ey8O', 'type': 'tool_call'}\n",
      "Calling: {'name': 'tavily_search_results_json', 'args': {'query': 'Missouri GDP 2024'}, 'id': 'call_k5mNWhXvlQACVZQKtL0r6GC1', 'type': 'tool_call'}\n",
      "Back to the model!\n"
     ]
    }
   ],
   "source": [
    "# Note, the query was modified to produce more consistent results.\n",
    "# Results may vary per run and over time as search information and models change.\n",
    "\n",
    "query = \"Who won the super bowl in 2024? In what state is the winning team headquarters located? \\\n",
    "What is the GDP of that state? Answer each question.\"\n",
    "messages = [HumanMessage(content=query)]\n",
    "\n",
    "model = ChatOpenAI(model=\"gpt-4o\")  # requires more advanced model\n",
    "abot = Agent(model, [tool], system=prompt)\n",
    "result = abot.graph.invoke({\"messages\": messages})"
   ]
  },
  {
   "cell_type": "code",
   "execution_count": 53,
   "id": "ee0fe1c7-77e2-499c-a2f9-1f739bb6ddf0",
   "metadata": {
    "colab": {
     "base_uri": "https://localhost:8080/"
    },
    "height": 30,
    "id": "ee0fe1c7-77e2-499c-a2f9-1f739bb6ddf0",
    "outputId": "ff42852d-1c23-46be-f40a-b0ac005d2e9d"
   },
   "outputs": [
    {
     "name": "stdout",
     "output_type": "stream",
     "text": [
      "1. The Kansas City Chiefs won the Super Bowl in 2024.\n",
      "\n",
      "2. The headquarters of the Kansas City Chiefs is located in Missouri.\n",
      "\n",
      "3. Missouri's GDP was approximately $397 billion in 2022, and while specific 2024 data isn't provided, it likely experienced growth similar to previous years.\n"
     ]
    }
   ],
   "source": [
    "print(result['messages'][-1].content)"
   ]
  },
  {
   "cell_type": "code",
   "execution_count": null,
   "id": "1d643182-2802-40fb-ba35-d4f893c5b976",
   "metadata": {
    "height": 30,
    "id": "1d643182-2802-40fb-ba35-d4f893c5b976"
   },
   "outputs": [],
   "source": []
  },
  {
   "cell_type": "markdown",
   "id": "NtxxGt3vjcfu",
   "metadata": {
    "id": "NtxxGt3vjcfu"
   },
   "source": [
    "## Put things together"
   ]
  },
  {
   "cell_type": "markdown",
   "id": "XnKBxdomkgN2",
   "metadata": {
    "id": "XnKBxdomkgN2"
   },
   "source": [
    "What it doesn mean"
   ]
  },
  {
   "cell_type": "code",
   "execution_count": null,
   "id": "rMVbF32mkfuc",
   "metadata": {
    "id": "rMVbF32mkfuc"
   },
   "outputs": [],
   "source": []
  },
  {
   "cell_type": "code",
   "execution_count": 54,
   "id": "NuMNbXFSjeZp",
   "metadata": {
    "id": "NuMNbXFSjeZp"
   },
   "outputs": [],
   "source": [
    "prompt = \"\"\"You are a smart research assistant. Use the search engine to look up information. \\\n",
    "You are allowed to make multiple calls (either together or in sequence). \\\n",
    "Only look up information when you are sure of what you want. \\\n",
    "If you need to look up some information before asking a follow up question, you are allowed to do that!\n",
    "\"\"\"\n",
    "\n",
    "model = ChatOpenAI(model=\"gpt-3.5-turbo\")\n",
    "abot = Agent(model, [tool], system=prompt)"
   ]
  },
  {
   "cell_type": "code",
   "execution_count": 56,
   "id": "dEsHFHZSjg3-",
   "metadata": {
    "colab": {
     "base_uri": "https://localhost:8080/"
    },
    "id": "dEsHFHZSjg3-",
    "outputId": "79eb9944-9844-4682-ea13-ade691f9e4dc"
   },
   "outputs": [
    {
     "name": "stdout",
     "output_type": "stream",
     "text": [
      "Calling: {'name': 'tavily_search_results_json', 'args': {'query': 'weather in Chengdu'}, 'id': 'call_tv5JfCkV3JLzdkmpXVV4SpZg', 'type': 'tool_call'}\n",
      "Calling: {'name': 'tavily_search_results_json', 'args': {'query': 'weather in NYC'}, 'id': 'call_hvP18UHKqgmd7c5c5eHToCNl', 'type': 'tool_call'}\n",
      "Back to the model!\n"
     ]
    }
   ],
   "source": [
    "messages = [HumanMessage(content=\"What is the weather like in Chengdu? What is the weather like in NYC?\")]\n",
    "result = abot.graph.invoke({\"messages\": messages})"
   ]
  },
  {
   "cell_type": "code",
   "execution_count": 57,
   "id": "V7EKLDpXjjY1",
   "metadata": {
    "colab": {
     "base_uri": "https://localhost:8080/"
    },
    "id": "V7EKLDpXjjY1",
    "outputId": "df3b16c1-bd8e-46e7-fe02-0c5f33c3de03"
   },
   "outputs": [
    {
     "data": {
      "text/plain": [
       "{'messages': [HumanMessage(content='What is the weather like in Chengdu? What is the weather like in NYC?', additional_kwargs={}, response_metadata={}),\n",
       "  AIMessage(content='', additional_kwargs={'tool_calls': [{'id': 'call_tv5JfCkV3JLzdkmpXVV4SpZg', 'function': {'arguments': '{\"query\": \"weather in Chengdu\"}', 'name': 'tavily_search_results_json'}, 'type': 'function'}, {'id': 'call_hvP18UHKqgmd7c5c5eHToCNl', 'function': {'arguments': '{\"query\": \"weather in NYC\"}', 'name': 'tavily_search_results_json'}, 'type': 'function'}], 'refusal': None}, response_metadata={'token_usage': {'completion_tokens': 56, 'prompt_tokens': 163, 'total_tokens': 219, 'completion_tokens_details': {'audio_tokens': None, 'reasoning_tokens': 0}, 'prompt_tokens_details': {'audio_tokens': None, 'cached_tokens': 0}}, 'model_name': 'gpt-3.5-turbo-0125', 'system_fingerprint': None, 'finish_reason': 'tool_calls', 'logprobs': None}, id='run-e70d2421-b539-4300-8650-1b60cf52a8c0-0', tool_calls=[{'name': 'tavily_search_results_json', 'args': {'query': 'weather in Chengdu'}, 'id': 'call_tv5JfCkV3JLzdkmpXVV4SpZg', 'type': 'tool_call'}, {'name': 'tavily_search_results_json', 'args': {'query': 'weather in NYC'}, 'id': 'call_hvP18UHKqgmd7c5c5eHToCNl', 'type': 'tool_call'}], usage_metadata={'input_tokens': 163, 'output_tokens': 56, 'total_tokens': 219, 'input_token_details': {'cache_read': 0}, 'output_token_details': {'reasoning': 0}}),\n",
       "  ToolMessage(content='[{\\'url\\': \\'https://www.weatherapi.com/\\', \\'content\\': \"{\\'location\\': {\\'name\\': \\'Chengdu\\', \\'region\\': \\'Sichuan\\', \\'country\\': \\'China\\', \\'lat\\': 30.6667, \\'lon\\': 104.0667, \\'tz_id\\': \\'Asia/Shanghai\\', \\'localtime_epoch\\': 1728783965, \\'localtime\\': \\'2024-10-13 09:46\\'}, \\'current\\': {\\'last_updated_epoch\\': 1728783900, \\'last_updated\\': \\'2024-10-13 09:45\\', \\'temp_c\\': 18.2, \\'temp_f\\': 64.8, \\'is_day\\': 1, \\'condition\\': {\\'text\\': \\'Light rain\\', \\'icon\\': \\'//cdn.weatherapi.com/weather/64x64/day/296.png\\', \\'code\\': 1183}, \\'wind_mph\\': 2.2, \\'wind_kph\\': 3.6, \\'wind_degree\\': 19, \\'wind_dir\\': \\'NNE\\', \\'pressure_mb\\': 1020.0, \\'pressure_in\\': 30.12, \\'precip_mm\\': 0.01, \\'precip_in\\': 0.0, \\'humidity\\': 94, \\'cloud\\': 75, \\'feelslike_c\\': 18.2, \\'feelslike_f\\': 64.8, \\'windchill_c\\': 17.6, \\'windchill_f\\': 63.6, \\'heatindex_c\\': 17.6, \\'heatindex_f\\': 63.6, \\'dewpoint_c\\': 14.9, \\'dewpoint_f\\': 58.9, \\'vis_km\\': 4.0, \\'vis_miles\\': 2.0, \\'uv\\': 0.5, \\'gust_mph\\': 6.7, \\'gust_kph\\': 10.8}}\"}, {\\'url\\': \\'https://www.worldweatheronline.com/chengdu-weather/sichuan/cn.aspx\\', \\'content\\': \\'Get the latest weather forecast in Chengdu, Sichuan, China for today, tomorrow, long range weather and the next 14 days, with accurate temperature, feels like and humidity levels. ... 2024-10-10T04:50:00+08:00 Expires: Certainty: Unknown Event: Dense fog Type: Alert Severity: Moderate ... Most precipitation falling will be 3.19 mm / 0.13 inch ...\\'}, {\\'url\\': \\'https://www.easeweather.com/asia/china/sichuan/chengdu-shi/chengdu\\', \\'content\\': \\'The weather forecast for Chengdu for today indicates comfortable conditions with temperatures around 23 ° C. Rain is expected from Sunday until Monday. Wind speeds are expected to be strong, averaging around 30 km/h. On Monday, a notable cooling trend with temperatures reaching 17°C, and light showers with a 88% chance.\\'}, {\\'url\\': \\'https://weatherspark.com/h/y/115333/2024/Historical-Weather-during-2024-in-Chengdu-China\\', \\'content\\': \\'Chengdu Temperature History 2024\\\\nHourly Temperature in 2024 in Chengdu\\\\nCompare Chengdu to another city:\\\\nCloud Cover in 2024 in Chengdu\\\\nObserved Weather in 2024 in Chengdu\\\\nHours of Daylight and Twilight in 2024 in Chengdu\\\\nSunrise & Sunset with Twilight in 2024 in Chengdu\\\\nSolar Elevation and Azimuth in 2024 in Chengdu\\\\nMoon Rise, Set & Phases in 2024 in Chengdu\\\\nHumidity Comfort Levels in 2024 in Chengdu\\\\nWind Speed in 2024 in Chengdu\\\\nHourly Wind Speed in 2024 in Chengdu\\\\nHourly Wind Direction in 2024 in Chengdu\\\\nAtmospheric Pressure in 2024 in Chengdu\\\\nData Sources\\\\n 41°F\\\\nPrecipitation\\\\nNo Report\\\\nWind\\\\n4.5 mph\\\\nCloud Cover\\\\nPartly Cloudy\\\\n3,300 ft\\\\nRaw: ZUUU 250600Z 35002MPS 310V050 8000 FEW016 SCT033 05/M01 Q1030 NOSIG\\\\nThis report shows the past weather for Chengdu, providing a weather history for 2024. While having the tremendous advantages of temporal and spatial completeness, these reconstructions: (1) are based on computer models that may have model-based errors, (2) are coarsely sampled on a 50 km grid and are therefore unable to reconstruct the local variations of many microclimates, and (3) have particular difficulty with the weather in some coastal areas, especially small islands.\\\\n We further caution that our travel scores are only as good as the data that underpin them, that weather conditions at any given location and time are unpredictable and variable, and that the definition of the scores reflects a particular set of preferences that may not agree with those of any particular reader.\\\\n See all nearby weather stations\\\\nLatest Report — 2:00 PM\\\\nThu, Jan 25, 2024\\\\xa0\\\\xa0\\\\xa0\\\\xa027 min ago\\\\xa0\\\\xa0\\\\xa0\\\\xa0UTC 06:00\\\\nCall Sign ZUUU\\\\nTemp.\\\\n\\'}]', name='tavily_search_results_json', tool_call_id='call_tv5JfCkV3JLzdkmpXVV4SpZg'),\n",
       "  ToolMessage(content='[{\\'url\\': \\'https://www.weatherapi.com/\\', \\'content\\': \"{\\'location\\': {\\'name\\': \\'New York\\', \\'region\\': \\'New York\\', \\'country\\': \\'United States of America\\', \\'lat\\': 40.714, \\'lon\\': -74.006, \\'tz_id\\': \\'America/New_York\\', \\'localtime_epoch\\': 1728783968, \\'localtime\\': \\'2024-10-12 21:46\\'}, \\'current\\': {\\'last_updated_epoch\\': 1728783000, \\'last_updated\\': \\'2024-10-12 21:30\\', \\'temp_c\\': 17.8, \\'temp_f\\': 64.0, \\'is_day\\': 0, \\'condition\\': {\\'text\\': \\'Clear\\', \\'icon\\': \\'//cdn.weatherapi.com/weather/64x64/night/113.png\\', \\'code\\': 1000}, \\'wind_mph\\': 6.9, \\'wind_kph\\': 11.2, \\'wind_degree\\': 334, \\'wind_dir\\': \\'NNW\\', \\'pressure_mb\\': 1017.0, \\'pressure_in\\': 30.02, \\'precip_mm\\': 0.0, \\'precip_in\\': 0.0, \\'humidity\\': 28, \\'cloud\\': 0, \\'feelslike_c\\': 17.8, \\'feelslike_f\\': 64.0, \\'windchill_c\\': 18.7, \\'windchill_f\\': 65.6, \\'heatindex_c\\': 18.8, \\'heatindex_f\\': 65.8, \\'dewpoint_c\\': 4.6, \\'dewpoint_f\\': 40.3, \\'vis_km\\': 16.0, \\'vis_miles\\': 9.0, \\'uv\\': 0.0, \\'gust_mph\\': 10.2, \\'gust_kph\\': 16.4}}\"}, {\\'url\\': \\'https://forecast.weather.gov/zipcity.php?inputstring=New+York,NY\\', \\'content\\': \\'New England and New York NWS Offices Will Continue an Experiment to Improve Frost-Freeze Services This Fall ; ... 10:17 pm EDT Oct 11, 2024. Forecast Valid: 11pm EDT Oct 11, 2024-6pm EDT Oct 18, 2024 . ... National Weather Service; New York, NY; 175 Brookhaven Avenue; Upton, NY 11973; Comments? Questions? Please Contact Us.\\'}, {\\'url\\': \\'https://weather.com/weather/monthly/l/Manhattan+NY?canonicalCityId=fc47c333c5d13e34e34c9fdb6e047ceb70f7891e01bc9e1d574b5f93f58aa76d\\', \\'content\\': \\'Weather.com brings you the most accurate monthly weather forecast for Manhattan, ... NY Weather. 10. Today. Hourly. 10 Day. Radar. Milton. Live Updates ... 13 68 ° 57 ° 14. 62 ° 43 ° 15 ...\\'}, {\\'url\\': \\'https://weatherspark.com/h/m/23912/2024/10/Historical-Weather-in-October-2024-in-New-York-City-New-York-United-States\\', \\'content\\': \\'New York City October 2024 Historical Weather Data (New York, United States) - Weather Spark This report shows the past weather for New York City, providing a weather history for October 2024. It features all historical weather data series we have available, including the New York City temperature history for October 2024. New York City Temperature History October 2024 Hourly Temperature in October 2024 in New York City Hours of Daylight and Twilight in October 2024 in New York City Humidity Comfort Levels in October 2024 in New York City Wind Speed in October 2024 in New York City Hourly Wind Speed in October 2024 in New York City Hourly Wind Direction in 2024 in New York City\\'}]', name='tavily_search_results_json', tool_call_id='call_hvP18UHKqgmd7c5c5eHToCNl'),\n",
       "  AIMessage(content='The current weather in Chengdu, China is light rain with a temperature of 18.2°C (64.8°F). The wind is blowing at 3.6 kph from the north-northeast direction. The humidity is at 94% with a cloud cover of 75%.\\n\\nIn New York City, United States, it is currently clear with a temperature of 17.8°C (64.0°F). The wind is blowing at 11.2 kph from the north-northwest direction. The humidity is at 28% with no precipitation.', additional_kwargs={'refusal': None}, response_metadata={'token_usage': {'completion_tokens': 118, 'prompt_tokens': 2267, 'total_tokens': 2385, 'completion_tokens_details': {'audio_tokens': None, 'reasoning_tokens': 0}, 'prompt_tokens_details': {'audio_tokens': None, 'cached_tokens': 0}}, 'model_name': 'gpt-3.5-turbo-0125', 'system_fingerprint': None, 'finish_reason': 'stop', 'logprobs': None}, id='run-52f279af-0e32-4d22-8e7d-fc35da4c3820-0', usage_metadata={'input_tokens': 2267, 'output_tokens': 118, 'total_tokens': 2385, 'input_token_details': {'cache_read': 0}, 'output_token_details': {'reasoning': 0}})]}"
      ]
     },
     "execution_count": 57,
     "metadata": {},
     "output_type": "execute_result"
    }
   ],
   "source": [
    "result"
   ]
  },
  {
   "cell_type": "code",
   "execution_count": 58,
   "id": "aDEw9QHHjqTP",
   "metadata": {
    "colab": {
     "base_uri": "https://localhost:8080/",
     "height": 71
    },
    "id": "aDEw9QHHjqTP",
    "outputId": "82469a50-e245-4007-add9-b4b82fe76b13"
   },
   "outputs": [
    {
     "data": {
      "application/vnd.google.colaboratory.intrinsic+json": {
       "type": "string"
      },
      "text/plain": [
       "'The current weather in Chengdu, China is light rain with a temperature of 18.2°C (64.8°F). The wind is blowing at 3.6 kph from the north-northeast direction. The humidity is at 94% with a cloud cover of 75%.\\n\\nIn New York City, United States, it is currently clear with a temperature of 17.8°C (64.0°F). The wind is blowing at 11.2 kph from the north-northwest direction. The humidity is at 28% with no precipitation.'"
      ]
     },
     "execution_count": 58,
     "metadata": {},
     "output_type": "execute_result"
    }
   ],
   "source": [
    "result['messages'][-1].content"
   ]
  },
  {
   "cell_type": "code",
   "execution_count": 61,
   "id": "RwKGMHghjsMd",
   "metadata": {
    "colab": {
     "base_uri": "https://localhost:8080/"
    },
    "id": "RwKGMHghjsMd",
    "outputId": "69f6e405-d8d9-4c84-fce5-6b21ea712cdc"
   },
   "outputs": [
    {
     "name": "stdout",
     "output_type": "stream",
     "text": [
      "Calling: {'name': 'tavily_search_results_json', 'args': {'query': 'lowest temperature in NYC 2021'}, 'id': 'call_bQT2N2stQXjWuxTAYcgeWi7P', 'type': 'tool_call'}\n",
      "Back to the model!\n",
      "Calling: {'name': 'tavily_search_results_json', 'args': {'query': 'lowest temperature in NYC 2021'}, 'id': 'call_r71ZFWLT4URr2sUSf266PdPe', 'type': 'tool_call'}\n",
      "Back to the model!\n"
     ]
    }
   ],
   "source": [
    "messages = [HumanMessage(content=\"What is the lowest temperature in NYC this year? And what kind of clothes would you recommend for such weather?\")]\n",
    "result = abot.graph.invoke({\"messages\": messages})"
   ]
  },
  {
   "cell_type": "code",
   "execution_count": 62,
   "id": "OwuyNs2Ajua_",
   "metadata": {
    "colab": {
     "base_uri": "https://localhost:8080/",
     "height": 107
    },
    "id": "OwuyNs2Ajua_",
    "outputId": "9a08dbf0-0ddd-43dd-f789-00b366128049"
   },
   "outputs": [
    {
     "data": {
      "application/vnd.google.colaboratory.intrinsic+json": {
       "type": "string"
      },
      "text/plain": [
       "\"The lowest temperature recorded in New York City in 2021 was 14°F. For such cold weather, I would recommend wearing layered clothing to stay warm. Here are some suggestions for clothing in that temperature:\\n\\n1. **Base Layer**: Start with a thermal or moisture-wicking base layer to keep the body insulated and dry.\\n2. **Middle Layer**: Wear a sweater or fleece for added warmth.\\n3. **Outer Layer**: A windproof and waterproof jacket will protect you from the cold and elements.\\n4. **Bottoms**: Opt for thermal leggings or pants to keep your legs warm.\\n5. **Accessories**: Don't forget gloves, a hat, and a scarf to cover exposed areas and retain body heat.\\n\\nLayering is key to staying warm in cold temperatures as it traps heat close to the body.\""
      ]
     },
     "execution_count": 62,
     "metadata": {},
     "output_type": "execute_result"
    }
   ],
   "source": [
    "result['messages'][-1].content"
   ]
  },
  {
   "cell_type": "code",
   "execution_count": 64,
   "id": "Ccyar3dekKcy",
   "metadata": {
    "id": "Ccyar3dekKcy"
   },
   "outputs": [],
   "source": [
    "query = \"What are some good ideas to stay warm in NYC?\"\n",
    "messages = [HumanMessage(content=query)]\n",
    "model = ChatOpenAI(model=\"gpt-4o\")\n",
    "abot = Agent(model, [tool], system=prompt)\n",
    "result = abot.graph.invoke({\"messages\": messages})"
   ]
  },
  {
   "cell_type": "code",
   "execution_count": 65,
   "id": "SEWGBgZSkXuc",
   "metadata": {
    "colab": {
     "base_uri": "https://localhost:8080/"
    },
    "id": "SEWGBgZSkXuc",
    "outputId": "9a2ff50e-a69d-4003-b856-09b6cb6e2fcf"
   },
   "outputs": [
    {
     "name": "stdout",
     "output_type": "stream",
     "text": [
      "Staying warm in New York City, especially during the cold winter months, can be challenging. Here are some effective ideas to help you stay warm:\n",
      "\n",
      "1. **Layer Up**: Wear multiple layers of clothing. Start with a moisture-wicking base layer, add a warm middle layer like a sweater or fleece, and top it off with a windproof and waterproof outer layer.\n",
      "\n",
      "2. **Invest in a Good Coat**: A high-quality, insulated winter coat or parka can make a significant difference in keeping you warm.\n",
      "\n",
      "3. **Warm Accessories**: Don't forget hats, scarves, gloves, and thermal socks. These items help retain body heat and protect extremities from the cold.\n",
      "\n",
      "4. **Insulated Footwear**: Wear waterproof and insulated boots to keep your feet warm and dry, especially if there's snow on the ground.\n",
      "\n",
      "5. **Use Hand and Foot Warmers**: These small, disposable packets can be placed in gloves and boots for additional warmth.\n",
      "\n",
      "6. **Stay Indoors When Possible**: Spend more time indoors at cafes, museums, or other indoor attractions to avoid the cold.\n",
      "\n",
      "7. **Drink Warm Beverages**: Hot drinks like coffee, tea, or hot chocolate can help raise your body temperature.\n",
      "\n",
      "8. **Use Public Transportation**: Minimize walking outside by using subways or buses to get around the city.\n",
      "\n",
      "9. **Home Heating**: Ensure your living space is well-insulated and use space heaters or electric blankets to keep warm at home.\n",
      "\n",
      "10. **Exercise**: Physical activity can increase circulation and generate body heat, helping you stay warmer.\n",
      "\n",
      "By combining these strategies, you can effectively combat the cold and stay comfortable during the winter in NYC.\n"
     ]
    }
   ],
   "source": [
    "print(result['messages'][-1].content)"
   ]
  },
  {
   "cell_type": "code",
   "execution_count": null,
   "id": "ZVwGdonopU3m",
   "metadata": {
    "id": "ZVwGdonopU3m"
   },
   "outputs": [],
   "source": []
  }
 ],
 "metadata": {
  "colab": {
   "provenance": []
  },
  "kernelspec": {
   "display_name": "Python 3 (ipykernel)",
   "language": "python",
   "name": "python3"
  },
  "language_info": {
   "codemirror_mode": {
    "name": "ipython",
    "version": 3
   },
   "file_extension": ".py",
   "mimetype": "text/x-python",
   "name": "python",
   "nbconvert_exporter": "python",
   "pygments_lexer": "ipython3",
   "version": "3.11.0"
  }
 },
 "nbformat": 4,
 "nbformat_minor": 5
}
