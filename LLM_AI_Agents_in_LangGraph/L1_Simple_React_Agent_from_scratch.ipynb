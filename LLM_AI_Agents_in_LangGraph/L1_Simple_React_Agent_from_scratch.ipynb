{
 "cells": [
  {
   "cell_type": "markdown",
   "id": "9690ac72-5d95-4cbf-875a-ae0e835593c9",
   "metadata": {
    "id": "9690ac72-5d95-4cbf-875a-ae0e835593c9"
   },
   "source": [
    "# Lesson 1: Simple ReAct Agent from Scratch"
   ]
  },
  {
   "cell_type": "code",
   "execution_count": null,
   "id": "83588e70-254f-4f83-a510-c8ae81e729b0",
   "metadata": {
    "height": 30,
    "id": "83588e70-254f-4f83-a510-c8ae81e729b0"
   },
   "outputs": [],
   "source": [
    "# based on https://til.simonwillison.net/llms/python-react-pattern"
   ]
  },
  {
   "cell_type": "code",
   "execution_count": 3,
   "id": "hSyp3zpnATyK",
   "metadata": {
    "id": "hSyp3zpnATyK"
   },
   "outputs": [],
   "source": [
    "# !pip install openai python-dotenv"
   ]
  },
  {
   "cell_type": "code",
   "execution_count": null,
   "id": "7RPeBdJkTSSc",
   "metadata": {
    "id": "7RPeBdJkTSSc"
   },
   "outputs": [],
   "source": []
  },
  {
   "cell_type": "markdown",
   "id": "dVeygfk5XmFw",
   "metadata": {
    "id": "dVeygfk5XmFw"
   },
   "source": [
    "### Basically, we are enabling the agent to iteratively perform actions and make decisions based on environmental feedback (pre, self, defined)."
   ]
  },
  {
   "cell_type": "markdown",
   "id": "IQ-9yAXnTa0G",
   "metadata": {
    "id": "IQ-9yAXnTa0G"
   },
   "source": [
    "## reasoning + acting\n",
    "\n",
    "Action is executed in an environment, and an observation returns. With that action, the LLM repeats, thinks about what to do again, and then decides another action to take, until it decides it's time to be done."
   ]
  },
  {
   "cell_type": "code",
   "execution_count": 5,
   "id": "6cb3ef4c-58b3-401b-b104-0d51e553d982",
   "metadata": {
    "height": 149,
    "id": "6cb3ef4c-58b3-401b-b104-0d51e553d982"
   },
   "outputs": [],
   "source": [
    "import openai\n",
    "import re\n",
    "import httpx\n",
    "import os\n",
    "from dotenv import load_dotenv\n",
    "\n",
    "_ = load_dotenv()\n",
    "from openai import OpenAI"
   ]
  },
  {
   "cell_type": "code",
   "execution_count": 6,
   "id": "aNGVnNHucInn",
   "metadata": {
    "id": "aNGVnNHucInn"
   },
   "outputs": [],
   "source": [
    "oepnai_api_key = os.getenv(\"OPENAI_API_KEY\")"
   ]
  },
  {
   "cell_type": "code",
   "execution_count": 7,
   "id": "dc3293b7-a50c-43c8-a022-8975e1e444b8",
   "metadata": {
    "height": 30,
    "id": "dc3293b7-a50c-43c8-a022-8975e1e444b8"
   },
   "outputs": [],
   "source": [
    "client = OpenAI(api_key = oepnai_api_key)\n",
    "# different syntex again\n",
    "# initialize the llm"
   ]
  },
  {
   "cell_type": "code",
   "execution_count": 9,
   "id": "0722c3d4-4cbf-43bf-81b0-50f634c4ce61",
   "metadata": {
    "height": 81,
    "id": "0722c3d4-4cbf-43bf-81b0-50f634c4ce61"
   },
   "outputs": [],
   "source": [
    "chat_completion = client.chat.completions.create(\n",
    "    model=\"gpt-3.5-turbo\",\n",
    "    messages=[{\"role\": \"user\", \"content\": \"Hi, my name is Alice. What llm are you based on? Introduce yourself in 50 words.\"}]\n",
    ")"
   ]
  },
  {
   "cell_type": "code",
   "execution_count": 10,
   "id": "71uRUc76cgvn",
   "metadata": {
    "colab": {
     "base_uri": "https://localhost:8080/"
    },
    "id": "71uRUc76cgvn",
    "outputId": "bbb3b265-f8de-44fd-edb4-99e4ee78fcbf"
   },
   "outputs": [
    {
     "data": {
      "text/plain": [
       "ChatCompletion(id='chatcmpl-AF5QLIgUaD83mz0BULl5iVlGByIrr', choices=[Choice(finish_reason='stop', index=0, logprobs=None, message=ChatCompletionMessage(content=\"Hello Alice, I am an AI digital assistant based on OpenAI's language model. I am here to assist you with any queries or tasks you may have. Please feel free to ask me anything, and I will do my best to help you.\", refusal=None, role='assistant', function_call=None, tool_calls=None))], created=1728159133, model='gpt-3.5-turbo-0125', object='chat.completion', service_tier=None, system_fingerprint=None, usage=CompletionUsage(completion_tokens=50, prompt_tokens=30, total_tokens=80, completion_tokens_details=CompletionTokensDetails(audio_tokens=None, reasoning_tokens=0), prompt_tokens_details=PromptTokensDetails(audio_tokens=None, cached_tokens=0)))"
      ]
     },
     "execution_count": 10,
     "metadata": {},
     "output_type": "execute_result"
    }
   ],
   "source": [
    "chat_completion"
   ]
  },
  {
   "cell_type": "code",
   "execution_count": 11,
   "id": "6b2f82fe-3ec4-4917-be51-9fb10d1317fa",
   "metadata": {
    "colab": {
     "base_uri": "https://localhost:8080/",
     "height": 53
    },
    "height": 30,
    "id": "6b2f82fe-3ec4-4917-be51-9fb10d1317fa",
    "outputId": "fe9cdd36-7b44-46d9-90e5-26b95cb4d7f9"
   },
   "outputs": [
    {
     "data": {
      "application/vnd.google.colaboratory.intrinsic+json": {
       "type": "string"
      },
      "text/plain": [
       "\"Hello Alice, I am an AI digital assistant based on OpenAI's language model. I am here to assist you with any queries or tasks you may have. Please feel free to ask me anything, and I will do my best to help you.\""
      ]
     },
     "execution_count": 11,
     "metadata": {},
     "output_type": "execute_result"
    }
   ],
   "source": [
    "chat_completion.choices[0].message.content"
   ]
  },
  {
   "cell_type": "markdown",
   "id": "2HWDvvjiT-Ce",
   "metadata": {
    "id": "2HWDvvjiT-Ce"
   },
   "source": [
    "## create agent, parameterized by a system message, we will allow the user to pass that in and we will save that as an attribute. We will also keep track of the messages.\n",
    "\n",
    "### will also add system message.\n",
    "\n",
    "### call method and execute methods. Take a message as string and then append the message to the existing array of messages. We will then execute a function.\n",
    "\n",
    "### We will then call the execute, define the completion here and then return the message."
   ]
  },
  {
   "cell_type": "code",
   "execution_count": 12,
   "id": "ee0fe1c7-77e2-499c-a2f9-1f739bb6ddf0",
   "metadata": {
    "height": 387,
    "id": "ee0fe1c7-77e2-499c-a2f9-1f739bb6ddf0"
   },
   "outputs": [],
   "source": [
    "class Agent:\n",
    "    def __init__(self, system=\"\"):\n",
    "        self.system = system\n",
    "        self.messages = []\n",
    "        if self.system:\n",
    "            self.messages.append({\"role\": \"system\", \"content\": system})\n",
    "\n",
    "    def __call__(self, message):\n",
    "        self.messages.append({\"role\": \"user\", \"content\": message})\n",
    "        result = self.execute()\n",
    "        self.messages.append({\"role\": \"assistant\", \"content\": result})\n",
    "        return result\n",
    "\n",
    "    def execute(self):\n",
    "        completion = client.chat.completions.create(\n",
    "                        model=\"gpt-4o\",\n",
    "                        temperature=0,\n",
    "                        messages=self.messages)\n",
    "        return completion.choices[0].message.content\n"
   ]
  },
  {
   "cell_type": "markdown",
   "id": "tpaFwxE9Uvvx",
   "metadata": {
    "id": "tpaFwxE9Uvvx"
   },
   "source": [
    "#### react agent will need a system of message and egents.\n",
    "\n",
    "#### thought, action, pause and action."
   ]
  },
  {
   "cell_type": "code",
   "execution_count": 17,
   "id": "98f303b1-a4d0-408c-8cc0-515ff980717f",
   "metadata": {
    "height": 557,
    "id": "98f303b1-a4d0-408c-8cc0-515ff980717f"
   },
   "outputs": [],
   "source": [
    "# the prompt basiclaly gives instructions to the agent.\n",
    "# output an answer, use thought to describe your thoughts and the questions and actions to execute.\n",
    "# .... just words to articulate the consequences.\n",
    "\n",
    "prompt = \"\"\"\n",
    "You run in a loop of Thought, Action, PAUSE, Observation.\n",
    "At the end of the loop you output an Answer\n",
    "Use Thought to describe your thoughts about the question you have been asked.\n",
    "Use Action to run one of the actions available to you - then return PAUSE.\n",
    "Observation will be the result of running those actions.\n",
    "\n",
    "Your available actions are:\n",
    "\n",
    "calculate:\n",
    "e.g. calculate: 4 * 7 / 3\n",
    "Runs a calculation and returns the number - uses Python so be sure to use floating point syntax if necessary\n",
    "\n",
    "average_dog_weight:\n",
    "e.g. average_dog_weight: Collie\n",
    "returns average weight of a dog when given the breed\n",
    "\n",
    "Example session:\n",
    "\n",
    "Question: How much does a Bulldog weigh?\n",
    "Thought: I should look the dogs weight using average_dog_weight\n",
    "Action: average_dog_weight: Bulldog\n",
    "PAUSE\n",
    "\n",
    "You will be called again with this:\n",
    "\n",
    "Observation: A Bulldog weights 51 lbs\n",
    "\n",
    "You then output:\n",
    "\n",
    "Answer: A bulldog weights 51 lbs\n",
    "\"\"\".strip()\n",
    "\n",
    "# Answer: ..... this is the result format"
   ]
  },
  {
   "cell_type": "code",
   "execution_count": 18,
   "id": "bf4dcb93-6298-4cfd-b3ce-61dfac7fb35f",
   "metadata": {
    "height": 302,
    "id": "bf4dcb93-6298-4cfd-b3ce-61dfac7fb35f"
   },
   "outputs": [],
   "source": [
    "def calculate(what):\n",
    "    return eval(what)\n",
    "\n",
    "def average_dog_weight(name):\n",
    "    if name in \"Scottish Terrier\":\n",
    "        return(\"Scottish Terriers average 20 lbs\")\n",
    "    elif name in \"Border Collie\":\n",
    "        return(\"a Border Collies average weight is 37 lbs\")\n",
    "    elif name in \"Toy Poodle\":\n",
    "        return(\"a toy poodles average weight is 7 lbs\")\n",
    "    else:\n",
    "        return(\"An average dog weights 50 lbs\")\n",
    "\n",
    "known_actions = {\n",
    "    \"calculate\": calculate,\n",
    "    \"average_dog_weight\": average_dog_weight\n",
    "}"
   ]
  },
  {
   "cell_type": "code",
   "execution_count": 19,
   "id": "932883a4-c722-42bb-aec0-b4f41c5c81a4",
   "metadata": {
    "height": 30,
    "id": "932883a4-c722-42bb-aec0-b4f41c5c81a4"
   },
   "outputs": [],
   "source": [
    "abot = Agent(prompt)"
   ]
  },
  {
   "cell_type": "code",
   "execution_count": 20,
   "id": "ff362f49-dcf1-4ea1-a86c-e516e9ab897d",
   "metadata": {
    "colab": {
     "base_uri": "https://localhost:8080/"
    },
    "height": 47,
    "id": "ff362f49-dcf1-4ea1-a86c-e516e9ab897d",
    "outputId": "489c024e-1ede-4675-ecf5-18e66041b16b"
   },
   "outputs": [
    {
     "name": "stdout",
     "output_type": "stream",
     "text": [
      "Thought: I should look up the average weight of a Toy Poodle using average_dog_weight.\n",
      "Action: average_dog_weight: Toy Poodle\n",
      "PAUSE\n"
     ]
    }
   ],
   "source": [
    "result = abot(\"How much does a toy poodle weigh?\")\n",
    "print(result)"
   ]
  },
  {
   "cell_type": "code",
   "execution_count": 21,
   "id": "a7e15a20-83d7-434c-8551-bce8dcc32be0",
   "metadata": {
    "height": 30,
    "id": "a7e15a20-83d7-434c-8551-bce8dcc32be0"
   },
   "outputs": [],
   "source": [
    "result = average_dog_weight(\"Toy Poodle\")"
   ]
  },
  {
   "cell_type": "code",
   "execution_count": 22,
   "id": "54ab2c74-f32e-490c-a85d-932d11444210",
   "metadata": {
    "colab": {
     "base_uri": "https://localhost:8080/",
     "height": 35
    },
    "height": 30,
    "id": "54ab2c74-f32e-490c-a85d-932d11444210",
    "outputId": "05203e66-af30-4b12-f002-daff9e513a9c"
   },
   "outputs": [
    {
     "data": {
      "application/vnd.google.colaboratory.intrinsic+json": {
       "type": "string"
      },
      "text/plain": [
       "'a toy poodles average weight is 7 lbs'"
      ]
     },
     "execution_count": 22,
     "metadata": {},
     "output_type": "execute_result"
    }
   ],
   "source": [
    "result"
   ]
  },
  {
   "cell_type": "code",
   "execution_count": 23,
   "id": "VlY4pSLyVWnF",
   "metadata": {
    "id": "VlY4pSLyVWnF"
   },
   "outputs": [],
   "source": [
    "result2 = average_dog_weight(\"a kitten\")"
   ]
  },
  {
   "cell_type": "code",
   "execution_count": 24,
   "id": "j3zPT217VaJQ",
   "metadata": {
    "colab": {
     "base_uri": "https://localhost:8080/",
     "height": 35
    },
    "id": "j3zPT217VaJQ",
    "outputId": "4a20b03e-1de8-40d7-939a-68c6548e9582"
   },
   "outputs": [
    {
     "data": {
      "application/vnd.google.colaboratory.intrinsic+json": {
       "type": "string"
      },
      "text/plain": [
       "'An average dog weights 50 lbs'"
      ]
     },
     "execution_count": 24,
     "metadata": {},
     "output_type": "execute_result"
    }
   ],
   "source": [
    "result2"
   ]
  },
  {
   "cell_type": "code",
   "execution_count": 25,
   "id": "a833d3ce-bd31-4319-811d-decff226b970",
   "metadata": {
    "height": 30,
    "id": "a833d3ce-bd31-4319-811d-decff226b970"
   },
   "outputs": [],
   "source": [
    "next_prompt = \"Observation: {}\".format(result)"
   ]
  },
  {
   "cell_type": "code",
   "execution_count": 28,
   "id": "cPaSG2LjVr6l",
   "metadata": {
    "id": "cPaSG2LjVr6l"
   },
   "outputs": [],
   "source": [
    "next_prompt2 = \"Observation: {}\".format(result2)"
   ]
  },
  {
   "cell_type": "code",
   "execution_count": 29,
   "id": "lSus2b7sVqDg",
   "metadata": {
    "colab": {
     "base_uri": "https://localhost:8080/",
     "height": 35
    },
    "id": "lSus2b7sVqDg",
    "outputId": "79a3fc07-e1d6-4595-86cd-9f60d85f9f18"
   },
   "outputs": [
    {
     "data": {
      "application/vnd.google.colaboratory.intrinsic+json": {
       "type": "string"
      },
      "text/plain": [
       "'Answer: An average dog weighs 50 lbs, but a Toy Poodle specifically weighs an average of 7 lbs.'"
      ]
     },
     "execution_count": 29,
     "metadata": {},
     "output_type": "execute_result"
    }
   ],
   "source": [
    "abot(next_prompt2)"
   ]
  },
  {
   "cell_type": "code",
   "execution_count": 30,
   "id": "76e93cce-6eab-4c7c-ac64-e9993fdb30d6",
   "metadata": {
    "colab": {
     "base_uri": "https://localhost:8080/",
     "height": 35
    },
    "height": 30,
    "id": "76e93cce-6eab-4c7c-ac64-e9993fdb30d6",
    "outputId": "0b2e479b-6657-4a4a-b612-2098a7ee80ce"
   },
   "outputs": [
    {
     "data": {
      "application/vnd.google.colaboratory.intrinsic+json": {
       "type": "string"
      },
      "text/plain": [
       "'Answer: A Toy Poodle weighs an average of 7 lbs.'"
      ]
     },
     "execution_count": 30,
     "metadata": {},
     "output_type": "execute_result"
    }
   ],
   "source": [
    "abot(next_prompt)"
   ]
  },
  {
   "cell_type": "code",
   "execution_count": 31,
   "id": "fd2d0990-a932-423f-9ff3-5cada58c5f32",
   "metadata": {
    "colab": {
     "base_uri": "https://localhost:8080/"
    },
    "height": 30,
    "id": "fd2d0990-a932-423f-9ff3-5cada58c5f32",
    "outputId": "c3011dc3-d961-47a6-9c8b-f05b8c161974"
   },
   "outputs": [
    {
     "data": {
      "text/plain": [
       "[{'role': 'system',\n",
       "  'content': 'You run in a loop of Thought, Action, PAUSE, Observation.\\nAt the end of the loop you output an Answer\\nUse Thought to describe your thoughts about the question you have been asked.\\nUse Action to run one of the actions available to you - then return PAUSE.\\nObservation will be the result of running those actions.\\n\\nYour available actions are:\\n\\ncalculate:\\ne.g. calculate: 4 * 7 / 3\\nRuns a calculation and returns the number - uses Python so be sure to use floating point syntax if necessary\\n\\naverage_dog_weight:\\ne.g. average_dog_weight: Collie\\nreturns average weight of a dog when given the breed\\n\\nExample session:\\n\\nQuestion: How much does a Bulldog weigh?\\nThought: I should look the dogs weight using average_dog_weight\\nAction: average_dog_weight: Bulldog\\nPAUSE\\n\\nYou will be called again with this:\\n\\nObservation: A Bulldog weights 51 lbs\\n\\nYou then output:\\n\\nAnswer: A bulldog weights 51 lbs'},\n",
       " {'role': 'user', 'content': 'How much does a toy poodle weigh?'},\n",
       " {'role': 'assistant',\n",
       "  'content': 'Thought: I should look up the average weight of a Toy Poodle using average_dog_weight.\\nAction: average_dog_weight: Toy Poodle\\nPAUSE'},\n",
       " {'role': 'user',\n",
       "  'content': 'Observation: a toy poodles average weight is 7 lbs'},\n",
       " {'role': 'assistant',\n",
       "  'content': 'Answer: A Toy Poodle weighs an average of 7 lbs.'},\n",
       " {'role': 'user', 'content': 'Observation: An average dog weights 50 lbs'},\n",
       " {'role': 'assistant',\n",
       "  'content': 'Answer: An average dog weighs 50 lbs, but a Toy Poodle specifically weighs an average of 7 lbs.'},\n",
       " {'role': 'user',\n",
       "  'content': 'Observation: a toy poodles average weight is 7 lbs'},\n",
       " {'role': 'assistant',\n",
       "  'content': 'Answer: A Toy Poodle weighs an average of 7 lbs.'}]"
      ]
     },
     "execution_count": 31,
     "metadata": {},
     "output_type": "execute_result"
    }
   ],
   "source": [
    "abot.messages"
   ]
  },
  {
   "cell_type": "code",
   "execution_count": 32,
   "id": "27cde654-64e2-48bc-80a9-0ed668ccb7dc",
   "metadata": {
    "height": 30,
    "id": "27cde654-64e2-48bc-80a9-0ed668ccb7dc"
   },
   "outputs": [],
   "source": [
    "abot = Agent(prompt)"
   ]
  },
  {
   "cell_type": "code",
   "execution_count": 33,
   "id": "4871f644-b131-4065-b7ce-b82c20a41f11",
   "metadata": {
    "colab": {
     "base_uri": "https://localhost:8080/",
     "height": 53
    },
    "height": 64,
    "id": "4871f644-b131-4065-b7ce-b82c20a41f11",
    "outputId": "83caeaeb-7e61-4ce3-870a-a32ce7a31bc1"
   },
   "outputs": [
    {
     "data": {
      "application/vnd.google.colaboratory.intrinsic+json": {
       "type": "string"
      },
      "text/plain": [
       "'Thought: I need to find the average weight of a Border Collie and a Scottish Terrier, then add them together to get the combined weight.\\nAction: average_dog_weight: Border Collie\\nPAUSE'"
      ]
     },
     "execution_count": 33,
     "metadata": {},
     "output_type": "execute_result"
    }
   ],
   "source": [
    "question = \"\"\"I have 2 dogs, a border collie and a scottish terrier. \\\n",
    "What is their combined weight\"\"\"\n",
    "abot(question)"
   ]
  },
  {
   "cell_type": "code",
   "execution_count": 34,
   "id": "8c3d8070-3f36-4cf0-a677-508e54359c8f",
   "metadata": {
    "colab": {
     "base_uri": "https://localhost:8080/"
    },
    "height": 47,
    "id": "8c3d8070-3f36-4cf0-a677-508e54359c8f",
    "outputId": "84ec8c12-eafd-4690-afa7-3454b2895f84"
   },
   "outputs": [
    {
     "name": "stdout",
     "output_type": "stream",
     "text": [
      "Observation: a Border Collies average weight is 37 lbs\n"
     ]
    }
   ],
   "source": [
    "next_prompt = \"Observation: {}\".format(average_dog_weight(\"Border Collie\"))\n",
    "print(next_prompt)"
   ]
  },
  {
   "cell_type": "code",
   "execution_count": 35,
   "id": "98f3be1d-cc4c-41fa-9863-3e386e88e305",
   "metadata": {
    "colab": {
     "base_uri": "https://localhost:8080/",
     "height": 35
    },
    "height": 30,
    "id": "98f3be1d-cc4c-41fa-9863-3e386e88e305",
    "outputId": "bcd19829-99b0-4362-c2dd-b11b4c3546f3"
   },
   "outputs": [
    {
     "data": {
      "application/vnd.google.colaboratory.intrinsic+json": {
       "type": "string"
      },
      "text/plain": [
       "'Action: average_dog_weight: Scottish Terrier\\nPAUSE'"
      ]
     },
     "execution_count": 35,
     "metadata": {},
     "output_type": "execute_result"
    }
   ],
   "source": [
    "abot(next_prompt)"
   ]
  },
  {
   "cell_type": "code",
   "execution_count": 36,
   "id": "0ad8a6cc-65d4-4ce7-87aa-4e67d7c23d7b",
   "metadata": {
    "colab": {
     "base_uri": "https://localhost:8080/"
    },
    "height": 47,
    "id": "0ad8a6cc-65d4-4ce7-87aa-4e67d7c23d7b",
    "outputId": "f5e2d729-996b-4024-e382-23fd0affa908"
   },
   "outputs": [
    {
     "name": "stdout",
     "output_type": "stream",
     "text": [
      "Observation: Scottish Terriers average 20 lbs\n"
     ]
    }
   ],
   "source": [
    "next_prompt = \"Observation: {}\".format(average_dog_weight(\"Scottish Terrier\"))\n",
    "print(next_prompt)"
   ]
  },
  {
   "cell_type": "code",
   "execution_count": 37,
   "id": "592b5e62-a203-433c-92a0-3783f490cde1",
   "metadata": {
    "colab": {
     "base_uri": "https://localhost:8080/",
     "height": 35
    },
    "height": 30,
    "id": "592b5e62-a203-433c-92a0-3783f490cde1",
    "outputId": "00d101ff-81e7-460a-cf0f-9fabc4874963"
   },
   "outputs": [
    {
     "data": {
      "application/vnd.google.colaboratory.intrinsic+json": {
       "type": "string"
      },
      "text/plain": [
       "'Action: calculate: 37 + 20\\nPAUSE'"
      ]
     },
     "execution_count": 37,
     "metadata": {},
     "output_type": "execute_result"
    }
   ],
   "source": [
    "abot(next_prompt)"
   ]
  },
  {
   "cell_type": "code",
   "execution_count": 38,
   "id": "14fa923c-7e4f-42d1-965f-0f8ccd50fbd7",
   "metadata": {
    "colab": {
     "base_uri": "https://localhost:8080/"
    },
    "height": 47,
    "id": "14fa923c-7e4f-42d1-965f-0f8ccd50fbd7",
    "outputId": "45e86a66-dca2-48b5-c17b-34ce965edebc"
   },
   "outputs": [
    {
     "name": "stdout",
     "output_type": "stream",
     "text": [
      "Observation: 57\n"
     ]
    }
   ],
   "source": [
    "next_prompt = \"Observation: {}\".format(eval(\"37 + 20\"))\n",
    "print(next_prompt)"
   ]
  },
  {
   "cell_type": "code",
   "execution_count": 39,
   "id": "570c6245-2837-4ac5-983b-95f61f3ac10d",
   "metadata": {
    "colab": {
     "base_uri": "https://localhost:8080/",
     "height": 35
    },
    "height": 30,
    "id": "570c6245-2837-4ac5-983b-95f61f3ac10d",
    "outputId": "bdcadae3-4189-4c8a-8c33-ba8f86cffb8c"
   },
   "outputs": [
    {
     "data": {
      "application/vnd.google.colaboratory.intrinsic+json": {
       "type": "string"
      },
      "text/plain": [
       "'Answer: The combined average weight of a Border Collie and a Scottish Terrier is 57 lbs.'"
      ]
     },
     "execution_count": 39,
     "metadata": {},
     "output_type": "execute_result"
    }
   ],
   "source": [
    "abot(next_prompt)"
   ]
  },
  {
   "cell_type": "markdown",
   "id": "6b46f2ac-f717-4ab9-b548-f34b74071d76",
   "metadata": {
    "id": "6b46f2ac-f717-4ab9-b548-f34b74071d76"
   },
   "source": [
    "### Add loop"
   ]
  },
  {
   "cell_type": "code",
   "execution_count": 40,
   "id": "6b910915-b087-4d35-afff-0ec30a5852f1",
   "metadata": {
    "height": 30,
    "id": "6b910915-b087-4d35-afff-0ec30a5852f1"
   },
   "outputs": [],
   "source": [
    "action_re = re.compile('^Action: (\\w+): (.*)$')   # python regular expression to selection action"
   ]
  },
  {
   "cell_type": "code",
   "execution_count": 41,
   "id": "c4feb6cc-5129-4a99-bb45-851bc07b5709",
   "metadata": {
    "height": 421,
    "id": "c4feb6cc-5129-4a99-bb45-851bc07b5709"
   },
   "outputs": [],
   "source": [
    "def query(question, max_turns=5):\n",
    "    i = 0\n",
    "    bot = Agent(prompt)\n",
    "    next_prompt = question\n",
    "    while i < max_turns:\n",
    "        i += 1\n",
    "        result = bot(next_prompt)\n",
    "        print(result)\n",
    "        actions = [\n",
    "            action_re.match(a)\n",
    "            for a in result.split('\\n')\n",
    "            if action_re.match(a)\n",
    "        ]\n",
    "        if actions:\n",
    "            # There is an action to run\n",
    "            action, action_input = actions[0].groups()\n",
    "            if action not in known_actions:\n",
    "                raise Exception(\"Unknown action: {}: {}\".format(action, action_input))\n",
    "            print(\" -- running {} {}\".format(action, action_input))\n",
    "            observation = known_actions[action](action_input)\n",
    "            print(\"Observation:\", observation)\n",
    "            next_prompt = \"Observation: {}\".format(observation)\n",
    "        else:\n",
    "            return"
   ]
  },
  {
   "cell_type": "code",
   "execution_count": 43,
   "id": "e85a02b4-96cc-4b01-8792-397a774eb499",
   "metadata": {
    "colab": {
     "base_uri": "https://localhost:8080/"
    },
    "height": 64,
    "id": "e85a02b4-96cc-4b01-8792-397a774eb499",
    "outputId": "eadf3031-9732-4280-fa3a-570489b0ba5e"
   },
   "outputs": [
    {
     "name": "stdout",
     "output_type": "stream",
     "text": [
      "Thought: To find the combined weight of the pets, I need to find the average weight of a Border Collie and a Scottish Terrier. I will also need to estimate the weight of a kitten and the fish tank. I will start by finding the average weight of the Border Collie and the Scottish Terrier.\n",
      "\n",
      "Action: average_dog_weight: Border Collie\n",
      "PAUSE\n",
      " -- running average_dog_weight Border Collie\n",
      "Observation: a Border Collies average weight is 37 lbs\n",
      "Action: average_dog_weight: Scottish Terrier\n",
      "PAUSE\n",
      " -- running average_dog_weight Scottish Terrier\n",
      "Observation: Scottish Terriers average 20 lbs\n",
      "Thought: Now that I have the average weights of the Border Collie and the Scottish Terrier, I need to estimate the weight of a kitten and the fish tank. A typical kitten weighs around 2 to 4 lbs, and a small fish tank with water and fish might weigh around 10 to 20 lbs. I will use an average weight of 3 lbs for the kitten and 15 lbs for the fish tank for this calculation.\n",
      "\n",
      "Action: calculate: 37 + 20 + 3 + 15\n",
      "PAUSE\n",
      " -- running calculate 37 + 20 + 3 + 15\n",
      "Observation: 75\n",
      "Answer: The combined weight of your Border Collie, Scottish Terrier, kitten, and fish tank is approximately 75 lbs.\n"
     ]
    }
   ],
   "source": [
    "question = \"\"\"I have 2 dogs, a border collie and a scottish terrier. \\\n",
    "I also have a kitten.\\\n",
    "I also have a tank of fish. \\\n",
    "What is their combined weight\"\"\"\n",
    "query(question)\n",
    "\n",
    "## the knowledge about a tank of fish and a kitten is the common knowlegde retrived from the llm"
   ]
  },
  {
   "cell_type": "markdown",
   "id": "Z4XK9aJlYc1i",
   "metadata": {
    "id": "Z4XK9aJlYc1i"
   },
   "source": [
    "### Put it together"
   ]
  },
  {
   "cell_type": "code",
   "execution_count": 128,
   "id": "94o3OMSeYycM",
   "metadata": {
    "id": "94o3OMSeYycM"
   },
   "outputs": [],
   "source": [
    "# just functions without the agent part yet\n",
    "def get_feed_back():\n",
    "    mood = input(\"How are you feeling? (happy/sad/...) \")\n",
    "    return f\"I see, you're feeling {mood}.\"\n",
    "\n",
    "def extract_mood(feedback):\n",
    "    # have some options\n",
    "    moods = [\"happy\", \"sad\", \"angry\", \"anxious\", \"relaxed\", \"excited\"]\n",
    "    for mood in moods:\n",
    "        if mood in feedback:\n",
    "            return mood\n",
    "    return \"neutral\"\n",
    "\n",
    "def routine(time, mood):\n",
    "    if \"happy\" or \"relaxed\" or \"excited\"in mood:\n",
    "        if \"early morning\" in time:\n",
    "            return \"wake up, brush your teeth, and eat breakfast.\"\n",
    "        elif \"late morning\" in time:\n",
    "            return \"get dressed, go to work.\"\n",
    "        elif \"mid afternoon\" in time:\n",
    "            return \"Have lunch.\"\n",
    "        elif \"late afternoon\" in time:\n",
    "            return \"take a break, and have dinner.\"\n",
    "        elif \"early evening\" in time:\n",
    "            return \"Have a snack, go to bed.\"\n",
    "        else:\n",
    "            return \"Do whatever you want.\"\n",
    "    elif \"sad\" or \"angry\" or \"anxious\" in mood:\n",
    "        return \"XXXXXXXX\"\n",
    "    else:\n",
    "        return \"I don't know what to suggest.\"\n",
    "\n",
    "known_actions = {\n",
    "    \"get_feed_back\": get_feed_back,\n",
    "    \"routine\": routine\n",
    "}"
   ]
  },
  {
   "cell_type": "code",
   "execution_count": 129,
   "id": "xaayl6Q4j9ao",
   "metadata": {
    "id": "xaayl6Q4j9ao"
   },
   "outputs": [],
   "source": [
    "def interaction_loop():\n",
    "    state = \"initial\"\n",
    "    mood = \"\"\n",
    "    time = \"\"\n",
    "\n",
    "    while True:\n",
    "        if state == \"initial\":\n",
    "            print(\"question: How are you feeling?\")\n",
    "            print(\"Thought: I am collecting the user's feedback about their mood.\")\n",
    "            action = \"get_feed_back\"\n",
    "            result = known_actions[action]()\n",
    "            print(f\"observation: {result}\")\n",
    "\n",
    "            mood = extract_mood(result)\n",
    "            state = \"get_time\"\n",
    "\n",
    "        elif state == \"get_time\":\n",
    "            print(\"question: What time of day is it?\")\n",
    "            time = input(\"enter the time of day: \")\n",
    "            print(f\"Thought: I want to know the time to provide the correct routine for someone feeling {mood}.\")\n",
    "\n",
    "            action = \"routine\"\n",
    "            result = known_actions[action](time, mood)\n",
    "            state = \"routine_suggestion\"\n",
    "\n",
    "        elif state == \"routine_suggestion\":\n",
    "            print(f\"observation: {result}\")\n",
    "            print(f\"Answer: {result}\")\n",
    "            break"
   ]
  },
  {
   "cell_type": "code",
   "execution_count": 98,
   "id": "Xn3kd5FFn7kb",
   "metadata": {
    "colab": {
     "base_uri": "https://localhost:8080/"
    },
    "id": "Xn3kd5FFn7kb",
    "outputId": "deb8ab67-298f-4232-8204-be534eb8c6a3"
   },
   "outputs": [
    {
     "name": "stdout",
     "output_type": "stream",
     "text": [
      "question: How are you feeling?\n",
      "Thought: I am collecting the user's feedback about their mood.\n",
      "How are you feeling? (happy/sad/...) happy\n",
      "observation: I see, you're feeling happy.\n",
      "question: What time of day is it?\n",
      "enter the time of day: early morning\n",
      "Thought: I want to know the time to provide the correct routine for someone feeling happy.\n",
      "observation: wake up, brush your teeth, and eat breakfast.\n",
      "Answer: wake up, brush your teeth, and eat breakfast.\n"
     ]
    }
   ],
   "source": [
    "# Run the interaction loop\n",
    "interaction_loop()"
   ]
  },
  {
   "cell_type": "code",
   "execution_count": 95,
   "id": "4rPKjp3pg-Nj",
   "metadata": {
    "colab": {
     "base_uri": "https://localhost:8080/"
    },
    "id": "4rPKjp3pg-Nj",
    "outputId": "95cb723c-733b-4726-8ffb-44e3193bd910"
   },
   "outputs": [
    {
     "name": "stdout",
     "output_type": "stream",
     "text": [
      "question: How are you feeling?\n",
      "Thought: I am collecting the user's feedback about their mood.\n",
      "How are you feeling? (happy/sad/...) sad\n",
      "observation: I see, you're feeling sad.\n",
      "question: What time of day is it?\n",
      "enter the time of day: evening\n",
      "Thought: I want to know the time to provide the correct routine for someone feeling sad.\n",
      "observation: Do whatever you want.\n",
      "Answer: Do whatever you want.\n"
     ]
    }
   ],
   "source": [
    "# Run the interaction loop\n",
    "interaction_loop()"
   ]
  },
  {
   "cell_type": "code",
   "execution_count": 95,
   "id": "--cNkpJlj89y",
   "metadata": {
    "id": "--cNkpJlj89y"
   },
   "outputs": [],
   "source": []
  },
  {
   "cell_type": "code",
   "execution_count": 100,
   "id": "Cqn90-_WgIH4",
   "metadata": {
    "colab": {
     "base_uri": "https://localhost:8080/"
    },
    "id": "Cqn90-_WgIH4",
    "outputId": "a0bfd0c8-87b4-468c-fc86-fc62ab1b8590"
   },
   "outputs": [
    {
     "name": "stdout",
     "output_type": "stream",
     "text": [
      "Thought: I should look up the average weight of a Toy Poodle using average_dog_weight.\n",
      "Action: average_dog_weight: Toy Poodle\n",
      "PAUSE\n",
      "Observation: a Border Collies average weight is 37 lbs\n",
      "Observation: Scottish Terriers average 20 lbs\n",
      "Observation: 57\n",
      "Thought: I need to find the average weight of a Border Collie and a Scottish Terrier, then add them together to find their combined weight.\n",
      "Action: average_dog_weight: Border Collie\n",
      "PAUSE\n",
      " -- running average_dog_weight Border Collie\n",
      "Observation: a Border Collies average weight is 37 lbs\n",
      "Action: average_dog_weight: Scottish Terrier\n",
      "PAUSE\n",
      " -- running average_dog_weight Scottish Terrier\n",
      "Observation: Scottish Terriers average 20 lbs\n",
      "Action: calculate: 37 + 20\n",
      "PAUSE\n",
      " -- running calculate 37 + 20\n",
      "Observation: 57\n",
      "Answer: The combined average weight of a Border Collie and a Scottish Terrier is 57 lbs.\n"
     ]
    }
   ],
   "source": [
    "# previous original codes\n",
    "prompt = \"\"\"\n",
    "You run in a loop of Thought, Action, PAUSE, Observation.\n",
    "At the end of the loop you output an Answer\n",
    "Use Thought to describe your thoughts about the question you have been asked.\n",
    "Use Action to run one of the actions available to you - then return PAUSE.\n",
    "Observation will be the result of running those actions.\n",
    "\n",
    "Your available actions are:\n",
    "\n",
    "calculate:\n",
    "e.g. calculate: 4 * 7 / 3\n",
    "Runs a calculation and returns the number - uses Python so be sure to use floating point syntax if necessary\n",
    "\n",
    "average_dog_weight:\n",
    "e.g. average_dog_weight: Collie\n",
    "returns average weight of a dog when given the breed\n",
    "\n",
    "Example session:\n",
    "\n",
    "Question: How much does a Bulldog weigh?\n",
    "Thought: I should look the dogs weight using average_dog_weight\n",
    "Action: average_dog_weight: Bulldog\n",
    "PAUSE\n",
    "\n",
    "You will be called again with this:\n",
    "\n",
    "Observation: A Bulldog weights 51 lbs\n",
    "\n",
    "You then output:\n",
    "\n",
    "Answer: A bulldog weights 51 lbs\n",
    "\"\"\".strip()\n",
    "\n",
    "def calculate(what):\n",
    "    return eval(what)\n",
    "\n",
    "def average_dog_weight(name):\n",
    "    if name in \"Scottish Terrier\":\n",
    "        return(\"Scottish Terriers average 20 lbs\")\n",
    "    elif name in \"Border Collie\":\n",
    "        return(\"a Border Collies average weight is 37 lbs\")\n",
    "    elif name in \"Toy Poodle\":\n",
    "        return(\"a toy poodles average weight is 7 lbs\")\n",
    "    else:\n",
    "        return(\"An average dog weights 50 lbs\")\n",
    "\n",
    "known_actions = {\n",
    "    \"calculate\": calculate,\n",
    "    \"average_dog_weight\": average_dog_weight\n",
    "}\n",
    "\n",
    "abot = Agent(prompt)\n",
    "\n",
    "result = abot(\"How much does a toy poodle weigh?\")\n",
    "print(result)\n",
    "\n",
    "result = average_dog_weight(\"Toy Poodle\")\n",
    "next_prompt = \"Observation: {}\".format(result)\n",
    "abot(next_prompt)\n",
    "abot.messages\n",
    "abot = Agent(prompt)\n",
    "question = \"\"\"I have 2 dogs, a border collie and a scottish terrier. \\\n",
    "What is their combined weight\"\"\"\n",
    "abot(question)\n",
    "next_prompt = \"Observation: {}\".format(average_dog_weight(\"Border Collie\"))\n",
    "print(next_prompt)\n",
    "abot(next_prompt)\n",
    "next_prompt = \"Observation: {}\".format(average_dog_weight(\"Scottish Terrier\"))\n",
    "print(next_prompt)\n",
    "abot(next_prompt)\n",
    "next_prompt = \"Observation: {}\".format(eval(\"37 + 20\"))\n",
    "print(next_prompt)\n",
    "abot(next_prompt)\n",
    "action_re = re.compile('^Action: (\\w+): (.*)$')\n",
    "\n",
    "def query(question, max_turns=5):\n",
    "    i = 0\n",
    "    bot = Agent(prompt)\n",
    "    next_prompt = question\n",
    "    while i < max_turns:\n",
    "        i += 1\n",
    "        result = bot(next_prompt)\n",
    "        print(result)\n",
    "        actions = [\n",
    "            action_re.match(a)\n",
    "            for a in result.split('\\n')\n",
    "            if action_re.match(a)\n",
    "        ]\n",
    "        if actions:\n",
    "            # There is an action to run\n",
    "            action, action_input = actions[0].groups()\n",
    "            if action not in known_actions:\n",
    "                raise Exception(\"Unknown action: {}: {}\".format(action, action_input))\n",
    "            print(\" -- running {} {}\".format(action, action_input))\n",
    "            observation = known_actions[action](action_input)\n",
    "            print(\"Observation:\", observation)\n",
    "            next_prompt = \"Observation: {}\".format(observation)\n",
    "        else:\n",
    "            return\n",
    "\n",
    "question = \"\"\"I have 2 dogs, a border collie and a scottish terrier. \\\n",
    "What is their combined weight\"\"\"\n",
    "query(question)"
   ]
  },
  {
   "cell_type": "code",
   "execution_count": 130,
   "id": "3d8hkfQKvlt7",
   "metadata": {
    "id": "3d8hkfQKvlt7"
   },
   "outputs": [],
   "source": [
    "# new functions\n",
    "def get_feedback():\n",
    "    return input(\"How are you feeling? \")\n",
    "\n",
    "def routine(time, mood):\n",
    "    if \"happy\" in mood:\n",
    "        if \"early morning\" in time:\n",
    "            return \"Wake up, brush your teeth, and eat breakfast.\"\n",
    "        elif \"late morning\" in time:\n",
    "            return \"Get dressed, go to work.\"\n",
    "        elif \"mid afternoon\" in time:\n",
    "            return \"Have lunch.\"\n",
    "        elif \"late afternoon\" in time:\n",
    "            return \"Take a break, and have dinner.\"\n",
    "        elif \"early evening\" in time:\n",
    "            return \"Have a snack, go to bed.\"\n",
    "        else:\n",
    "            return \"Do whatever you want.\"\n",
    "    elif \"sad\" in mood:\n",
    "        return \"Get some sleep.\"\n",
    "    else:\n",
    "        return \"I'm not sure what to suggest.\""
   ]
  },
  {
   "cell_type": "code",
   "execution_count": 131,
   "id": "-aNMT5yRvsTj",
   "metadata": {
    "id": "-aNMT5yRvsTj"
   },
   "outputs": [],
   "source": [
    "known_actions = {\n",
    "    \"get_feedback\": get_feedback,\n",
    "    \"routine\": routine\n",
    "}"
   ]
  },
  {
   "cell_type": "code",
   "execution_count": 132,
   "id": "gLpDOkACvuXW",
   "metadata": {
    "id": "gLpDOkACvuXW"
   },
   "outputs": [],
   "source": [
    "action_re = re.compile(r'^Action: (\\w+): (.*)$')"
   ]
  },
  {
   "cell_type": "code",
   "execution_count": 138,
   "id": "IhlsdADHu0U-",
   "metadata": {
    "id": "IhlsdADHu0U-"
   },
   "outputs": [],
   "source": [
    "class Agent:\n",
    "    def __init__(self, prompt):\n",
    "        self.prompt = prompt\n",
    "        self.messages = []\n",
    "        self.final_answer = None\n",
    "\n",
    "    def __call__(self, input):\n",
    "        self.messages.append(f\"question: {input}\")\n",
    "        thought = self.think(input)\n",
    "        self.messages.append(f\"Thought: {thought}\")\n",
    "\n",
    "        action, action_input = self.get_action(thought)\n",
    "        if action:\n",
    "            self.messages.append(f\"Action: {action}: {action_input}\")\n",
    "            return \"PAUSE\"\n",
    "\n",
    "        return self.final_answer if self.final_answer else \"Answer: I don't know what to do.\"\n",
    "\n",
    "    def think(self, question):\n",
    "        if \"mood\" in question or \"feeling\" in question:\n",
    "            return \"I should ask the user about their mood using get_feedback.\"\n",
    "        elif \"morning\" in question or \"afternoon\" in question or \"evening\" in question:\n",
    "            return \"I should suggest a routine using the routine function.\"\n",
    "        else:\n",
    "            return \"I don't know what to suggest.\"\n",
    "\n",
    "    def get_action(self, thought):\n",
    "        if \"get_feedback\" in thought:\n",
    "            return \"get_feedback\", \"\"\n",
    "        elif \"routine\" in thought:\n",
    "            return \"routine\", \"early morning happy\"\n",
    "        return None, None\n",
    "\n",
    "    def set_final_answer(self, answer):\n",
    "        self.final_answer = f\"Answer: {answer}\""
   ]
  },
  {
   "cell_type": "code",
   "execution_count": 143,
   "id": "FaCBAVBYwJYR",
   "metadata": {
    "id": "FaCBAVBYwJYR"
   },
   "outputs": [],
   "source": [
    "def query(question, max_turns=5):\n",
    "    i = 0\n",
    "    bot = Agent(prompt)\n",
    "    next_prompt = question\n",
    "\n",
    "    while i < max_turns:\n",
    "        i += 1\n",
    "        result = bot(next_prompt)\n",
    "\n",
    "        if result == \"PAUSE\":\n",
    "            actions = [\n",
    "                action_re.match(a)\n",
    "                for a in bot.messages[-1].split('\\n')\n",
    "                if action_re.match(a)\n",
    "            ]\n",
    "\n",
    "            if actions:\n",
    "                action, action_input = actions[0].groups()\n",
    "                if action not in known_actions:\n",
    "                    raise Exception(f\"unknown action: {action}: {action_input}\")\n",
    "                print(f\" now running {action} {action_input}\")\n",
    "                if action == \"get_feedback\":\n",
    "                    observation = known_actions[action]()\n",
    "                else:\n",
    "                    time = input(\"What time of day is it? (early morning, late morning, mid afternoon, etc.): \")\n",
    "                    mood = known_actions[\"get_feedback\"]()\n",
    "                    observation = known_actions[action](time, mood)\n",
    "\n",
    "                print(f\"Observation: {observation}\")\n",
    "\n",
    "                bot.set_final_answer(observation)\n",
    "\n",
    "                next_prompt = f\"Observation: {observation}\"\n",
    "        else:\n",
    "            print(result)\n",
    "            return"
   ]
  },
  {
   "cell_type": "code",
   "execution_count": 144,
   "id": "4486W1-tv-df",
   "metadata": {
    "id": "4486W1-tv-df"
   },
   "outputs": [],
   "source": [
    "prompt = \"\"\"\n",
    "You run in a loop of Thought, Action, PAUSE, Observation.\n",
    "At the end of the loop, you output an Answer.\n",
    "Use Thought to describe your thoughts about the question you have been asked.\n",
    "Use Action to run one of the actions available to you - then return PAUSE.\n",
    "Observation will be the result of running those actions.\n",
    "\n",
    "Your available actions are:\n",
    "\n",
    "get_feedback:\n",
    "e.g. get_feedback\n",
    "Gets the user's feedback.\n",
    "\n",
    "routine:\n",
    "e.g. routine: early morning happy\n",
    "Returns a suggested routine based on time of day and mood.\n",
    "\"\"\""
   ]
  },
  {
   "cell_type": "code",
   "execution_count": 145,
   "id": "t5BMI1eOvRQu",
   "metadata": {
    "colab": {
     "base_uri": "https://localhost:8080/"
    },
    "id": "t5BMI1eOvRQu",
    "outputId": "e4f09d7c-26c2-4fcf-8031-e2b55c59f598"
   },
   "outputs": [
    {
     "name": "stdout",
     "output_type": "stream",
     "text": [
      " now running routine early morning happy\n",
      "What time of day is it? (early morning, late morning, mid afternoon, etc.): early morning\n",
      "How are you feeling? happy\n",
      "Observation: Wake up, brush your teeth, and eat breakfast.\n",
      "Answer: Wake up, brush your teeth, and eat breakfast.\n"
     ]
    }
   ],
   "source": [
    "question = \"What should I do this morning?\"\n",
    "query(question)"
   ]
  },
  {
   "cell_type": "code",
   "execution_count": null,
   "id": "2XqZQOYrwTsa",
   "metadata": {
    "id": "2XqZQOYrwTsa"
   },
   "outputs": [],
   "source": []
  }
 ],
 "metadata": {
  "colab": {
   "provenance": []
  },
  "kernelspec": {
   "display_name": "Python 3 (ipykernel)",
   "language": "python",
   "name": "python3"
  },
  "language_info": {
   "codemirror_mode": {
    "name": "ipython",
    "version": 3
   },
   "file_extension": ".py",
   "mimetype": "text/x-python",
   "name": "python",
   "nbconvert_exporter": "python",
   "pygments_lexer": "ipython3",
   "version": "3.11.0"
  }
 },
 "nbformat": 4,
 "nbformat_minor": 5
}
