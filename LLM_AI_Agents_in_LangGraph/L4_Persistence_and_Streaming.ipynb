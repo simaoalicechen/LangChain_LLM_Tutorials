{
 "cells": [
  {
   "cell_type": "markdown",
   "id": "b5789bc3-b1ae-42c7-94a8-2ef4f89946fc",
   "metadata": {
    "id": "b5789bc3-b1ae-42c7-94a8-2ef4f89946fc"
   },
   "source": [
    "# Lesson 4: Persistence and Streaming"
   ]
  },
  {
   "cell_type": "code",
   "execution_count": 2,
   "id": "k7XMrdlh4gFV",
   "metadata": {
    "id": "k7XMrdlh4gFV"
   },
   "outputs": [],
   "source": [
    "# !pip install langgraph langchain_core langchain_openai langchain_community\n",
    "# !pip install aiosqlite\n",
    "# !pip install langgraph.checkpoint.sqlite\n",
    "# !pip install langgraph.checkpoint.aiosqlite"
   ]
  },
  {
   "cell_type": "code",
   "execution_count": 3,
   "id": "COKI148K-bya",
   "metadata": {
    "id": "COKI148K-bya"
   },
   "outputs": [],
   "source": [
    "import os"
   ]
  },
  {
   "cell_type": "code",
   "execution_count": 4,
   "id": "f5762271-8736-4e94-9444-8c92bd0e8074",
   "metadata": {
    "height": 64,
    "id": "f5762271-8736-4e94-9444-8c92bd0e8074"
   },
   "outputs": [],
   "source": [
    "from dotenv import load_dotenv\n",
    "\n",
    "_ = load_dotenv()"
   ]
  },
  {
   "cell_type": "code",
   "execution_count": 6,
   "id": "m7-U4X1r-aIZ",
   "metadata": {
    "id": "m7-U4X1r-aIZ"
   },
   "outputs": [],
   "source": [
    "# reset all those keys\n",
    "openai_api_key = os.getenv(\"OPENAI_API_KEY\")\n",
    "tavily_api_key = os.getenv(\"TAVILY_API_KEY\")\n",
    "# tool = TavilySearchResults(tavily_api_key=tavily_api_key)"
   ]
  },
  {
   "cell_type": "code",
   "execution_count": 7,
   "id": "d0168aee-bce9-4d60-b827-f86a88187e31",
   "metadata": {
    "height": 115,
    "id": "d0168aee-bce9-4d60-b827-f86a88187e31"
   },
   "outputs": [],
   "source": [
    "from langgraph.graph import StateGraph, END\n",
    "from typing import TypedDict, Annotated\n",
    "import operator\n",
    "from langchain_core.messages import AnyMessage, SystemMessage, HumanMessage, ToolMessage\n",
    "from langchain_openai import ChatOpenAI\n",
    "from langchain_community.tools.tavily_search import TavilySearchResults"
   ]
  },
  {
   "cell_type": "code",
   "execution_count": 8,
   "id": "da06a64f-a2d5-4a66-8090-9ada0930c684",
   "metadata": {
    "height": 30,
    "id": "da06a64f-a2d5-4a66-8090-9ada0930c684"
   },
   "outputs": [],
   "source": [
    "tool = TavilySearchResults(max_results=2)"
   ]
  },
  {
   "cell_type": "code",
   "execution_count": 9,
   "id": "2589c5b6-6cc2-4594-9a17-dccdcf676054",
   "metadata": {
    "height": 47,
    "id": "2589c5b6-6cc2-4594-9a17-dccdcf676054"
   },
   "outputs": [],
   "source": [
    "class AgentState(TypedDict):\n",
    "    messages: Annotated[list[AnyMessage], operator.add]"
   ]
  },
  {
   "cell_type": "code",
   "execution_count": 10,
   "id": "9c033522-d2fc-41ac-8e3c-5e35872bf88d",
   "metadata": {
    "height": 64,
    "id": "9c033522-d2fc-41ac-8e3c-5e35872bf88d"
   },
   "outputs": [],
   "source": [
    "from langgraph.checkpoint.sqlite import SqliteSaver\n",
    "\n",
    "memory = SqliteSaver.from_conn_string(\":memory:\")"
   ]
  },
  {
   "cell_type": "code",
   "execution_count": 11,
   "id": "a2ba84ec-c172-4de7-ac55-e3158a531b23",
   "metadata": {
    "height": 574,
    "id": "a2ba84ec-c172-4de7-ac55-e3158a531b23"
   },
   "outputs": [],
   "source": [
    "class Agent:\n",
    "    def __init__(self, model, tools, checkpointer, system=\"\"):\n",
    "        self.system = system\n",
    "        graph = StateGraph(AgentState)\n",
    "        graph.add_node(\"llm\", self.call_openai)\n",
    "        graph.add_node(\"action\", self.take_action)\n",
    "        graph.add_conditional_edges(\"llm\", self.exists_action, {True: \"action\", False: END})\n",
    "        graph.add_edge(\"action\", \"llm\")\n",
    "        graph.set_entry_point(\"llm\")\n",
    "        self.graph = graph.compile(checkpointer=checkpointer)\n",
    "        self.tools = {t.name: t for t in tools}\n",
    "        self.model = model.bind_tools(tools)\n",
    "\n",
    "    def call_openai(self, state: AgentState):\n",
    "        messages = state['messages']\n",
    "        if self.system:\n",
    "            messages = [SystemMessage(content=self.system)] + messages\n",
    "        message = self.model.invoke(messages)\n",
    "        return {'messages': [message]}\n",
    "\n",
    "    def exists_action(self, state: AgentState):\n",
    "        result = state['messages'][-1]\n",
    "        return len(result.tool_calls) > 0\n",
    "\n",
    "    def take_action(self, state: AgentState):\n",
    "        tool_calls = state['messages'][-1].tool_calls\n",
    "        results = []\n",
    "        for t in tool_calls:\n",
    "            print(f\"Calling: {t}\")\n",
    "            result = self.tools[t['name']].invoke(t['args'])\n",
    "            results.append(ToolMessage(tool_call_id=t['id'], name=t['name'], content=str(result)))\n",
    "        print(\"Back to the model!\")\n",
    "        return {'messages': results}"
   ]
  },
  {
   "cell_type": "code",
   "execution_count": 12,
   "id": "876d5092-b8ef-4e38-b4d7-0e80c609bf7a",
   "metadata": {
    "height": 132,
    "id": "876d5092-b8ef-4e38-b4d7-0e80c609bf7a"
   },
   "outputs": [],
   "source": [
    "prompt = \"\"\"You are a smart research assistant. Use the search engine to look up information. \\\n",
    "You are allowed to make multiple calls (either together or in sequence). \\\n",
    "Only look up information when you are sure of what you want. \\\n",
    "If you need to look up some information before asking a follow up question, you are allowed to do that!\n",
    "\"\"\"\n",
    "model = ChatOpenAI(model=\"gpt-4o\")\n",
    "abot = Agent(model, [tool], system=prompt, checkpointer=memory)"
   ]
  },
  {
   "cell_type": "code",
   "execution_count": 13,
   "id": "10084a02-2928-4945-9f7c-ad3f5b33caf7",
   "metadata": {
    "height": 30,
    "id": "10084a02-2928-4945-9f7c-ad3f5b33caf7"
   },
   "outputs": [],
   "source": [
    "messages = [HumanMessage(content=\"What is the weather in sf?\")]"
   ]
  },
  {
   "cell_type": "code",
   "execution_count": 14,
   "id": "714d1205-f8fc-4912-b148-2a45da99219c",
   "metadata": {
    "height": 30,
    "id": "714d1205-f8fc-4912-b148-2a45da99219c"
   },
   "outputs": [],
   "source": [
    "thread = {\"configurable\": {\"thread_id\": \"1\"}}"
   ]
  },
  {
   "cell_type": "code",
   "execution_count": 15,
   "id": "k-pdeIoD_Fgp",
   "metadata": {
    "colab": {
     "base_uri": "https://localhost:8080/"
    },
    "id": "k-pdeIoD_Fgp",
    "outputId": "1463b2d5-a231-4329-9cf1-3ff076b7efc3"
   },
   "outputs": [
    {
     "name": "stdout",
     "output_type": "stream",
     "text": [
      "<class 'generator'>\n"
     ]
    }
   ],
   "source": [
    "stream = abot.graph.stream({\"messages\": messages}, thread)\n",
    "print(type(stream))  # To inspect what type of object stream is"
   ]
  },
  {
   "cell_type": "markdown",
   "id": "ace59a36-3941-459e-b9d1-ac5a4a1ed3ae",
   "metadata": {
    "id": "ace59a36-3941-459e-b9d1-ac5a4a1ed3ae"
   },
   "source": [
    "## Streaming tokens"
   ]
  },
  {
   "cell_type": "code",
   "execution_count": 22,
   "id": "I4oZO7srAmSa",
   "metadata": {
    "id": "I4oZO7srAmSa"
   },
   "outputs": [],
   "source": [
    "from langgraph.graph import StateGraph, END\n",
    "from typing import TypedDict, Annotated\n",
    "import operator\n",
    "from langchain_core.messages import AnyMessage, SystemMessage, HumanMessage, ToolMessage\n",
    "from langchain_openai import ChatOpenAI"
   ]
  },
  {
   "cell_type": "code",
   "execution_count": 30,
   "id": "6b2f82fe-3ec4-4917-be51-9fb10d1317fa",
   "metadata": {
    "height": 81,
    "id": "6b2f82fe-3ec4-4917-be51-9fb10d1317fa"
   },
   "outputs": [],
   "source": [
    "from langgraph.checkpoint.sqlite import SqliteSaver\n",
    "\n",
    "memory = SqliteSaver.from_conn_string(\":memory:\")"
   ]
  },
  {
   "cell_type": "code",
   "execution_count": 32,
   "id": "Pex97Elu_-oi",
   "metadata": {
    "id": "Pex97Elu_-oi"
   },
   "outputs": [],
   "source": [
    "abot = Agent(model, [tool], system=prompt, checkpointer=memory)"
   ]
  },
  {
   "cell_type": "code",
   "execution_count": 38,
   "id": "ee0fe1c7-77e2-499c-a2f9-1f739bb6ddf0",
   "metadata": {
    "colab": {
     "base_uri": "https://localhost:8080/"
    },
    "height": 200,
    "id": "ee0fe1c7-77e2-499c-a2f9-1f739bb6ddf0",
    "outputId": "8ad04da4-133f-4b62-d3da-bf534ad5971c"
   },
   "outputs": [
    {
     "name": "stdout",
     "output_type": "stream",
     "text": [
      "[AIMessage(content='', additional_kwargs={'tool_calls': [{'id': 'call_mGrZ1EtJ02FN4y86aumPjWHi', 'function': {'arguments': '{\"query\":\"San Francisco weather today\"}', 'name': 'tavily_search_results_json'}, 'type': 'function'}], 'refusal': None}, response_metadata={'token_usage': {'completion_tokens': 21, 'prompt_tokens': 151, 'total_tokens': 172, 'completion_tokens_details': {'audio_tokens': None, 'reasoning_tokens': 0}, 'prompt_tokens_details': {'audio_tokens': None, 'cached_tokens': 0}}, 'model_name': 'gpt-4o-2024-08-06', 'system_fingerprint': 'fp_6b68a8204b', 'finish_reason': 'tool_calls', 'logprobs': None}, id='run-20b34f65-80cb-41af-8e6b-8e8e9e45d4bf-0', tool_calls=[{'name': 'tavily_search_results_json', 'args': {'query': 'San Francisco weather today'}, 'id': 'call_mGrZ1EtJ02FN4y86aumPjWHi', 'type': 'tool_call'}], usage_metadata={'input_tokens': 151, 'output_tokens': 21, 'total_tokens': 172, 'input_token_details': {'cache_read': 0}, 'output_token_details': {'reasoning': 0}})]\n",
      "Calling: {'name': 'tavily_search_results_json', 'args': {'query': 'San Francisco weather today'}, 'id': 'call_mGrZ1EtJ02FN4y86aumPjWHi', 'type': 'tool_call'}\n",
      "Back to the model!\n",
      "[ToolMessage(content='[{\\'url\\': \\'https://www.weatherapi.com/\\', \\'content\\': \"{\\'location\\': {\\'name\\': \\'San Francisco\\', \\'region\\': \\'California\\', \\'country\\': \\'United States of America\\', \\'lat\\': 37.775, \\'lon\\': -122.4183, \\'tz_id\\': \\'America/Los_Angeles\\', \\'localtime_epoch\\': 1728942691, \\'localtime\\': \\'2024-10-14 14:51\\'}, \\'current\\': {\\'last_updated_epoch\\': 1728942300, \\'last_updated\\': \\'2024-10-14 14:45\\', \\'temp_c\\': 14.2, \\'temp_f\\': 57.6, \\'is_day\\': 1, \\'condition\\': {\\'text\\': \\'Overcast\\', \\'icon\\': \\'//cdn.weatherapi.com/weather/64x64/day/122.png\\', \\'code\\': 1009}, \\'wind_mph\\': 9.2, \\'wind_kph\\': 14.8, \\'wind_degree\\': 252, \\'wind_dir\\': \\'WSW\\', \\'pressure_mb\\': 1020.0, \\'pressure_in\\': 30.11, \\'precip_mm\\': 0.0, \\'precip_in\\': 0.0, \\'humidity\\': 100, \\'cloud\\': 100, \\'feelslike_c\\': 13.1, \\'feelslike_f\\': 55.6, \\'windchill_c\\': 13.7, \\'windchill_f\\': 56.7, \\'heatindex_c\\': 14.3, \\'heatindex_f\\': 57.8, \\'dewpoint_c\\': 13.3, \\'dewpoint_f\\': 55.9, \\'vis_km\\': 13.0, \\'vis_miles\\': 8.0, \\'uv\\': 4.3, \\'gust_mph\\': 11.1, \\'gust_kph\\': 17.9}}\"}, {\\'url\\': \\'https://www.easeweather.com/north-america/united-states/california/city-and-county-of-san-francisco/san-francisco/october\\', \\'content\\': \\'October 2024 Weather - San Francisco Weather in San Francisco for October 2024 Your guide to San Francisco weather in October - trends and predictions The forecast for the next days in San Francisco predicts temperatures to be around 19\\\\xa0°F, close to the historical average. In general, the average temperature in San Francisco at the beginning of October is 21.6\\\\xa0°F. San Francisco in October average weather Temperatures trend during October in San Francisco We recommend that you check the San Francisco forecast closer to your planned date for the most up-to-date weather information. San Francisco in October - FAQ Get accurate weather forecasts for San Francisco, located at latitude 37.775 and longitude -122.419.\\'}]', name='tavily_search_results_json', tool_call_id='call_mGrZ1EtJ02FN4y86aumPjWHi')]\n",
      "[AIMessage(content='The current weather in San Francisco is overcast with a temperature of 14.2°C (57.6°F). The wind is coming from the west-southwest at 9.2 mph (14.8 kph), and the humidity is at 100%. The visibility is about 13 kilometers (8 miles).', additional_kwargs={'refusal': None}, response_metadata={'token_usage': {'completion_tokens': 67, 'prompt_tokens': 775, 'total_tokens': 842, 'completion_tokens_details': {'audio_tokens': None, 'reasoning_tokens': 0}, 'prompt_tokens_details': {'audio_tokens': None, 'cached_tokens': 0}}, 'model_name': 'gpt-4o-2024-08-06', 'system_fingerprint': 'fp_6b68a8204b', 'finish_reason': 'stop', 'logprobs': None}, id='run-6fb1f0c7-26d0-4baa-92b9-2cff9c975199-0', usage_metadata={'input_tokens': 775, 'output_tokens': 67, 'total_tokens': 842, 'input_token_details': {'cache_read': 0}, 'output_token_details': {'reasoning': 0}})]\n"
     ]
    }
   ],
   "source": [
    "# move abot in the context manager:\n",
    "# https://community.deeplearning.ai/t/lesson-4-persistence-and-streaming-attributeerror-generatorcontextmanager-object-has-no-attribute-get-next-version/697391/2\n",
    "with SqliteSaver.from_conn_string(\":memory:\") as memory:\n",
    "  abot = Agent(model, [tool], system=prompt, checkpointer=memory)\n",
    "\n",
    "  messages = [HumanMessage(content=\"What is the weather in sf?\")]\n",
    "  thread = {\"configurable\": {\"thread_id\": \"1\"}}\n",
    "\n",
    "  for event in abot.graph.stream({\"messages\": messages}, thread):\n",
    "      for v in event.values():\n",
    "          print(v['messages'])"
   ]
  },
  {
   "cell_type": "code",
   "execution_count": 41,
   "id": "98f303b1-a4d0-408c-8cc0-515ff980717f",
   "metadata": {
    "colab": {
     "base_uri": "https://localhost:8080/"
    },
    "height": 30,
    "id": "98f303b1-a4d0-408c-8cc0-515ff980717f",
    "outputId": "9d832540-4f3e-4dca-fd97-4b4506555425"
   },
   "outputs": [
    {
     "name": "stdout",
     "output_type": "stream",
     "text": [
      "[AIMessage(content='', additional_kwargs={'tool_calls': [{'id': 'call_LWMgmOT5poPaMjPWGXiez61D', 'function': {'arguments': '{\"query\":\"current weather in San Francisco\"}', 'name': 'tavily_search_results_json'}, 'type': 'function'}], 'refusal': None}, response_metadata={'token_usage': {'completion_tokens': 22, 'prompt_tokens': 151, 'total_tokens': 173, 'completion_tokens_details': {'audio_tokens': None, 'reasoning_tokens': 0}, 'prompt_tokens_details': {'audio_tokens': None, 'cached_tokens': 0}}, 'model_name': 'gpt-4o-2024-08-06', 'system_fingerprint': 'fp_6b68a8204b', 'finish_reason': 'tool_calls', 'logprobs': None}, id='run-456a9fcb-f7d3-4a8d-91b4-0deead94bd31-0', tool_calls=[{'name': 'tavily_search_results_json', 'args': {'query': 'current weather in San Francisco'}, 'id': 'call_LWMgmOT5poPaMjPWGXiez61D', 'type': 'tool_call'}], usage_metadata={'input_tokens': 151, 'output_tokens': 22, 'total_tokens': 173, 'input_token_details': {'cache_read': 0}, 'output_token_details': {'reasoning': 0}})]\n",
      "Calling: {'name': 'tavily_search_results_json', 'args': {'query': 'current weather in San Francisco'}, 'id': 'call_LWMgmOT5poPaMjPWGXiez61D', 'type': 'tool_call'}\n",
      "Back to the model!\n",
      "[ToolMessage(content='[{\\'url\\': \\'https://www.weatherapi.com/\\', \\'content\\': \"{\\'location\\': {\\'name\\': \\'San Francisco\\', \\'region\\': \\'California\\', \\'country\\': \\'United States of America\\', \\'lat\\': 37.775, \\'lon\\': -122.4183, \\'tz_id\\': \\'America/Los_Angeles\\', \\'localtime_epoch\\': 1728943066, \\'localtime\\': \\'2024-10-14 14:57\\'}, \\'current\\': {\\'last_updated_epoch\\': 1728942300, \\'last_updated\\': \\'2024-10-14 14:45\\', \\'temp_c\\': 14.2, \\'temp_f\\': 57.6, \\'is_day\\': 1, \\'condition\\': {\\'text\\': \\'Overcast\\', \\'icon\\': \\'//cdn.weatherapi.com/weather/64x64/day/122.png\\', \\'code\\': 1009}, \\'wind_mph\\': 9.2, \\'wind_kph\\': 14.8, \\'wind_degree\\': 252, \\'wind_dir\\': \\'WSW\\', \\'pressure_mb\\': 1020.0, \\'pressure_in\\': 30.11, \\'precip_mm\\': 0.0, \\'precip_in\\': 0.0, \\'humidity\\': 100, \\'cloud\\': 100, \\'feelslike_c\\': 13.1, \\'feelslike_f\\': 55.6, \\'windchill_c\\': 13.7, \\'windchill_f\\': 56.7, \\'heatindex_c\\': 14.3, \\'heatindex_f\\': 57.8, \\'dewpoint_c\\': 13.3, \\'dewpoint_f\\': 55.9, \\'vis_km\\': 13.0, \\'vis_miles\\': 8.0, \\'uv\\': 4.3, \\'gust_mph\\': 11.1, \\'gust_kph\\': 17.9}}\"}, {\\'url\\': \\'https://forecast.weather.gov/zipcity.php?inputstring=San+Francisco,CA\\', \\'content\\': \\'Current conditions at SAN FRANCISCO DOWNTOWN (SFOC1) Lat: 37.77056°NLon: 122.42694°WElev: 150.0ft. NA. 57°F. 14°C. ... 1am PDT Oct 14, 2024-6pm PDT Oct 20, 2024 . Forecast Discussion . Additional Resources. ... National Weather Service; San Francisco Bay Area, CA; 21 Grace Hopper Ave, Stop 5; Monterey, CA 93943-5505; Comments? Questions?\\'}]', name='tavily_search_results_json', tool_call_id='call_LWMgmOT5poPaMjPWGXiez61D')]\n",
      "[AIMessage(content='The current weather in San Francisco is overcast with a temperature of 14.2°C (57.6°F). There is a west-southwest wind at 9.2 mph (14.8 kph), and the humidity is at 100%. The visibility is around 13 km (8 miles).', additional_kwargs={'refusal': None}, response_metadata={'token_usage': {'completion_tokens': 65, 'prompt_tokens': 738, 'total_tokens': 803, 'completion_tokens_details': {'audio_tokens': None, 'reasoning_tokens': 0}, 'prompt_tokens_details': {'audio_tokens': None, 'cached_tokens': 0}}, 'model_name': 'gpt-4o-2024-08-06', 'system_fingerprint': 'fp_6b68a8204b', 'finish_reason': 'stop', 'logprobs': None}, id='run-4860c6a4-c763-4074-a264-2d0e8e0f7e17-0', usage_metadata={'input_tokens': 738, 'output_tokens': 65, 'total_tokens': 803, 'input_token_details': {'cache_read': 0}, 'output_token_details': {'reasoning': 0}})]\n"
     ]
    }
   ],
   "source": [
    "with SqliteSaver.from_conn_string(\":memory:\") as memory:\n",
    "  abot = Agent(model, [tool], system=prompt, checkpointer=memory)\n",
    "  messages = [HumanMessage(content=\"What is the weather in sf?\")]\n",
    "  thread = {\"configurable\": {\"thread_id\": \"2\"}}\n",
    "  for event in abot.graph.stream({\"messages\": messages}, thread):\n",
    "      for v in event.values():\n",
    "          print(v['messages'])"
   ]
  },
  {
   "cell_type": "markdown",
   "id": "oo0bx79eGh2t",
   "metadata": {
    "id": "oo0bx79eGh2t"
   },
   "source": [
    "So not much differences between different threads. The thread_id itself is not intended to change the type of result or the content. It’s there to keep conversations isolated when needed. The results will remain the same as long as the input queries are similar, regardless of the thread_id."
   ]
  },
  {
   "cell_type": "markdown",
   "id": "VfaaVcuGCRZD",
   "metadata": {
    "id": "VfaaVcuGCRZD"
   },
   "source": [
    "Initializes an AI agent with a memory-saving feature using SQLite.\n",
    "The agent receives a user message asking for the weather in San Francisco.\n",
    "The agent processes this request in a thread, and then streams back events that contain responses. Finally, the responses are printed out."
   ]
  },
  {
   "cell_type": "code",
   "execution_count": null,
   "id": "NKhxvvIlCehs",
   "metadata": {
    "id": "NKhxvvIlCehs"
   },
   "outputs": [],
   "source": []
  }
 ],
 "metadata": {
  "colab": {
   "provenance": []
  },
  "kernelspec": {
   "display_name": "Python 3 (ipykernel)",
   "language": "python",
   "name": "python3"
  },
  "language_info": {
   "codemirror_mode": {
    "name": "ipython",
    "version": 3
   },
   "file_extension": ".py",
   "mimetype": "text/x-python",
   "name": "python",
   "nbconvert_exporter": "python",
   "pygments_lexer": "ipython3",
   "version": "3.11.0"
  }
 },
 "nbformat": 4,
 "nbformat_minor": 5
}
