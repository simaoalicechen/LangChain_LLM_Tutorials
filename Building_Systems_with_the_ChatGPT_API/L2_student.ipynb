{
 "cells": [
  {
   "cell_type": "markdown",
   "id": "f14c4442-3fc5-4070-9ef2-bb33d30e6b38",
   "metadata": {
    "id": "f14c4442-3fc5-4070-9ef2-bb33d30e6b38"
   },
   "source": [
    "# L2: Evaluate Inputs: Classification"
   ]
  },
  {
   "cell_type": "markdown",
   "id": "26fd0696-18e6-4029-8738-fecba92851db",
   "metadata": {
    "id": "26fd0696-18e6-4029-8738-fecba92851db"
   },
   "source": [
    "## Setup\n",
    "#### Load the API key and relevant Python libaries.\n",
    "In this course, we've provided some code that loads the OpenAI API key for you."
   ]
  },
  {
   "cell_type": "code",
   "execution_count": 7,
   "id": "zdRn_ufjkw9F",
   "metadata": {
    "id": "zdRn_ufjkw9F"
   },
   "outputs": [],
   "source": [
    "# !pip install openai\n",
    "# !pip install python-dotenv"
   ]
  },
  {
   "cell_type": "code",
   "execution_count": 68,
   "id": "87f647e2",
   "metadata": {
    "height": 115,
    "id": "87f647e2"
   },
   "outputs": [],
   "source": [
    "import os\n",
    "import openai\n",
    "from dotenv import load_dotenv, find_dotenv\n",
    "_ = load_dotenv(find_dotenv()) # read local .env file\n",
    "\n",
    "openai.api_key  = os.environ['OPENAI_API_KEY']\n",
    "openai_api_key = openai.api_key"
   ]
  },
  {
   "cell_type": "code",
   "execution_count": 9,
   "id": "101624a2",
   "metadata": {
    "height": 200,
    "id": "101624a2"
   },
   "outputs": [],
   "source": [
    "def get_completion_from_messages(messages,\n",
    "                                 model=\"gpt-3.5-turbo\",\n",
    "                                 temperature=0,\n",
    "                                 max_tokens=500):\n",
    "    response = openai.ChatCompletion.create(\n",
    "        model=model,\n",
    "        messages=messages,\n",
    "        temperature=temperature,\n",
    "        max_tokens=max_tokens,\n",
    "    )\n",
    "    return response.choices[0].message[\"content\"]"
   ]
  },
  {
   "cell_type": "code",
   "execution_count": null,
   "id": "i0Rji42EksCp",
   "metadata": {
    "id": "i0Rji42EksCp"
   },
   "outputs": [],
   "source": []
  },
  {
   "cell_type": "markdown",
   "id": "d3db09d1-6253-4c9e-9ad1-5a6134df3e6c",
   "metadata": {
    "id": "d3db09d1-6253-4c9e-9ad1-5a6134df3e6c"
   },
   "source": [
    "#### Classify customer queries to handle different cases"
   ]
  },
  {
   "cell_type": "code",
   "execution_count": 11,
   "id": "8db30f42",
   "metadata": {
    "height": 812,
    "id": "8db30f42"
   },
   "outputs": [],
   "source": [
    "delimiter = \"####\"\n",
    "system_message = f\"\"\"\n",
    "You will be provided with customer service queries. \\\n",
    "The customer service query will be delimited with \\\n",
    "{delimiter} characters.\n",
    "Classify each query into a primary category \\\n",
    "and a secondary category.\n",
    "Provide your output in json format with the \\\n",
    "keys: primary and secondary.\n",
    "\n",
    "Primary categories: Billing, Technical Support, \\\n",
    "Account Management, or General Inquiry.\n",
    "\n",
    "Billing secondary categories:\n",
    "Unsubscribe or upgrade\n",
    "Add a payment method\n",
    "Explanation for charge\n",
    "Dispute a charge\n",
    "\n",
    "Technical Support secondary categories:\n",
    "General troubleshooting\n",
    "Device compatibility\n",
    "Software updates\n",
    "\n",
    "Account Management secondary categories:\n",
    "Password reset\n",
    "Update personal information\n",
    "Close account\n",
    "Account security\n",
    "\n",
    "General Inquiry secondary categories:\n",
    "Product information\n",
    "Pricing\n",
    "Feedback\n",
    "Speak to a human\n",
    "\n",
    "\"\"\"\n",
    "user_message = f\"\"\"\\\n",
    "I want you to delete my profile and all of my user data\"\"\"\n",
    "messages =  [\n",
    "{'role':'system',\n",
    " 'content': system_message},\n",
    "{'role':'user',\n",
    " 'content': f\"{delimiter}{user_message}{delimiter}\"},\n",
    "]"
   ]
  },
  {
   "cell_type": "code",
   "execution_count": 47,
   "id": "QAFg5d6P-a4S",
   "metadata": {
    "colab": {
     "base_uri": "https://localhost:8080/",
     "height": 143
    },
    "id": "QAFg5d6P-a4S",
    "outputId": "f33fb1b6-e84e-4a3b-bc64-27a516977e1b"
   },
   "outputs": [
    {
     "data": {
      "application/vnd.google.colaboratory.intrinsic+json": {
       "type": "string"
      },
      "text/plain": [
       "'\\nYou will be provided with customer service queries. The customer service query will be delimited with #### characters.\\nClassify each query into a primary category and a secondary category. \\nProvide your output in json format with the keys: primary and secondary.\\n\\nPrimary categories: Billing, Technical Support, Account Management, or General Inquiry.\\n\\nBilling secondary categories:\\nUnsubscribe or upgrade\\nAdd a payment method\\nExplanation for charge\\nDispute a charge\\n\\nTechnical Support secondary categories:\\nGeneral troubleshooting\\nDevice compatibility\\nSoftware updates\\n\\nAccount Management secondary categories:\\nPassword reset\\nUpdate personal information\\nClose account\\nAccount security\\n\\nGeneral Inquiry secondary categories:\\nProduct information\\nPricing\\nFeedback\\nSpeak to a human\\n\\n'"
      ]
     },
     "execution_count": 47,
     "metadata": {},
     "output_type": "execute_result"
    }
   ],
   "source": [
    "system_message"
   ]
  },
  {
   "cell_type": "code",
   "execution_count": 14,
   "id": "vVv18bC7lQta",
   "metadata": {
    "id": "vVv18bC7lQta"
   },
   "outputs": [],
   "source": [
    "# !pip install --upgrade openai"
   ]
  },
  {
   "cell_type": "code",
   "execution_count": 49,
   "id": "VzjYNO0F0GV-",
   "metadata": {
    "id": "VzjYNO0F0GV-"
   },
   "outputs": [],
   "source": [
    "from openai import OpenAI\n",
    "client = OpenAI(api_key= openai_api_key)\n",
    "\n",
    "response = client.completions.create(\n",
    "  model=\"gpt-3.5-turbo-instruct\",\n",
    "  prompt = messages,\n",
    "  # messages=messages,\n",
    "  temperature=0\n",
    ")"
   ]
  },
  {
   "cell_type": "code",
   "execution_count": 53,
   "id": "ekC6MrRR3YL0",
   "metadata": {
    "colab": {
     "base_uri": "https://localhost:8080/"
    },
    "id": "ekC6MrRR3YL0",
    "outputId": "e748673c-ab2d-4940-c77a-13ed8b23c891"
   },
   "outputs": [
    {
     "data": {
      "text/plain": [
       "Completion(id='cmpl-A22WkOWqIghodqqu4YzvWEr3k41wX', choices=[CompletionChoice(finish_reason='length', index=0, logprobs=None, text=' = $rolecontent;\\n    }\\n\\n    public function getRolecontent()\\n    {\\n'), CompletionChoice(finish_reason='length', index=1, logprobs=None, text=' = $rolecontent;\\n    }\\n\\n    public function getRolecontent()\\n    {\\n')], created=1725049734, model='gpt-3.5-turbo-instruct', object='text_completion', system_fingerprint=None, usage=CompletionUsage(completion_tokens=32, prompt_tokens=4, total_tokens=36))"
      ]
     },
     "execution_count": 53,
     "metadata": {},
     "output_type": "execute_result"
    }
   ],
   "source": [
    "response"
   ]
  },
  {
   "cell_type": "code",
   "execution_count": 56,
   "id": "xaG__ijP3Y_d",
   "metadata": {
    "colab": {
     "base_uri": "https://localhost:8080/",
     "height": 35
    },
    "id": "xaG__ijP3Y_d",
    "outputId": "81d62e56-2dba-4a5d-c615-1c42eba8f553"
   },
   "outputs": [
    {
     "data": {
      "application/vnd.google.colaboratory.intrinsic+json": {
       "type": "string"
      },
      "text/plain": [
       "'length'"
      ]
     },
     "execution_count": 56,
     "metadata": {},
     "output_type": "execute_result"
    }
   ],
   "source": [
    "response.choices[0].finish_reason"
   ]
  },
  {
   "cell_type": "code",
   "execution_count": 58,
   "id": "P5OxNN2z3Zpw",
   "metadata": {
    "colab": {
     "base_uri": "https://localhost:8080/",
     "height": 35
    },
    "id": "P5OxNN2z3Zpw",
    "outputId": "c7b194b6-e46d-42e9-8b9f-76993fae1036"
   },
   "outputs": [
    {
     "data": {
      "application/vnd.google.colaboratory.intrinsic+json": {
       "type": "string"
      },
      "text/plain": [
       "' = $rolecontent;\\n    }\\n\\n    public function getRolecontent()\\n    {\\n'"
      ]
     },
     "execution_count": 58,
     "metadata": {},
     "output_type": "execute_result"
    }
   ],
   "source": [
    "response.choices[0].text"
   ]
  },
  {
   "cell_type": "code",
   "execution_count": 63,
   "id": "x7J9C3s_3bk5",
   "metadata": {
    "id": "x7J9C3s_3bk5"
   },
   "outputs": [],
   "source": [
    "response.choices[0].logprobs"
   ]
  },
  {
   "cell_type": "code",
   "execution_count": 64,
   "id": "fqCdyoZg3VhC",
   "metadata": {
    "colab": {
     "base_uri": "https://localhost:8080/"
    },
    "id": "fqCdyoZg3VhC",
    "outputId": "805f73c3-cb28-4475-9b43-739cc6b1696a"
   },
   "outputs": [
    {
     "data": {
      "text/plain": [
       "CompletionChoice(finish_reason='length', index=0, logprobs=None, text=' = $rolecontent;\\n    }\\n\\n    public function getRolecontent()\\n    {\\n')"
      ]
     },
     "execution_count": 64,
     "metadata": {},
     "output_type": "execute_result"
    }
   ],
   "source": [
    "response.choices[0]"
   ]
  },
  {
   "cell_type": "code",
   "execution_count": null,
   "id": "5cfd2fae",
   "metadata": {
    "height": 30,
    "id": "5cfd2fae"
   },
   "outputs": [],
   "source": []
  }
 ],
 "metadata": {
  "colab": {
   "provenance": []
  },
  "kernelspec": {
   "display_name": "Python 3 (ipykernel)",
   "language": "python",
   "name": "python3"
  },
  "language_info": {
   "codemirror_mode": {
    "name": "ipython",
    "version": 3
   },
   "file_extension": ".py",
   "mimetype": "text/x-python",
   "name": "python",
   "nbconvert_exporter": "python",
   "pygments_lexer": "ipython3",
   "version": "3.11.0"
  }
 },
 "nbformat": 4,
 "nbformat_minor": 5
}
