{
 "cells": [
  {
   "cell_type": "code",
   "execution_count": null,
   "metadata": {
    "id": "yEtKAC--UQHc"
   },
   "outputs": [],
   "source": []
  },
  {
   "cell_type": "markdown",
   "metadata": {
    "id": "tvBjkXqoUYiS"
   },
   "source": [
    "# Document Splitting"
   ]
  },
  {
   "cell_type": "markdown",
   "metadata": {
    "id": "CKOq4ChfUcaQ"
   },
   "source": [
    "# Splitting Documents into smaller chunks\n",
    "## Retaining meaningful relationships!\n",
    "\n",
    "\n",
    "### Document Loading\n",
    "### Splitting\n",
    "### Storage"
   ]
  },
  {
   "cell_type": "markdown",
   "metadata": {
    "id": "N2oiP16WYTFe"
   },
   "source": [
    "# LangChain.text_splitter\n",
    "\n",
    "1. CharacterTextSplitter() - Implementation of splitting text that looks at characters;\n",
    "2. MarkdownHeaderTextSplitter() - Implementation of splitting markdown files based on specified headers;\n",
    "3. TokenTextSplitter() - Implementation of splitting text that looks at tokens;\n",
    "4. SentenceTransformers Token TextSplitt() -- Implementation of splitting text that looks at tokens;\n",
    "5. RecrusiveCharacterTextSplitter() -- Implementation of splitting text that llooks at characters. recursively tries to split by different characters to find one that works.\n",
    "6. Language() -- for CPP, Python, Ruby, Markdown etc.\n",
    "7. NLTKTextSplitter() --Implementation of splitting text that looks at sentences using NLTK (Natural Language Tool kit)\n",
    "8. SpacyTextSplitter() -- Implementation of splitting text that looks at sentences using Spacy."
   ]
  },
  {
   "cell_type": "code",
   "execution_count": null,
   "metadata": {
    "id": "Ii3L8o5nYSnr"
   },
   "outputs": [],
   "source": []
  },
  {
   "cell_type": "markdown",
   "metadata": {
    "id": "-_iJkheLUo1v"
   },
   "source": [
    "On this model. The toyota Camry has a head-snapping 80 HP and an eight-seed automatic transmission that will\n",
    "\n",
    "1. Chunk 1: on this model. The toyota Camry has a head-snapping\n",
    "2. Chunk 2: 80 HP and an eight-speed automatic transmission that will\n",
    "\n",
    "## Document Splitting"
   ]
  },
  {
   "cell_type": "code",
   "execution_count": 2,
   "metadata": {
    "id": "rYoVwlbvVpjS"
   },
   "outputs": [],
   "source": [
    "# !pip install openai\n",
    "# !pip install python-dotenv\n",
    "# !pip install langchain\n",
    "# !pip install langchain_community\n",
    "# !pip install pypdf\n",
    "# !pip install tiktoken"
   ]
  },
  {
   "cell_type": "code",
   "execution_count": 4,
   "metadata": {
    "id": "yes6OtvBUnqP"
   },
   "outputs": [],
   "source": [
    "import os\n",
    "import openai\n",
    "import sys\n",
    "sys.path.append('../..')\n",
    "\n",
    "from dotenv import load_dotenv, find_dotenv\n",
    "_ = load_dotenv(find_dotenv())\n",
    "\n",
    "# read local .env file\n",
    "\n",
    "openai.api_key  = os.environ['OPENAI_API_KEY']"
   ]
  },
  {
   "cell_type": "code",
   "execution_count": 5,
   "metadata": {
    "id": "2x5rM92OUZnm"
   },
   "outputs": [],
   "source": [
    "from langchain.text_splitter import RecursiveCharacterTextSplitter, CharacterTextSplitter"
   ]
  },
  {
   "cell_type": "code",
   "execution_count": 6,
   "metadata": {
    "id": "5uo422mIZMXI"
   },
   "outputs": [],
   "source": [
    "chunk_size =26\n",
    "chunk_overlap = 4"
   ]
  },
  {
   "cell_type": "code",
   "execution_count": 7,
   "metadata": {
    "id": "2lhk_MDiZNxP"
   },
   "outputs": [],
   "source": [
    "r_splitter = RecursiveCharacterTextSplitter(\n",
    "    chunk_size=chunk_size,\n",
    "    chunk_overlap=chunk_overlap\n",
    ")\n",
    "c_splitter = CharacterTextSplitter(\n",
    "    chunk_size=chunk_size,\n",
    "    chunk_overlap=chunk_overlap\n",
    ")"
   ]
  },
  {
   "cell_type": "markdown",
   "metadata": {
    "id": "owI6_VbDZRTY"
   },
   "source": [
    "# Why doesn't this split the string below?"
   ]
  },
  {
   "cell_type": "code",
   "execution_count": 8,
   "metadata": {
    "id": "wlFFZnSNZPi9"
   },
   "outputs": [],
   "source": [
    "text1 = 'abcdefghijklmnopqrstuvwxyz'"
   ]
  },
  {
   "cell_type": "code",
   "execution_count": 9,
   "metadata": {
    "colab": {
     "base_uri": "https://localhost:8080/"
    },
    "id": "daDQW1_mZT_d",
    "outputId": "c1c9527b-09e0-4995-cc68-5464c38039d4"
   },
   "outputs": [
    {
     "data": {
      "text/plain": [
       "['abcdefghijklmnopqrstuvwxyz']"
      ]
     },
     "execution_count": 9,
     "metadata": {},
     "output_type": "execute_result"
    }
   ],
   "source": [
    "r_splitter.split_text(text1)"
   ]
  },
  {
   "cell_type": "code",
   "execution_count": 10,
   "metadata": {
    "id": "aNAzeFu4ZVTM"
   },
   "outputs": [],
   "source": [
    "text2 = 'abcdefghijklmnopqrstuvwxyzabcdefg'"
   ]
  },
  {
   "cell_type": "code",
   "execution_count": 11,
   "metadata": {
    "colab": {
     "base_uri": "https://localhost:8080/"
    },
    "id": "BcPCeZ-MZWlb",
    "outputId": "3bba75a8-eb45-43d8-ccfc-038e73b6e7af"
   },
   "outputs": [
    {
     "data": {
      "text/plain": [
       "['abcdefghijklmnopqrstuvwxyz', 'wxyzabcdefg']"
      ]
     },
     "execution_count": 11,
     "metadata": {},
     "output_type": "execute_result"
    }
   ],
   "source": [
    "r_splitter.split_text(text2)"
   ]
  },
  {
   "cell_type": "code",
   "execution_count": 12,
   "metadata": {
    "id": "RluAA4IbZX5R"
   },
   "outputs": [],
   "source": [
    "text3 = \"a b c d e f g h i j k l m n o p q r s t u v w x y z\""
   ]
  },
  {
   "cell_type": "code",
   "execution_count": 13,
   "metadata": {
    "colab": {
     "base_uri": "https://localhost:8080/"
    },
    "id": "iRlqxkpIZZU7",
    "outputId": "5ff6736f-71fb-461a-b549-47e0d8f9d560"
   },
   "outputs": [
    {
     "data": {
      "text/plain": [
       "['a b c d e f g h i j k l m', 'l m n o p q r s t u v w x', 'w x y z']"
      ]
     },
     "execution_count": 13,
     "metadata": {},
     "output_type": "execute_result"
    }
   ],
   "source": [
    "r_splitter.split_text(text3)"
   ]
  },
  {
   "cell_type": "code",
   "execution_count": 14,
   "metadata": {
    "colab": {
     "base_uri": "https://localhost:8080/"
    },
    "id": "ZujV6rCvZaxm",
    "outputId": "a0eb8ade-4b0a-4d34-c565-eff724218adf"
   },
   "outputs": [
    {
     "data": {
      "text/plain": [
       "['a b c d e f g h i j k l m n o p q r s t u v w x y z']"
      ]
     },
     "execution_count": 14,
     "metadata": {},
     "output_type": "execute_result"
    }
   ],
   "source": [
    "c_splitter.split_text(text3)"
   ]
  },
  {
   "cell_type": "code",
   "execution_count": 15,
   "metadata": {
    "colab": {
     "base_uri": "https://localhost:8080/"
    },
    "id": "qGw7Fnp1Zb9T",
    "outputId": "24119309-cd33-4fa9-ca34-cd79bc1b7217"
   },
   "outputs": [
    {
     "data": {
      "text/plain": [
       "['a b c d e f g h i j k l m', 'l m n o p q r s t u v w x', 'w x y z']"
      ]
     },
     "execution_count": 15,
     "metadata": {},
     "output_type": "execute_result"
    }
   ],
   "source": [
    "c_splitter = CharacterTextSplitter(\n",
    "    chunk_size=chunk_size,\n",
    "    chunk_overlap=chunk_overlap,\n",
    "    separator = ' '\n",
    ")\n",
    "c_splitter.split_text(text3)"
   ]
  },
  {
   "cell_type": "markdown",
   "metadata": {
    "id": "QLhjmDGfZiWm"
   },
   "source": [
    "## Recursive splitting details\n",
    "\n",
    "`RecursiveCharacterTextSplitter` is recommended for generic text."
   ]
  },
  {
   "cell_type": "code",
   "execution_count": 16,
   "metadata": {
    "id": "SPKHzDy5Zkoo"
   },
   "outputs": [],
   "source": [
    "some_text = \"\"\"When writing documents, writers will use document structure to group content. \\\n",
    "This can convey to the reader, which idea's are related. For example, closely related ideas \\\n",
    "are in sentances. Similar ideas are in paragraphs. Paragraphs form a document. \\n\\n  \\\n",
    "Paragraphs are often delimited with a carriage return or two carriage returns. \\\n",
    "Carriage returns are the \"backslash n\" you see embedded in this string. \\\n",
    "Sentences have a period at the end, but also, have a space.\\\n",
    "and words are separated by space.\"\"\""
   ]
  },
  {
   "cell_type": "code",
   "execution_count": 17,
   "metadata": {
    "colab": {
     "base_uri": "https://localhost:8080/"
    },
    "id": "pP5UNWO_Zis7",
    "outputId": "2b06b832-c698-4eba-d803-54da27b1373b"
   },
   "outputs": [
    {
     "data": {
      "text/plain": [
       "496"
      ]
     },
     "execution_count": 17,
     "metadata": {},
     "output_type": "execute_result"
    }
   ],
   "source": [
    "len(some_text)"
   ]
  },
  {
   "cell_type": "code",
   "execution_count": 18,
   "metadata": {
    "id": "bgvjVAu-ZmYm"
   },
   "outputs": [],
   "source": [
    "c_splitter = CharacterTextSplitter(\n",
    "    chunk_size=450,\n",
    "    chunk_overlap=0,\n",
    "    separator = ' '\n",
    ")\n",
    "r_splitter = RecursiveCharacterTextSplitter(\n",
    "    chunk_size=450,\n",
    "    chunk_overlap=0,\n",
    "    separators=[\"\\n\\n\", \"\\n\", \" \", \"\"]\n",
    ")"
   ]
  },
  {
   "cell_type": "code",
   "execution_count": 19,
   "metadata": {
    "colab": {
     "base_uri": "https://localhost:8080/"
    },
    "id": "4mz2IHTEZq1B",
    "outputId": "624e181a-504e-4b27-f2e3-5a228325d5e6"
   },
   "outputs": [
    {
     "data": {
      "text/plain": [
       "['When writing documents, writers will use document structure to group content. This can convey to the reader, which idea\\'s are related. For example, closely related ideas are in sentances. Similar ideas are in paragraphs. Paragraphs form a document. \\n\\n Paragraphs are often delimited with a carriage return or two carriage returns. Carriage returns are the \"backslash n\" you see embedded in this string. Sentences have a period at the end, but also,',\n",
       " 'have a space.and words are separated by space.']"
      ]
     },
     "execution_count": 19,
     "metadata": {},
     "output_type": "execute_result"
    }
   ],
   "source": [
    "c_splitter.split_text(some_text)"
   ]
  },
  {
   "cell_type": "code",
   "execution_count": 20,
   "metadata": {
    "colab": {
     "base_uri": "https://localhost:8080/"
    },
    "id": "e6APuIU6ZrHN",
    "outputId": "758618a0-bd02-4380-d819-d5004152799f"
   },
   "outputs": [
    {
     "data": {
      "text/plain": [
       "[\"When writing documents, writers will use document structure to group content. This can convey to the reader, which idea's are related. For example, closely related ideas are in sentances. Similar ideas are in paragraphs. Paragraphs form a document.\",\n",
       " 'Paragraphs are often delimited with a carriage return or two carriage returns. Carriage returns are the \"backslash n\" you see embedded in this string. Sentences have a period at the end, but also, have a space.and words are separated by space.']"
      ]
     },
     "execution_count": 20,
     "metadata": {},
     "output_type": "execute_result"
    }
   ],
   "source": [
    "r_splitter.split_text(some_text)"
   ]
  },
  {
   "cell_type": "markdown",
   "metadata": {
    "id": "2Hp8VxZeZwh9"
   },
   "source": [
    "## Let's reduce the chunk size a bit and add a period to our separators:"
   ]
  },
  {
   "cell_type": "code",
   "execution_count": 21,
   "metadata": {
    "colab": {
     "base_uri": "https://localhost:8080/"
    },
    "id": "2WYnC4hAZspQ",
    "outputId": "88e05406-51c8-459a-9912-fc7e291c6af7"
   },
   "outputs": [
    {
     "data": {
      "text/plain": [
       "[\"When writing documents, writers will use document structure to group content. This can convey to the reader, which idea's are related. For example,\",\n",
       " 'closely related ideas are in sentances. Similar ideas are in paragraphs. Paragraphs form a document.',\n",
       " 'Paragraphs are often delimited with a carriage return or two carriage returns. Carriage returns are the \"backslash n\" you see embedded in this',\n",
       " 'string. Sentences have a period at the end, but also, have a space.and words are separated by space.']"
      ]
     },
     "execution_count": 21,
     "metadata": {},
     "output_type": "execute_result"
    }
   ],
   "source": [
    "r_splitter = RecursiveCharacterTextSplitter(\n",
    "    chunk_size=150,\n",
    "    chunk_overlap=0,\n",
    "    separators=[\"\\n\\n\", \"\\n\", \"\\. \", \" \", \"\"]\n",
    ")\n",
    "r_splitter.split_text(some_text)"
   ]
  },
  {
   "cell_type": "code",
   "execution_count": 22,
   "metadata": {
    "colab": {
     "base_uri": "https://localhost:8080/"
    },
    "id": "7mJ0aOOEZzdS",
    "outputId": "d302d899-0556-4279-87cc-0f80c5c00bde"
   },
   "outputs": [
    {
     "data": {
      "text/plain": [
       "[\"When writing documents, writers will use document structure to group content. This can convey to the reader, which idea's are related. For example,\",\n",
       " 'closely related ideas are in sentances. Similar ideas are in paragraphs. Paragraphs form a document.',\n",
       " 'Paragraphs are often delimited with a carriage return or two carriage returns. Carriage returns are the \"backslash n\" you see embedded in this',\n",
       " 'string. Sentences have a period at the end, but also, have a space.and words are separated by space.']"
      ]
     },
     "execution_count": 22,
     "metadata": {},
     "output_type": "execute_result"
    }
   ],
   "source": [
    "r_splitter = RecursiveCharacterTextSplitter(\n",
    "    chunk_size=150,\n",
    "    chunk_overlap=0,\n",
    "    # different separators\n",
    "    separators=[\"\\n\\n\", \"\\n\", \"(?<=\\. )\", \" \", \"\"]\n",
    ")\n",
    "r_splitter.split_text(some_text)"
   ]
  },
  {
   "cell_type": "code",
   "execution_count": 25,
   "metadata": {
    "id": "IMtNY3vZZ2Mq"
   },
   "outputs": [],
   "source": [
    "from langchain.document_loaders import PyPDFLoader\n",
    "loader = PyPDFLoader(\"sample_data/Pret.pdf\")\n",
    "pages = loader.load()"
   ]
  },
  {
   "cell_type": "code",
   "execution_count": 26,
   "metadata": {
    "id": "8LIMQrcRZ7A0"
   },
   "outputs": [],
   "source": [
    "from langchain.text_splitter import CharacterTextSplitter\n",
    "text_splitter = CharacterTextSplitter(\n",
    "    separator=\"\\n\",\n",
    "    chunk_size=1000,\n",
    "    chunk_overlap=150,\n",
    "    length_function=len\n",
    ")"
   ]
  },
  {
   "cell_type": "code",
   "execution_count": 27,
   "metadata": {
    "id": "DI7VsLApaPJ5"
   },
   "outputs": [],
   "source": [
    "docs = text_splitter.split_documents(pages)"
   ]
  },
  {
   "cell_type": "code",
   "execution_count": 28,
   "metadata": {
    "colab": {
     "base_uri": "https://localhost:8080/"
    },
    "id": "ImkCScgUaQdU",
    "outputId": "aed4feff-b778-44cc-9d58-dff9d5eb380c"
   },
   "outputs": [
    {
     "data": {
      "text/plain": [
       "14"
      ]
     },
     "execution_count": 28,
     "metadata": {},
     "output_type": "execute_result"
    }
   ],
   "source": [
    "len(docs)"
   ]
  },
  {
   "cell_type": "code",
   "execution_count": 29,
   "metadata": {
    "colab": {
     "base_uri": "https://localhost:8080/"
    },
    "id": "5q5jxeleaRb4",
    "outputId": "1fad032e-3be1-43c8-9853-5f47a4dc1558"
   },
   "outputs": [
    {
     "data": {
      "text/plain": [
       "Document(metadata={'source': 'sample_data/Pret.pdf', 'page': 0}, page_content='The\\nHistory\\nof\\nPret\\nA\\nManger:\\nFrom\\na\\nSingle\\nShop\\nto\\na\\nGlobal\\nPhenomenon\\nIntroduction\\nPret\\nA\\nManger,\\noften\\nsimply\\nknown\\nas\\nPret,\\nis\\na\\nglobally\\nrecognized\\ncoffee\\nshop\\nand\\nsandwich\\nchain\\nwith\\na\\nunique\\napproach\\nto\\nfood\\nand\\nservice.\\nWith\\nits\\nroots\\nin\\nthe\\nbustling\\nstreets\\nof\\nLondon,\\nPret\\nhas\\ngrown\\nto\\nbecome\\na\\nfavorite\\namong\\nthose\\nseeking\\nfresh,\\nhealthy,\\nand\\nconvenient\\nmeals.\\nThis\\narticle\\ndelves\\ninto\\nthe\\nhistory\\nof\\nPret,\\ntracing\\nits\\njourney\\nfrom\\na\\nsingle\\nshop\\nto\\na\\nglobal\\nbrand.\\nThe\\nBeginning:\\nA\\nSimple\\nIdea\\nThe\\nstory\\nof\\nPret\\nA\\nManger\\nbegins\\nin\\n1983\\nwhen\\ntwo\\ncollege\\nfriends,\\nSinclair\\nBeecham\\nand\\nJulian\\nMetcalfe,\\nnoticed\\na\\ngap\\nin\\nthe\\nmarket\\nfor\\nfresh,\\nnatural\\nfood\\nthat\\ncould\\nbe\\nserved\\nquickly\\nto\\nbusy\\nLondoners.\\nInspired\\nby\\nthe\\nidea\\nof\\nproviding\\nan\\nalternative\\nto\\nthe\\nprocessed\\nand\\nunhealthy\\nfast\\nfood\\noptions\\nthat\\ndominated\\nthe\\nmarket,\\nthey\\ndecided\\nto\\ncreate\\na\\nplace\\nwhere\\npeople\\ncould\\nfind\\nfresh\\nsandwiches,\\nsalads,\\nand\\ncoffee\\nmade\\nfrom\\nhigh-quality\\ningredients.\\nThe\\nfirst\\nPret\\nA\\nManger\\nshop\\nopened')"
      ]
     },
     "execution_count": 29,
     "metadata": {},
     "output_type": "execute_result"
    }
   ],
   "source": [
    "docs[0]"
   ]
  },
  {
   "cell_type": "code",
   "execution_count": 30,
   "metadata": {
    "colab": {
     "base_uri": "https://localhost:8080/"
    },
    "id": "bwOm-8TgaSZe",
    "outputId": "5952d316-e8f9-4896-b046-fdeb97c5e8a6"
   },
   "outputs": [
    {
     "data": {
      "text/plain": [
       "{'source': 'sample_data/Pret.pdf', 'page': 0}"
      ]
     },
     "execution_count": 30,
     "metadata": {},
     "output_type": "execute_result"
    }
   ],
   "source": [
    "docs[0].metadata"
   ]
  },
  {
   "cell_type": "code",
   "execution_count": 31,
   "metadata": {
    "colab": {
     "base_uri": "https://localhost:8080/"
    },
    "id": "PK_4yr3laVNU",
    "outputId": "d4dad463-4ddc-4d94-a49a-d7dca7e61f08"
   },
   "outputs": [
    {
     "data": {
      "text/plain": [
       "6"
      ]
     },
     "execution_count": 31,
     "metadata": {},
     "output_type": "execute_result"
    }
   ],
   "source": [
    "len(pages)"
   ]
  },
  {
   "cell_type": "code",
   "execution_count": 32,
   "metadata": {
    "id": "BTXKrYZXFGee"
   },
   "outputs": [],
   "source": []
  },
  {
   "cell_type": "markdown",
   "metadata": {
    "id": "DSm_y6UvFHQQ"
   },
   "source": [
    "# Now, try MarkDown format"
   ]
  },
  {
   "cell_type": "code",
   "execution_count": 46,
   "metadata": {
    "id": "8bT6CfVCaW53"
   },
   "outputs": [],
   "source": [
    "from langchain.document_loaders import NotionDirectoryLoader\n",
    "loader = NotionDirectoryLoader(\"Habit_Tracker.md\")\n",
    "course_material_md = loader.load()"
   ]
  },
  {
   "cell_type": "code",
   "execution_count": 44,
   "metadata": {
    "id": "-n0tI8ADaZEW"
   },
   "outputs": [],
   "source": [
    "docs = text_splitter.split_documents(co\n",
    "                                     urse_material_md)"
   ]
  },
  {
   "cell_type": "code",
   "execution_count": 49,
   "metadata": {
    "id": "qN4Kq1XRacPs"
   },
   "outputs": [],
   "source": [
    "# len(course_material_md), len(docs)"
   ]
  },
  {
   "cell_type": "markdown",
   "metadata": {
    "id": "YpnmGg3sm3uE"
   },
   "source": [
    "## Token splitting\n",
    "\n",
    "We can also split on token count explicity, if we want.\n",
    "\n",
    "This can be useful because LLMs often have context windows designated in tokens.\n",
    "\n",
    "Tokens are often ~4 characters."
   ]
  },
  {
   "cell_type": "code",
   "execution_count": 61,
   "metadata": {
    "colab": {
     "base_uri": "https://localhost:8080/"
    },
    "id": "cp0S-GdWi-v5",
    "outputId": "7394b48c-40c2-47e3-a473-be20c14d06d7"
   },
   "outputs": [
    {
     "name": "stdout",
     "output_type": "stream",
     "text": [
      "The\n",
      "Histor\n",
      "The History of Pret A Manger: From a Single Shop to a Global Phenomenon Introduction Pret A Manger, \n"
     ]
    }
   ],
   "source": [
    "from langchain.document_loaders import PyPDFLoader\n",
    "loader = PyPDFLoader(\"sample_data/Pret.pdf\")\n",
    "pages = loader.load()\n",
    "page = pages[0]\n",
    "print(page.page_content[:10])\n",
    "def reprocess_text(text):\n",
    "    cleaned_text = ' '.join(text.split())\n",
    "    return cleaned_text\n",
    "\n",
    "reprocessed_page_content = reprocess_text(page.page_content)\n",
    "print(reprocessed_page_content[:100])"
   ]
  },
  {
   "cell_type": "code",
   "execution_count": 62,
   "metadata": {
    "colab": {
     "base_uri": "https://localhost:8080/"
    },
    "id": "15eD5mEijIYn",
    "outputId": "c9d198e3-bae5-43be-9dc0-5c71e32cece5"
   },
   "outputs": [
    {
     "name": "stdout",
     "output_type": "stream",
     "text": [
      "The History of Pret A Manger: From a Single Shop t\n"
     ]
    }
   ],
   "source": [
    "print(reprocessed_page_content[:50])"
   ]
  },
  {
   "cell_type": "code",
   "execution_count": 50,
   "metadata": {
    "id": "-8YCNPjbaeS5"
   },
   "outputs": [],
   "source": [
    "from langchain.text_splitter import TokenTextSplitter"
   ]
  },
  {
   "cell_type": "code",
   "execution_count": 51,
   "metadata": {
    "id": "BwwxnHzHm6tX"
   },
   "outputs": [],
   "source": [
    "text_splitter = TokenTextSplitter(chunk_size=1, chunk_overlap=0)"
   ]
  },
  {
   "cell_type": "code",
   "execution_count": 52,
   "metadata": {
    "id": "8Kd1URUVm7_v"
   },
   "outputs": [],
   "source": [
    "text1 = \"foo bar bazzyfoo\""
   ]
  },
  {
   "cell_type": "code",
   "execution_count": 53,
   "metadata": {
    "colab": {
     "base_uri": "https://localhost:8080/"
    },
    "id": "gBwX_Zs0nINh",
    "outputId": "b4eaaed7-242c-441c-a994-23aa5572885d"
   },
   "outputs": [
    {
     "data": {
      "text/plain": [
       "['foo', ' bar', ' b', 'az', 'zy', 'foo']"
      ]
     },
     "execution_count": 53,
     "metadata": {},
     "output_type": "execute_result"
    }
   ],
   "source": [
    "text_splitter.split_text(text1)"
   ]
  },
  {
   "cell_type": "code",
   "execution_count": 54,
   "metadata": {
    "id": "3NCGkxnmnJi-"
   },
   "outputs": [],
   "source": [
    "text_splitter = TokenTextSplitter(chunk_size=10, chunk_overlap=0)"
   ]
  },
  {
   "cell_type": "code",
   "execution_count": 70,
   "metadata": {
    "colab": {
     "base_uri": "https://localhost:8080/"
    },
    "id": "IJWXxlhpiwJj",
    "outputId": "679c6f3d-3221-4633-b707-83fa9c2dfe03"
   },
   "outputs": [
    {
     "data": {
      "text/plain": [
       "6"
      ]
     },
     "execution_count": 70,
     "metadata": {},
     "output_type": "execute_result"
    }
   ],
   "source": [
    "pages.__len__()"
   ]
  },
  {
   "cell_type": "code",
   "execution_count": 74,
   "metadata": {
    "colab": {
     "base_uri": "https://localhost:8080/",
     "height": 178
    },
    "id": "VDFciH65kOdc",
    "outputId": "614a0a72-fbb0-4834-d0d2-6901cd8cd320"
   },
   "outputs": [
    {
     "data": {
      "application/vnd.google.colaboratory.intrinsic+json": {
       "type": "string"
      },
      "text/plain": [
       "'The History of Pret A Manger: From a Single Shop to a Global Phenomenon Introduction Pret A Manger, often simply known as Pret, is a globally recognized coffee shop and sandwich chain with a unique approach to food and service. With its roots in the bustling streets of London, Pret has grown to become a favorite among those seeking fresh, healthy, and convenient meals. This article delves into the history of Pret, tracing its journey from a single shop to a global brand. The Beginning: A Simple Idea The story of Pret A Manger begins in 1983 when two college friends, Sinclair Beecham and Julian Metcalfe, noticed a gap in the market for fresh, natural food that could be served quickly to busy Londoners. Inspired by the idea of providing an alternative to the processed and unhealthy fast food options that dominated the market, they decided to create a place where people could find fresh sandwiches, salads, and coffee made from high-quality ingredients. The first Pret A Manger shop opened in Hampstead, London, in 1984. The name \"Pret A Manger,\" which translates to \"ready to eat\" in French, was chosen to reflect the founders\\' commitment to providing freshly prepared food that was ready to be enjoyed on the go. Growth and Expansion The initial success of Pret A Manger was driven by its innovative approach to food preparation. Unlike many other fast-food chains, Pret\\'s food was prepared daily on-site in each store\\'s kitchen, using natural ingredients with no artificial preservatives or additives. This focus on freshness and quality resonated with customers, and the brand quickly gained popularity. In the early 1990s, Pret began to expand across London, opening new stores in key locations. By 1996, the brand had attracted the attention of McDonald\\'s, which acquired a 33% stake in the company, providing the capital needed for further expansion. This partnership allowed Pret to extend its reach beyond the UK, with its first international store opening in New York City in 2000. International Presence The success of the New York store marked the beginning of Pret A Manger\\'s global expansion. Over the next two decades, Pret opened stores in major cities across the world, including Paris, Hong Kong, Dubai, and Sydney. The brand\\'s commitment to quality and freshness, combined with its focus on ethical sourcing and sustainability, helped it to build a loyal customer base in each new market.'"
      ]
     },
     "execution_count": 74,
     "metadata": {},
     "output_type": "execute_result"
    }
   ],
   "source": [
    "reprocessed_page_content"
   ]
  },
  {
   "cell_type": "code",
   "execution_count": 72,
   "metadata": {
    "id": "8U22mnbqnMu3"
   },
   "outputs": [],
   "source": [
    "docs = text_splitter.split_text(reprocessed_page_content)"
   ]
  },
  {
   "cell_type": "code",
   "execution_count": 76,
   "metadata": {
    "colab": {
     "base_uri": "https://localhost:8080/"
    },
    "id": "XqJNZ-i-nPK9",
    "outputId": "418eede2-f7df-4ea6-ca06-726b91574ece"
   },
   "outputs": [
    {
     "data": {
      "text/plain": [
       "['The History of Pret A Manger: From a',\n",
       " ' Single Shop to a Global Phenomenon Introduction Pret',\n",
       " ' A Manger, often simply known as Pret,',\n",
       " ' is a globally recognized coffee shop and sandwich chain with',\n",
       " ' a unique approach to food and service. With its']"
      ]
     },
     "execution_count": 76,
     "metadata": {},
     "output_type": "execute_result"
    }
   ],
   "source": [
    "docs[0:5]"
   ]
  },
  {
   "cell_type": "code",
   "execution_count": 77,
   "metadata": {
    "colab": {
     "base_uri": "https://localhost:8080/",
     "height": 35
    },
    "id": "Ef_b-KLkomjD",
    "outputId": "db7df3bd-ca7d-4f58-f9a4-24079258c950"
   },
   "outputs": [
    {
     "data": {
      "application/vnd.google.colaboratory.intrinsic+json": {
       "type": "string"
      },
      "text/plain": [
       "' Single Shop to a Global Phenomenon Introduction Pret'"
      ]
     },
     "execution_count": 77,
     "metadata": {},
     "output_type": "execute_result"
    }
   ],
   "source": [
    "docs[1]"
   ]
  },
  {
   "cell_type": "code",
   "execution_count": 79,
   "metadata": {
    "colab": {
     "base_uri": "https://localhost:8080/"
    },
    "id": "YJGnoSrboobQ",
    "outputId": "e8863606-782a-4daf-cf8f-809b06aaab78"
   },
   "outputs": [
    {
     "data": {
      "text/plain": [
       "str"
      ]
     },
     "execution_count": 79,
     "metadata": {},
     "output_type": "execute_result"
    }
   ],
   "source": [
    "type(docs[3])"
   ]
  },
  {
   "cell_type": "code",
   "execution_count": 94,
   "metadata": {
    "colab": {
     "base_uri": "https://localhost:8080/"
    },
    "id": "nfRvv-f0kY4k",
    "outputId": "dc41f385-e4ac-433d-f133-9ec984713643"
   },
   "outputs": [
    {
     "data": {
      "text/plain": [
       "('The\\nHistory\\nof\\nPret\\nA\\nManger:\\nFrom\\na\\nSingle\\nShop\\nto\\na\\nGlobal\\nPhenomenon\\nIntroduction\\nPret\\nA\\nManger,\\noften\\nsimply\\nknown\\nas\\nPret,\\nis\\na\\nglobally\\nrecognized\\ncoffee\\nshop\\nand\\nsandwich\\nchain\\nwith\\na\\nunique\\napproach\\nto\\nfood\\nand\\nservice.\\nWith\\nits\\nroots\\nin\\nthe\\nbustling\\nstreets\\nof\\nLondon,\\nPret\\nhas\\ngrown\\nto\\nbecome\\na\\nfavorite\\namong\\nthose\\nseeking\\nfresh,\\nhealthy,\\nand\\nconvenient\\nmeals.\\nThis\\narticle\\ndelves\\ninto\\nthe\\nhistory\\nof\\nPret,\\ntracing\\nits\\njourney\\nfrom\\na\\nsingle\\nshop\\nto\\na\\nglobal\\nbrand.\\nThe\\nBeginning:\\nA\\nSimple\\nIdea\\nThe\\nstory\\nof\\nPret\\nA\\nManger\\nbegins\\nin\\n1983\\nwhen\\ntwo\\ncollege\\nfriends,\\nSinclair\\nBeecham\\nand\\nJulian\\nMetcalfe,\\nnoticed\\na\\ngap\\nin\\nthe\\nmarket\\nfor\\nfresh,\\nnatural\\nfood\\nthat\\ncould\\nbe\\nserved\\nquickly\\nto\\nbusy\\nLondoners.\\nInspired\\nby\\nthe\\nidea\\nof\\nproviding\\nan\\nalternative\\nto\\nthe\\nprocessed\\nand\\nunhealthy\\nfast\\nfood\\noptions\\nthat\\ndominated\\nthe\\nmarket,\\nthey\\ndecided\\nto\\ncreate\\na\\nplace\\nwhere\\npeople\\ncould\\nfind\\nfresh\\nsandwiches,\\nsalads,\\nand\\ncoffee\\nmade\\nfrom\\nhigh-quality\\ningredients.\\nThe\\nfirst\\nPret\\nA\\nManger\\nshop\\nopened\\nin\\nHampstead,\\nLondon,\\nin\\n1984.\\nThe\\nname\\n\"Pret\\nA\\nManger,\"\\nwhich\\ntranslates\\nto\\n\"ready\\nto\\neat\"\\nin\\nFrench,\\nwas\\nchosen\\nto\\nreflect\\nthe\\nfounders\\'\\ncommitment\\nto\\nproviding\\nfreshly\\nprepared\\nfood\\nthat\\nwas\\nready\\nto\\nbe\\nenjoyed\\non\\nthe\\ngo.\\nGrowth\\nand\\nExpansion\\nThe\\ninitial\\nsuccess\\nof\\nPret\\nA\\nManger\\nwas\\ndriven\\nby\\nits\\ninnovative\\napproach\\nto\\nfood\\npreparation.\\nUnlike\\nmany\\nother\\nfast-food\\nchains,\\nPret\\'s\\nfood\\nwas\\nprepared\\ndaily\\non-site\\nin\\neach\\nstore\\'s\\nkitchen,\\nusing\\nnatural\\ningredients\\nwith\\nno\\nartificial\\npreservatives\\nor\\nadditives.\\nThis\\nfocus\\non\\nfreshness\\nand\\nquality\\nresonated\\nwith\\ncustomers,\\nand\\nthe\\nbrand\\nquickly\\ngained\\npopularity.\\nIn\\nthe\\nearly\\n1990s,\\nPret\\nbegan\\nto\\nexpand\\nacross\\nLondon,\\nopening\\nnew\\nstores\\nin\\nkey\\nlocations.\\nBy\\n1996,\\nthe\\nbrand\\nhad\\nattracted\\nthe\\nattention\\nof\\nMcDonald\\'s,\\nwhich\\nacquired\\na\\n33%\\nstake\\nin\\nthe\\ncompany,\\nproviding\\nthe\\ncapital\\nneeded\\nfor\\nfurther\\nexpansion.\\nThis\\npartnership\\nallowed\\nPret\\nto\\nextend\\nits\\nreach\\nbeyond\\nthe\\nUK,\\nwith\\nits\\nfirst\\ninternational\\nstore\\nopening\\nin\\nNew\\nYork\\nCity\\nin\\n2000.\\nInternational\\nPresence\\nThe\\nsuccess\\nof\\nthe\\nNew\\nYork\\nstore\\nmarked\\nthe\\nbeginning\\nof\\nPret\\nA\\nManger\\'s\\nglobal\\nexpansion.\\nOver\\nthe\\nnext\\ntwo\\ndecades,\\nPret\\nopened\\nstores\\nin\\nmajor\\ncities\\nacross\\nthe\\nworld,\\nincluding\\nParis,\\nHong\\nKong,\\nDubai,\\nand\\nSydney.\\nThe\\nbrand\\'s\\ncommitment\\nto\\nquality\\nand\\nfreshness,\\ncombined\\nwith\\nits\\nfocus\\non\\nethical\\nsourcing\\nand\\nsustainability,\\nhelped\\nit\\nto\\nbuild\\na\\nloyal\\ncustomer\\nbase\\nin\\neach\\nnew\\nmarket.',\n",
       " 'The\\nHistor',\n",
       " {'source': 'sample_data/Pret.pdf', 'page': 0},\n",
       " str)"
      ]
     },
     "execution_count": 94,
     "metadata": {},
     "output_type": "execute_result"
    }
   ],
   "source": [
    "docs = text_splitter.split_documents(pages)\n",
    "# pages are Document type, and you will need page.page_content to access the contents.\n",
    "page.page_content, page.page_content[:10], page.metadata, type(page.page_content)"
   ]
  },
  {
   "cell_type": "code",
   "execution_count": 95,
   "metadata": {
    "colab": {
     "base_uri": "https://localhost:8080/"
    },
    "id": "P2qFK_sdnRPq",
    "outputId": "b0bf3250-334d-4a1d-f636-1125df5bae14"
   },
   "outputs": [
    {
     "data": {
      "text/plain": [
       "{'source': 'sample_data/Pret.pdf', 'page': 0}"
      ]
     },
     "execution_count": 95,
     "metadata": {},
     "output_type": "execute_result"
    }
   ],
   "source": [
    "pages[0].metadata"
   ]
  },
  {
   "cell_type": "markdown",
   "metadata": {
    "id": "oO0xysFMoyII"
   },
   "source": [
    "## Context aware splitting\n",
    "\n",
    "Chunking aims to keep text with common context together.\n",
    "\n",
    "A text splitting often uses sentences or other delimiters to keep related text together but many documents (such as Markdown) have structure (headers) that can be explicitly used in splitting.\n",
    "\n",
    "We can use `MarkdownHeaderTextSplitter` to preserve header metadata in our chunks, as show below."
   ]
  },
  {
   "cell_type": "code",
   "execution_count": 96,
   "metadata": {
    "id": "0X2nmGVonSQa"
   },
   "outputs": [],
   "source": [
    "from langchain.document_loaders import NotionDirectoryLoader\n",
    "from langchain.text_splitter import MarkdownHeaderTextSplitter"
   ]
  },
  {
   "cell_type": "code",
   "execution_count": 97,
   "metadata": {
    "id": "HPk2aZHrozxC"
   },
   "outputs": [],
   "source": [
    "markdown_document = \"\"\"# Title\\n\\n \\\n",
    "## Chapter 1\\n\\n \\\n",
    "Hi this is Jim\\n\\n Hi this is Joe\\n\\n \\\n",
    "### Section \\n\\n \\\n",
    "Hi this is Lance \\n\\n\n",
    "## Chapter 2\\n\\n \\\n",
    "Hi this is Molly\"\"\""
   ]
  },
  {
   "cell_type": "code",
   "execution_count": 98,
   "metadata": {
    "id": "xrN2gRJyo1GS"
   },
   "outputs": [],
   "source": [
    "headers_to_split_on = [\n",
    "    (\"#\", \"Header 1\"),\n",
    "    (\"##\", \"Header 2\"),\n",
    "    (\"###\", \"Header 3\"),\n",
    "]"
   ]
  },
  {
   "cell_type": "code",
   "execution_count": 99,
   "metadata": {
    "id": "m20iU3jPo2QZ"
   },
   "outputs": [],
   "source": [
    "markdown_splitter = MarkdownHeaderTextSplitter(\n",
    "    headers_to_split_on=headers_to_split_on\n",
    ")\n",
    "md_header_splits = markdown_splitter.split_text(markdown_document)"
   ]
  },
  {
   "cell_type": "code",
   "execution_count": 100,
   "metadata": {
    "colab": {
     "base_uri": "https://localhost:8080/"
    },
    "id": "J26hFWFso-iW",
    "outputId": "c98c417f-d059-4952-d1cd-f108280f4dca"
   },
   "outputs": [
    {
     "data": {
      "text/plain": [
       "Document(metadata={'Header 1': 'Title', 'Header 2': 'Chapter 1'}, page_content='Hi this is Jim  \\nHi this is Joe')"
      ]
     },
     "execution_count": 100,
     "metadata": {},
     "output_type": "execute_result"
    }
   ],
   "source": [
    "md_header_splits[0]"
   ]
  },
  {
   "cell_type": "code",
   "execution_count": 101,
   "metadata": {
    "colab": {
     "base_uri": "https://localhost:8080/"
    },
    "id": "0g-8MjvppBgS",
    "outputId": "2b224d42-a8ed-4f0a-e088-f20f0f345938"
   },
   "outputs": [
    {
     "data": {
      "text/plain": [
       "Document(metadata={'Header 1': 'Title', 'Header 2': 'Chapter 1', 'Header 3': 'Section'}, page_content='Hi this is Lance')"
      ]
     },
     "execution_count": 101,
     "metadata": {},
     "output_type": "execute_result"
    }
   ],
   "source": [
    "md_header_splits[1]"
   ]
  },
  {
   "cell_type": "markdown",
   "metadata": {
    "id": "ohYlkjzIpHJL"
   },
   "source": [
    "# Try on a real Markdown file, like a Notion database."
   ]
  },
  {
   "cell_type": "code",
   "execution_count": 102,
   "metadata": {
    "id": "fJTSwj1mpFPG"
   },
   "outputs": [],
   "source": [
    "loader = NotionDirectoryLoader(\"docs/Notion_DB\")\n",
    "docs = loader.load()\n",
    "txt = ' '.join([d.page_content for d in docs])"
   ]
  },
  {
   "cell_type": "code",
   "execution_count": 103,
   "metadata": {
    "id": "lBHqObyTpCtj"
   },
   "outputs": [],
   "source": [
    "headers_to_split_on = [\n",
    "    (\"#\", \"Header 1\"),\n",
    "    (\"##\", \"Header 2\"),\n",
    "]\n",
    "markdown_splitter = MarkdownHeaderTextSplitter(\n",
    "    headers_to_split_on=headers_to_split_on\n",
    ")"
   ]
  },
  {
   "cell_type": "code",
   "execution_count": 104,
   "metadata": {
    "id": "rkPF3MUCpKSU"
   },
   "outputs": [],
   "source": [
    "md_header_splits = markdown_splitter.split_text(txt)"
   ]
  },
  {
   "cell_type": "code",
   "execution_count": 105,
   "metadata": {
    "id": "q4RpZiFipLQh"
   },
   "outputs": [],
   "source": [
    "# md_header_splits[0]"
   ]
  },
  {
   "cell_type": "code",
   "execution_count": 105,
   "metadata": {
    "id": "6lANkBwrpMLs"
   },
   "outputs": [],
   "source": []
  }
 ],
 "metadata": {
  "colab": {
   "provenance": []
  },
  "kernelspec": {
   "display_name": "Python 3 (ipykernel)",
   "language": "python",
   "name": "python3"
  },
  "language_info": {
   "codemirror_mode": {
    "name": "ipython",
    "version": 3
   },
   "file_extension": ".py",
   "mimetype": "text/x-python",
   "name": "python",
   "nbconvert_exporter": "python",
   "pygments_lexer": "ipython3",
   "version": "3.11.0"
  }
 },
 "nbformat": 4,
 "nbformat_minor": 0
}
