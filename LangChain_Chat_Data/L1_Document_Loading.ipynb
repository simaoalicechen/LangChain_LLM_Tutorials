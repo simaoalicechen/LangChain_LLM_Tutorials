{
 "cells": [
  {
   "cell_type": "markdown",
   "metadata": {
    "id": "XOs-FlldMyNw"
   },
   "source": [
    "## Retrieval augmented generation\n",
    "\n",
    "In retrieval augmented generation (RAG), an LLM retrieves contextual documents from an external dataset as part of its execution.\n",
    "\n",
    "This is useful if we want to ask question about specific documents (e.g., our PDFs, a set of videos, etc)."
   ]
  },
  {
   "cell_type": "markdown",
   "metadata": {
    "id": "LGgwVeWvasni"
   },
   "source": []
  },
  {
   "cell_type": "code",
   "execution_count": null,
   "metadata": {
    "id": "P01b4oLwM1Gt"
   },
   "outputs": [],
   "source": []
  },
  {
   "cell_type": "code",
   "execution_count": null,
   "metadata": {
    "id": "xiW49TS9M75O"
   },
   "outputs": [],
   "source": []
  },
  {
   "cell_type": "markdown",
   "metadata": {
    "id": "r0Ph09QIJlDA"
   },
   "source": [
    "# Loaders"
   ]
  },
  {
   "cell_type": "markdown",
   "metadata": {
    "id": "hEXKRk9SJs1R"
   },
   "source": [
    "## Loaders deal with the specifics of accessing and converting data"
   ]
  },
  {
   "cell_type": "markdown",
   "metadata": {
    "id": "sMpwLAQlJwii"
   },
   "source": [
    "### Accessing\n",
    "#### Web Sites\n",
    "#### Data Bases\n",
    "#### Youtube\n",
    "#### arXiv\n",
    "....\n",
    "### Data Types\n",
    "####PDF\n",
    "####HTML\n",
    "####JSON\n",
    "#### Word, PowerPoint"
   ]
  },
  {
   "cell_type": "markdown",
   "metadata": {
    "id": "te8eDGPWKBfQ"
   },
   "source": [
    "## Returns a list of \"Document\" objects"
   ]
  },
  {
   "cell_type": "markdown",
   "metadata": {
    "id": "hRJKZS24KOQ_"
   },
   "source": [
    "### public, proprietary, unstructured, structured, Databases"
   ]
  },
  {
   "cell_type": "code",
   "execution_count": 76,
   "metadata": {
    "id": "KtkWhW4QKhBy"
   },
   "outputs": [],
   "source": [
    "# !pip install openai\n",
    "# !pip install python-dotenv\n",
    "# !pip install langchain\n",
    "# !pip install langchain_community\n",
    "# !pip install pypdf"
   ]
  },
  {
   "cell_type": "code",
   "execution_count": 4,
   "metadata": {
    "id": "p_m_l3OlJ-Qc"
   },
   "outputs": [],
   "source": [
    "import os\n",
    "import openai\n",
    "import sys\n",
    "sys.path.append(\"../..\")"
   ]
  },
  {
   "cell_type": "code",
   "execution_count": 86,
   "metadata": {
    "id": "RIwKufrfJkIA"
   },
   "outputs": [],
   "source": [
    "from dotenv import load_dotenv, find_dotenv\n",
    "_ = load_dotenv(find_dotenv()) # read local .env file\n",
    "\n",
    "openai.api_key  = os.environ['OPENAI_API_KEY']"
   ]
  },
  {
   "cell_type": "code",
   "execution_count": 6,
   "metadata": {
    "id": "xunHE6NLKNu7"
   },
   "outputs": [],
   "source": [
    "from langchain.document_loaders import PyPDFLoader"
   ]
  },
  {
   "cell_type": "code",
   "execution_count": 15,
   "metadata": {
    "colab": {
     "base_uri": "https://localhost:8080/"
    },
    "id": "nsY_4GHBLJQ1",
    "outputId": "05de07aa-eb9a-467b-94b9-d4591e5d7092"
   },
   "outputs": [
    {
     "name": "stdout",
     "output_type": "stream",
     "text": [
      "The\n",
      "Histor\n"
     ]
    }
   ],
   "source": [
    "loader = PyPDFLoader(\"sample_data/Pret.pdf\")\n",
    "pages = loader.load()\n",
    "page = pages[0]\n",
    "print(page.page_content[:10])"
   ]
  },
  {
   "cell_type": "markdown",
   "metadata": {
    "id": "I85aUL5zbgqr"
   },
   "source": [
    "### The issue in this case is in many PDFs where the output is printed as two lines with one word per line, is likely due to the way the text is extracted from the PDF. PDF files can have complex layouts, and the text extraction process sometimes captures text in a format that doesn't preserve the original flow of the text.\n",
    "\n",
    "## Possible Causes:\n",
    "\n",
    "### Line Breaks and Whitespace: The PDF might have line breaks, carriage returns, or irregular spacing that are preserved during text extraction, causing the text to appear on separate lines.\n",
    "\n",
    "###Text Extraction Method: The library or method used for extracting text might not be handling the PDF layout correctly, especially if the PDF has multiple columns, images, or other complex formatting."
   ]
  },
  {
   "cell_type": "code",
   "execution_count": 17,
   "metadata": {
    "colab": {
     "base_uri": "https://localhost:8080/"
    },
    "id": "UYS8w1UwcFHW",
    "outputId": "e079e66b-4176-48ee-800b-8d80201ec5f3"
   },
   "outputs": [
    {
     "name": "stdout",
     "output_type": "stream",
     "text": [
      "The\n",
      "History\n",
      "of\n",
      "Pret\n",
      "A\n",
      "Manger:\n",
      "\n"
     ]
    }
   ],
   "source": [
    "print(page.page_content[:30])"
   ]
  },
  {
   "cell_type": "code",
   "execution_count": 23,
   "metadata": {
    "colab": {
     "base_uri": "https://localhost:8080/"
    },
    "id": "rqBmOjlHcLL1",
    "outputId": "05de4d90-7d66-4409-f8b9-d4735832d5c3"
   },
   "outputs": [
    {
     "name": "stdout",
     "output_type": "stream",
     "text": [
      "The History of Pret A Manger: From a Single Shop to a Global Phenomenon Introduction Pret A Manger, \n"
     ]
    }
   ],
   "source": [
    "def reprocess_text(text):\n",
    "    cleaned_text = ' '.join(text.split())\n",
    "    return cleaned_text\n",
    "\n",
    "reprocessed_page_content = reprocess_text(page.page_content)\n",
    "print(reprocessed_page_content[:100])"
   ]
  },
  {
   "cell_type": "code",
   "execution_count": 20,
   "metadata": {
    "id": "9U6BYimhL6h9"
   },
   "outputs": [],
   "source": [
    "# pages = loader.load()"
   ]
  },
  {
   "cell_type": "code",
   "execution_count": 32,
   "metadata": {
    "colab": {
     "base_uri": "https://localhost:8080/"
    },
    "id": "U_Pjrb9zMPWT",
    "outputId": "5838888c-2347-4b33-a4d5-ba3225782b72"
   },
   "outputs": [
    {
     "data": {
      "text/plain": [
       "6"
      ]
     },
     "execution_count": 32,
     "metadata": {},
     "output_type": "execute_result"
    }
   ],
   "source": [
    "len(pages)"
   ]
  },
  {
   "cell_type": "code",
   "execution_count": 37,
   "metadata": {
    "colab": {
     "base_uri": "https://localhost:8080/"
    },
    "id": "HrczpyCWMS-y",
    "outputId": "1b19d9c4-c4d8-42b1-dfc1-740985d68366"
   },
   "outputs": [
    {
     "data": {
      "text/plain": [
       "({'source': 'sample_data/Pret.pdf', 'page': 0},\n",
       " 'The\\nHistory\\nof\\nPret\\nA\\nManger:\\nFrom\\na\\nSingle\\nShop\\nt',\n",
       " <bound method BaseModel.construct of <class 'langchain_core.documents.base.Document'>>,\n",
       " <bound method BaseModel.dict of Document(metadata={'source': 'sample_data/Pret.pdf', 'page': 0}, page_content='The\\nHistory\\nof\\nPret\\nA\\nManger:\\nFrom\\na\\nSingle\\nShop\\nto\\na\\nGlobal\\nPhenomenon\\nIntroduction\\nPret\\nA\\nManger,\\noften\\nsimply\\nknown\\nas\\nPret,\\nis\\na\\nglobally\\nrecognized\\ncoffee\\nshop\\nand\\nsandwich\\nchain\\nwith\\na\\nunique\\napproach\\nto\\nfood\\nand\\nservice.\\nWith\\nits\\nroots\\nin\\nthe\\nbustling\\nstreets\\nof\\nLondon,\\nPret\\nhas\\ngrown\\nto\\nbecome\\na\\nfavorite\\namong\\nthose\\nseeking\\nfresh,\\nhealthy,\\nand\\nconvenient\\nmeals.\\nThis\\narticle\\ndelves\\ninto\\nthe\\nhistory\\nof\\nPret,\\ntracing\\nits\\njourney\\nfrom\\na\\nsingle\\nshop\\nto\\na\\nglobal\\nbrand.\\nThe\\nBeginning:\\nA\\nSimple\\nIdea\\nThe\\nstory\\nof\\nPret\\nA\\nManger\\nbegins\\nin\\n1983\\nwhen\\ntwo\\ncollege\\nfriends,\\nSinclair\\nBeecham\\nand\\nJulian\\nMetcalfe,\\nnoticed\\na\\ngap\\nin\\nthe\\nmarket\\nfor\\nfresh,\\nnatural\\nfood\\nthat\\ncould\\nbe\\nserved\\nquickly\\nto\\nbusy\\nLondoners.\\nInspired\\nby\\nthe\\nidea\\nof\\nproviding\\nan\\nalternative\\nto\\nthe\\nprocessed\\nand\\nunhealthy\\nfast\\nfood\\noptions\\nthat\\ndominated\\nthe\\nmarket,\\nthey\\ndecided\\nto\\ncreate\\na\\nplace\\nwhere\\npeople\\ncould\\nfind\\nfresh\\nsandwiches,\\nsalads,\\nand\\ncoffee\\nmade\\nfrom\\nhigh-quality\\ningredients.\\nThe\\nfirst\\nPret\\nA\\nManger\\nshop\\nopened\\nin\\nHampstead,\\nLondon,\\nin\\n1984.\\nThe\\nname\\n\"Pret\\nA\\nManger,\"\\nwhich\\ntranslates\\nto\\n\"ready\\nto\\neat\"\\nin\\nFrench,\\nwas\\nchosen\\nto\\nreflect\\nthe\\nfounders\\'\\ncommitment\\nto\\nproviding\\nfreshly\\nprepared\\nfood\\nthat\\nwas\\nready\\nto\\nbe\\nenjoyed\\non\\nthe\\ngo.\\nGrowth\\nand\\nExpansion\\nThe\\ninitial\\nsuccess\\nof\\nPret\\nA\\nManger\\nwas\\ndriven\\nby\\nits\\ninnovative\\napproach\\nto\\nfood\\npreparation.\\nUnlike\\nmany\\nother\\nfast-food\\nchains,\\nPret\\'s\\nfood\\nwas\\nprepared\\ndaily\\non-site\\nin\\neach\\nstore\\'s\\nkitchen,\\nusing\\nnatural\\ningredients\\nwith\\nno\\nartificial\\npreservatives\\nor\\nadditives.\\nThis\\nfocus\\non\\nfreshness\\nand\\nquality\\nresonated\\nwith\\ncustomers,\\nand\\nthe\\nbrand\\nquickly\\ngained\\npopularity.\\nIn\\nthe\\nearly\\n1990s,\\nPret\\nbegan\\nto\\nexpand\\nacross\\nLondon,\\nopening\\nnew\\nstores\\nin\\nkey\\nlocations.\\nBy\\n1996,\\nthe\\nbrand\\nhad\\nattracted\\nthe\\nattention\\nof\\nMcDonald\\'s,\\nwhich\\nacquired\\na\\n33%\\nstake\\nin\\nthe\\ncompany,\\nproviding\\nthe\\ncapital\\nneeded\\nfor\\nfurther\\nexpansion.\\nThis\\npartnership\\nallowed\\nPret\\nto\\nextend\\nits\\nreach\\nbeyond\\nthe\\nUK,\\nwith\\nits\\nfirst\\ninternational\\nstore\\nopening\\nin\\nNew\\nYork\\nCity\\nin\\n2000.\\nInternational\\nPresence\\nThe\\nsuccess\\nof\\nthe\\nNew\\nYork\\nstore\\nmarked\\nthe\\nbeginning\\nof\\nPret\\nA\\nManger\\'s\\nglobal\\nexpansion.\\nOver\\nthe\\nnext\\ntwo\\ndecades,\\nPret\\nopened\\nstores\\nin\\nmajor\\ncities\\nacross\\nthe\\nworld,\\nincluding\\nParis,\\nHong\\nKong,\\nDubai,\\nand\\nSydney.\\nThe\\nbrand\\'s\\ncommitment\\nto\\nquality\\nand\\nfreshness,\\ncombined\\nwith\\nits\\nfocus\\non\\nethical\\nsourcing\\nand\\nsustainability,\\nhelped\\nit\\nto\\nbuild\\na\\nloyal\\ncustomer\\nbase\\nin\\neach\\nnew\\nmarket.')>)"
      ]
     },
     "execution_count": 37,
     "metadata": {},
     "output_type": "execute_result"
    }
   ],
   "source": [
    "page = pages[0]\n",
    "page.metadata, page.page_content[:50], page.construct, page.dict"
   ]
  },
  {
   "cell_type": "code",
   "execution_count": 38,
   "metadata": {
    "colab": {
     "base_uri": "https://localhost:8080/"
    },
    "id": "cbGbyoRdMWTi",
    "outputId": "427228cb-18d6-4911-80bb-f8bb62951298"
   },
   "outputs": [
    {
     "name": "stdout",
     "output_type": "stream",
     "text": [
      "The History of Pret A Manger: From a Single Shop t\n"
     ]
    }
   ],
   "source": [
    "print(reprocessed_page_content[:50])"
   ]
  },
  {
   "cell_type": "code",
   "execution_count": 39,
   "metadata": {
    "colab": {
     "base_uri": "https://localhost:8080/"
    },
    "id": "ynLUE9OLMZwW",
    "outputId": "845f51ae-e90c-4ebb-b627-7678449eb994"
   },
   "outputs": [
    {
     "data": {
      "text/plain": [
       "{'source': 'sample_data/Pret.pdf', 'page': 0}"
      ]
     },
     "execution_count": 39,
     "metadata": {},
     "output_type": "execute_result"
    }
   ],
   "source": [
    "page.metadata"
   ]
  },
  {
   "cell_type": "markdown",
   "metadata": {
    "id": "YFSQLZB2NBjq"
   },
   "source": [
    "# Youtube Loading"
   ]
  },
  {
   "cell_type": "code",
   "execution_count": 41,
   "metadata": {
    "id": "4NqefONTNWpF"
   },
   "outputs": [],
   "source": [
    "# !pip install yt-dlp -U"
   ]
  },
  {
   "cell_type": "code",
   "execution_count": 42,
   "metadata": {
    "id": "GhdjXTakMh3n"
   },
   "outputs": [],
   "source": [
    "from langchain.document_loaders.generic import GenericLoader\n",
    "from langchain.document_loaders.parsers import OpenAIWhisperParser\n",
    "from langchain.document_loaders.blob_loaders.youtube_audio import YoutubeAudioLoader"
   ]
  },
  {
   "cell_type": "code",
   "execution_count": null,
   "metadata": {
    "id": "ZqL8mj32NJ4C"
   },
   "outputs": [],
   "source": [
    "# ! pip install yt_dlp\n",
    "# ! pip install pydub\n",
    "# !yt-dlp -U\n",
    "# !pip install yt-dlp\n",
    "# !pip install youtube-dl"
   ]
  },
  {
   "cell_type": "code",
   "execution_count": 58,
   "metadata": {
    "id": "qbuzOnjNO-mH"
   },
   "outputs": [],
   "source": [
    "# !pip install ty_dlp\n",
    "# !pip install langchain\n",
    "# !pip install langchain_community"
   ]
  },
  {
   "cell_type": "markdown",
   "metadata": {
    "id": "FyukrFNGeVYN"
   },
   "source": [
    "# Web Pages"
   ]
  },
  {
   "cell_type": "markdown",
   "metadata": {
    "id": "p_e_tKBjeqKy"
   },
   "source": []
  },
  {
   "cell_type": "code",
   "execution_count": 78,
   "metadata": {
    "id": "LMvdF_IzPTBh"
   },
   "outputs": [],
   "source": [
    "from langchain.document_loaders import WebBaseLoader"
   ]
  },
  {
   "cell_type": "code",
   "execution_count": 79,
   "metadata": {
    "id": "JV6LYXvAPdVI"
   },
   "outputs": [],
   "source": [
    "loader = WebBaseLoader(\"https://github.com/basecamp/handbook/blob/master/37signals-is-you.md\")"
   ]
  },
  {
   "cell_type": "code",
   "execution_count": 80,
   "metadata": {
    "id": "KVMG0oNpPuUz"
   },
   "outputs": [],
   "source": [
    "docs = loader.load()"
   ]
  },
  {
   "cell_type": "code",
   "execution_count": 81,
   "metadata": {
    "colab": {
     "base_uri": "https://localhost:8080/"
    },
    "id": "k47xSReDSUkL",
    "outputId": "29764e77-e57f-4151-9847-2f6833cc5de6"
   },
   "outputs": [
    {
     "data": {
      "text/plain": [
       "{'source': 'https://github.com/basecamp/handbook/blob/master/37signals-is-you.md',\n",
       " 'title': 'File not found · GitHub',\n",
       " 'description': 'Basecamp Employee Handbook. Contribute to basecamp/handbook development by creating an account on GitHub.',\n",
       " 'language': 'en'}"
      ]
     },
     "execution_count": 81,
     "metadata": {},
     "output_type": "execute_result"
    }
   ],
   "source": [
    "docs[0].metadata"
   ]
  },
  {
   "cell_type": "code",
   "execution_count": 83,
   "metadata": {
    "colab": {
     "base_uri": "https://localhost:8080/"
    },
    "id": "aY7ehWa8PyXm",
    "outputId": "7e3571b9-aa84-41ca-91dd-2ab68dd73f74"
   },
   "outputs": [
    {
     "name": "stdout",
     "output_type": "stream",
     "text": [
      "\n",
      "\n",
      "\n",
      "\n",
      "\n",
      "\n",
      "\n",
      "\n",
      "\n",
      "\n",
      "\n",
      "\n",
      "\n",
      "\n",
      "\n",
      "\n",
      "\n",
      "\n",
      "\n",
      "\n",
      "\n",
      "\n",
      "\n",
      "\n",
      "\n",
      "\n",
      "\n",
      "\n",
      "\n",
      "\n",
      "\n",
      "\n",
      "\n",
      "\n",
      "\n",
      "\n",
      "\n",
      "\n",
      "\n",
      "\n",
      "\n",
      "\n",
      "\n",
      "\n",
      "\n",
      "\n",
      "\n",
      "\n",
      "\n",
      "\n",
      "\n",
      "\n",
      "\n",
      "\n",
      "\n",
      "\n",
      "\n",
      "\n",
      "\n",
      "\n",
      "\n",
      "\n",
      "\n",
      "\n",
      "\n",
      "\n",
      "\n",
      "\n",
      "\n",
      "\n",
      "\n",
      "\n",
      "\n",
      "\n",
      "\n",
      "\n",
      "\n",
      "\n",
      "\n",
      "\n",
      "\n",
      "\n",
      "\n",
      "\n",
      "\n",
      "\n",
      "\n",
      "\n",
      "\n",
      "\n",
      "\n",
      "\n",
      "\n",
      "\n",
      "\n",
      "\n",
      "\n",
      "\n",
      "\n",
      "\n",
      "\n",
      "\n",
      "\n",
      "\n",
      "File not found · GitHub\n",
      "\n",
      "\n",
      "\n",
      "\n",
      "\n",
      "\n",
      "\n",
      "\n",
      "\n",
      "\n",
      "\n",
      "\n",
      "\n",
      "\n",
      "\n",
      "\n",
      "\n",
      "\n",
      "\n",
      "\n",
      "\n",
      "\n",
      "\n",
      "\n",
      "\n",
      "\n",
      "\n",
      "\n",
      "\n",
      "\n",
      "\n",
      "\n",
      "\n",
      "\n",
      "\n",
      "\n",
      "\n",
      "\n",
      "\n",
      "\n",
      "\n",
      "\n",
      "\n",
      "\n",
      "\n",
      "Skip to content\n",
      "\n",
      "\n",
      "\n",
      "\n",
      "\n",
      "\n",
      "\n",
      "\n",
      "\n",
      "\n",
      "\n",
      "\n"
     ]
    }
   ],
   "source": [
    "print(docs[0].page_content[:200])"
   ]
  },
  {
   "cell_type": "markdown",
   "metadata": {
    "id": "cCWAC9usd98Z"
   },
   "source": []
  },
  {
   "cell_type": "markdown",
   "metadata": {
    "id": "ssCfRFRiMxMI"
   },
   "source": [
    "# The loaded page contents could be very sparse. Then you need to process the loaded data"
   ]
  },
  {
   "cell_type": "markdown",
   "metadata": {
    "id": "ZhZRZgNPQIVf"
   },
   "source": [
    "# Notion\n",
    "\n",
    "## Follow steps here for an example Notion site such as this one.\n",
    "\n",
    "### Duplicate the page into your own Notion space and export as Markdonw or csv\n",
    "### Unzip it and save it as folder that contains the markdown file for the Notion page."
   ]
  },
  {
   "cell_type": "code",
   "execution_count": 73,
   "metadata": {
    "colab": {
     "base_uri": "https://localhost:8080/"
    },
    "id": "rFoT6c-HQBzd",
    "outputId": "838d4c33-62ec-4f1a-962d-1af3188533a7"
   },
   "outputs": [
    {
     "data": {
      "text/plain": [
       "[]"
      ]
     },
     "execution_count": 73,
     "metadata": {},
     "output_type": "execute_result"
    }
   ],
   "source": [
    "from langchain.document_loaders import NotionDirectoryLoader\n",
    "loader = NotionDirectoryLoader(\"sample_data/README.md\")\n",
    "loader.load()"
   ]
  },
  {
   "cell_type": "code",
   "execution_count": 71,
   "metadata": {
    "colab": {
     "base_uri": "https://localhost:8080/"
    },
    "id": "OfDOna5ZQ74c",
    "outputId": "590ae9d2-cd04-4235-d8d3-90c8b3c0e0aa"
   },
   "outputs": [
    {
     "data": {
      "text/plain": [
       "0"
      ]
     },
     "execution_count": 71,
     "metadata": {},
     "output_type": "execute_result"
    }
   ],
   "source": [
    "# len(docs)"
   ]
  },
  {
   "cell_type": "markdown",
   "metadata": {
    "id": "F5TJVmy9eTXD"
   },
   "source": []
  },
  {
   "cell_type": "code",
   "execution_count": null,
   "metadata": {
    "id": "V2gJSC1FQ3fH"
   },
   "outputs": [],
   "source": [
    "# print(docs[0].page_content[0:100])"
   ]
  },
  {
   "cell_type": "code",
   "execution_count": null,
   "metadata": {
    "id": "ptcdp1A5Q56i"
   },
   "outputs": [],
   "source": [
    "# docs[0].metadata"
   ]
  },
  {
   "cell_type": "code",
   "execution_count": null,
   "metadata": {
    "id": "E93USxQySQIM"
   },
   "outputs": [],
   "source": []
  }
 ],
 "metadata": {
  "accelerator": "GPU",
  "colab": {
   "gpuType": "T4",
   "provenance": []
  },
  "kernelspec": {
   "display_name": "Python 3 (ipykernel)",
   "language": "python",
   "name": "python3"
  },
  "language_info": {
   "codemirror_mode": {
    "name": "ipython",
    "version": 3
   },
   "file_extension": ".py",
   "mimetype": "text/x-python",
   "name": "python",
   "nbconvert_exporter": "python",
   "pygments_lexer": "ipython3",
   "version": "3.11.0"
  }
 },
 "nbformat": 4,
 "nbformat_minor": 1
}
