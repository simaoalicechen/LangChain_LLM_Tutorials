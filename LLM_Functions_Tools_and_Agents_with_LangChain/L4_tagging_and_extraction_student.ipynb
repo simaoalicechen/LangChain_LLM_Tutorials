{
 "cells": [
  {
   "cell_type": "markdown",
   "id": "16de7336",
   "metadata": {
    "id": "16de7336"
   },
   "source": [
    "# Tagging and Extraction Using OpenAI functions"
   ]
  },
  {
   "cell_type": "markdown",
   "id": "EEYz1jcQUktv",
   "metadata": {
    "id": "EEYz1jcQUktv"
   },
   "source": [
    "# Tagging\n",
    "\n",
    "- We have seen the LLM, given a function description, select aguments from the input text generate a structured output forming a function call\n",
    "\n",
    "- More generally, the LLM can evaluate the input text and generate structured output"
   ]
  },
  {
   "cell_type": "markdown",
   "id": "lS-fkF1uUw8u",
   "metadata": {
    "id": "lS-fkF1uUw8u"
   },
   "source": [
    "texts --> LLM (Structure description) --> {sentiment: positive, language: Spanish}"
   ]
  },
  {
   "cell_type": "markdown",
   "id": "piDpEsApVZY1",
   "metadata": {
    "id": "piDpEsApVZY1"
   },
   "source": [
    "texts --> LLM (Structure description) --> {first ane: lang, last anme: chain, language: Python}"
   ]
  },
  {
   "cell_type": "markdown",
   "id": "ScJRpeWeVgCO",
   "metadata": {
    "id": "ScJRpeWeVgCO"
   },
   "source": [
    "## in short, instead of asking LLM to reason through the texts, we are asking LLM to reformat the structure of the texts."
   ]
  },
  {
   "cell_type": "markdown",
   "id": "n-YyfgVZd5qT",
   "metadata": {
    "id": "n-YyfgVZd5qT"
   },
   "source": [
    "### Course overview\n",
    "\n",
    "### This notebook only introducing tagging and extractions, but they have many usage beyond, such as:\n",
    "\n",
    "1) Tracking and organizing Data\n",
    "- particularly useful when dealing with large datasets or document stores. Good for info retreival and search.\n",
    "\n",
    "2) Context management\n",
    "- In chatbot applications, tagging can be used to track the context of user interactions.\n",
    "- for example, if a user asks multiple questions, we can tag responses with topics or categories, like \"product information\" or \"pricing\", which helps the system maintain context and follow-up appropriately.\n",
    "\n",
    "\n",
    "### next notebook targets these questions:\n",
    "#### routing and task Management\n",
    "#### better search and filtering\n",
    "#### Customization and personalization"
   ]
  },
  {
   "cell_type": "markdown",
   "id": "962529e4",
   "metadata": {},
   "source": [
    "### the chain's results eventually would depend on how many times it has been practiced. Sometimes, the first few times you throw a chain into the model, the results are not that good. For example, if you ask for both Chinese and English version of some summary, it would only show English at first. Or if you ask for a price, it would give you a wrong number. However, after you execute the lines more often, the \"more correct and comprehensive answer\" would eventually show up. "
   ]
  },
  {
   "cell_type": "code",
   "execution_count": null,
   "id": "2wB6EPCUUkV3",
   "metadata": {
    "id": "2wB6EPCUUkV3"
   },
   "outputs": [],
   "source": []
  },
  {
   "cell_type": "code",
   "execution_count": 1,
   "id": "-B6IXgxhUQmA",
   "metadata": {
    "colab": {
     "base_uri": "https://localhost:8080/"
    },
    "id": "-B6IXgxhUQmA",
    "outputId": "313708dc-0ce0-4fd5-9297-113d4ca7ef9e"
   },
   "outputs": [
    {
     "name": "stdout",
     "output_type": "stream",
     "text": [
      "Requirement already satisfied: langchain in /usr/local/lib/python3.10/dist-packages (0.3.0)\n",
      "Requirement already satisfied: openai in /usr/local/lib/python3.10/dist-packages (1.47.0)\n",
      "Requirement already satisfied: PyYAML>=5.3 in /usr/local/lib/python3.10/dist-packages (from langchain) (6.0.2)\n",
      "Requirement already satisfied: SQLAlchemy<3,>=1.4 in /usr/local/lib/python3.10/dist-packages (from langchain) (2.0.35)\n",
      "Requirement already satisfied: aiohttp<4.0.0,>=3.8.3 in /usr/local/lib/python3.10/dist-packages (from langchain) (3.10.5)\n",
      "Requirement already satisfied: async-timeout<5.0.0,>=4.0.0 in /usr/local/lib/python3.10/dist-packages (from langchain) (4.0.3)\n",
      "Requirement already satisfied: langchain-core<0.4.0,>=0.3.0 in /usr/local/lib/python3.10/dist-packages (from langchain) (0.3.5)\n",
      "Requirement already satisfied: langchain-text-splitters<0.4.0,>=0.3.0 in /usr/local/lib/python3.10/dist-packages (from langchain) (0.3.0)\n",
      "Requirement already satisfied: langsmith<0.2.0,>=0.1.17 in /usr/local/lib/python3.10/dist-packages (from langchain) (0.1.125)\n",
      "Requirement already satisfied: numpy<2,>=1 in /usr/local/lib/python3.10/dist-packages (from langchain) (1.26.4)\n",
      "Requirement already satisfied: pydantic<3.0.0,>=2.7.4 in /usr/local/lib/python3.10/dist-packages (from langchain) (2.9.2)\n",
      "Requirement already satisfied: requests<3,>=2 in /usr/local/lib/python3.10/dist-packages (from langchain) (2.32.3)\n",
      "Requirement already satisfied: tenacity!=8.4.0,<9.0.0,>=8.1.0 in /usr/local/lib/python3.10/dist-packages (from langchain) (8.5.0)\n",
      "Requirement already satisfied: anyio<5,>=3.5.0 in /usr/local/lib/python3.10/dist-packages (from openai) (3.7.1)\n",
      "Requirement already satisfied: distro<2,>=1.7.0 in /usr/lib/python3/dist-packages (from openai) (1.7.0)\n",
      "Requirement already satisfied: httpx<1,>=0.23.0 in /usr/local/lib/python3.10/dist-packages (from openai) (0.27.2)\n",
      "Requirement already satisfied: jiter<1,>=0.4.0 in /usr/local/lib/python3.10/dist-packages (from openai) (0.5.0)\n",
      "Requirement already satisfied: sniffio in /usr/local/lib/python3.10/dist-packages (from openai) (1.3.1)\n",
      "Requirement already satisfied: tqdm>4 in /usr/local/lib/python3.10/dist-packages (from openai) (4.66.5)\n",
      "Requirement already satisfied: typing-extensions<5,>=4.11 in /usr/local/lib/python3.10/dist-packages (from openai) (4.12.2)\n",
      "Requirement already satisfied: aiohappyeyeballs>=2.3.0 in /usr/local/lib/python3.10/dist-packages (from aiohttp<4.0.0,>=3.8.3->langchain) (2.4.0)\n",
      "Requirement already satisfied: aiosignal>=1.1.2 in /usr/local/lib/python3.10/dist-packages (from aiohttp<4.0.0,>=3.8.3->langchain) (1.3.1)\n",
      "Requirement already satisfied: attrs>=17.3.0 in /usr/local/lib/python3.10/dist-packages (from aiohttp<4.0.0,>=3.8.3->langchain) (24.2.0)\n",
      "Requirement already satisfied: frozenlist>=1.1.1 in /usr/local/lib/python3.10/dist-packages (from aiohttp<4.0.0,>=3.8.3->langchain) (1.4.1)\n",
      "Requirement already satisfied: multidict<7.0,>=4.5 in /usr/local/lib/python3.10/dist-packages (from aiohttp<4.0.0,>=3.8.3->langchain) (6.1.0)\n",
      "Requirement already satisfied: yarl<2.0,>=1.0 in /usr/local/lib/python3.10/dist-packages (from aiohttp<4.0.0,>=3.8.3->langchain) (1.11.1)\n",
      "Requirement already satisfied: idna>=2.8 in /usr/local/lib/python3.10/dist-packages (from anyio<5,>=3.5.0->openai) (3.10)\n",
      "Requirement already satisfied: exceptiongroup in /usr/local/lib/python3.10/dist-packages (from anyio<5,>=3.5.0->openai) (1.2.2)\n",
      "Requirement already satisfied: certifi in /usr/local/lib/python3.10/dist-packages (from httpx<1,>=0.23.0->openai) (2024.8.30)\n",
      "Requirement already satisfied: httpcore==1.* in /usr/local/lib/python3.10/dist-packages (from httpx<1,>=0.23.0->openai) (1.0.5)\n",
      "Requirement already satisfied: h11<0.15,>=0.13 in /usr/local/lib/python3.10/dist-packages (from httpcore==1.*->httpx<1,>=0.23.0->openai) (0.14.0)\n",
      "Requirement already satisfied: jsonpatch<2.0,>=1.33 in /usr/local/lib/python3.10/dist-packages (from langchain-core<0.4.0,>=0.3.0->langchain) (1.33)\n",
      "Requirement already satisfied: packaging<25,>=23.2 in /usr/local/lib/python3.10/dist-packages (from langchain-core<0.4.0,>=0.3.0->langchain) (24.1)\n",
      "Requirement already satisfied: orjson<4.0.0,>=3.9.14 in /usr/local/lib/python3.10/dist-packages (from langsmith<0.2.0,>=0.1.17->langchain) (3.10.7)\n",
      "Requirement already satisfied: annotated-types>=0.6.0 in /usr/local/lib/python3.10/dist-packages (from pydantic<3.0.0,>=2.7.4->langchain) (0.7.0)\n",
      "Requirement already satisfied: pydantic-core==2.23.4 in /usr/local/lib/python3.10/dist-packages (from pydantic<3.0.0,>=2.7.4->langchain) (2.23.4)\n",
      "Requirement already satisfied: charset-normalizer<4,>=2 in /usr/local/lib/python3.10/dist-packages (from requests<3,>=2->langchain) (3.3.2)\n",
      "Requirement already satisfied: urllib3<3,>=1.21.1 in /usr/local/lib/python3.10/dist-packages (from requests<3,>=2->langchain) (2.0.7)\n",
      "Requirement already satisfied: greenlet!=0.4.17 in /usr/local/lib/python3.10/dist-packages (from SQLAlchemy<3,>=1.4->langchain) (3.1.0)\n",
      "Requirement already satisfied: jsonpointer>=1.9 in /usr/local/lib/python3.10/dist-packages (from jsonpatch<2.0,>=1.33->langchain-core<0.4.0,>=0.3.0->langchain) (3.0.0)\n",
      "Requirement already satisfied: python-dotenv in /usr/local/lib/python3.10/dist-packages (1.0.1)\n",
      "Requirement already satisfied: pydantic in /usr/local/lib/python3.10/dist-packages (2.9.2)\n",
      "Requirement already satisfied: annotated-types>=0.6.0 in /usr/local/lib/python3.10/dist-packages (from pydantic) (0.7.0)\n",
      "Requirement already satisfied: pydantic-core==2.23.4 in /usr/local/lib/python3.10/dist-packages (from pydantic) (2.23.4)\n",
      "Requirement already satisfied: typing-extensions>=4.6.1 in /usr/local/lib/python3.10/dist-packages (from pydantic) (4.12.2)\n",
      "Requirement already satisfied: tiktoken in /usr/local/lib/python3.10/dist-packages (0.7.0)\n",
      "Requirement already satisfied: regex>=2022.1.18 in /usr/local/lib/python3.10/dist-packages (from tiktoken) (2024.9.11)\n",
      "Requirement already satisfied: requests>=2.26.0 in /usr/local/lib/python3.10/dist-packages (from tiktoken) (2.32.3)\n",
      "Requirement already satisfied: charset-normalizer<4,>=2 in /usr/local/lib/python3.10/dist-packages (from requests>=2.26.0->tiktoken) (3.3.2)\n",
      "Requirement already satisfied: idna<4,>=2.5 in /usr/local/lib/python3.10/dist-packages (from requests>=2.26.0->tiktoken) (3.10)\n",
      "Requirement already satisfied: urllib3<3,>=1.21.1 in /usr/local/lib/python3.10/dist-packages (from requests>=2.26.0->tiktoken) (2.0.7)\n",
      "Requirement already satisfied: certifi>=2017.4.17 in /usr/local/lib/python3.10/dist-packages (from requests>=2.26.0->tiktoken) (2024.8.30)\n",
      "Requirement already satisfied: langchain_community in /usr/local/lib/python3.10/dist-packages (0.3.0)\n",
      "Requirement already satisfied: PyYAML>=5.3 in /usr/local/lib/python3.10/dist-packages (from langchain_community) (6.0.2)\n",
      "Requirement already satisfied: SQLAlchemy<3,>=1.4 in /usr/local/lib/python3.10/dist-packages (from langchain_community) (2.0.35)\n",
      "Requirement already satisfied: aiohttp<4.0.0,>=3.8.3 in /usr/local/lib/python3.10/dist-packages (from langchain_community) (3.10.5)\n",
      "Requirement already satisfied: dataclasses-json<0.7,>=0.5.7 in /usr/local/lib/python3.10/dist-packages (from langchain_community) (0.6.7)\n",
      "Requirement already satisfied: langchain<0.4.0,>=0.3.0 in /usr/local/lib/python3.10/dist-packages (from langchain_community) (0.3.0)\n",
      "Requirement already satisfied: langchain-core<0.4.0,>=0.3.0 in /usr/local/lib/python3.10/dist-packages (from langchain_community) (0.3.5)\n",
      "Requirement already satisfied: langsmith<0.2.0,>=0.1.112 in /usr/local/lib/python3.10/dist-packages (from langchain_community) (0.1.125)\n",
      "Requirement already satisfied: numpy<2,>=1 in /usr/local/lib/python3.10/dist-packages (from langchain_community) (1.26.4)\n",
      "Requirement already satisfied: pydantic-settings<3.0.0,>=2.4.0 in /usr/local/lib/python3.10/dist-packages (from langchain_community) (2.5.2)\n",
      "Requirement already satisfied: requests<3,>=2 in /usr/local/lib/python3.10/dist-packages (from langchain_community) (2.32.3)\n",
      "Requirement already satisfied: tenacity!=8.4.0,<9.0.0,>=8.1.0 in /usr/local/lib/python3.10/dist-packages (from langchain_community) (8.5.0)\n",
      "Requirement already satisfied: aiohappyeyeballs>=2.3.0 in /usr/local/lib/python3.10/dist-packages (from aiohttp<4.0.0,>=3.8.3->langchain_community) (2.4.0)\n",
      "Requirement already satisfied: aiosignal>=1.1.2 in /usr/local/lib/python3.10/dist-packages (from aiohttp<4.0.0,>=3.8.3->langchain_community) (1.3.1)\n",
      "Requirement already satisfied: attrs>=17.3.0 in /usr/local/lib/python3.10/dist-packages (from aiohttp<4.0.0,>=3.8.3->langchain_community) (24.2.0)\n",
      "Requirement already satisfied: frozenlist>=1.1.1 in /usr/local/lib/python3.10/dist-packages (from aiohttp<4.0.0,>=3.8.3->langchain_community) (1.4.1)\n",
      "Requirement already satisfied: multidict<7.0,>=4.5 in /usr/local/lib/python3.10/dist-packages (from aiohttp<4.0.0,>=3.8.3->langchain_community) (6.1.0)\n",
      "Requirement already satisfied: yarl<2.0,>=1.0 in /usr/local/lib/python3.10/dist-packages (from aiohttp<4.0.0,>=3.8.3->langchain_community) (1.11.1)\n",
      "Requirement already satisfied: async-timeout<5.0,>=4.0 in /usr/local/lib/python3.10/dist-packages (from aiohttp<4.0.0,>=3.8.3->langchain_community) (4.0.3)\n",
      "Requirement already satisfied: marshmallow<4.0.0,>=3.18.0 in /usr/local/lib/python3.10/dist-packages (from dataclasses-json<0.7,>=0.5.7->langchain_community) (3.22.0)\n",
      "Requirement already satisfied: typing-inspect<1,>=0.4.0 in /usr/local/lib/python3.10/dist-packages (from dataclasses-json<0.7,>=0.5.7->langchain_community) (0.9.0)\n",
      "Requirement already satisfied: langchain-text-splitters<0.4.0,>=0.3.0 in /usr/local/lib/python3.10/dist-packages (from langchain<0.4.0,>=0.3.0->langchain_community) (0.3.0)\n",
      "Requirement already satisfied: pydantic<3.0.0,>=2.7.4 in /usr/local/lib/python3.10/dist-packages (from langchain<0.4.0,>=0.3.0->langchain_community) (2.9.2)\n",
      "Requirement already satisfied: jsonpatch<2.0,>=1.33 in /usr/local/lib/python3.10/dist-packages (from langchain-core<0.4.0,>=0.3.0->langchain_community) (1.33)\n",
      "Requirement already satisfied: packaging<25,>=23.2 in /usr/local/lib/python3.10/dist-packages (from langchain-core<0.4.0,>=0.3.0->langchain_community) (24.1)\n",
      "Requirement already satisfied: typing-extensions>=4.7 in /usr/local/lib/python3.10/dist-packages (from langchain-core<0.4.0,>=0.3.0->langchain_community) (4.12.2)\n",
      "Requirement already satisfied: httpx<1,>=0.23.0 in /usr/local/lib/python3.10/dist-packages (from langsmith<0.2.0,>=0.1.112->langchain_community) (0.27.2)\n",
      "Requirement already satisfied: orjson<4.0.0,>=3.9.14 in /usr/local/lib/python3.10/dist-packages (from langsmith<0.2.0,>=0.1.112->langchain_community) (3.10.7)\n",
      "Requirement already satisfied: python-dotenv>=0.21.0 in /usr/local/lib/python3.10/dist-packages (from pydantic-settings<3.0.0,>=2.4.0->langchain_community) (1.0.1)\n",
      "Requirement already satisfied: charset-normalizer<4,>=2 in /usr/local/lib/python3.10/dist-packages (from requests<3,>=2->langchain_community) (3.3.2)\n",
      "Requirement already satisfied: idna<4,>=2.5 in /usr/local/lib/python3.10/dist-packages (from requests<3,>=2->langchain_community) (3.10)\n",
      "Requirement already satisfied: urllib3<3,>=1.21.1 in /usr/local/lib/python3.10/dist-packages (from requests<3,>=2->langchain_community) (2.0.7)\n",
      "Requirement already satisfied: certifi>=2017.4.17 in /usr/local/lib/python3.10/dist-packages (from requests<3,>=2->langchain_community) (2024.8.30)\n",
      "Requirement already satisfied: greenlet!=0.4.17 in /usr/local/lib/python3.10/dist-packages (from SQLAlchemy<3,>=1.4->langchain_community) (3.1.0)\n",
      "Requirement already satisfied: anyio in /usr/local/lib/python3.10/dist-packages (from httpx<1,>=0.23.0->langsmith<0.2.0,>=0.1.112->langchain_community) (3.7.1)\n",
      "Requirement already satisfied: httpcore==1.* in /usr/local/lib/python3.10/dist-packages (from httpx<1,>=0.23.0->langsmith<0.2.0,>=0.1.112->langchain_community) (1.0.5)\n",
      "Requirement already satisfied: sniffio in /usr/local/lib/python3.10/dist-packages (from httpx<1,>=0.23.0->langsmith<0.2.0,>=0.1.112->langchain_community) (1.3.1)\n",
      "Requirement already satisfied: h11<0.15,>=0.13 in /usr/local/lib/python3.10/dist-packages (from httpcore==1.*->httpx<1,>=0.23.0->langsmith<0.2.0,>=0.1.112->langchain_community) (0.14.0)\n",
      "Requirement already satisfied: jsonpointer>=1.9 in /usr/local/lib/python3.10/dist-packages (from jsonpatch<2.0,>=1.33->langchain-core<0.4.0,>=0.3.0->langchain_community) (3.0.0)\n",
      "Requirement already satisfied: annotated-types>=0.6.0 in /usr/local/lib/python3.10/dist-packages (from pydantic<3.0.0,>=2.7.4->langchain<0.4.0,>=0.3.0->langchain_community) (0.7.0)\n",
      "Requirement already satisfied: pydantic-core==2.23.4 in /usr/local/lib/python3.10/dist-packages (from pydantic<3.0.0,>=2.7.4->langchain<0.4.0,>=0.3.0->langchain_community) (2.23.4)\n",
      "Requirement already satisfied: mypy-extensions>=0.3.0 in /usr/local/lib/python3.10/dist-packages (from typing-inspect<1,>=0.4.0->dataclasses-json<0.7,>=0.5.7->langchain_community) (1.0.0)\n",
      "Requirement already satisfied: exceptiongroup in /usr/local/lib/python3.10/dist-packages (from anyio->httpx<1,>=0.23.0->langsmith<0.2.0,>=0.1.112->langchain_community) (1.2.2)\n"
     ]
    }
   ],
   "source": [
    "!pip install langchain openai\n",
    "!pip install python-dotenv\n",
    "!pip install pydantic\n",
    "!pip install tiktoken\n",
    "!pip install langchain_community"
   ]
  },
  {
   "cell_type": "code",
   "execution_count": 2,
   "id": "cb41f5f4-df8d-4d04-9eaa-193b8c29b00b",
   "metadata": {
    "height": 115,
    "id": "cb41f5f4-df8d-4d04-9eaa-193b8c29b00b",
    "tags": []
   },
   "outputs": [],
   "source": [
    "import os\n",
    "import openai\n",
    "\n",
    "from dotenv import load_dotenv, find_dotenv\n",
    "_ = load_dotenv(find_dotenv()) # read local .env file\n",
    "openai.api_key = os.environ['OPENAI_API_KEY']\n",
    "OPENAI_API_KEY = openai.api_key"
   ]
  },
  {
   "cell_type": "code",
   "execution_count": 3,
   "id": "bfb2ede9-b0b4-4c8c-b00f-9a9911f38614",
   "metadata": {
    "height": 79,
    "id": "bfb2ede9-b0b4-4c8c-b00f-9a9911f38614"
   },
   "outputs": [],
   "source": [
    "from typing import List\n",
    "from pydantic import BaseModel, Field\n",
    "from langchain.utils.openai_functions import convert_pydantic_to_openai_function"
   ]
  },
  {
   "cell_type": "code",
   "execution_count": 4,
   "id": "b3ae5481-4155-4831-a5dd-4c183b3b4990",
   "metadata": {
    "height": 96,
    "id": "b3ae5481-4155-4831-a5dd-4c183b3b4990"
   },
   "outputs": [],
   "source": [
    "class Tagging(BaseModel):\n",
    "    \"\"\"Tag the piece of text with particular info.\"\"\"\n",
    "    sentiment: str = Field(description=\"sentiment of text, should be `pos`, `neg`, or `neutral`\")\n",
    "    language: str = Field(description=\"language of text (should be ISO 639-1 code)\")"
   ]
  },
  {
   "cell_type": "code",
   "execution_count": 5,
   "id": "3cd656b2-62be-49d4-a277-b920c67203c1",
   "metadata": {
    "colab": {
     "base_uri": "https://localhost:8080/"
    },
    "height": 30,
    "id": "3cd656b2-62be-49d4-a277-b920c67203c1",
    "outputId": "829a0a31-3e93-4054-db00-d6ae5b8a20c8"
   },
   "outputs": [
    {
     "name": "stderr",
     "output_type": "stream",
     "text": [
      "<ipython-input-5-ae58ff6334b6>:1: LangChainDeprecationWarning: The function `convert_pydantic_to_openai_function` was deprecated in LangChain 0.1.16 and will be removed in 1.0. Use :meth:`~langchain_core.utils.function_calling.convert_to_openai_function()` instead.\n",
      "  convert_pydantic_to_openai_function(Tagging)\n"
     ]
    },
    {
     "data": {
      "text/plain": [
       "{'name': 'Tagging',\n",
       " 'description': 'Tag the piece of text with particular info.',\n",
       " 'parameters': {'properties': {'sentiment': {'description': 'sentiment of text, should be `pos`, `neg`, or `neutral`',\n",
       "    'type': 'string'},\n",
       "   'language': {'description': 'language of text (should be ISO 639-1 code)',\n",
       "    'type': 'string'}},\n",
       "  'required': ['sentiment', 'language'],\n",
       "  'type': 'object'}}"
      ]
     },
     "execution_count": 5,
     "metadata": {},
     "output_type": "execute_result"
    }
   ],
   "source": [
    "convert_pydantic_to_openai_function(Tagging)"
   ]
  },
  {
   "cell_type": "code",
   "execution_count": 6,
   "id": "ed8b15a7-450c-43d6-af44-ca63800a4619",
   "metadata": {
    "height": 47,
    "id": "ed8b15a7-450c-43d6-af44-ca63800a4619"
   },
   "outputs": [],
   "source": [
    "from langchain.prompts import ChatPromptTemplate\n",
    "from langchain.chat_models import ChatOpenAI"
   ]
  },
  {
   "cell_type": "code",
   "execution_count": 7,
   "id": "2cc5bac3-3783-4ce7-9de6-83c905fba7c5",
   "metadata": {
    "colab": {
     "base_uri": "https://localhost:8080/"
    },
    "height": 30,
    "id": "2cc5bac3-3783-4ce7-9de6-83c905fba7c5",
    "outputId": "0a674d81-8373-4aad-b390-6694889bc0dc"
   },
   "outputs": [
    {
     "name": "stderr",
     "output_type": "stream",
     "text": [
      "<ipython-input-7-215443698e81>:1: LangChainDeprecationWarning: The class `ChatOpenAI` was deprecated in LangChain 0.0.10 and will be removed in 1.0. An updated version of the class exists in the :class:`~langchain-openai package and should be used instead. To use it run `pip install -U :class:`~langchain-openai` and import as `from :class:`~langchain_openai import ChatOpenAI``.\n",
      "  model = ChatOpenAI(api_key= OPENAI_API_KEY)\n"
     ]
    }
   ],
   "source": [
    "model = ChatOpenAI(api_key= OPENAI_API_KEY)"
   ]
  },
  {
   "cell_type": "code",
   "execution_count": 8,
   "id": "798ac5b3-7e47-4cfb-8173-63900cf1e7f6",
   "metadata": {
    "height": 45,
    "id": "798ac5b3-7e47-4cfb-8173-63900cf1e7f6"
   },
   "outputs": [],
   "source": [
    "tagging_functions = [convert_pydantic_to_openai_function(Tagging)]"
   ]
  },
  {
   "cell_type": "code",
   "execution_count": 9,
   "id": "9d558031-18cf-4791-b061-8911ce314605",
   "metadata": {
    "height": 96,
    "id": "9d558031-18cf-4791-b061-8911ce314605"
   },
   "outputs": [],
   "source": [
    "tagging_functions = [convert_pydantic_to_openai_function(Tagging)]\n",
    "prompt = ChatPromptTemplate.from_messages([\n",
    "    (\"system\", \"Think carefully, and then tag the text as instructed\"),\n",
    "    (\"user\", \"{input}\")\n",
    "])"
   ]
  },
  {
   "cell_type": "code",
   "execution_count": 10,
   "id": "00607aff-a64e-42b7-8cf4-893e8393dd33",
   "metadata": {
    "height": 81,
    "id": "00607aff-a64e-42b7-8cf4-893e8393dd33"
   },
   "outputs": [],
   "source": [
    "model_with_functions = model.bind(\n",
    "    functions=tagging_functions,\n",
    "    function_call={\"name\": \"Tagging\"}\n",
    ")"
   ]
  },
  {
   "cell_type": "code",
   "execution_count": 11,
   "id": "1d0bc519-2b8e-40d0-88ec-fc5ef0291f16",
   "metadata": {
    "height": 30,
    "id": "1d0bc519-2b8e-40d0-88ec-fc5ef0291f16"
   },
   "outputs": [],
   "source": [
    "tagging_chain = prompt | model_with_functions"
   ]
  },
  {
   "cell_type": "code",
   "execution_count": 12,
   "id": "8688fdba-0996-446c-a77b-318094944998",
   "metadata": {
    "colab": {
     "base_uri": "https://localhost:8080/"
    },
    "height": 30,
    "id": "8688fdba-0996-446c-a77b-318094944998",
    "outputId": "f99a4f6c-f03f-446a-bf20-b7edbd8f2115"
   },
   "outputs": [
    {
     "data": {
      "text/plain": [
       "AIMessage(content='', additional_kwargs={'function_call': {'arguments': '{\"sentiment\":\"pos\",\"language\":\"en\"}', 'name': 'Tagging'}}, response_metadata={'token_usage': {'completion_tokens': 10, 'prompt_tokens': 108, 'total_tokens': 118, 'completion_tokens_details': {'reasoning_tokens': 0}}, 'model_name': 'gpt-3.5-turbo', 'system_fingerprint': None, 'finish_reason': 'stop', 'logprobs': None}, id='run-9eed23ec-2214-4a4c-ae17-6dd11a84d88d-0')"
      ]
     },
     "execution_count": 12,
     "metadata": {},
     "output_type": "execute_result"
    }
   ],
   "source": [
    "\n",
    "tagging_chain.invoke({\"input\": \"I love langchain\"})"
   ]
  },
  {
   "cell_type": "code",
   "execution_count": 13,
   "id": "7df9aac5-7194-4a12-bda7-e7e83e705929",
   "metadata": {
    "colab": {
     "base_uri": "https://localhost:8080/"
    },
    "height": 30,
    "id": "7df9aac5-7194-4a12-bda7-e7e83e705929",
    "outputId": "a4f5247e-8eef-4a89-906c-5a01a5f71f1b"
   },
   "outputs": [
    {
     "data": {
      "text/plain": [
       "AIMessage(content='', additional_kwargs={'function_call': {'arguments': '{\"sentiment\":\"neg\",\"language\":\"it\"}', 'name': 'Tagging'}}, response_metadata={'token_usage': {'completion_tokens': 10, 'prompt_tokens': 111, 'total_tokens': 121, 'completion_tokens_details': {'reasoning_tokens': 0}}, 'model_name': 'gpt-3.5-turbo', 'system_fingerprint': None, 'finish_reason': 'stop', 'logprobs': None}, id='run-2f5cf01f-ce13-4b81-9102-5297bd969da9-0')"
      ]
     },
     "execution_count": 13,
     "metadata": {},
     "output_type": "execute_result"
    }
   ],
   "source": [
    "tagging_chain.invoke({\"input\": \"non mi piace questo cibo\"})"
   ]
  },
  {
   "cell_type": "code",
   "execution_count": 14,
   "id": "0749e408-3878-4ddd-ad33-8d5b8418a3f2",
   "metadata": {
    "height": 45,
    "id": "0749e408-3878-4ddd-ad33-8d5b8418a3f2"
   },
   "outputs": [],
   "source": [
    "from langchain.output_parsers.openai_functions import JsonOutputFunctionsParser\n",
    "\n",
    "# jsonoutput helps with the format"
   ]
  },
  {
   "cell_type": "code",
   "execution_count": 15,
   "id": "dc45243e-7225-427d-b679-d737ebaec780",
   "metadata": {
    "height": 45,
    "id": "dc45243e-7225-427d-b679-d737ebaec780"
   },
   "outputs": [],
   "source": [
    "tagging_chain = prompt | model_with_functions | JsonOutputFunctionsParser()\n",
    "\n",
    "# add as one of the paramters"
   ]
  },
  {
   "cell_type": "code",
   "execution_count": 16,
   "id": "7ba84e64-518c-40e1-a7c9-d174314bc3fb",
   "metadata": {
    "colab": {
     "base_uri": "https://localhost:8080/"
    },
    "height": 30,
    "id": "7ba84e64-518c-40e1-a7c9-d174314bc3fb",
    "outputId": "d8d501cb-9b28-4ccb-c18d-4596d86f1ca4"
   },
   "outputs": [
    {
     "data": {
      "text/plain": [
       "{'sentiment': 'neg', 'language': 'it'}"
      ]
     },
     "execution_count": 16,
     "metadata": {},
     "output_type": "execute_result"
    }
   ],
   "source": [
    "tagging_chain.invoke({\"input\": \"non mi piace questo cibo\"})"
   ]
  },
  {
   "cell_type": "code",
   "execution_count": 17,
   "id": "Vf0BPcebaEP0",
   "metadata": {
    "colab": {
     "base_uri": "https://localhost:8080/"
    },
    "id": "Vf0BPcebaEP0",
    "outputId": "f0dd25ff-f42b-424d-dfb2-4d5e6c55d721"
   },
   "outputs": [
    {
     "data": {
      "text/plain": [
       "{'sentiment': 'pos', 'language': 'en'}"
      ]
     },
     "execution_count": 17,
     "metadata": {},
     "output_type": "execute_result"
    }
   ],
   "source": [
    "tagging_chain.invoke({\"input\": \"I love langchain\"})"
   ]
  },
  {
   "cell_type": "code",
   "execution_count": 18,
   "id": "hwl-Ijm6gwGu",
   "metadata": {
    "colab": {
     "base_uri": "https://localhost:8080/"
    },
    "id": "hwl-Ijm6gwGu",
    "outputId": "c6a65184-5d9e-4ba9-9416-b004407a7f6e"
   },
   "outputs": [
    {
     "data": {
      "text/plain": [
       "{'sentiment': 'pos', 'language': 'en'}"
      ]
     },
     "execution_count": 18,
     "metadata": {},
     "output_type": "execute_result"
    }
   ],
   "source": [
    "tagging_chain.invoke({\"input\": \"Langchain was created by Harrison Chase. \\\n",
    "It is an open-source developer framework that helps users build applications powered by LLMs.\"})"
   ]
  },
  {
   "cell_type": "markdown",
   "id": "ShyDvXUiiw9Y",
   "metadata": {
    "id": "ShyDvXUiiw9Y"
   },
   "source": [
    "# Put tagging together"
   ]
  },
  {
   "cell_type": "markdown",
   "id": "bq4it13FjIwy",
   "metadata": {
    "id": "bq4it13FjIwy"
   },
   "source": [
    "### In summary, the essential parts are:\n",
    "\n",
    "- Tagging class definition;\n",
    "- convert_pydantic_to_openai_function(Tagging_Function)\n",
    "- tagging_functions = [convert_pydantic_to_openai_function(Tagging)]\n",
    "- prompt = ChatPromptTemplate.from_messages([\n",
    "    (\"system\", \"XXXXXXXXXX\"),\n",
    "    (\"user\", \"{input}\")\n",
    "])\n",
    "- model_with_functions = model.bind(\n",
    "    functions=tagging_functions,\n",
    "    function_call={\"name\": \"Tagging\"}\n",
    ")\n",
    "\n",
    "- define the tagging Chaing using prompt, model_with_functions, json pretifier....\n",
    "tagging_chain = prompt | model_with_functions | JsonOutputFunctionsParser()\n",
    "\n",
    "##### Essential imports, besides the usual ones:\n",
    "\n",
    "- from langchain.output_parsers.openai_functions import JsonOutputFunctionsParser\n",
    "- from langchain.prompts import ChatPromptTemplate\n",
    "- from langchain.chat_models import ChatOpenAI\n",
    "- from langchain.prompts import ChatPromptTemplate\n",
    "- from langchain.chat_models import ChatOpenAI\n",
    "- from typing import List\n",
    "- from pydantic import BaseModel, Field\n",
    "- from langchain.utils.openai_functions import convert_pydantic_to_openai_function\n",
    "\n",
    "# add as one of the paramters"
   ]
  },
  {
   "cell_type": "code",
   "execution_count": 18,
   "id": "2d1Poh6ZjIR0",
   "metadata": {
    "id": "2d1Poh6ZjIR0"
   },
   "outputs": [],
   "source": []
  },
  {
   "cell_type": "code",
   "execution_count": 19,
   "id": "ppuL26FMhWUY",
   "metadata": {
    "id": "ppuL26FMhWUY"
   },
   "outputs": [],
   "source": [
    "# now, modify the tagging definition slightly.\n",
    "class Tagging(BaseModel):\n",
    "    \"\"\"Tag the piece of text with particular info.\"\"\"\n",
    "    objects: str = Field(description=\"capture the objects\")\n",
    "    summary: str = Field(description=\"summarize the texts in 10 words or less.\")\n",
    "    sentiment: str = Field(description=\"sentiment of text, should be `pos`, `neg`, or `neutral`\")\n",
    "    explainatory: str = Field(description=\"explain why the text is the given sentiment\")\n",
    "    language: str = Field(description=\"language of text (should be ISO 639-1 code)\")"
   ]
  },
  {
   "cell_type": "code",
   "execution_count": 20,
   "id": "ickJbpL2ivtA",
   "metadata": {
    "colab": {
     "base_uri": "https://localhost:8080/"
    },
    "id": "ickJbpL2ivtA",
    "outputId": "a8c9cadd-d952-4606-981a-b0793bf5645a"
   },
   "outputs": [
    {
     "data": {
      "text/plain": [
       "{'name': 'Tagging',\n",
       " 'description': 'Tag the piece of text with particular info.',\n",
       " 'parameters': {'properties': {'objects': {'description': 'capture the objects',\n",
       "    'type': 'string'},\n",
       "   'summary': {'description': 'summarize the texts in 10 words or less.',\n",
       "    'type': 'string'},\n",
       "   'sentiment': {'description': 'sentiment of text, should be `pos`, `neg`, or `neutral`',\n",
       "    'type': 'string'},\n",
       "   'explainatory': {'description': 'explain why the text is the given sentiment',\n",
       "    'type': 'string'},\n",
       "   'language': {'description': 'language of text (should be ISO 639-1 code)',\n",
       "    'type': 'string'}},\n",
       "  'required': ['objects', 'summary', 'sentiment', 'explainatory', 'language'],\n",
       "  'type': 'object'}}"
      ]
     },
     "execution_count": 20,
     "metadata": {},
     "output_type": "execute_result"
    }
   ],
   "source": [
    "convert_pydantic_to_openai_function(Tagging)"
   ]
  },
  {
   "cell_type": "code",
   "execution_count": 21,
   "id": "NOTyJbl-i8P_",
   "metadata": {
    "id": "NOTyJbl-i8P_"
   },
   "outputs": [],
   "source": [
    "tagging_functions = [convert_pydantic_to_openai_function(Tagging)]\n",
    "prompt = ChatPromptTemplate.from_messages([\n",
    "    (\"system\", \"Think carefully, and then tag the text as instructed\"),\n",
    "    (\"user\", \"{input}\")\n",
    "])\n",
    "model_with_functions = model.bind(\n",
    "    functions=tagging_functions,\n",
    "    function_call={\"name\": \"Tagging\"}\n",
    ")\n",
    "tagging_chain = prompt | model_with_functions | JsonOutputFunctionsParser()\n",
    "\n",
    "# add as one of the paramters"
   ]
  },
  {
   "cell_type": "code",
   "execution_count": 22,
   "id": "1gpr3InFi4AT",
   "metadata": {
    "id": "1gpr3InFi4AT"
   },
   "outputs": [],
   "source": [
    "model = ChatOpenAI(api_key= OPENAI_API_KEY)"
   ]
  },
  {
   "cell_type": "code",
   "execution_count": 23,
   "id": "S9I-eyvrh46U",
   "metadata": {
    "colab": {
     "base_uri": "https://localhost:8080/"
    },
    "id": "S9I-eyvrh46U",
    "outputId": "17656174-ee53-4dd7-f3aa-67c60db276a5"
   },
   "outputs": [
    {
     "data": {
      "text/plain": [
       "{'objects': 'movie Substance',\n",
       " 'summary': 'Praise for originality, innovation, and storytelling; modest budget and earnings',\n",
       " 'sentiment': 'pos',\n",
       " 'explainatory': 'The text praises the movie for its originality, innovation, and storytelling, as well as its modest budget and critical acclaim.',\n",
       " 'language': 'en'}"
      ]
     },
     "execution_count": 23,
     "metadata": {},
     "output_type": "execute_result"
    }
   ],
   "source": [
    "tagging_chain.invoke({\"input\": \"The movie Substance stands out as an original film, \\\n",
    "a refreshing departure from the usual Hollywood fare. It embodies the kind of innovative \\\n",
    "storytelling that the industry should embrace more often. It shows that unique ideas still have a place on the big screen. \\\n",
    "Importantly, it doesn't need a sequel or prequel—its story is complete as is, and adding more would not be super interesting.\\\n",
    "It’s remarkable that Substance was made with a modest budget of just $17.5 million, yet it delivers a visually and narratively \\\n",
    "compelling experience. Surprisingly, its box office earnings of only $2 million fall short of expectations, \\\n",
    "considering the buzz around it. Despite this, the movie has garnered higher ratings on critical review platforms than on Google Reviews, \\\n",
    "indicating stronger support from critics than the general audience.\\\n",
    "Viewers, at least, I, would much rather Hollywood take note of films like Substance—bold, original projects that push creative \\\n",
    "boundaries—and continue to invest in similarly daring ventures.\"})"
   ]
  },
  {
   "cell_type": "markdown",
   "id": "92e417b4-9306-413f-865f-e13dbd2d0196",
   "metadata": {
    "id": "92e417b4-9306-413f-865f-e13dbd2d0196"
   },
   "source": [
    "## Extraction\n",
    "\n",
    "Extraction is similar to tagging, but used for extracting **multiple** pieces of information.\n",
    "\n",
    "#### and you can define your own function to teach the chain how to summarize and tag the correct information retrived from the texts."
   ]
  },
  {
   "cell_type": "code",
   "execution_count": 24,
   "id": "97338dce-a61a-4f8b-912c-6108dcb86183",
   "metadata": {
    "height": 98,
    "id": "97338dce-a61a-4f8b-912c-6108dcb86183"
   },
   "outputs": [],
   "source": [
    "from typing import Optional\n",
    "class Person(BaseModel):\n",
    "    \"\"\"Information about a person.\"\"\"\n",
    "    name: str = Field(description=\"person's name\")\n",
    "    age: Optional[int] = Field(description=\"person's age\")"
   ]
  },
  {
   "cell_type": "code",
   "execution_count": 25,
   "id": "f558fb45-f3a5-47be-8778-dddec2d00ba1",
   "metadata": {
    "height": 79,
    "id": "f558fb45-f3a5-47be-8778-dddec2d00ba1"
   },
   "outputs": [],
   "source": [
    "class Information(BaseModel):\n",
    "    \"\"\"Information to extract.\"\"\"\n",
    "    people: List[Person] = Field(description=\"List of info about people\")\n",
    "    # what we areally are about is to identify this \"Person\" field so that it can be reconstructured in real examples."
   ]
  },
  {
   "cell_type": "code",
   "execution_count": 26,
   "id": "5eeb6028-0ade-46f6-a899-ca10f185bb24",
   "metadata": {
    "colab": {
     "base_uri": "https://localhost:8080/"
    },
    "height": 30,
    "id": "5eeb6028-0ade-46f6-a899-ca10f185bb24",
    "outputId": "5137082b-22bd-4347-c0be-b9d305868899"
   },
   "outputs": [
    {
     "data": {
      "text/plain": [
       "{'name': 'Information',\n",
       " 'description': 'Information to extract.',\n",
       " 'parameters': {'properties': {'people': {'description': 'List of info about people',\n",
       "    'items': {'description': 'Information about a person.',\n",
       "     'properties': {'name': {'description': \"person's name\", 'type': 'string'},\n",
       "      'age': {'anyOf': [{'type': 'integer'}, {'type': 'null'}],\n",
       "       'description': \"person's age\"}},\n",
       "     'required': ['name', 'age'],\n",
       "     'type': 'object'},\n",
       "    'type': 'array'}},\n",
       "  'required': ['people'],\n",
       "  'type': 'object'}}"
      ]
     },
     "execution_count": 26,
     "metadata": {},
     "output_type": "execute_result"
    }
   ],
   "source": [
    "convert_pydantic_to_openai_function(Information)"
   ]
  },
  {
   "cell_type": "markdown",
   "id": "E-W4uwj0kvNU",
   "metadata": {
    "id": "E-W4uwj0kvNU"
   },
   "source": [
    "This is converting your Information model (Pydantic) into a function definition that openai's model can work with. Essentially, it translates the Python data structures into something the model can understand to extract information from input text."
   ]
  },
  {
   "cell_type": "markdown",
   "id": "wdbTmr6Zk6xO",
   "metadata": {
    "id": "wdbTmr6Zk6xO"
   },
   "source": [
    "The convert_pydantic_to_openai_function(Information) translates the schema of the Information model so that it can be used to extract structured data in the form of Information when invoked in the chain."
   ]
  },
  {
   "cell_type": "code",
   "execution_count": 27,
   "id": "f16ce50e-bad7-4fbb-b9e2-0adae6fc55f2",
   "metadata": {
    "height": 62,
    "id": "f16ce50e-bad7-4fbb-b9e2-0adae6fc55f2"
   },
   "outputs": [],
   "source": [
    "extraction_functions = [convert_pydantic_to_openai_function(Information)]\n",
    "extraction_model = model.bind(functions=extraction_functions, function_call={\"name\": \"Information\"})"
   ]
  },
  {
   "cell_type": "markdown",
   "id": "B7P6w7ENlBIg",
   "metadata": {
    "id": "B7P6w7ENlBIg"
   },
   "source": [
    "model.bind: This binds the open model (GPT-4 or something else) to the specific functions defined using convert_pydantic_to_openai_function. So it is specifying that the model should call the \"Information\" function when extracting data.\n",
    "\n",
    "\n",
    "\n",
    "\n",
    "invoke: The invoke method calls the model with an input (in this case, \"Joe is 30, his mom is Martha\"). The model is instructed to extract information about people using the function you just defined (Information)."
   ]
  },
  {
   "cell_type": "code",
   "execution_count": 27,
   "id": "nUWp9sLkkuaa",
   "metadata": {
    "id": "nUWp9sLkkuaa"
   },
   "outputs": [],
   "source": []
  },
  {
   "cell_type": "code",
   "execution_count": 28,
   "id": "3ed58069-3f7c-433e-93ed-5660d21435c9",
   "metadata": {
    "colab": {
     "base_uri": "https://localhost:8080/"
    },
    "height": 30,
    "id": "3ed58069-3f7c-433e-93ed-5660d21435c9",
    "outputId": "0321dcb7-16c4-44f1-dc54-eba8c2c76057"
   },
   "outputs": [
    {
     "data": {
      "text/plain": [
       "AIMessage(content='', additional_kwargs={'function_call': {'arguments': '{\"people\":[{\"name\":\"Joe\",\"age\":30},{\"name\":\"Martha\",\"age\":null}]}', 'name': 'Information'}}, response_metadata={'token_usage': {'completion_tokens': 21, 'prompt_tokens': 95, 'total_tokens': 116, 'completion_tokens_details': {'reasoning_tokens': 0}}, 'model_name': 'gpt-3.5-turbo', 'system_fingerprint': None, 'finish_reason': 'stop', 'logprobs': None}, id='run-43a79bba-15e0-4323-b532-2c1919e215d1-0')"
      ]
     },
     "execution_count": 28,
     "metadata": {},
     "output_type": "execute_result"
    }
   ],
   "source": [
    "extraction_model.invoke(\"Joe is 30, his mom is Martha\")"
   ]
  },
  {
   "cell_type": "code",
   "execution_count": 29,
   "id": "172df097-250a-4813-b76d-21436c13056d",
   "metadata": {
    "height": 96,
    "id": "172df097-250a-4813-b76d-21436c13056d"
   },
   "outputs": [],
   "source": [
    "prompt = ChatPromptTemplate.from_messages([\n",
    "    (\"system\", \"Extract the relevant information, if not explicitly provided do not guess. Extract partial info\"),\n",
    "    (\"human\", \"{input}\")\n",
    "])"
   ]
  },
  {
   "cell_type": "code",
   "execution_count": 30,
   "id": "dfec48d7-25a2-46d7-a7a2-33284b577dd3",
   "metadata": {
    "height": 30,
    "id": "dfec48d7-25a2-46d7-a7a2-33284b577dd3"
   },
   "outputs": [],
   "source": [
    "extraction_chain = prompt | extraction_model"
   ]
  },
  {
   "cell_type": "code",
   "execution_count": 31,
   "id": "f19622af-4b01-4145-ae5a-af15b551a182",
   "metadata": {
    "colab": {
     "base_uri": "https://localhost:8080/"
    },
    "height": 45,
    "id": "f19622af-4b01-4145-ae5a-af15b551a182",
    "outputId": "95a8903f-a350-4be2-bb61-416b1c34f326"
   },
   "outputs": [
    {
     "data": {
      "text/plain": [
       "AIMessage(content='', additional_kwargs={'function_call': {'arguments': '{\"people\":[{\"name\":\"Joe\",\"age\":30},{\"name\":\"Martha\",\"age\":null}]}', 'name': 'Information'}}, response_metadata={'token_usage': {'completion_tokens': 21, 'prompt_tokens': 112, 'total_tokens': 133, 'completion_tokens_details': {'reasoning_tokens': 0}}, 'model_name': 'gpt-3.5-turbo', 'system_fingerprint': None, 'finish_reason': 'stop', 'logprobs': None}, id='run-68c23fd8-b4d0-43d2-98f4-6e0680d05918-0')"
      ]
     },
     "execution_count": 31,
     "metadata": {},
     "output_type": "execute_result"
    }
   ],
   "source": [
    "extraction_chain.invoke({\"input\": \"Joe is 30, his mom is Martha\"})"
   ]
  },
  {
   "cell_type": "code",
   "execution_count": 32,
   "id": "38989431-9a61-461e-a86f-61a7dddab63c",
   "metadata": {
    "height": 45,
    "id": "38989431-9a61-461e-a86f-61a7dddab63c"
   },
   "outputs": [],
   "source": [
    "extraction_chain = prompt | extraction_model | JsonOutputFunctionsParser()\n",
    "# could just use json directly."
   ]
  },
  {
   "cell_type": "code",
   "execution_count": 33,
   "id": "13ac89c9-1e8d-4e11-8bca-909a6c34d23c",
   "metadata": {
    "colab": {
     "base_uri": "https://localhost:8080/"
    },
    "height": 45,
    "id": "13ac89c9-1e8d-4e11-8bca-909a6c34d23c",
    "outputId": "8193cd11-14c2-4c14-bb62-2ae731c8afc4"
   },
   "outputs": [
    {
     "data": {
      "text/plain": [
       "{'people': [{'name': 'Joe', 'age': 30}, {'name': 'Martha', 'age': None}]}"
      ]
     },
     "execution_count": 33,
     "metadata": {},
     "output_type": "execute_result"
    }
   ],
   "source": [
    "extraction_chain.invoke({\"input\": \"Joe is 30, his mom is Martha\"})"
   ]
  },
  {
   "cell_type": "code",
   "execution_count": 34,
   "id": "f8db4b39-c28b-4c0e-8b9a-55ceb8ba817e",
   "metadata": {
    "height": 45,
    "id": "f8db4b39-c28b-4c0e-8b9a-55ceb8ba817e"
   },
   "outputs": [],
   "source": [
    "from langchain.output_parsers.openai_functions import JsonKeyOutputFunctionsParser"
   ]
  },
  {
   "cell_type": "code",
   "execution_count": 35,
   "id": "2901d3ac-4dfc-4fb9-afd3-ab056489d3ae",
   "metadata": {
    "height": 45,
    "id": "2901d3ac-4dfc-4fb9-afd3-ab056489d3ae"
   },
   "outputs": [],
   "source": [
    "extraction_chain = prompt | extraction_model | JsonKeyOutputFunctionsParser(key_name=\"people\")"
   ]
  },
  {
   "cell_type": "code",
   "execution_count": 36,
   "id": "c7eff400-9f3a-42a8-ba4a-a3757e7939e2",
   "metadata": {
    "height": 45,
    "id": "c7eff400-9f3a-42a8-ba4a-a3757e7939e2"
   },
   "outputs": [],
   "source": [
    "extraction_chain.invoke({\"input\": \"Joe is 30, his mom is Martha, and her age is 65\"})\n",
    "\n",
    "# better format"
   ]
  },
  {
   "cell_type": "markdown",
   "id": "90Iaw2m0jPIa",
   "metadata": {
    "id": "90Iaw2m0jPIa"
   },
   "source": [
    "## Put things together Extractions\n"
   ]
  },
  {
   "cell_type": "code",
   "execution_count": 37,
   "id": "hTVZOhhVjOgM",
   "metadata": {
    "id": "hTVZOhhVjOgM"
   },
   "outputs": [],
   "source": [
    "from typing import Optional\n",
    "class Person(BaseModel):\n",
    "    \"\"\"Information about a person.\"\"\"\n",
    "    name: str = Field(description=\"person's name\")\n",
    "    age: Optional[int] = Field(description=\"person's age\")\n",
    "\n",
    "class Information(BaseModel):\n",
    "    \"\"\"Information to extract.\"\"\"\n",
    "    people: List[Person] = Field(description=\"List of info about people\")\n"
   ]
  },
  {
   "cell_type": "code",
   "execution_count": 38,
   "id": "hfFjgyInomSz",
   "metadata": {
    "id": "hfFjgyInomSz"
   },
   "outputs": [],
   "source": [
    "from pydantic import BaseModel, Field, EmailStr, HttpUrl, conint\n",
    "from typing import List, Optional\n",
    "from enum import Enum\n",
    "from datetime import date, datetime"
   ]
  },
  {
   "cell_type": "code",
   "execution_count": 39,
   "id": "OSdW3fyclv5g",
   "metadata": {
    "colab": {
     "base_uri": "https://localhost:8080/"
    },
    "id": "OSdW3fyclv5g",
    "outputId": "184be352-557c-44e4-a749-42cffd2931f3"
   },
   "outputs": [
    {
     "name": "stdout",
     "output_type": "stream",
     "text": [
      "Requirement already satisfied: pydantic[email] in /usr/local/lib/python3.10/dist-packages (2.9.2)\n",
      "Requirement already satisfied: annotated-types>=0.6.0 in /usr/local/lib/python3.10/dist-packages (from pydantic[email]) (0.7.0)\n",
      "Requirement already satisfied: pydantic-core==2.23.4 in /usr/local/lib/python3.10/dist-packages (from pydantic[email]) (2.23.4)\n",
      "Requirement already satisfied: typing-extensions>=4.6.1 in /usr/local/lib/python3.10/dist-packages (from pydantic[email]) (4.12.2)\n",
      "Requirement already satisfied: email-validator>=2.0.0 in /usr/local/lib/python3.10/dist-packages (from pydantic[email]) (2.2.0)\n",
      "Requirement already satisfied: dnspython>=2.0.0 in /usr/local/lib/python3.10/dist-packages (from email-validator>=2.0.0->pydantic[email]) (2.6.1)\n",
      "Requirement already satisfied: idna>=2.0.0 in /usr/local/lib/python3.10/dist-packages (from email-validator>=2.0.0->pydantic[email]) (3.10)\n"
     ]
    }
   ],
   "source": [
    "!pip install pydantic[email]\n",
    "# interesting....."
   ]
  },
  {
   "cell_type": "code",
   "execution_count": 40,
   "id": "rQ4uxxBelqwe",
   "metadata": {
    "id": "rQ4uxxBelqwe"
   },
   "outputs": [],
   "source": [
    "# code source: https://python.langchain.com/v0.1/docs/use_cases/extraction/how_to/examples/\n",
    "\n",
    "class Gender(str, Enum):\n",
    "    MALE = \"male\"\n",
    "    FEMALE = \"female\"\n",
    "    OTHER = \"other\"\n",
    "\n",
    "class Address(BaseModel):\n",
    "    street: str = Field(description=\"street address\")\n",
    "    city: str = Field(description=\"city name\")\n",
    "    zipcode: str = Field(description=\"zip code\")\n",
    "    country: str = Field(description=\"country name\")\n",
    "\n",
    "class Job(BaseModel):\n",
    "    company_name: str = Field(description=\"Company where the person works\")\n",
    "    job_title: str = Field(description=\"lob title or position\")\n",
    "\n",
    "class Person(BaseModel):\n",
    "    name: str = Field(description=\"Person's full name\", min_length=2)\n",
    "    age: Optional[conint(ge=0, le=150)] = Field(description=\"Person's age\")\n",
    "    email: Optional[EmailStr] = Field(description=\"Person's email address\")\n",
    "    gender: Optional[Gender] = Field(description=\"Person's gender\")\n",
    "    address: Optional[Address] = Field(description=\"Person's address\")\n",
    "    jobs: Optional[List[Job]] = Field(description=\"List of jobs held by the person\")\n",
    "    birth_date: Optional[date] = Field(description=\"Person's birth date\")\n",
    "    friends: Optional[List[str]] = Field(description=\"List of friends' names\")\n",
    "    relatives: Optional[List[str]] = Field(description=\"List of relatives' names\")\n",
    "    is_employed: bool = Field(description=\"Employment status of the person\", default=False)\n",
    "    created_at: datetime = Field(default_factory=datetime.utcnow)\n",
    "\n",
    "class Information(BaseModel):\n",
    "    people: List[Person] = Field(description=\"List of people information\")\n"
   ]
  },
  {
   "cell_type": "code",
   "execution_count": 41,
   "id": "WGc_jO_wl_-Q",
   "metadata": {
    "colab": {
     "base_uri": "https://localhost:8080/"
    },
    "id": "WGc_jO_wl_-Q",
    "outputId": "3931cbaf-4ffe-4d0b-9768-2778b87c41cf"
   },
   "outputs": [
    {
     "data": {
      "text/plain": [
       "{'name': 'Information',\n",
       " 'description': '',\n",
       " 'parameters': {'properties': {'people': {'description': 'List of people information',\n",
       "    'items': {'properties': {'name': {'description': \"Person's full name\",\n",
       "       'minLength': 2,\n",
       "       'type': 'string'},\n",
       "      'age': {'anyOf': [{'maximum': 150, 'minimum': 0, 'type': 'integer'},\n",
       "        {'type': 'null'}],\n",
       "       'description': \"Person's age\"},\n",
       "      'email': {'anyOf': [{'format': 'email', 'type': 'string'},\n",
       "        {'type': 'null'}],\n",
       "       'description': \"Person's email address\"},\n",
       "      'gender': {'anyOf': [{'enum': ['male', 'female', 'other'],\n",
       "         'title': 'Gender',\n",
       "         'type': 'string'},\n",
       "        {'type': 'null'}],\n",
       "       'description': \"Person's gender\"},\n",
       "      'address': {'anyOf': [{'properties': {'street': {'description': 'street address',\n",
       "           'title': 'Street',\n",
       "           'type': 'string'},\n",
       "          'city': {'description': 'city name',\n",
       "           'title': 'City',\n",
       "           'type': 'string'},\n",
       "          'zipcode': {'description': 'zip code',\n",
       "           'title': 'Zipcode',\n",
       "           'type': 'string'},\n",
       "          'country': {'description': 'country name',\n",
       "           'title': 'Country',\n",
       "           'type': 'string'}},\n",
       "         'required': ['street', 'city', 'zipcode', 'country'],\n",
       "         'title': 'Address',\n",
       "         'type': 'object'},\n",
       "        {'type': 'null'}],\n",
       "       'description': \"Person's address\"},\n",
       "      'jobs': {'anyOf': [{'items': {'properties': {'company_name': {'description': 'Company where the person works',\n",
       "            'title': 'Company Name',\n",
       "            'type': 'string'},\n",
       "           'job_title': {'description': 'lob title or position',\n",
       "            'title': 'Job Title',\n",
       "            'type': 'string'}},\n",
       "          'required': ['company_name', 'job_title'],\n",
       "          'title': 'Job',\n",
       "          'type': 'object'},\n",
       "         'type': 'array'},\n",
       "        {'type': 'null'}],\n",
       "       'description': 'List of jobs held by the person'},\n",
       "      'birth_date': {'anyOf': [{'format': 'date', 'type': 'string'},\n",
       "        {'type': 'null'}],\n",
       "       'description': \"Person's birth date\"},\n",
       "      'friends': {'anyOf': [{'items': {'type': 'string'}, 'type': 'array'},\n",
       "        {'type': 'null'}],\n",
       "       'description': \"List of friends' names\"},\n",
       "      'relatives': {'anyOf': [{'items': {'type': 'string'}, 'type': 'array'},\n",
       "        {'type': 'null'}],\n",
       "       'description': \"List of relatives' names\"},\n",
       "      'is_employed': {'default': False,\n",
       "       'description': 'Employment status of the person',\n",
       "       'type': 'boolean'},\n",
       "      'created_at': {'format': 'date-time', 'type': 'string'}},\n",
       "     'required': ['name',\n",
       "      'age',\n",
       "      'email',\n",
       "      'gender',\n",
       "      'address',\n",
       "      'jobs',\n",
       "      'birth_date',\n",
       "      'friends',\n",
       "      'relatives'],\n",
       "     'type': 'object'},\n",
       "    'type': 'array'}},\n",
       "  'required': ['people'],\n",
       "  'type': 'object'}}"
      ]
     },
     "execution_count": 41,
     "metadata": {},
     "output_type": "execute_result"
    }
   ],
   "source": [
    "convert_pydantic_to_openai_function(Information)"
   ]
  },
  {
   "cell_type": "code",
   "execution_count": 42,
   "id": "cgKusKhamld7",
   "metadata": {
    "id": "cgKusKhamld7"
   },
   "outputs": [],
   "source": [
    "extraction_functions = [convert_pydantic_to_openai_function(Information)]\n",
    "\n",
    "extraction_model = model.bind(functions=extraction_functions, function_call={\"name\": \"Information\"})"
   ]
  },
  {
   "cell_type": "code",
   "execution_count": 43,
   "id": "6DNAKdjJmoew",
   "metadata": {
    "colab": {
     "base_uri": "https://localhost:8080/"
    },
    "id": "6DNAKdjJmoew",
    "outputId": "a3d5544f-f536-4f25-eecf-beb9170de767"
   },
   "outputs": [
    {
     "data": {
      "text/plain": [
       "AIMessage(content='', additional_kwargs={'function_call': {'arguments': '{\"people\":[{\"name\":\"Joe\",\"age\":30,\"relatives\":[\"Martha\"]}]}', 'name': 'Information'}}, response_metadata={'token_usage': {'completion_tokens': 18, 'prompt_tokens': 355, 'total_tokens': 373, 'completion_tokens_details': {'reasoning_tokens': 0}}, 'model_name': 'gpt-3.5-turbo', 'system_fingerprint': None, 'finish_reason': 'stop', 'logprobs': None}, id='run-47f4bb4e-9860-47e5-93e5-6308331326c4-0')"
      ]
     },
     "execution_count": 43,
     "metadata": {},
     "output_type": "execute_result"
    }
   ],
   "source": [
    "extraction_model.invoke(\"Joe is 30, his mom is Martha. He \")"
   ]
  },
  {
   "cell_type": "code",
   "execution_count": 44,
   "id": "st-ERMRkmsso",
   "metadata": {
    "id": "st-ERMRkmsso"
   },
   "outputs": [],
   "source": [
    "prompt = ChatPromptTemplate.from_messages([\n",
    "    (\"system\", \"Extract the relevant information, if not explicitly provided do not guess. Extract partial info\"),\n",
    "    (\"human\", \"{input}\")\n",
    "])\n"
   ]
  },
  {
   "cell_type": "code",
   "execution_count": 45,
   "id": "fEcm3MQkmuMD",
   "metadata": {
    "id": "fEcm3MQkmuMD"
   },
   "outputs": [],
   "source": [
    "extraction_chain = prompt | extraction_model"
   ]
  },
  {
   "cell_type": "code",
   "execution_count": 46,
   "id": "gKoMuVV-mvoV",
   "metadata": {
    "colab": {
     "base_uri": "https://localhost:8080/"
    },
    "id": "gKoMuVV-mvoV",
    "outputId": "a71ffb0c-cc6b-4d7d-e41e-065caf7999fd"
   },
   "outputs": [
    {
     "data": {
      "text/plain": [
       "AIMessage(content='', additional_kwargs={'function_call': {'arguments': '{\"people\":[{\"name\":\"Joe\",\"age\":30,\"jobs\":[{\"company_name\":\"Google\",\"job_title\":\"Data Scientist\"}],\"birth_date\":\"1987\",\"friends\":[\"Tom\",\"Jack\",\"Tim\"],\"relatives\":[\"Martha\"]}]}', 'name': 'Information'}}, response_metadata={'token_usage': {'completion_tokens': 46, 'prompt_tokens': 403, 'total_tokens': 449, 'completion_tokens_details': {'reasoning_tokens': 0}}, 'model_name': 'gpt-3.5-turbo', 'system_fingerprint': None, 'finish_reason': 'stop', 'logprobs': None}, id='run-bb677c70-a121-4961-a6cd-c06f33268e37-0')"
      ]
     },
     "execution_count": 46,
     "metadata": {},
     "output_type": "execute_result"
    }
   ],
   "source": [
    "extraction_chain.invoke({\"input\": \"Joe is 30, his mom is Martha. He works at Google as \\\n",
    "a data scientist. He has 3 friends, and they are Tom, Jack, and Tim. \\\n",
    "He was born in 1987.\"})"
   ]
  },
  {
   "cell_type": "code",
   "execution_count": 47,
   "id": "MjUCoi6Bn6IH",
   "metadata": {
    "id": "MjUCoi6Bn6IH"
   },
   "outputs": [],
   "source": [
    "prompt = ChatPromptTemplate.from_messages([\n",
    "    (\"system\", \"Extract the relevant information, if not explicitly provided do not guess. Extract partial info\"),\n",
    "    (\"human\", \"{input}\")\n",
    "])\n",
    "extraction_model = model.bind(functions=extraction_functions, function_call={\"name\": \"Information\"})\n"
   ]
  },
  {
   "cell_type": "code",
   "execution_count": 48,
   "id": "OYmbZnU4n9Z4",
   "metadata": {
    "id": "OYmbZnU4n9Z4"
   },
   "outputs": [],
   "source": [
    "json_parser = JsonKeyOutputFunctionsParser(key_name=\"people\")\n"
   ]
  },
  {
   "cell_type": "code",
   "execution_count": 49,
   "id": "2jVDxrqzn_65",
   "metadata": {
    "id": "2jVDxrqzn_65"
   },
   "outputs": [],
   "source": [
    "extraction_chain = prompt | extraction_model | json_parser\n"
   ]
  },
  {
   "cell_type": "code",
   "execution_count": 50,
   "id": "p-M6X6ICoEa0",
   "metadata": {
    "id": "p-M6X6ICoEa0"
   },
   "outputs": [],
   "source": [
    "result = extraction_chain.invoke({\"input\": \"Joe is 30, his mom is Martha. He works at Google as \\\n",
    "a data scientist. He has 3 friends, and they are Tom, Jack, and Tim. \\\n",
    "He was born in 1987.\"})\n",
    "\n"
   ]
  },
  {
   "cell_type": "code",
   "execution_count": 51,
   "id": "ocKe1x4KoTKg",
   "metadata": {
    "colab": {
     "base_uri": "https://localhost:8080/"
    },
    "id": "ocKe1x4KoTKg",
    "outputId": "eedccc1c-3a9a-40c4-ec5b-856411dcc920"
   },
   "outputs": [
    {
     "data": {
      "text/plain": [
       "[{'name': 'Joe',\n",
       "  'age': 30,\n",
       "  'jobs': [{'company_name': 'Google', 'job_title': 'Data Scientist'}],\n",
       "  'birth_date': '1987',\n",
       "  'friends': ['Tom', 'Jack', 'Tim'],\n",
       "  'relatives': ['Martha']}]"
      ]
     },
     "execution_count": 51,
     "metadata": {},
     "output_type": "execute_result"
    }
   ],
   "source": [
    "result"
   ]
  },
  {
   "cell_type": "markdown",
   "id": "pHhaSD11mm8F",
   "metadata": {
    "id": "pHhaSD11mm8F"
   },
   "source": []
  },
  {
   "cell_type": "code",
   "execution_count": 52,
   "id": "Z2_KFRrSjj8Y",
   "metadata": {
    "colab": {
     "base_uri": "https://localhost:8080/"
    },
    "id": "Z2_KFRrSjj8Y",
    "outputId": "62d25d13-f581-44b7-ae60-85139d45fbf5"
   },
   "outputs": [
    {
     "data": {
      "text/plain": [
       "[{'name': 'Joe', 'age': 30}, {'name': 'Martha'}]"
      ]
     },
     "execution_count": 52,
     "metadata": {},
     "output_type": "execute_result"
    }
   ],
   "source": [
    "# from typing import Optional\n",
    "# class Person(BaseModel):\n",
    "#     \"\"\"Information about a person.\"\"\"\n",
    "#     name: str = Field(description=\"person's name\")\n",
    "#     age: Optional[int] = Field(description=\"person's age\")\n",
    "\n",
    "# class Information(BaseModel):\n",
    "#     \"\"\"Information to extract.\"\"\"\n",
    "#     people: List[Person] = Field(description=\"List of info about people\")\n",
    "\n",
    "\n",
    "convert_pydantic_to_openai_function(Information)\n",
    "\n",
    "extraction_functions = [convert_pydantic_to_openai_function(Information)]\n",
    "extraction_model = model.bind(functions=extraction_functions, function_call={\"name\": \"Information\"})\n",
    "\n",
    "extraction_model.invoke(\"Joe is 30, his mom is Martha\")\n",
    "\n",
    "prompt = ChatPromptTemplate.from_messages([\n",
    "    (\"system\", \"Extract the relevant information, if not explicitly provided do not guess. Extract partial info\"),\n",
    "    (\"human\", \"{input}\")\n",
    "])\n",
    "\n",
    "extraction_chain = prompt | extraction_model\n",
    "\n",
    "extraction_chain.invoke({\"input\": \"Joe is 30, his mom is Martha\"})\n",
    "\n",
    "# extraction_chain.invoke({\"input\": \"Joe is 30, his mom is Martha\"})\n",
    "\n",
    "from langchain.output_parsers.openai_functions import JsonKeyOutputFunctionsParser\n",
    "\n",
    "extraction_chain = prompt | extraction_model | JsonKeyOutputFunctionsParser(key_name=\"people\")\n",
    "\n",
    "extraction_chain.invoke({\"input\": \"Joe is 30, his mom is Martha\"})"
   ]
  },
  {
   "cell_type": "markdown",
   "id": "3b8524f3-a663-4007-ad59-52dfe00343e9",
   "metadata": {
    "id": "3b8524f3-a663-4007-ad59-52dfe00343e9"
   },
   "source": [
    "## Doing it for real\n",
    "\n",
    "We can apply tagging to a larger body of text.\n",
    "\n",
    "For example, let's load this blog post and extract tag information from a sub-set of the text."
   ]
  },
  {
   "cell_type": "code",
   "execution_count": 53,
   "id": "bc7c4a8c-d4c8-4400-b1d3-5c7c0c25786e",
   "metadata": {
    "colab": {
     "base_uri": "https://localhost:8080/"
    },
    "height": 79,
    "id": "bc7c4a8c-d4c8-4400-b1d3-5c7c0c25786e",
    "outputId": "26323777-17e8-4ecb-9978-57dfa9484a9e"
   },
   "outputs": [
    {
     "name": "stderr",
     "output_type": "stream",
     "text": [
      "WARNING:langchain_community.utils.user_agent:USER_AGENT environment variable not set, consider setting it to identify your requests.\n"
     ]
    }
   ],
   "source": [
    "from langchain.document_loaders import WebBaseLoader\n",
    "loader = WebBaseLoader(\"https://lilianweng.github.io/posts/2023-06-23-agent/\")\n",
    "documents = loader.load()"
   ]
  },
  {
   "cell_type": "code",
   "execution_count": 54,
   "id": "dbd2e910-e0e0-447a-8118-6fe792f04e15",
   "metadata": {
    "height": 30,
    "id": "dbd2e910-e0e0-447a-8118-6fe792f04e15"
   },
   "outputs": [],
   "source": [
    "doc = documents[0]"
   ]
  },
  {
   "cell_type": "code",
   "execution_count": 55,
   "id": "b5e39f78-ff18-4016-a751-7d0e4c82bb36",
   "metadata": {
    "height": 30,
    "id": "b5e39f78-ff18-4016-a751-7d0e4c82bb36"
   },
   "outputs": [],
   "source": [
    "page_content = doc.page_content[:10000]"
   ]
  },
  {
   "cell_type": "code",
   "execution_count": 56,
   "id": "bb8d98ee-e9b2-4ce8-982a-c06dc006da76",
   "metadata": {
    "colab": {
     "base_uri": "https://localhost:8080/"
    },
    "height": 30,
    "id": "bb8d98ee-e9b2-4ce8-982a-c06dc006da76",
    "outputId": "cdd5bd09-b025-495c-ee9a-372056c76ea1",
    "scrolled": true
   },
   "outputs": [
    {
     "name": "stdout",
     "output_type": "stream",
     "text": [
      "\n",
      "\n",
      "\n",
      "\n",
      "\n",
      "\n",
      "LLM Powered Autonomous Agents | Lil'Log\n",
      "\n",
      "\n",
      "\n",
      "\n",
      "\n",
      "\n",
      "\n",
      "\n",
      "\n",
      "\n",
      "\n",
      "\n",
      "\n",
      "\n",
      "\n",
      "\n",
      "\n",
      "\n",
      "\n",
      "\n",
      "\n",
      "\n",
      "\n",
      "\n",
      "\n",
      "\n",
      "\n",
      "\n",
      "\n",
      "\n",
      "\n",
      "\n",
      "\n",
      "\n",
      "\n",
      "\n",
      "\n",
      "\n",
      "\n",
      "Lil'Log\n",
      "\n",
      "\n",
      "\n",
      "\n",
      "\n",
      "\n",
      "\n",
      "\n",
      "\n",
      "\n",
      "\n",
      "\n",
      "\n",
      "\n",
      "\n",
      "\n",
      "\n",
      "\n",
      "\n",
      "\n",
      "\n",
      "\n",
      "Posts\n",
      "\n",
      "\n",
      "\n",
      "\n",
      "Archive\n",
      "\n",
      "\n",
      "\n",
      "\n",
      "Search\n",
      "\n",
      "\n",
      "\n",
      "\n",
      "Tags\n",
      "\n",
      "\n",
      "\n",
      "\n",
      "FAQ\n",
      "\n",
      "\n",
      "\n",
      "\n",
      "emojisearch.app\n",
      "\n",
      "\n",
      "\n",
      "\n",
      "\n",
      "\n",
      "\n",
      "\n",
      "\n",
      "      LLM Powered Autonomous Agents\n",
      "    \n",
      "Date: June 23, 2023  |  Estimated Reading Time: 31 min  |  Author: Lilian Weng\n",
      "\n",
      "\n",
      " \n",
      "\n",
      "\n",
      "Table of Contents\n",
      "\n",
      "\n",
      "\n",
      "Agent System Overview\n",
      "\n",
      "Component One: Planning\n",
      "\n",
      "Task Decomposition\n",
      "\n",
      "Self-Reflection\n",
      "\n",
      "\n",
      "Component Two: Memory\n",
      "\n",
      "Types of Memory\n",
      "\n",
      "Maximum Inner Product Search (MIPS)\n",
      "\n",
      "\n",
      "Component Three: Tool Use\n",
      "\n",
      "Case Studies\n",
      "\n",
      "Scientific Discovery Agent\n",
      "\n",
      "Generative Agents Simulation\n",
      "\n",
      "Proof-of-Concept Examples\n",
      "\n",
      "\n",
      "Challenges\n",
      "\n",
      "Citation\n",
      "\n",
      "References\n",
      "\n",
      "\n",
      "\n",
      "\n",
      "\n",
      "Building agents with LLM (large language model) as its core controller is a cool concept. Several proof-of-concepts demos, such as AutoGPT, GPT-Engineer and BabyAGI, serve as inspiring examples. The potentiality of LLM extends beyond generating well-written copies, stories, essays and programs; it can be framed as a powerful general\n"
     ]
    }
   ],
   "source": [
    "print(page_content[:1000])\n",
    "\n",
    "# since this is a web, the contents can be very scarce"
   ]
  },
  {
   "cell_type": "code",
   "execution_count": 57,
   "id": "9db0d107-5284-4253-b769-dfedb97ce95d",
   "metadata": {
    "height": 113,
    "id": "9db0d107-5284-4253-b769-dfedb97ce95d"
   },
   "outputs": [],
   "source": [
    "class Overview(BaseModel):\n",
    "    \"\"\"Overview of a section of text.\"\"\"\n",
    "    summary: str = Field(description=\"Provide a concise summary of the content.\")\n",
    "    language: str = Field(description=\"Provide the language that the content is written in.\")\n",
    "    keywords: str = Field(description=\"Provide keywords related to the content.\")"
   ]
  },
  {
   "cell_type": "code",
   "execution_count": 58,
   "id": "6bfe7fe6-a86d-416c-a7f2-373dc70fcba5",
   "metadata": {
    "height": 164,
    "id": "6bfe7fe6-a86d-416c-a7f2-373dc70fcba5"
   },
   "outputs": [],
   "source": [
    "overview_tagging_function = [\n",
    "    convert_pydantic_to_openai_function(Overview)\n",
    "]\n",
    "tagging_model = model.bind(\n",
    "    functions=overview_tagging_function,\n",
    "    function_call={\"name\":\"Overview\"}\n",
    ")\n",
    "tagging_chain = prompt | tagging_model | JsonOutputFunctionsParser()"
   ]
  },
  {
   "cell_type": "code",
   "execution_count": 59,
   "id": "518f2337-a8eb-4eff-b764-b70e48545d19",
   "metadata": {
    "colab": {
     "base_uri": "https://localhost:8080/"
    },
    "height": 30,
    "id": "518f2337-a8eb-4eff-b764-b70e48545d19",
    "outputId": "fc0b6a94-8877-4929-b55b-918d2d088ad5"
   },
   "outputs": [
    {
     "data": {
      "text/plain": [
       "{'summary': 'Overview of LLM powered autonomous agents, including components like Planning, Memory, and Tool Use. Discusses techniques like Task Decomposition and Self-Reflection in agent systems.',\n",
       " 'language': 'English',\n",
       " 'keywords': 'LLM, autonomous agents, planning, memory, tool use, task decomposition, self-reflection'}"
      ]
     },
     "execution_count": 59,
     "metadata": {},
     "output_type": "execute_result"
    }
   ],
   "source": [
    "tagging_chain.invoke({\"input\": page_content})"
   ]
  },
  {
   "cell_type": "code",
   "execution_count": 60,
   "id": "5be5d604-3d95-476a-afe4-b46b021534fc",
   "metadata": {
    "height": 166,
    "id": "5be5d604-3d95-476a-afe4-b46b021534fc"
   },
   "outputs": [],
   "source": [
    "class Overview(BaseModel):\n",
    "    \"\"\"Overview of a section of text.\"\"\"\n",
    "    summary: str = Field(description=\"Provide a concise summary of the content.\")\n",
    "    language: str = Field(description=\"Provide the language that the content is written in.\")\n",
    "    keywords: str = Field(description=\"Provide keywords related to the content.\")\n",
    "class Paper(BaseModel):\n",
    "    \"\"\"Information about papers mentioned.\"\"\"\n",
    "    title: str\n",
    "    author: Optional[str]\n",
    "\n",
    "\n",
    "class Info(BaseModel):\n",
    "    \"\"\"Information to extract\"\"\"\n",
    "    papers: List[Paper]"
   ]
  },
  {
   "cell_type": "code",
   "execution_count": 61,
   "id": "8e56ca98-d05d-4199-a6ec-fe485b630da6",
   "metadata": {
    "height": 164,
    "id": "8e56ca98-d05d-4199-a6ec-fe485b630da6"
   },
   "outputs": [],
   "source": [
    "paper_extraction_function = [\n",
    "    convert_pydantic_to_openai_function(Info)\n",
    "]\n",
    "extraction_model = model.bind(\n",
    "    functions=paper_extraction_function,\n",
    "    function_call={\"name\":\"Info\"}\n",
    ")\n",
    "extraction_chain = prompt | extraction_model | JsonKeyOutputFunctionsParser(key_name=\"papers\")"
   ]
  },
  {
   "cell_type": "code",
   "execution_count": 62,
   "id": "f082b7a0-b7ea-488a-923c-aba8e4b185a0",
   "metadata": {
    "colab": {
     "base_uri": "https://localhost:8080/"
    },
    "height": 30,
    "id": "f082b7a0-b7ea-488a-923c-aba8e4b185a0",
    "outputId": "3efcc304-6670-4b39-ce40-2d96c7ea5b50"
   },
   "outputs": [
    {
     "data": {
      "text/plain": [
       "[{'title': 'LLM Powered Autonomous Agents', 'author': 'Lilian Weng'}]"
      ]
     },
     "execution_count": 62,
     "metadata": {},
     "output_type": "execute_result"
    }
   ],
   "source": [
    "extraction_chain.invoke({\"input\": page_content})"
   ]
  },
  {
   "cell_type": "code",
   "execution_count": 63,
   "id": "2a8dcce7-7032-49a8-893d-1659e2f51f03",
   "metadata": {
    "height": 198,
    "id": "2a8dcce7-7032-49a8-893d-1659e2f51f03"
   },
   "outputs": [],
   "source": [
    "template = \"\"\"A article will be passed to you. Extract from it all papers that are mentioned by this article.\n",
    "\n",
    "Do not extract the name of the article itself. If no papers are mentioned that's fine - you don't need to extract any! Just return an empty list.\n",
    "\n",
    "Do not make up or guess ANY extra information. Only extract what exactly is in the text.\"\"\"\n",
    "\n",
    "prompt = ChatPromptTemplate.from_messages([\n",
    "    (\"system\", template),\n",
    "    (\"human\", \"{input}\")\n",
    "])"
   ]
  },
  {
   "cell_type": "code",
   "execution_count": 64,
   "id": "a5f4c8cc-d9a4-4556-a89e-94ec981c6f5e",
   "metadata": {
    "height": 45,
    "id": "a5f4c8cc-d9a4-4556-a89e-94ec981c6f5e"
   },
   "outputs": [],
   "source": [
    "extraction_chain = prompt | extraction_model | JsonKeyOutputFunctionsParser(key_name=\"papers\")"
   ]
  },
  {
   "cell_type": "code",
   "execution_count": 65,
   "id": "b63e00b6-0f06-4e74-948e-04805e66f40c",
   "metadata": {
    "colab": {
     "base_uri": "https://localhost:8080/"
    },
    "height": 30,
    "id": "b63e00b6-0f06-4e74-948e-04805e66f40c",
    "outputId": "69d55e74-c11d-4f74-bcb2-d55d6a906904"
   },
   "outputs": [
    {
     "data": {
      "text/plain": [
       "[{'title': 'Chain of thought (CoT; Wei et al. 2022)',\n",
       "  'author': 'Wei et al. 2022'},\n",
       " {'title': 'Tree of Thoughts (Yao et al. 2023)', 'author': 'Yao et al. 2023'},\n",
       " {'title': 'LLM+P (Liu et al. 2023)', 'author': 'Liu et al. 2023'},\n",
       " {'title': 'ReAct (Yao et al. 2023)', 'author': 'Yao et al. 2023'},\n",
       " {'title': 'Reflexion (Shinn & Labash 2023)', 'author': 'Shinn & Labash 2023'},\n",
       " {'title': 'Chain of Hindsight (CoH; Liu et al. 2023)',\n",
       "  'author': 'Liu et al. 2023'},\n",
       " {'title': 'Algorithm Distillation (AD; Laskin et al. 2023)',\n",
       "  'author': 'Laskin et al. 2023'}]"
      ]
     },
     "execution_count": 65,
     "metadata": {},
     "output_type": "execute_result"
    }
   ],
   "source": [
    "extraction_chain.invoke({\"input\": page_content})"
   ]
  },
  {
   "cell_type": "code",
   "execution_count": 66,
   "id": "365bfa5b-f0d2-4a19-8db1-1b4a0f51703d",
   "metadata": {
    "colab": {
     "base_uri": "https://localhost:8080/"
    },
    "height": 30,
    "id": "365bfa5b-f0d2-4a19-8db1-1b4a0f51703d",
    "outputId": "1dbd04e0-18a6-465b-8b40-00ee970efc15"
   },
   "outputs": [
    {
     "data": {
      "text/plain": [
       "[{'title': 'Paper 1', 'author': 'Author 1'},\n",
       " {'title': 'Paper 2', 'author': 'Author 2'}]"
      ]
     },
     "execution_count": 66,
     "metadata": {},
     "output_type": "execute_result"
    }
   ],
   "source": [
    "extraction_chain.invoke({\"input\": \"hi\"})"
   ]
  },
  {
   "cell_type": "code",
   "execution_count": 67,
   "id": "7a3e18b5-0692-49dc-b589-5d4ae5a43fdd",
   "metadata": {
    "height": 62,
    "id": "7a3e18b5-0692-49dc-b589-5d4ae5a43fdd"
   },
   "outputs": [],
   "source": [
    "from langchain.text_splitter import RecursiveCharacterTextSplitter\n",
    "text_splitter = RecursiveCharacterTextSplitter(chunk_overlap=0)"
   ]
  },
  {
   "cell_type": "code",
   "execution_count": 68,
   "id": "a851b07c-0f73-4cf1-801f-9832190db93a",
   "metadata": {
    "height": 30,
    "id": "a851b07c-0f73-4cf1-801f-9832190db93a"
   },
   "outputs": [],
   "source": [
    "splits = text_splitter.split_text(doc.page_content)"
   ]
  },
  {
   "cell_type": "code",
   "execution_count": 69,
   "id": "fbd6fd3c-8fca-4f16-a256-a66577b48eb1",
   "metadata": {
    "colab": {
     "base_uri": "https://localhost:8080/"
    },
    "height": 30,
    "id": "fbd6fd3c-8fca-4f16-a256-a66577b48eb1",
    "outputId": "a6e199c6-2ddd-43a2-a372-34e4348ab9f6"
   },
   "outputs": [
    {
     "data": {
      "text/plain": [
       "15"
      ]
     },
     "execution_count": 69,
     "metadata": {},
     "output_type": "execute_result"
    }
   ],
   "source": [
    "len(splits)"
   ]
  },
  {
   "cell_type": "code",
   "execution_count": 70,
   "id": "6f1309bf-16a5-43ef-aa8e-427cf5120938",
   "metadata": {
    "height": 98,
    "id": "6f1309bf-16a5-43ef-aa8e-427cf5120938"
   },
   "outputs": [],
   "source": [
    "def flatten(matrix):\n",
    "    flat_list = []\n",
    "    for row in matrix:\n",
    "        flat_list += row\n",
    "    return flat_list"
   ]
  },
  {
   "cell_type": "code",
   "execution_count": 71,
   "id": "5af35566-8f5f-4e02-86d2-c1a97ca4e573",
   "metadata": {
    "colab": {
     "base_uri": "https://localhost:8080/"
    },
    "height": 30,
    "id": "5af35566-8f5f-4e02-86d2-c1a97ca4e573",
    "outputId": "4f445ecc-ce83-404e-bcb9-95c5c7f51bae"
   },
   "outputs": [
    {
     "data": {
      "text/plain": [
       "[1, 2, 3, 4]"
      ]
     },
     "execution_count": 71,
     "metadata": {},
     "output_type": "execute_result"
    }
   ],
   "source": [
    "flatten([[1, 2], [3, 4]])"
   ]
  },
  {
   "cell_type": "code",
   "execution_count": 72,
   "id": "b77be284-fca5-4ab0-ab36-b83b3ab53136",
   "metadata": {
    "colab": {
     "base_uri": "https://localhost:8080/"
    },
    "height": 30,
    "id": "b77be284-fca5-4ab0-ab36-b83b3ab53136",
    "outputId": "3a68a144-8e89-46b9-e50b-94a53160b6a0",
    "scrolled": true
   },
   "outputs": [
    {
     "name": "stdout",
     "output_type": "stream",
     "text": [
      "LLM Powered Autonomous Agents | Lil'Log\n",
      "\n",
      "\n",
      "\n",
      "\n",
      "\n",
      "\n",
      "\n",
      "\n",
      "\n",
      "\n",
      "\n",
      "\n",
      "\n",
      "\n",
      "\n",
      "\n",
      "\n",
      "\n",
      "\n",
      "\n",
      "\n",
      "\n",
      "\n",
      "\n",
      "\n",
      "\n",
      "\n",
      "\n",
      "\n",
      "\n",
      "\n",
      "\n",
      "\n",
      "\n",
      "\n",
      "\n",
      "\n",
      "\n",
      "\n",
      "Lil'Log\n",
      "\n",
      "\n",
      "\n",
      "\n",
      "\n",
      "\n",
      "\n",
      "\n",
      "\n",
      "\n",
      "\n",
      "\n",
      "\n",
      "\n",
      "\n",
      "\n",
      "\n",
      "\n",
      "\n",
      "\n",
      "\n",
      "\n",
      "Posts\n",
      "\n",
      "\n",
      "\n",
      "\n",
      "Archive\n",
      "\n",
      "\n",
      "\n",
      "\n",
      "Search\n",
      "\n",
      "\n",
      "\n",
      "\n",
      "Tags\n",
      "\n",
      "\n",
      "\n",
      "\n",
      "FAQ\n",
      "\n",
      "\n",
      "\n",
      "\n",
      "emojisearch.app\n",
      "\n",
      "\n",
      "\n",
      "\n",
      "\n",
      "\n",
      "\n",
      "\n",
      "\n",
      "      LLM Powered Autonomous Agents\n",
      "    \n",
      "Date: June 23, 2023  |  Estimated Reading Time: 31 min  |  Author: Lilian Weng\n",
      "\n",
      "\n",
      " \n",
      "\n",
      "\n",
      "Table of Contents\n",
      "\n",
      "\n",
      "\n",
      "Agent System Overview\n",
      "\n",
      "Component One: Planning\n",
      "\n",
      "Task Decomposition\n",
      "\n",
      "Self-Reflection\n",
      "\n",
      "\n",
      "Component Two: Memory\n",
      "\n",
      "Types of Memory\n",
      "\n",
      "Maximum Inner Product Search (MIPS)\n",
      "\n",
      "\n",
      "Component Three: Tool Use\n",
      "\n",
      "Case Studies\n",
      "\n",
      "Scientific Discovery Agent\n",
      "\n",
      "Generative Agents Simulation\n",
      "\n",
      "Proof-of-Concept Examples\n",
      "\n",
      "\n",
      "Challenges\n",
      "\n",
      "Citation\n",
      "\n",
      "References\n",
      "\n",
      "\n",
      "\n",
      "\n",
      "\n",
      "Building agents with LLM (large language model) as its core controller is a cool concept. Several proof-of-concepts demos, such as AutoGPT, GPT-Engineer and BabyAGI, serve as inspiring examples. The potentiality of LLM extends beyond generating well-written copies, stories, essays and programs; it can be framed as a powerful general problem solver.\n",
      "Agent System Overview#\n",
      "In a LLM-powered autonomous agent system, LLM functions as the agent’s brain, complemented by several key components:\n",
      "\n",
      "Planning\n",
      "\n",
      "Subgoal and decomposition: The agent breaks down large tasks into smaller, manageable subgoals, enabling efficient handling of complex tasks.\n",
      "Reflection and refinement: The agent can do self-criticism and self-reflection over past actions, learn from mistakes and refine them for future steps, thereby improving the quality of final results.\n",
      "\n",
      "\n",
      "Memory\n",
      "\n",
      "Short-term memory: I would consider all the in-context learning (See Prompt Engineering) as utilizing short-term memory of the model to learn.\n",
      "Long-term memory: This provides the agent with the capability to retain and recall (infinite) information over extended periods, often by leveraging an external vector store and fast retrieval.\n",
      "\n",
      "\n",
      "Tool use\n",
      "\n",
      "The agent learns to call external APIs for extra information that is missing from the model weights (often hard to change after pre-training), including current information, code execution capability, access to proprietary information sources and more.\n"
     ]
    }
   ],
   "source": [
    "print(splits[0])"
   ]
  },
  {
   "cell_type": "code",
   "execution_count": 73,
   "id": "67bded5d-de85-488c-bd3f-d83acbcfea33",
   "metadata": {
    "height": 30,
    "id": "67bded5d-de85-488c-bd3f-d83acbcfea33"
   },
   "outputs": [],
   "source": [
    "from langchain.schema.runnable import RunnableLambda"
   ]
  },
  {
   "cell_type": "code",
   "execution_count": 74,
   "id": "04233d0a-fe44-45ed-9145-af3caaa86863",
   "metadata": {
    "height": 79,
    "id": "04233d0a-fe44-45ed-9145-af3caaa86863"
   },
   "outputs": [],
   "source": [
    "prep = RunnableLambda(\n",
    "    lambda x: [{\"input\": doc} for doc in text_splitter.split_text(x)]\n",
    ")"
   ]
  },
  {
   "cell_type": "code",
   "execution_count": 75,
   "id": "fa8c2f1e-f3ac-4d9c-8ded-541778a32ef9",
   "metadata": {
    "colab": {
     "base_uri": "https://localhost:8080/"
    },
    "height": 30,
    "id": "fa8c2f1e-f3ac-4d9c-8ded-541778a32ef9",
    "outputId": "ef188649-1860-4460-b448-1bd4daebfa8b"
   },
   "outputs": [
    {
     "data": {
      "text/plain": [
       "[{'input': 'hi'}]"
      ]
     },
     "execution_count": 75,
     "metadata": {},
     "output_type": "execute_result"
    }
   ],
   "source": [
    "prep.invoke(\"hi\")"
   ]
  },
  {
   "cell_type": "code",
   "execution_count": 76,
   "id": "3f7d0255-4b58-42c9-a747-44768a866633",
   "metadata": {
    "height": 30,
    "id": "3f7d0255-4b58-42c9-a747-44768a866633"
   },
   "outputs": [],
   "source": [
    "chain = prep | extraction_chain.map() | flatten"
   ]
  },
  {
   "cell_type": "code",
   "execution_count": 79,
   "id": "0dfa1f67-7246-4f4f-8967-4d7266df7b7a",
   "metadata": {
    "height": 30,
    "id": "0dfa1f67-7246-4f4f-8967-4d7266df7b7a"
   },
   "outputs": [],
   "source": [
    "# chain.invoke(doc.page_content)\n",
    "# exceeds rate limit, but the idea is it would extract all the papers that were mentioned in the webpage."
   ]
  },
  {
   "cell_type": "markdown",
   "id": "JGvBcueUoBVR",
   "metadata": {
    "id": "JGvBcueUoBVR"
   },
   "source": [
    "## Put these all together."
   ]
  },
  {
   "cell_type": "markdown",
   "id": "g4OaGPdd4Jjg",
   "metadata": {
    "id": "g4OaGPdd4Jjg"
   },
   "source": [
    "#### Try to extract some information from a PDF uplaoded here.\n",
    " - The PDF would be about the cafe Chain Pret. The intersting thing about Pret is that it does not produce that much good coffee compared to starbucks but they have comparable prices. Most likely due to its membership subscriptions and healthy sandwitch options, it survives. this PDF also has Chinese in them. English and Chinese have the same words.\n"
   ]
  },
  {
   "cell_type": "code",
   "execution_count": 84,
   "id": "LFvvKvkxvksz",
   "metadata": {
    "colab": {
     "base_uri": "https://localhost:8080/"
    },
    "id": "LFvvKvkxvksz",
    "outputId": "2ac69560-0349-444f-d8dd-96ce0f77b216"
   },
   "outputs": [
    {
     "name": "stdout",
     "output_type": "stream",
     "text": [
      "Requirement already satisfied: pypdf in /usr/local/lib/python3.10/dist-packages (5.0.0)\n",
      "Requirement already satisfied: typing_extensions>=4.0 in /usr/local/lib/python3.10/dist-packages (from pypdf) (4.12.2)\n"
     ]
    }
   ],
   "source": [
    "!pip install pypdf"
   ]
  },
  {
   "cell_type": "code",
   "execution_count": 85,
   "id": "X0KQgRnouic2",
   "metadata": {
    "id": "X0KQgRnouic2"
   },
   "outputs": [],
   "source": [
    "from langchain.document_loaders import PyPDFLoader\n",
    "\n",
    "pdf_path = \"Pret.pdf\"\n",
    "loader = PyPDFLoader(pdf_path)\n",
    "documents = loader.load() # it's actully a list"
   ]
  },
  {
   "cell_type": "code",
   "execution_count": 107,
   "id": "UvM99ONvw4EV",
   "metadata": {
    "colab": {
     "base_uri": "https://localhost:8080/"
    },
    "id": "UvM99ONvw4EV",
    "outputId": "e654a415-0914-42fd-b360-27c8f51aed40"
   },
   "outputs": [
    {
     "data": {
      "text/plain": [
       "9589"
      ]
     },
     "execution_count": 107,
     "metadata": {},
     "output_type": "execute_result"
    }
   ],
   "source": [
    "\n",
    "all_contents = \"\\n\".join([doc.page_content for doc in documents])\n",
    "\n",
    "len(all_contents)\n"
   ]
  },
  {
   "cell_type": "code",
   "execution_count": 110,
   "id": "WqtAi4dXwbP6",
   "metadata": {
    "id": "WqtAi4dXwbP6"
   },
   "outputs": [],
   "source": [
    "class Overview(BaseModel):\n",
    "    \"\"\"Tag the piece of text with particular info.\"\"\"\n",
    "    objects: str = Field(description=\"capture the objects\")\n",
    "    summary: str = Field(description=\"summarize the texts in 10 words or less.\")\n",
    "    sentiment: str = Field(description=\"sentiment of text, should be `pos`, `neg`, or `neutral`\")\n",
    "    explainatory: str = Field(description=\"explain why the text is the given sentiment\")\n",
    "    question: str = Field(description=\"Answer the question, what is Pret's competing advantage?\")\n",
    "    language: str = Field(description=\"language of text (should be ISO 639-1 code)\")"
   ]
  },
  {
   "cell_type": "code",
   "execution_count": 111,
   "id": "JtVtR2bQwxMN",
   "metadata": {
    "id": "JtVtR2bQwxMN"
   },
   "outputs": [],
   "source": [
    "overview_tagging_function = [\n",
    "    convert_pydantic_to_openai_function(Overview)\n",
    "]\n",
    "tagging_model = model.bind(\n",
    "    functions=overview_tagging_function,\n",
    "    function_call={\"name\":\"Overview\"}\n",
    ")\n",
    "tagging_chain = prompt | tagging_model | JsonOutputFunctionsParser()"
   ]
  },
  {
   "cell_type": "code",
   "execution_count": 112,
   "id": "-_SV-X2dwzpo",
   "metadata": {
    "colab": {
     "base_uri": "https://localhost:8080/"
    },
    "id": "-_SV-X2dwzpo",
    "outputId": "a3b1547d-36d0-4018-d3b8-da248c4ac346"
   },
   "outputs": [
    {
     "data": {
      "text/plain": [
       "{'objects': '1983 when two college friends, Sinclair Beecham and Julian Metcalfe',\n",
       " 'summary': 'The story of Pret A Manger begins with Sinclair Beecham and Julian Metcalfe in 1983.',\n",
       " 'sentiment': 'neutral',\n",
       " 'explainatory': 'The text provides historical information without expressing any positive or negative sentiment.',\n",
       " 'question': \"What is Pret's competing advantage?\",\n",
       " 'language': 'en'}"
      ]
     },
     "execution_count": 112,
     "metadata": {},
     "output_type": "execute_result"
    }
   ],
   "source": [
    "tagging_chain.invoke({\"input\": all_contents})"
   ]
  },
  {
   "cell_type": "code",
   "execution_count": 114,
   "id": "7OyqZT7VyDIr",
   "metadata": {
    "colab": {
     "base_uri": "https://localhost:8080/"
    },
    "id": "7OyqZT7VyDIr",
    "outputId": "308842b2-6327-4d9e-b135-1384fa149615"
   },
   "outputs": [
    {
     "data": {
      "text/plain": [
       "{'objects': \"1983, Sinclair Beecham, Julian Metcalfe, Hampstead, London, McDonald's, New York City, 2000, Bridgepoint\",\n",
       " 'summary': 'Extracted papers mentioned in the article about the history of Pret A Manger',\n",
       " 'sentiment': 'neutral',\n",
       " 'explainatory': 'The text provides a brief history of Pret A Manger, mentioning key events, locations, and partnerships.',\n",
       " 'question': \"What is Pret's competing advantage?\",\n",
       " 'language': 'en'}"
      ]
     },
     "execution_count": 114,
     "metadata": {},
     "output_type": "execute_result"
    }
   ],
   "source": [
    "tagging_chain.invoke({\"input\": all_contents})"
   ]
  },
  {
   "cell_type": "code",
   "execution_count": 190,
   "id": "45eqAzPPyKev",
   "metadata": {
    "id": "45eqAzPPyKev"
   },
   "outputs": [],
   "source": [
    "class Food_item(BaseModel):\n",
    "    \"\"\"Information about food mentioned in the menu.\"\"\"\n",
    "    title: str\n",
    "    price: float\n",
    "    description: Optional[str]\n",
    "\n",
    "class Menu(BaseModel):\n",
    "    \"\"\"Information to extract\"\"\"\n",
    "    menus: List[Food_item]\n",
    "\n",
    "class Milestones(BaseModel):\n",
    "    \"\"\"Information to extract\"\"\"\n",
    "    event: str\n",
    "    date: str\n",
    "    description: str\n",
    "\n",
    "class History(BaseModel):\n",
    "    \"\"\"Information to extract\"\"\"\n",
    "    histories: List[Milestones]"
   ]
  },
  {
   "cell_type": "code",
   "execution_count": 199,
   "id": "-cbiNCrhy5_b",
   "metadata": {
    "id": "-cbiNCrhy5_b"
   },
   "outputs": [],
   "source": [
    "pdf_extraction_function = [\n",
    "    convert_pydantic_to_openai_function(Menu)\n",
    "]\n",
    "extraction_model = model.bind(\n",
    "    functions= pdf_extraction_function,\n",
    "    function_call={\"name\":\"Menu\"}\n",
    ")\n",
    "extraction_chain = prompt | extraction_model | JsonKeyOutputFunctionsParser(key_name=\"menus\")"
   ]
  },
  {
   "cell_type": "code",
   "execution_count": 174,
   "id": "xmtHO6MK0S1D",
   "metadata": {
    "id": "xmtHO6MK0S1D"
   },
   "outputs": [],
   "source": [
    "# prompt = PromptTemplate(template=\"Extract the menus from the following text:\\n{input}\")\n"
   ]
  },
  {
   "cell_type": "code",
   "execution_count": 200,
   "id": "2DhFBxJRzYiK",
   "metadata": {
    "colab": {
     "base_uri": "https://localhost:8080/"
    },
    "id": "2DhFBxJRzYiK",
    "outputId": "c324d1d7-f080-4e84-c6a3-3a5cba54982d"
   },
   "outputs": [
    {
     "data": {
      "text/plain": [
       "[{'title': 'Classic Tuna & Cucumber', 'price': 5.5, 'description': None},\n",
       " {'title': 'Chicken Caesar & Bacon Baguette',\n",
       "  'price': 7.0,\n",
       "  'description': None},\n",
       " {'title': 'Ham & Cheese Baguette', 'price': 6.0, 'description': None},\n",
       " {'title': 'Egg Salad Sandwich', 'price': 5.0, 'description': None},\n",
       " {'title': 'Chicken & Avocado Salad', 'price': 8.0, 'description': None},\n",
       " {'title': 'Chef’s Italian Salad', 'price': 7.5, 'description': None},\n",
       " {'title': 'Tuna Nicoise Salad', 'price': 8.5, 'description': None},\n",
       " {'title': 'Super Greens & Grains Salad', 'price': 8.5, 'description': None},\n",
       " {'title': 'Falafel & Hummus Wrap', 'price': 6.0, 'description': None},\n",
       " {'title': 'Chicken & Bacon Caesar Wrap', 'price': 7.0, 'description': None},\n",
       " {'title': 'Mexican Chicken Avocado Wrap', 'price': 7.5, 'description': None},\n",
       " {'title': 'Macaroni Cheese Prosciutto', 'price': 7.0, 'description': None},\n",
       " {'title': 'Chicken & Mozzarella Toastie', 'price': 6.5, 'description': None},\n",
       " {'title': 'Spinach & Cheese Croissant', 'price': 3.5, 'description': None},\n",
       " {'title': 'Bacon, Egg & Cheese Roll', 'price': 5.0, 'description': None},\n",
       " {'title': 'Avocado & Egg Brioche', 'price': 5.5, 'description': None},\n",
       " {'title': 'Porridge', 'price': 3.0, 'description': None},\n",
       " {'title': 'Granola & Yogurt Pot', 'price': 4.5, 'description': None},\n",
       " {'title': 'Pret’s Fruit Salad', 'price': 4.0, 'description': None},\n",
       " {'title': 'Chocolate Brownie', 'price': 2.5, 'description': None},\n",
       " {'title': 'Almond Butter Cookie', 'price': 2.0, 'description': None},\n",
       " {'title': 'Organic Coffee (Regular)', 'price': 2.5, 'description': None},\n",
       " {'title': 'Latte/Cappuccino', 'price': 3.0, 'description': None},\n",
       " {'title': 'Iced Coffee', 'price': 3.5, 'description': None},\n",
       " {'title': 'Freshly Squeezed Orange Juice', 'price': 4.0, 'description': None},\n",
       " {'title': 'Smoothies', 'price': 4.5, 'description': None}]"
      ]
     },
     "execution_count": 200,
     "metadata": {},
     "output_type": "execute_result"
    }
   ],
   "source": [
    "extraction_chain.invoke({\"input\": all_contents})"
   ]
  },
  {
   "cell_type": "code",
   "execution_count": 201,
   "id": "cPEEN_N20i1Z",
   "metadata": {
    "id": "cPEEN_N20i1Z"
   },
   "outputs": [],
   "source": [
    "template = \"\"\"A article will be passed to you. Extract the menus from the PDF,\n",
    "\n",
    "I want you to do this to both the English texts and the Chinese texts. please make sure the\n",
    "price is correct.\n",
    "\n",
    "Format them nicely, preferably each menu item is on one single line.\n",
    "\n",
    "一篇文章将会传递给你。请从PDF中提取菜单信息。\n",
    "\n",
    "要求你对英文和中文文本中的菜单都进行提取，并确保价格的正确性。\n",
    "\n",
    "请将提取的内容进行整齐的格式化，最好每个菜单项占一行。. \"\"\"\n",
    "\n",
    "prompt = ChatPromptTemplate.from_messages([\n",
    "    (\"system\", template),\n",
    "    (\"human\", \"{input}\")\n",
    "])"
   ]
  },
  {
   "cell_type": "code",
   "execution_count": 202,
   "id": "TRXE-DNS1FL0",
   "metadata": {
    "id": "TRXE-DNS1FL0"
   },
   "outputs": [],
   "source": [
    "extraction_chain = prompt | extraction_model | JsonKeyOutputFunctionsParser(key_name=\"menus\")"
   ]
  },
  {
   "cell_type": "code",
   "execution_count": null,
   "id": "QXGdwwcLJyjZ",
   "metadata": {
    "id": "QXGdwwcLJyjZ"
   },
   "outputs": [],
   "source": []
  },
  {
   "cell_type": "code",
   "execution_count": 182,
   "id": "B1weUoRf4ksF",
   "metadata": {
    "id": "B1weUoRf4ksF"
   },
   "outputs": [],
   "source": [
    "# template = \"\"\"A article will be passed to you. Extract the menus from the PDF,\n",
    "\n",
    "# I want you to do this to both the English texts and the Chinese texts. please make sure the\n",
    "# price is correct.\n",
    "\n",
    "# Format them nicely, preferably each menu item is on one single line.\n",
    "\n",
    "# Please also give the Chinese version of the menus too.\n",
    "\n",
    "# \"\"\"\n",
    "\n",
    "# prompt = ChatPromptTemplate.from_messages([\n",
    "#     (\"system\", template),\n",
    "#     (\"human\", \"{input}\")\n",
    "# ])\n",
    "# extraction_chain = prompt | extraction_model | JsonKeyOutputFunctionsParser(key_name=\"menus\")\n",
    "# extraction_chain.invoke({\"input\": all_contents})"
   ]
  },
  {
   "cell_type": "code",
   "execution_count": 203,
   "id": "lPIPt5-n10Tu",
   "metadata": {
    "colab": {
     "base_uri": "https://localhost:8080/"
    },
    "id": "lPIPt5-n10Tu",
    "outputId": "cad1046e-7ccc-4daa-b69a-42c6701fac36"
   },
   "outputs": [
    {
     "data": {
      "text/plain": [
       "[{'title': 'Classic Tuna & Cucumber', 'price': 5.5, 'description': None},\n",
       " {'title': 'Chicken Caesar & Bacon Baguette',\n",
       "  'price': 7.0,\n",
       "  'description': None},\n",
       " {'title': 'Ham & Cheese Baguette', 'price': 6.0, 'description': None},\n",
       " {'title': 'Egg Salad Sandwich', 'price': 5.0, 'description': None},\n",
       " {'title': 'Chicken & Avocado Salad', 'price': 8.0, 'description': None},\n",
       " {'title': 'Chef’s Italian Salad', 'price': 7.5, 'description': None},\n",
       " {'title': 'Tuna Nicoise Salad', 'price': 8.5, 'description': None},\n",
       " {'title': 'Super Greens & Grains Salad', 'price': 8.5, 'description': None},\n",
       " {'title': 'Falafel & Hummus Wrap', 'price': 6.0, 'description': None},\n",
       " {'title': 'Chicken & Bacon Caesar Wrap', 'price': 7.0, 'description': None},\n",
       " {'title': 'Mexican Chicken Avocado Wrap', 'price': 7.5, 'description': None},\n",
       " {'title': 'Macaroni Cheese Prosciutto', 'price': 7.0, 'description': None},\n",
       " {'title': 'Chicken & Mozzarella Toastie', 'price': 6.5, 'description': None},\n",
       " {'title': 'Spinach & Cheese Croissant', 'price': 3.5, 'description': None},\n",
       " {'title': 'Bacon, Egg & Cheese Roll', 'price': 5.0, 'description': None},\n",
       " {'title': 'Avocado & Egg Brioche', 'price': 5.5, 'description': None},\n",
       " {'title': 'Porridge', 'price': 3.0, 'description': None},\n",
       " {'title': 'Granola & Yogurt Pot', 'price': 4.5, 'description': None},\n",
       " {'title': 'Pret’s Fruit Salad', 'price': 4.0, 'description': None},\n",
       " {'title': 'Chocolate Brownie', 'price': 2.5, 'description': None},\n",
       " {'title': 'Almond Butter Cookie', 'price': 2.0, 'description': None},\n",
       " {'title': 'Organic Coffee (Regular)', 'price': 2.5, 'description': None},\n",
       " {'title': 'Latte/Cappuccino', 'price': 3.0, 'description': None},\n",
       " {'title': 'Iced Coffee', 'price': 3.5, 'description': None},\n",
       " {'title': 'Freshly Squeezed Orange Juice', 'price': 4.0, 'description': None},\n",
       " {'title': 'Smoothies', 'price': 4.5, 'description': None}]"
      ]
     },
     "execution_count": 203,
     "metadata": {},
     "output_type": "execute_result"
    }
   ],
   "source": [
    "extraction_chain.invoke({\"input\": all_contents})\n",
    "# and Chinese menus are not showing"
   ]
  },
  {
   "cell_type": "code",
   "execution_count": 204,
   "id": "q9UnPXXb2Lde",
   "metadata": {
    "colab": {
     "base_uri": "https://localhost:8080/"
    },
    "id": "q9UnPXXb2Lde",
    "outputId": "1ddce3d1-dd13-4818-ba00-c77a7e4aca8f"
   },
   "outputs": [
    {
     "data": {
      "text/plain": [
       "[{'title': 'Grilled Salmon',\n",
       "  'price': 15.99,\n",
       "  'description': 'Freshly grilled salmon fillet with a side of steamed vegetables'},\n",
       " {'title': 'Chicken Alfredo',\n",
       "  'price': 12.99,\n",
       "  'description': 'Creamy fettuccine pasta with grilled chicken strips'},\n",
       " {'title': 'Cheeseburger',\n",
       "  'price': 9.99,\n",
       "  'description': 'Juicy beef patty topped with melted cheese, lettuce, and tomato'}]"
      ]
     },
     "execution_count": 204,
     "metadata": {},
     "output_type": "execute_result"
    }
   ],
   "source": [
    "extraction_chain.invoke({\"input\": \"hello\"})\n",
    "\n",
    "\n",
    "# it still generates some stuff,\n",
    "# why?\n",
    "# The reason you're getting that output (a list of menu items with titles like \"Appetizers,\"\n",
    "# \"Main Course,\" and \"Desserts\") from the input \"hi\" is because the model, when bound to\n",
    "# functions and asked to generate specific structured data like Menu, will try to fabricate\n",
    "# or guess an answer based on the structure it knows, even if the input doesn't provide relevant information."
   ]
  },
  {
   "cell_type": "markdown",
   "id": "kHysDU3b7t8A",
   "metadata": {
    "id": "kHysDU3b7t8A"
   },
   "source": [
    "### History:"
   ]
  },
  {
   "cell_type": "code",
   "execution_count": 215,
   "id": "9_nwr_sl7tEY",
   "metadata": {
    "id": "9_nwr_sl7tEY"
   },
   "outputs": [],
   "source": [
    "pdf_extraction_function = [\n",
    "    convert_pydantic_to_openai_function(History)\n",
    "]\n",
    "extraction_model = model.bind(\n",
    "    functions= pdf_extraction_function,\n",
    "    function_call={\"name\":\"History\"}\n",
    ")\n",
    "extraction_chain = prompt | extraction_model | JsonKeyOutputFunctionsParser(key_name=\"histories\")"
   ]
  },
  {
   "cell_type": "code",
   "execution_count": 216,
   "id": "rFvI74jLJfYy",
   "metadata": {
    "colab": {
     "base_uri": "https://localhost:8080/"
    },
    "id": "rFvI74jLJfYy",
    "outputId": "d182175e-1920-49fb-811e-42f44cf0a946"
   },
   "outputs": [
    {
     "data": {
      "text/plain": [
       "[{'event': 'Pret A Manger founded by Sinclair Beecham and Julian Metcalfe',\n",
       "  'date': '1983',\n",
       "  'description': 'First shop opened in Hampstead, London in 1984, offering fresh sandwiches and salads made with high-quality ingredients'},\n",
       " {'event': \"McDonald's acquires 33% stake in Pret A Manger\",\n",
       "  'date': '1996',\n",
       "  'description': 'Provided capital for further expansion, leading to the first international store opening in New York City in 2000'},\n",
       " {'event': 'Bridgepoint acquires majority stake in Pret A Manger',\n",
       "  'date': '2008',\n",
       "  'description': 'Allowed for more growth and innovation, expanding the menu to include vegetarian and vegan options'}]"
      ]
     },
     "execution_count": 216,
     "metadata": {},
     "output_type": "execute_result"
    }
   ],
   "source": [
    "extraction_chain.invoke({\"input\": all_contents})"
   ]
  },
  {
   "cell_type": "code",
   "execution_count": 236,
   "id": "wQh7GRgaJqiK",
   "metadata": {
    "id": "wQh7GRgaJqiK"
   },
   "outputs": [],
   "source": [
    "template = \"\"\"A article will be passed to you. Extract the menus from the PDF,\n",
    "\n",
    "I want you to summarize the milestones in Pret's history. Each milestone should\n",
    "include the event, date, and a short description.\n",
    "\n",
    "Format them nicely, preferably each milestone is on one single line.\n",
    "\n",
    "一篇文章将会传递给你。请把里面的中文从PDF中提取菜单信息。\n",
    "\n",
    "我希望你总结Pret历史中的重要里程碑。每个里程碑应包括事件、日期和简短描述。\n",
    "\n",
    "请将提取的内容进行整齐的格式化，最好每个里程碑占一行。\n",
    "\n",
    "请把中文版本的histories也做出来 \"\"\"\n",
    "\n",
    "prompt = ChatPromptTemplate.from_messages([\n",
    "    (\"system\", template),\n",
    "    (\"human\", \"{input}\")\n",
    "])\n",
    "extraction_chain = prompt | extraction_model | JsonKeyOutputFunctionsParser(key_name=\"histories\")"
   ]
  },
  {
   "cell_type": "code",
   "execution_count": 237,
   "id": "OvZuhbASKQLI",
   "metadata": {
    "colab": {
     "base_uri": "https://localhost:8080/"
    },
    "id": "OvZuhbASKQLI",
    "outputId": "953af054-eafb-4171-c9f9-dc9a5793bb83"
   },
   "outputs": [
    {
     "data": {
      "text/plain": [
       "[{'event': 'Pret A Manger founded by Sinclair Beecham and Julian Metcalfe',\n",
       "  'date': '1983',\n",
       "  'description': 'First shop opened in Hampstead, London in 1984 offering fresh, natural food'},\n",
       " {'event': \"McDonald's acquires 33% stake in Pret A Manger\",\n",
       "  'date': '1996',\n",
       "  'description': 'Provided capital for further expansion, leading to the first international store in New York City in 2000'},\n",
       " {'event': 'Bridgepoint acquires majority stake in Pret A Manger',\n",
       "  'date': '2008',\n",
       "  'description': 'Enabled further growth and innovation, including menu expansion with more vegetarian and vegan options'}]"
      ]
     },
     "execution_count": 237,
     "metadata": {},
     "output_type": "execute_result"
    }
   ],
   "source": [
    "extraction_chain.invoke({\"input\": all_contents})\n",
    "# and Chinese contents are not showing"
   ]
  },
  {
   "cell_type": "markdown",
   "id": "dya_4xkzLLuh",
   "metadata": {
    "id": "dya_4xkzLLuh"
   },
   "source": [
    "# Milestones (using runnable)\n",
    "\n",
    "## using runnable usually has better results.\n"
   ]
  },
  {
   "cell_type": "code",
   "execution_count": 220,
   "id": "hUyRccUGOYfl",
   "metadata": {
    "id": "hUyRccUGOYfl"
   },
   "outputs": [],
   "source": [
    "from langchain.text_splitter import RecursiveCharacterTextSplitter\n",
    "text_splitter = RecursiveCharacterTextSplitter(chunk_overlap=0)"
   ]
  },
  {
   "cell_type": "code",
   "execution_count": 222,
   "id": "ki3dZOXXOdnI",
   "metadata": {
    "colab": {
     "base_uri": "https://localhost:8080/"
    },
    "id": "ki3dZOXXOdnI",
    "outputId": "bce86d47-34fd-48fa-ee6c-2ff31697c60d"
   },
   "outputs": [
    {
     "data": {
      "text/plain": [
       "3"
      ]
     },
     "execution_count": 222,
     "metadata": {},
     "output_type": "execute_result"
    }
   ],
   "source": [
    "splits = text_splitter.split_text(all_contents)\n",
    "len(splits)"
   ]
  },
  {
   "cell_type": "code",
   "execution_count": 223,
   "id": "6u4s42cbOjIM",
   "metadata": {
    "id": "6u4s42cbOjIM"
   },
   "outputs": [],
   "source": [
    "def flatten(matrix):\n",
    "    flat_list = []\n",
    "    for row in matrix:\n",
    "        flat_list += row\n",
    "    return flat_list"
   ]
  },
  {
   "cell_type": "code",
   "execution_count": 226,
   "id": "nLUvMC4AOlo_",
   "metadata": {
    "id": "nLUvMC4AOlo_"
   },
   "outputs": [],
   "source": [
    "# flatten([[1, 2], [3, 4]])"
   ]
  },
  {
   "cell_type": "code",
   "execution_count": 227,
   "id": "QqzgNU0IOnyy",
   "metadata": {
    "colab": {
     "base_uri": "https://localhost:8080/"
    },
    "id": "QqzgNU0IOnyy",
    "outputId": "f04b4af7-fdf9-4922-d9ec-cfda3a6ffd8e"
   },
   "outputs": [
    {
     "name": "stdout",
     "output_type": "stream",
     "text": [
      "The\n",
      "History\n",
      "of\n",
      "Pret\n",
      "\n"
     ]
    }
   ],
   "source": [
    "print(splits[0][:20])"
   ]
  },
  {
   "cell_type": "code",
   "execution_count": 229,
   "id": "E7fus0SZOtX2",
   "metadata": {
    "id": "E7fus0SZOtX2"
   },
   "outputs": [],
   "source": [
    "from langchain.schema.runnable import RunnableLambda"
   ]
  },
  {
   "cell_type": "code",
   "execution_count": 238,
   "id": "uo00E3dPOxXW",
   "metadata": {
    "id": "uo00E3dPOxXW"
   },
   "outputs": [],
   "source": [
    "prep = RunnableLambda(\n",
    "    lambda x: [{\"input\": doc} for doc in text_splitter.split_text(x)]\n",
    ")"
   ]
  },
  {
   "cell_type": "code",
   "execution_count": 239,
   "id": "KVZgTzp6OzRP",
   "metadata": {
    "colab": {
     "base_uri": "https://localhost:8080/"
    },
    "id": "KVZgTzp6OzRP",
    "outputId": "2d90e6b4-11eb-4822-e323-91309f4224af"
   },
   "outputs": [
    {
     "data": {
      "text/plain": [
       "[{'input': 'hi'}]"
      ]
     },
     "execution_count": 239,
     "metadata": {},
     "output_type": "execute_result"
    }
   ],
   "source": [
    "prep.invoke(\"hi\")"
   ]
  },
  {
   "cell_type": "code",
   "execution_count": 240,
   "id": "PIRKOgIjO1HD",
   "metadata": {
    "id": "PIRKOgIjO1HD"
   },
   "outputs": [],
   "source": [
    "chain = prep | extraction_chain.map() | flatten"
   ]
  },
  {
   "cell_type": "code",
   "execution_count": 241,
   "id": "vZUbaSKOO3R7",
   "metadata": {
    "colab": {
     "base_uri": "https://localhost:8080/"
    },
    "id": "vZUbaSKOO3R7",
    "outputId": "f41e3b92-e405-411b-8ed1-2789c695a4b8"
   },
   "outputs": [
    {
     "data": {
      "text/plain": [
       "[{'event': 'Founding of Pret A Manger by Sinclair Beecham and Julian Metcalfe',\n",
       "  'date': '1983',\n",
       "  'description': 'Gap in the market for fresh, natural food in London, first shop opened in 1984 with a focus on fresh sandwiches and salads'},\n",
       " {'event': \"McDonald's acquires 33% stake in Pret A Manger\",\n",
       "  'date': '1996',\n",
       "  'description': 'Provided capital for further expansion, partnership allowed international reach with first store in New York City in 2000'},\n",
       " {'event': 'Bridgepoint acquires majority stake in Pret A Manger',\n",
       "  'date': '2008',\n",
       "  'description': 'Private equity firm acquisition enabled growth and innovation, expanded menu to include vegetarian and vegan options'},\n",
       " {'event': 'Founding of Pret A Manger by Sinclair Beecham and Julian Metcalfe',\n",
       "  'date': '1983',\n",
       "  'description': 'Two university friends noticed the lack of fresh and natural food options in the market, leading to the idea of creating a place offering high-quality sandwiches, salads, and coffee. The first Pret A Manger store opened in 1984 in Hampstead, London, with a commitment to providing freshly prepared, ready-to-eat food.'},\n",
       " {'event': \"Expansion and partnership with McDonald's\",\n",
       "  'date': '1996',\n",
       "  'description': \"Pret A Manger expanded throughout London in the early 1990s and attracted the attention of McDonald's, which acquired 33% of the company's shares, providing financial support for further expansion. This partnership enabled Pret to go beyond the UK and open its first international branch in New York City in 2000, marking the beginning of global expansion.\"},\n",
       " {'event': 'Acquisition by Bridgepoint',\n",
       "  'date': '2008',\n",
       "  'description': 'Private equity firm Bridgepoint acquired the majority stake in Pret A Manger, leading to further growth and innovation. During this period, Pret expanded its menu to include more vegetarian and vegan options to meet the increasing demand for plant-based foods.'},\n",
       " {'event': 'Pret A Manger founded in London',\n",
       "  'date': '1983',\n",
       "  'description': 'First Pret A Manger shop opened in London, UK'},\n",
       " {'event': 'Expansion to a global brand',\n",
       "  'date': '2000',\n",
       "  'description': 'Pret A Manger became a global brand with stores worldwide'},\n",
       " {'event': 'Introduction of delivery services and coffee subscription plan',\n",
       "  'date': '2020',\n",
       "  'description': 'Pret adapted to the challenges during the pandemic by expanding delivery services and introducing a coffee subscription plan'},\n",
       " {'event': 'Diversification of products in supermarkets',\n",
       "  'date': '2020',\n",
       "  'description': 'Pret started offering more ready-to-eat products in supermarkets to adapt to market changes'}]"
      ]
     },
     "execution_count": 241,
     "metadata": {},
     "output_type": "execute_result"
    }
   ],
   "source": [
    "chain.invoke(all_contents)\n",
    "# no Chinese either, but much better English results."
   ]
  },
  {
   "cell_type": "code",
   "execution_count": 242,
   "id": "KEctc5z6PyoM",
   "metadata": {
    "colab": {
     "base_uri": "https://localhost:8080/"
    },
    "id": "KEctc5z6PyoM",
    "outputId": "a7268019-c88a-4b3b-9f15-011c41cb66fc"
   },
   "outputs": [
    {
     "data": {
      "text/plain": [
       "[{'event': 'Founding of Pret A Manger by Sinclair Beecham and Julian Metcalfe',\n",
       "  'date': '1983',\n",
       "  'description': 'Two college friends noticed a gap in the market for fresh, natural food and opened the first shop in Hampstead, London in 1984.'},\n",
       " {'event': \"McDonald's acquires a 33% stake in Pret A Manger\",\n",
       "  'date': '1996',\n",
       "  'description': \"McDonald's investment provided capital for further expansion, leading to the opening of the first international store in New York City in 2000.\"},\n",
       " {'event': 'Bridgepoint acquires a majority stake in Pret A Manger',\n",
       "  'date': '2008',\n",
       "  'description': 'Private equity firm acquisition supports growth and innovation, including menu expansion to include more vegetarian and vegan options.'}]"
      ]
     },
     "execution_count": 242,
     "metadata": {},
     "output_type": "execute_result"
    }
   ],
   "source": [
    "# chain.invoke(all_contents)\n",
    "extraction_chain.invoke({\"input\": all_contents})\n",
    "# slightly worse than \"chain.invoke(all_contents)\""
   ]
  },
  {
   "cell_type": "code",
   "execution_count": 243,
   "id": "SPhGtXt5P-I9",
   "metadata": {
    "colab": {
     "base_uri": "https://localhost:8080/"
    },
    "id": "SPhGtXt5P-I9",
    "outputId": "2a41973b-4ea7-4a01-ea98-817f48fb4271"
   },
   "outputs": [
    {
     "data": {
      "text/plain": [
       "[{'event': 'Pret A Manger founded by Sinclair Beecham and Julian Metcalfe',\n",
       "  'date': '1983',\n",
       "  'description': 'Gap in the market for fresh, natural food in London, first shop opened in 1984 with focus on high-quality ingredients and quick service'},\n",
       " {'event': \"McDonald's acquires 33% stake in Pret A Manger\",\n",
       "  'date': '1996',\n",
       "  'description': 'Provided capital for further expansion, leading to international presence with the first store in New York City in 2000'},\n",
       " {'event': 'Bridgepoint acquires majority stake in Pret A Manger',\n",
       "  'date': '2008',\n",
       "  'description': 'Enabled further growth, expansion of menu to include vegetarian and vegan options to cater to changing consumer demands'},\n",
       " {'event': 'Founding of Pret A Manger by Sinclair Beecham and Julian Metcalfe',\n",
       "  'date': '1983',\n",
       "  'description': 'Two university friends noticed the lack of fresh and natural food options in London, leading to the creation of a place offering high-quality sandwiches, salads, and coffee. The first Pret A Manger store opened in 1984 in Hampstead, London.'},\n",
       " {'event': \"Expansion and McDonald's investment\",\n",
       "  'date': '1996',\n",
       "  'description': \"Pret started expanding in London and attracted McDonald's attention, leading to McDonald's acquiring 33% of the company's shares. This partnership allowed Pret to expand internationally, opening its first international branch in New York City in 2000.\"},\n",
       " {'event': 'Bridgepoint acquisition',\n",
       "  'date': '2008',\n",
       "  'description': 'Private equity firm Bridgepoint acquired a majority stake in Pret A Manger, driving further growth and innovation. During this time, Pret expanded its menu to include more vegetarian and vegan options to meet the increasing demand for plant-based foods.'},\n",
       " {'event': 'Pret成立于伦敦',\n",
       "  'date': '1983年',\n",
       "  'description': '由朱利安·梅特兰和辛克莱·图德希尔创立的咖啡店。'},\n",
       " {'event': 'Pret在伦敦开设第一家店铺',\n",
       "  'date': '1984年',\n",
       "  'description': '开始提供新鲜、高品质的快餐食品。'},\n",
       " {'event': 'Pret推出咖啡订阅计划',\n",
       "  'date': '2020年',\n",
       "  'description': '作为对疫情影响的回应，扩大送餐服务并推出更多即食产品。'}]"
      ]
     },
     "execution_count": 243,
     "metadata": {},
     "output_type": "execute_result"
    }
   ],
   "source": [
    "chain = prep | extraction_chain.map() | flatten\n",
    "chain.invoke(all_contents)\n",
    "# getting better while you keep sending requests....\n",
    "# interesting observation: as the chain request increases, the results get better."
   ]
  },
  {
   "cell_type": "markdown",
   "id": "ats0t5MvLCCV",
   "metadata": {
    "id": "ats0t5MvLCCV"
   },
   "source": [
    "# Menu (using runnable)\n",
    "\n",
    "## to get the menu results, you have to rerun the menu part above and then get the defualt results."
   ]
  },
  {
   "cell_type": "code",
   "execution_count": 161,
   "id": "sxrWrLpN3ZKm",
   "metadata": {
    "id": "sxrWrLpN3ZKm"
   },
   "outputs": [],
   "source": [
    "from langchain.schema.runnable import RunnableLambda\n",
    "\n",
    "# results are much better!!!"
   ]
  },
  {
   "cell_type": "code",
   "execution_count": 162,
   "id": "o-wB8ltH35eb",
   "metadata": {
    "id": "o-wB8ltH35eb"
   },
   "outputs": [],
   "source": [
    "prep = RunnableLambda(\n",
    "    lambda x: [{\"input\": doc} for doc in text_splitter.split_text(x)]\n",
    ")"
   ]
  },
  {
   "cell_type": "code",
   "execution_count": 163,
   "id": "eauV5kzQ388T",
   "metadata": {
    "colab": {
     "base_uri": "https://localhost:8080/"
    },
    "id": "eauV5kzQ388T",
    "outputId": "708f92d7-58cb-49bc-8dca-531e616b8cc9"
   },
   "outputs": [
    {
     "data": {
      "text/plain": [
       "[{'input': 'hi'}]"
      ]
     },
     "execution_count": 163,
     "metadata": {},
     "output_type": "execute_result"
    }
   ],
   "source": [
    "prep.invoke(\"hi\")"
   ]
  },
  {
   "cell_type": "code",
   "execution_count": 165,
   "id": "1JCMfM7S3-l9",
   "metadata": {
    "id": "1JCMfM7S3-l9"
   },
   "outputs": [],
   "source": [
    "chain = prep | extraction_chain.map() | flatten"
   ]
  },
  {
   "cell_type": "code",
   "execution_count": 166,
   "id": "JJxIgw_B4Ai9",
   "metadata": {
    "colab": {
     "base_uri": "https://localhost:8080/"
    },
    "id": "JJxIgw_B4Ai9",
    "outputId": "5df162bc-042e-4a11-fd39-55f1884d71d6"
   },
   "outputs": [
    {
     "data": {
      "text/plain": [
       "[{'title': 'Pret A Manger Sandwiches',\n",
       "  'price': 8.99,\n",
       "  'description': 'Freshly made sandwiches with high-quality ingredients'},\n",
       " {'title': 'Pret A Manger Salads',\n",
       "  'price': 7.99,\n",
       "  'description': 'Healthy and delicious salads made daily'},\n",
       " {'title': 'Pret A Manger Coffee',\n",
       "  'price': 2.99,\n",
       "  'description': 'High-quality coffee made to order'},\n",
       " {'title': 'Classic Tuna & Cucumber', 'price': 5.5, 'description': None},\n",
       " {'title': 'Chicken Caesar & Bacon Baguette',\n",
       "  'price': 7.0,\n",
       "  'description': None},\n",
       " {'title': 'Ham & Cheese Baguette', 'price': 6.0, 'description': None},\n",
       " {'title': 'Egg Salad Sandwich', 'price': 5.0, 'description': None},\n",
       " {'title': 'Chicken & Avocado Salad', 'price': 8.0, 'description': None},\n",
       " {'title': 'Chef’s Italian Salad', 'price': 7.5, 'description': None},\n",
       " {'title': 'Tuna Nicoise Salad', 'price': 8.5, 'description': None},\n",
       " {'title': 'Super Greens & Grains Salad', 'price': 8.5, 'description': None},\n",
       " {'title': 'Falafel & Hummus Wrap', 'price': 6.0, 'description': None},\n",
       " {'title': 'Chicken & Bacon Caesar Wrap', 'price': 7.0, 'description': None},\n",
       " {'title': 'Mexican Chicken Avocado Wrap', 'price': 7.5, 'description': None},\n",
       " {'title': 'Macaroni Cheese Prosciutto', 'price': 7.0, 'description': None},\n",
       " {'title': 'Chicken & Mozzarella Toastie', 'price': 6.5, 'description': None},\n",
       " {'title': 'Spinach & Cheese Croissant', 'price': 3.5, 'description': None},\n",
       " {'title': 'Bacon, Egg & Cheese Roll', 'price': 5.0, 'description': None},\n",
       " {'title': 'Avocado & Egg Brioche', 'price': 5.5, 'description': None},\n",
       " {'title': 'Porridge', 'price': 3.0, 'description': None},\n",
       " {'title': 'Granola & Yogurt Pot', 'price': 4.5, 'description': None},\n",
       " {'title': 'Pret’s Fruit Salad', 'price': 4.0, 'description': None},\n",
       " {'title': 'Chocolate Brownie', 'price': 2.5, 'description': None},\n",
       " {'title': 'Almond Butter Cookie', 'price': 2.0, 'description': None},\n",
       " {'title': 'Organic Coffee (Regular)', 'price': 2.5, 'description': None},\n",
       " {'title': 'Latte/Cappuccino', 'price': 3.0, 'description': None},\n",
       " {'title': 'Iced Coffee', 'price': 3.5, 'description': None},\n",
       " {'title': 'Freshly Squeezed Orange Juice', 'price': 4.0, 'description': None},\n",
       " {'title': 'Smoothies', 'price': 4.5, 'description': None},\n",
       " {'title': '经典金枪鱼黄瓜三明治', 'price': 5.5, 'description': None},\n",
       " {'title': '鸡肉凯撒培根法棍', 'price': 7, 'description': None},\n",
       " {'title': '火腿奶酪法棍', 'price': 6},\n",
       " {'title': '蛋沙拉三明治', 'price': 5},\n",
       " {'title': '鸡肉鳄梨沙拉', 'price': 8},\n",
       " {'title': '主厨意大利沙拉', 'price': 7.5},\n",
       " {'title': '金枪鱼尼苏沙拉', 'price': 8.5},\n",
       " {'title': '超级绿色谷物沙拉', 'price': 8.5},\n",
       " {'title': '法拉费尔和鹰嘴豆泥卷饼', 'price': 6},\n",
       " {'title': '鸡肉培根凯撒卷饼', 'price': 7},\n",
       " {'title': '墨西哥鸡肉鳄梨卷饼', 'price': 7.5},\n",
       " {'title': '火腿芝士通心粉', 'price': 7},\n",
       " {'title': '鸡肉马苏里拉奶酪烤三明治', 'price': 6.5},\n",
       " {'title': '菠菜芝士羊角面包', 'price': 3.5},\n",
       " {'title': '培根蛋芝士卷', 'price': 5},\n",
       " {'title': '鳄梨蛋布里欧', 'price': 5.5},\n",
       " {'title': '燕麦粥', 'price': 3},\n",
       " {'title': '格兰诺拉麦片酸奶杯', 'price': 4.5},\n",
       " {'title': 'Pret水果沙拉', 'price': 4},\n",
       " {'title': '巧克力布朗尼', 'price': 2.5},\n",
       " {'title': '杏仁黄油饼干', 'price': 2},\n",
       " {'title': '有机咖啡（常规）', 'price': 2.5},\n",
       " {'title': '拿铁/卡布奇诺', 'price': 3},\n",
       " {'title': '冰咖啡', 'price': 3.5},\n",
       " {'title': '鲜榨橙汁', 'price': 4},\n",
       " {'title': '冰沙', 'price': 4.5}]"
      ]
     },
     "execution_count": 166,
     "metadata": {},
     "output_type": "execute_result"
    }
   ],
   "source": [
    "chain.invoke(all_contents)\n",
    "# extraction_chain.invoke({\"input\": all_contents})\n"
   ]
  },
  {
   "cell_type": "code",
   "execution_count": 169,
   "id": "bbKE22n94neJ",
   "metadata": {
    "colab": {
     "base_uri": "https://localhost:8080/"
    },
    "id": "bbKE22n94neJ",
    "outputId": "6cda67ce-5ec5-4fc0-cc26-21e11f77d327"
   },
   "outputs": [
    {
     "data": {
      "text/plain": [
       "[{'title': 'Sandwiches and Baguettes',\n",
       "  'price': 5.5,\n",
       "  'description': 'Classic Tuna & Cucumber'},\n",
       " {'title': 'Sandwiches and Baguettes',\n",
       "  'price': 6.5,\n",
       "  'description': 'Classic Tuna & Cucumber'},\n",
       " {'title': 'Sandwiches and Baguettes',\n",
       "  'price': 7,\n",
       "  'description': 'Chicken Caesar & Bacon Baguette'},\n",
       " {'title': 'Sandwiches and Baguettes',\n",
       "  'price': 8.5,\n",
       "  'description': 'Chicken Caesar & Bacon Baguette'},\n",
       " {'title': 'Sandwiches and Baguettes',\n",
       "  'price': 6,\n",
       "  'description': 'Ham & Cheese Baguette'},\n",
       " {'title': 'Sandwiches and Baguettes',\n",
       "  'price': 7,\n",
       "  'description': 'Ham & Cheese Baguette'},\n",
       " {'title': 'Sandwiches and Baguettes',\n",
       "  'price': 5,\n",
       "  'description': 'Egg Salad Sandwich'},\n",
       " {'title': 'Sandwiches and Baguettes',\n",
       "  'price': 6,\n",
       "  'description': 'Egg Salad Sandwich'},\n",
       " {'title': 'Salads', 'price': 8, 'description': 'Chicken & Avocado Salad'},\n",
       " {'title': 'Salads', 'price': 9.5, 'description': 'Chicken & Avocado Salad'},\n",
       " {'title': 'Salads', 'price': 7.5, 'description': 'Chef’s Italian Salad'},\n",
       " {'title': 'Salads', 'price': 8.5, 'description': 'Chef’s Italian Salad'},\n",
       " {'title': 'Salads', 'price': 8.5, 'description': 'Tuna Nicoise Salad'},\n",
       " {'title': 'Salads', 'price': 9.5, 'description': 'Tuna Nicoise Salad'},\n",
       " {'title': 'Salads',\n",
       "  'price': 8.5,\n",
       "  'description': 'Super Greens & Grains Salad'},\n",
       " {'title': 'Salads',\n",
       "  'price': 9.5,\n",
       "  'description': 'Super Greens & Grains Salad'},\n",
       " {'title': 'Wraps', 'price': 6, 'description': 'Falafel & Hummus Wrap'},\n",
       " {'title': 'Wraps', 'price': 7, 'description': 'Falafel & Hummus Wrap'},\n",
       " {'title': 'Wraps', 'price': 7, 'description': 'Chicken & Bacon Caesar Wrap'},\n",
       " {'title': 'Wraps',\n",
       "  'price': 8.5,\n",
       "  'description': 'Chicken & Bacon Caesar Wrap'},\n",
       " {'title': 'Wraps',\n",
       "  'price': 7.5,\n",
       "  'description': 'Mexican Chicken Avocado Wrap'},\n",
       " {'title': 'Wraps',\n",
       "  'price': 8.5,\n",
       "  'description': 'Mexican Chicken Avocado Wrap'},\n",
       " {'title': 'Hot Food',\n",
       "  'price': 7,\n",
       "  'description': 'Macaroni Cheese Prosciutto'},\n",
       " {'title': 'Hot Food',\n",
       "  'price': 8,\n",
       "  'description': 'Macaroni Cheese Prosciutto'},\n",
       " {'title': 'Hot Food',\n",
       "  'price': 6.5,\n",
       "  'description': 'Chicken & Mozzarella Toastie'},\n",
       " {'title': 'Hot Food',\n",
       "  'price': 7.5,\n",
       "  'description': 'Chicken & Mozzarella Toastie'},\n",
       " {'title': 'Hot Food',\n",
       "  'price': 3.5,\n",
       "  'description': 'Spinach & Cheese Croissant'},\n",
       " {'title': 'Hot Food',\n",
       "  'price': 4.5,\n",
       "  'description': 'Spinach & Cheese Croissant'},\n",
       " {'title': 'Breakfast Items',\n",
       "  'price': 5,\n",
       "  'description': 'Bacon, Egg & Cheese Roll'},\n",
       " {'title': 'Breakfast Items',\n",
       "  'price': 6,\n",
       "  'description': 'Bacon, Egg & Cheese Roll'},\n",
       " {'title': 'Breakfast Items',\n",
       "  'price': 5.5,\n",
       "  'description': 'Avocado & Egg Brioche'},\n",
       " {'title': 'Breakfast Items',\n",
       "  'price': 6.5,\n",
       "  'description': 'Avocado & Egg Brioche'},\n",
       " {'title': 'Breakfast Items', 'price': 3, 'description': 'Porridge'},\n",
       " {'title': 'Breakfast Items', 'price': 4, 'description': 'Porridge'},\n",
       " {'title': 'Breakfast Items',\n",
       "  'price': 4.5,\n",
       "  'description': 'Granola & Yogurt Pot'},\n",
       " {'title': 'Breakfast Items',\n",
       "  'price': 5.5,\n",
       "  'description': 'Granola & Yogurt Pot'},\n",
       " {'title': 'Snacks and Desserts',\n",
       "  'price': 4,\n",
       "  'description': 'Pret’s Fruit Salad'},\n",
       " {'title': 'Snacks and Desserts',\n",
       "  'price': 5,\n",
       "  'description': 'Pret’s Fruit Salad'},\n",
       " {'title': 'Snacks and Desserts',\n",
       "  'price': 2.5,\n",
       "  'description': 'Chocolate Brownie'},\n",
       " {'title': 'Snacks and Desserts',\n",
       "  'price': 3.5,\n",
       "  'description': 'Chocolate Brownie'},\n",
       " {'title': 'Snacks and Desserts',\n",
       "  'price': 2,\n",
       "  'description': 'Almond Butter Cookie'},\n",
       " {'title': 'Snacks and Desserts',\n",
       "  'price': 3,\n",
       "  'description': 'Almond Butter Cookie'},\n",
       " {'title': 'Beverages',\n",
       "  'price': 2.5,\n",
       "  'description': 'Organic Coffee (Regular)'},\n",
       " {'title': 'Beverages',\n",
       "  'price': 3.5,\n",
       "  'description': 'Organic Coffee (Regular)'},\n",
       " {'title': 'Beverages', 'price': 3, 'description': 'Latte/Cappuccino'},\n",
       " {'title': 'Beverages', 'price': 4.5, 'description': 'Latte/Cappuccino'},\n",
       " {'title': 'Beverages', 'price': 3.5, 'description': 'Iced Coffee'},\n",
       " {'title': 'Beverages', 'price': 4.5, 'description': 'Iced Coffee'},\n",
       " {'title': 'Beverages',\n",
       "  'price': 4,\n",
       "  'description': 'Freshly Squeezed Orange Juice'},\n",
       " {'title': 'Beverages',\n",
       "  'price': 5,\n",
       "  'description': 'Freshly Squeezed Orange Juice'},\n",
       " {'title': 'Beverages', 'price': 4.5, 'description': 'Smoothies'},\n",
       " {'title': 'Beverages', 'price': 6, 'description': 'Smoothies'}]"
      ]
     },
     "execution_count": 169,
     "metadata": {},
     "output_type": "execute_result"
    }
   ],
   "source": [
    "extraction_chain.invoke({\"input\": all_contents})\n"
   ]
  },
  {
   "cell_type": "code",
   "execution_count": 170,
   "id": "tmJUGwjq4p9k",
   "metadata": {
    "id": "tmJUGwjq4p9k"
   },
   "outputs": [],
   "source": [
    "chain = prep | extraction_chain.map() | flatten"
   ]
  },
  {
   "cell_type": "code",
   "execution_count": 171,
   "id": "7dGPe94r4tqr",
   "metadata": {
    "colab": {
     "base_uri": "https://localhost:8080/"
    },
    "id": "7dGPe94r4tqr",
    "outputId": "63ff2777-2e7d-4c8d-c1fc-4af99854f27b"
   },
   "outputs": [
    {
     "data": {
      "text/plain": [
       "[{'title': 'Pret A Manger Coffee',\n",
       "  'price': 3.5,\n",
       "  'description': 'Freshly brewed coffee made from high-quality beans'},\n",
       " {'title': 'Pret A Manger Sandwich',\n",
       "  'price': 5.99,\n",
       "  'description': 'Freshly prepared sandwich with a variety of fillings'},\n",
       " {'title': 'Pret A Manger Salad',\n",
       "  'price': 7.99,\n",
       "  'description': 'Healthy salad made with fresh ingredients'},\n",
       " {'title': 'Classic Tuna & Cucumber', 'price': 5.5, 'description': None},\n",
       " {'title': 'Chicken Caesar & Bacon Baguette', 'price': 7, 'description': None},\n",
       " {'title': 'Ham & Cheese Baguette', 'price': 6, 'description': None},\n",
       " {'title': 'Egg Salad Sandwich', 'price': 5, 'description': None},\n",
       " {'title': 'Chicken & Avocado Salad', 'price': 8, 'description': None},\n",
       " {'title': 'Chef’s Italian Salad', 'price': 7.5, 'description': None},\n",
       " {'title': 'Tuna Nicoise Salad', 'price': 8.5, 'description': None},\n",
       " {'title': 'Super Greens & Grains Salad', 'price': 8.5, 'description': None},\n",
       " {'title': 'Falafel & Hummus Wrap', 'price': 6, 'description': None},\n",
       " {'title': 'Chicken & Bacon Caesar Wrap', 'price': 7, 'description': None},\n",
       " {'title': 'Mexican Chicken Avocado Wrap', 'price': 7.5, 'description': None},\n",
       " {'title': 'Macaroni Cheese Prosciutto', 'price': 7, 'description': None},\n",
       " {'title': 'Chicken & Mozzarella Toastie', 'price': 6.5, 'description': None},\n",
       " {'title': 'Spinach & Cheese Croissant', 'price': 3.5, 'description': None},\n",
       " {'title': 'Bacon, Egg & Cheese Roll', 'price': 5, 'description': None},\n",
       " {'title': 'Avocado & Egg Brioche', 'price': 5.5, 'description': None},\n",
       " {'title': 'Porridge', 'price': 3, 'description': None},\n",
       " {'title': 'Granola & Yogurt Pot', 'price': 4.5, 'description': None},\n",
       " {'title': 'Pret’s Fruit Salad', 'price': 4, 'description': None},\n",
       " {'title': 'Chocolate Brownie', 'price': 2.5, 'description': None},\n",
       " {'title': 'Almond Butter Cookie', 'price': 2, 'description': None},\n",
       " {'title': 'Organic Coffee (Regular)', 'price': 2.5, 'description': None},\n",
       " {'title': 'Latte/Cappuccino', 'price': 3, 'description': None},\n",
       " {'title': 'Iced Coffee', 'price': 3.5, 'description': None},\n",
       " {'title': 'Freshly Squeezed Orange Juice', 'price': 4, 'description': None},\n",
       " {'title': 'Smoothies', 'price': 4.5, 'description': None},\n",
       " {'title': '经典金枪鱼黄瓜三明治', 'price': 5.5, 'description': None},\n",
       " {'title': '鸡肉凯撒培根法棍', 'price': 7.0, 'description': None},\n",
       " {'title': '火腿奶酪法棍', 'price': 6.0, 'description': None},\n",
       " {'title': '蛋沙拉三明治', 'price': 5.0, 'description': None},\n",
       " {'title': '鸡肉鳄梨沙拉', 'price': 8.0, 'description': None},\n",
       " {'title': '主厨意大利沙拉', 'price': 7.5, 'description': None},\n",
       " {'title': '金枪鱼尼苏沙拉', 'price': 8.5, 'description': None},\n",
       " {'title': '超级绿色谷物沙拉', 'price': 8.5, 'description': None},\n",
       " {'title': '法拉费尔和鹰嘴豆泥卷饼', 'price': 6.0, 'description': None},\n",
       " {'title': '鸡肉培根凯撒卷饼', 'price': 7.0, 'description': None},\n",
       " {'title': '墨西哥鸡肉鳄梨卷饼', 'price': 7.5, 'description': None},\n",
       " {'title': '火腿芝士通心粉', 'price': 7.0, 'description': None},\n",
       " {'title': '鸡肉马苏里拉奶酪烤三明治', 'price': 6.5, 'description': None},\n",
       " {'title': '菠菜芝士羊角面包', 'price': 3.5, 'description': None},\n",
       " {'title': '培根蛋芝士卷', 'price': 5.0, 'description': None},\n",
       " {'title': '鳄梨蛋布里欧', 'price': 5.5, 'description': None},\n",
       " {'title': '燕麦粥', 'price': 3.0, 'description': None},\n",
       " {'title': '格兰诺拉麦片酸奶杯', 'price': 4.5, 'description': None},\n",
       " {'title': 'Pret水果沙拉', 'price': 4.0, 'description': None},\n",
       " {'title': '巧克力布朗尼', 'price': 2.5, 'description': None},\n",
       " {'title': '杏仁黄油饼干', 'price': 2.0, 'description': None},\n",
       " {'title': '有机咖啡（常规）', 'price': 2.5, 'description': None},\n",
       " {'title': '拿铁/卡布奇诺', 'price': 3.0, 'description': None},\n",
       " {'title': '冰咖啡', 'price': 3.5, 'description': None},\n",
       " {'title': '鲜榨橙汁', 'price': 4.0, 'description': None},\n",
       " {'title': '冰沙', 'price': 4.5, 'description': None}]"
      ]
     },
     "execution_count": 171,
     "metadata": {},
     "output_type": "execute_result"
    }
   ],
   "source": [
    "# chain = prep | extraction_chain.map() | flatten\n",
    "chain.invoke(all_contents)"
   ]
  },
  {
   "cell_type": "code",
   "execution_count": null,
   "id": "SgwezpKkoKIq",
   "metadata": {
    "id": "SgwezpKkoKIq"
   },
   "outputs": [],
   "source": [
    "\n",
    "# class Overview(BaseModel):\n",
    "#     \"\"\"Overview of a section of text.\"\"\"\n",
    "#     summary: str = Field(description=\"Provide a concise summary of the content.\")\n",
    "#     language: str = Field(description=\"Provide the language that the content is written in.\")\n",
    "#     keywords: str = Field(description=\"Provide keywords related to the content.\")\n",
    "# class Paper(BaseModel):\n",
    "#     \"\"\"Information about papers mentioned.\"\"\"\n",
    "#     title: str\n",
    "#     author: Optional[str]\n",
    "# class Info(BaseModel):\n",
    "#     \"\"\"Information to extract\"\"\"\n",
    "#     papers: List[Paper]"
   ]
  },
  {
   "cell_type": "code",
   "execution_count": 77,
   "id": "68cb460a-2b56-42be-acf6-4f61e40027f4",
   "metadata": {
    "height": 30,
    "id": "68cb460a-2b56-42be-acf6-4f61e40027f4"
   },
   "outputs": [],
   "source": []
  },
  {
   "cell_type": "code",
   "execution_count": 77,
   "id": "32277f95-fdb1-4873-b513-4aa9f7437308",
   "metadata": {
    "height": 30,
    "id": "32277f95-fdb1-4873-b513-4aa9f7437308"
   },
   "outputs": [],
   "source": []
  },
  {
   "cell_type": "code",
   "execution_count": 77,
   "id": "cbf4b7b3-13f8-4cb6-b658-a0b0af88034d",
   "metadata": {
    "height": 30,
    "id": "cbf4b7b3-13f8-4cb6-b658-a0b0af88034d"
   },
   "outputs": [],
   "source": []
  },
  {
   "cell_type": "code",
   "execution_count": 77,
   "id": "23fe8752-104b-4672-a024-8ef182bde883",
   "metadata": {
    "height": 30,
    "id": "23fe8752-104b-4672-a024-8ef182bde883"
   },
   "outputs": [],
   "source": []
  },
  {
   "cell_type": "code",
   "execution_count": 77,
   "id": "918dd6d5-fec4-4d08-be91-6b0bb56340ae",
   "metadata": {
    "height": 30,
    "id": "918dd6d5-fec4-4d08-be91-6b0bb56340ae"
   },
   "outputs": [],
   "source": []
  },
  {
   "cell_type": "code",
   "execution_count": 77,
   "id": "caf6b3ac-0367-4bf9-b01b-acebd6d1cfbf",
   "metadata": {
    "height": 30,
    "id": "caf6b3ac-0367-4bf9-b01b-acebd6d1cfbf"
   },
   "outputs": [],
   "source": []
  },
  {
   "cell_type": "code",
   "execution_count": 77,
   "id": "d2d90c83-cc84-4d44-bfff-35a30fb72f63",
   "metadata": {
    "height": 30,
    "id": "d2d90c83-cc84-4d44-bfff-35a30fb72f63"
   },
   "outputs": [],
   "source": []
  },
  {
   "cell_type": "code",
   "execution_count": 77,
   "id": "b31bb740-2d2a-4fc8-8887-4e9da113e82d",
   "metadata": {
    "height": 30,
    "id": "b31bb740-2d2a-4fc8-8887-4e9da113e82d"
   },
   "outputs": [],
   "source": []
  },
  {
   "cell_type": "code",
   "execution_count": 77,
   "id": "5409db4a-a52b-4943-944e-7221eda0339e",
   "metadata": {
    "height": 30,
    "id": "5409db4a-a52b-4943-944e-7221eda0339e"
   },
   "outputs": [],
   "source": []
  },
  {
   "cell_type": "code",
   "execution_count": 77,
   "id": "0cdcc19b-7b03-4d7e-a90d-1f8c33d1f9d9",
   "metadata": {
    "height": 30,
    "id": "0cdcc19b-7b03-4d7e-a90d-1f8c33d1f9d9"
   },
   "outputs": [],
   "source": []
  },
  {
   "cell_type": "code",
   "execution_count": 77,
   "id": "60c5f869-67cc-4b66-8d14-7d19dd01b22a",
   "metadata": {
    "height": 30,
    "id": "60c5f869-67cc-4b66-8d14-7d19dd01b22a"
   },
   "outputs": [],
   "source": []
  }
 ],
 "metadata": {
  "accelerator": "GPU",
  "colab": {
   "gpuType": "T4",
   "provenance": []
  },
  "kernelspec": {
   "display_name": "Python 3 (ipykernel)",
   "language": "python",
   "name": "python3"
  },
  "language_info": {
   "codemirror_mode": {
    "name": "ipython",
    "version": 3
   },
   "file_extension": ".py",
   "mimetype": "text/x-python",
   "name": "python",
   "nbconvert_exporter": "python",
   "pygments_lexer": "ipython3",
   "version": "3.11.0"
  }
 },
 "nbformat": 4,
 "nbformat_minor": 5
}
