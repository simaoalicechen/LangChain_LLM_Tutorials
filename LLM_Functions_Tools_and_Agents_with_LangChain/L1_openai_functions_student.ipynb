{
 "cells": [
  {
   "cell_type": "markdown",
   "id": "a3df44d6-62d0-4324-8052-419503a6b040",
   "metadata": {
    "id": "a3df44d6-62d0-4324-8052-419503a6b040"
   },
   "source": [
    "# OpenAI Function Calling\n"
   ]
  },
  {
   "cell_type": "markdown",
   "id": "59b038f2-759a-42e9-ab02-eca264b93ee5",
   "metadata": {
    "id": "59b038f2-759a-42e9-ab02-eca264b93ee5"
   },
   "source": [
    "**Notes**:\n",
    "- LLM's don't always produce the same results. The results you see in this notebook may differ from the results you see in the video.\n",
    "- Notebooks results are temporary. Download the notebooks to your local machine if you wish to save your results."
   ]
  },
  {
   "cell_type": "markdown",
   "id": "ijJZRK7mycTg",
   "metadata": {
    "id": "ijJZRK7mycTg"
   },
   "source": [
    "## outline (for this course)\n",
    "\n",
    "- OpenAi function calling\n",
    "- LangChain Expression Language (LCEL)\n",
    "- OpenAI function calling in LangChain\n",
    "- Tagging and extraction using OpenAI function calling\n",
    "- Tools and Routing\n",
    "- Conversational Agent"
   ]
  },
  {
   "cell_type": "markdown",
   "id": "sbIhbwdMzCHA",
   "metadata": {
    "id": "sbIhbwdMzCHA"
   },
   "source": [
    "## Function calling\n",
    "\n",
    "- OpenAI has fine-tuned the gpt-3.5 turbo-0613 and gpt-4-0613 models to :\n",
    "  1. accept additional arguments through which users can pass in descriptions of functions.\n",
    "  2. if it is relevant, return the nam of the function to use, along with a JSON object with teh appropriate input parameters.\n",
    "\n",
    "\n",
    "#### did not really follow the tutorials, as the syntex are basically completely outdated/different\n",
    "\n",
    "#### base codes: https://platform.openai.com/docs/guides/function-calling"
   ]
  },
  {
   "cell_type": "code",
   "execution_count": 2,
   "id": "G2PLvLoRtPvi",
   "metadata": {
    "id": "G2PLvLoRtPvi"
   },
   "outputs": [],
   "source": [
    "# !pip install python-dotenv\n",
    "# !pip install openai\n",
    "# !pip install -U langchain langchain-openai"
   ]
  },
  {
   "cell_type": "code",
   "execution_count": 3,
   "id": "3d1a7aac-599c-4653-b497-49fe9a31a07d",
   "metadata": {
    "height": 115,
    "id": "3d1a7aac-599c-4653-b497-49fe9a31a07d",
    "tags": []
   },
   "outputs": [],
   "source": [
    "import os\n",
    "import openai\n",
    "\n",
    "from dotenv import load_dotenv, find_dotenv\n",
    "_ = load_dotenv(find_dotenv()) # read local .env file\n",
    "openai.api_key = os.environ['OPENAI_API_KEY']\n",
    "OPENAI_API_KEY = openai.api_key"
   ]
  },
  {
   "cell_type": "code",
   "execution_count": 4,
   "id": "e036b435-e842-40a3-8e1c-1d5d716394c6",
   "metadata": {
    "height": 234,
    "id": "e036b435-e842-40a3-8e1c-1d5d716394c6"
   },
   "outputs": [],
   "source": [
    "import json\n",
    "\n",
    "# Example dummy function hard coded to return the same weather\n",
    "# In production, this could be your backend API or an external API\n",
    "def get_current_weather(location, unit=\"fahrenheit\"):\n",
    "    \"\"\"Get the current weather in a given location\"\"\"\n",
    "    weather_info = {\n",
    "        \"location\": location,\n",
    "        \"temperature\": \"72\",\n",
    "        \"unit\": unit,\n",
    "        \"forecast\": [\"sunny\", \"windy\"],\n",
    "    }\n",
    "    return json.dumps(weather_info)"
   ]
  },
  {
   "cell_type": "code",
   "execution_count": null,
   "id": "aVLLBTxiAoyp",
   "metadata": {
    "id": "aVLLBTxiAoyp"
   },
   "outputs": [],
   "source": [
    "# define a function\n",
    "# old syntex. function will have to be incorporated into tools\n",
    "\n",
    "# functions = [\n",
    "#     {\n",
    "#         \"name\": \"get_current_weather\",\n",
    "#         \"description\": \"Get the current weather in a given location\",\n",
    "#         \"parameters\": {\n",
    "#             \"type\": \"object\",\n",
    "#             \"properties\": {\n",
    "#                 \"location\": {\n",
    "#                     \"type\": \"string\",\n",
    "#                     \"description\": \"The city and state, e.g. San Francisco, CA\",\n",
    "#                 },\n",
    "#                 \"unit\": {\"type\": \"string\", \"enum\": [\"celsius\", \"fahrenheit\"]},\n",
    "#             },\n",
    "#             \"required\": [\"location\"],\n",
    "#         },\n",
    "#     }\n",
    "# ]"
   ]
  },
  {
   "cell_type": "code",
   "execution_count": 5,
   "id": "290fae11-d9af-40f8-9b78-3d6a847737b2",
   "metadata": {
    "height": 319,
    "id": "290fae11-d9af-40f8-9b78-3d6a847737b2"
   },
   "outputs": [],
   "source": [
    "# new syntex requires insert function into part of the tools\n",
    "\n",
    "tools = [\n",
    "    {\n",
    "        \"type\": \"function\",\n",
    "        \"function\":  {\n",
    "        \"name\": \"get_current_weather\",\n",
    "        \"description\": \"Get the current weather in a given location\",\n",
    "        \"parameters\": {\n",
    "            \"type\": \"object\",\n",
    "            \"properties\": {\n",
    "                \"location\": {\n",
    "                    \"type\": \"string\",\n",
    "                    \"description\": \"The city and state, e.g. San Francisco, CA\",\n",
    "                },\n",
    "                \"unit\": {\"type\": \"string\", \"enum\": [\"celsius\", \"fahrenheit\"]},\n",
    "            },\n",
    "            \"required\": [\"location\"],\n",
    "        },\n",
    "        }\n",
    "    }\n",
    "]"
   ]
  },
  {
   "cell_type": "code",
   "execution_count": 6,
   "id": "5b5e2abe-7cf0-4b00-8c08-b3df91d78eaa",
   "metadata": {
    "height": 115,
    "id": "5b5e2abe-7cf0-4b00-8c08-b3df91d78eaa"
   },
   "outputs": [],
   "source": [
    "messages = [\n",
    "    {\n",
    "        \"role\": \"user\",\n",
    "        \"content\": \"What's the weather like in Boston?\"\n",
    "    }\n",
    "]"
   ]
  },
  {
   "cell_type": "code",
   "execution_count": 7,
   "id": "654fce05-7ef6-49d7-8d78-f190ecf3f0dd",
   "metadata": {
    "height": 30,
    "id": "654fce05-7ef6-49d7-8d78-f190ecf3f0dd"
   },
   "outputs": [],
   "source": [
    "import openai"
   ]
  },
  {
   "cell_type": "code",
   "execution_count": null,
   "id": "nIOwj7xDzuFi",
   "metadata": {
    "id": "nIOwj7xDzuFi"
   },
   "outputs": [],
   "source": []
  },
  {
   "cell_type": "markdown",
   "id": "Gn1wa_VSzuio",
   "metadata": {
    "id": "Gn1wa_VSzuio"
   },
   "source": [
    "# The most basic version: text to text"
   ]
  },
  {
   "cell_type": "code",
   "execution_count": 8,
   "id": "44LkB4tHvkP9",
   "metadata": {
    "id": "44LkB4tHvkP9"
   },
   "outputs": [],
   "source": [
    "# an example of new syntex from: https://github.com/openai/openai-python\n",
    "import os\n",
    "from openai import OpenAI\n",
    "\n",
    "client = OpenAI(\n",
    "    # This cannot be omitted\n",
    "    api_key= OPENAI_API_KEY\n",
    ")\n",
    "\n",
    "chat_completion = client.chat.completions.create(\n",
    "    messages=[\n",
    "        {\n",
    "            \"role\": \"user\",\n",
    "            \"content\": \"Say this is a test\",\n",
    "\n",
    "        }\n",
    "    ],\n",
    "    model=\"gpt-3.5-turbo\",\n",
    ")"
   ]
  },
  {
   "cell_type": "code",
   "execution_count": 9,
   "id": "bqsJ0SrOwqRK",
   "metadata": {
    "colab": {
     "base_uri": "https://localhost:8080/"
    },
    "id": "bqsJ0SrOwqRK",
    "outputId": "f71d1243-6089-4bb9-ce34-ed155a34ae2c"
   },
   "outputs": [
    {
     "data": {
      "text/plain": [
       "ChatCompletion(id='chatcmpl-A9lrZhqG4TbBnF7NC6DNRqpl5czpy', choices=[Choice(finish_reason='stop', index=0, logprobs=None, message=ChatCompletionMessage(content='This is a test.', refusal=None, role='assistant', function_call=None, tool_calls=None))], created=1726892301, model='gpt-3.5-turbo-0125', object='chat.completion', service_tier=None, system_fingerprint=None, usage=CompletionUsage(completion_tokens=5, prompt_tokens=12, total_tokens=17, completion_tokens_details=CompletionTokensDetails(reasoning_tokens=0)))"
      ]
     },
     "execution_count": 9,
     "metadata": {},
     "output_type": "execute_result"
    }
   ],
   "source": [
    "chat_completion"
   ]
  },
  {
   "cell_type": "code",
   "execution_count": 39,
   "id": "KnVyh5-c3oNX",
   "metadata": {
    "colab": {
     "base_uri": "https://localhost:8080/",
     "height": 35
    },
    "id": "KnVyh5-c3oNX",
    "outputId": "46111537-b159-461e-def6-66398b54fe61"
   },
   "outputs": [
    {
     "data": {
      "application/vnd.google.colaboratory.intrinsic+json": {
       "type": "string"
      },
      "text/plain": [
       "'1 + 1 equals 2.'"
      ]
     },
     "execution_count": 39,
     "metadata": {},
     "output_type": "execute_result"
    }
   ],
   "source": [
    "chat_completion.choices[0].message.content"
   ]
  },
  {
   "cell_type": "code",
   "execution_count": 10,
   "id": "DeT4Oib6za6X",
   "metadata": {
    "id": "DeT4Oib6za6X"
   },
   "outputs": [],
   "source": [
    "import os\n",
    "from openai import OpenAI\n",
    "\n",
    "client = OpenAI(\n",
    "    # This cannot be omitted\n",
    "    api_key= OPENAI_API_KEY\n",
    ")\n",
    "\n",
    "# the most basic version, to just ask a question in \"content\" and get the answer back in content.\n",
    "chat_completion = client.chat.completions.create(\n",
    "    messages=[\n",
    "        {\n",
    "            \"role\": \"user\",\n",
    "            \"content\": \"tell me what 1 + 1 is?\",\n",
    "        }\n",
    "    ],\n",
    "    model=\"gpt-3.5-turbo\",\n",
    ")"
   ]
  },
  {
   "cell_type": "code",
   "execution_count": 11,
   "id": "Fjfu4Hi4zga8",
   "metadata": {
    "colab": {
     "base_uri": "https://localhost:8080/"
    },
    "id": "Fjfu4Hi4zga8",
    "outputId": "9082f7dc-9b2b-46bb-c824-f3b9a21ceeba"
   },
   "outputs": [
    {
     "data": {
      "text/plain": [
       "ChatCompletion(id='chatcmpl-A9lsCpx8QCLg31MoB2FSWHQTOdzAx', choices=[Choice(finish_reason='stop', index=0, logprobs=None, message=ChatCompletionMessage(content='1 + 1 is equal to 2.', refusal=None, role='assistant', function_call=None, tool_calls=None))], created=1726892340, model='gpt-3.5-turbo-0125', object='chat.completion', service_tier=None, system_fingerprint=None, usage=CompletionUsage(completion_tokens=10, prompt_tokens=17, total_tokens=27, completion_tokens_details=CompletionTokensDetails(reasoning_tokens=0)))"
      ]
     },
     "execution_count": 11,
     "metadata": {},
     "output_type": "execute_result"
    }
   ],
   "source": [
    "chat_completion"
   ]
  },
  {
   "cell_type": "code",
   "execution_count": 38,
   "id": "DckwLoif3mF4",
   "metadata": {
    "colab": {
     "base_uri": "https://localhost:8080/",
     "height": 35
    },
    "id": "DckwLoif3mF4",
    "outputId": "b45cacd1-2d77-468f-9cf9-30e5e273e3a7"
   },
   "outputs": [
    {
     "data": {
      "application/vnd.google.colaboratory.intrinsic+json": {
       "type": "string"
      },
      "text/plain": [
       "'1 + 1 equals 2.'"
      ]
     },
     "execution_count": 38,
     "metadata": {},
     "output_type": "execute_result"
    }
   ],
   "source": [
    "chat_completion.choices[0].message.content"
   ]
  },
  {
   "cell_type": "markdown",
   "id": "WMf7w5SE1UCe",
   "metadata": {
    "id": "WMf7w5SE1UCe"
   },
   "source": [
    "# The most basic version: text as prompt and image as the input"
   ]
  },
  {
   "cell_type": "code",
   "execution_count": 16,
   "id": "z5LFzzCn0G3F",
   "metadata": {
    "id": "z5LFzzCn0G3F"
   },
   "outputs": [],
   "source": [
    "prompt = \"tell me what is inside the picture?\""
   ]
  },
  {
   "cell_type": "code",
   "execution_count": 21,
   "id": "tDEF7hV-0ZDF",
   "metadata": {
    "id": "tDEF7hV-0ZDF"
   },
   "outputs": [],
   "source": [
    "img_url = \"https://picsum.photos/id/237/200/300\""
   ]
  },
  {
   "cell_type": "code",
   "execution_count": 22,
   "id": "mcDycUyHzpgG",
   "metadata": {
    "id": "mcDycUyHzpgG"
   },
   "outputs": [],
   "source": [
    "# with a hosted image\n",
    "\n",
    "response = client.chat.completions.create(\n",
    "    model=\"gpt-4o-mini\",\n",
    "    messages=[\n",
    "        {\n",
    "            \"role\": \"user\",\n",
    "            \"content\": [\n",
    "                {\"type\": \"text\", \"text\": prompt},\n",
    "                {\n",
    "                    \"type\": \"image_url\",\n",
    "                    \"image_url\": {\"url\": f\"{img_url}\"},\n",
    "                    # \"image\": {\"path\": \"my_pic.jpg\"},\n",
    "                },\n",
    "            ],\n",
    "        }\n",
    "    ],\n",
    ")"
   ]
  },
  {
   "cell_type": "code",
   "execution_count": 23,
   "id": "0q8xKQJY1NRP",
   "metadata": {
    "colab": {
     "base_uri": "https://localhost:8080/"
    },
    "id": "0q8xKQJY1NRP",
    "outputId": "b9a888b6-1086-4d59-83d0-69ae64132d19"
   },
   "outputs": [
    {
     "data": {
      "text/plain": [
       "ChatCompletion(id='chatcmpl-A9lzMUefSoX1SJcLk3aRczHhVNOVB', choices=[Choice(finish_reason='stop', index=0, logprobs=None, message=ChatCompletionMessage(content='The picture shows a black puppy, likely a Labrador, resting on a wooden surface. The puppy has a shiny coat and expressive eyes.', refusal=None, role='assistant', function_call=None, tool_calls=None))], created=1726892784, model='gpt-4o-mini-2024-07-18', object='chat.completion', service_tier=None, system_fingerprint='fp_e9627b5346', usage=CompletionUsage(completion_tokens=27, prompt_tokens=8515, total_tokens=8542, completion_tokens_details=CompletionTokensDetails(reasoning_tokens=0)))"
      ]
     },
     "execution_count": 23,
     "metadata": {},
     "output_type": "execute_result"
    }
   ],
   "source": [
    "response"
   ]
  },
  {
   "cell_type": "code",
   "execution_count": 37,
   "id": "ULHVq7Ke3hOI",
   "metadata": {
    "colab": {
     "base_uri": "https://localhost:8080/",
     "height": 89
    },
    "id": "ULHVq7Ke3hOI",
    "outputId": "bac294a3-8ea2-460f-9d65-e28437782de9"
   },
   "outputs": [
    {
     "data": {
      "application/vnd.google.colaboratory.intrinsic+json": {
       "type": "string"
      },
      "text/plain": [
       "'The picture shows a beach scene with four individuals sitting on beach chairs, facing the ocean. They are positioned on a sandy shore with the water in front of them. The sea appears calm, and the sky is clear with some light clouds. Their chairs are colorful, and there are a few bags or items near them on the sand. The overall atmosphere suggests a relaxed day at the beach.'"
      ]
     },
     "execution_count": 37,
     "metadata": {},
     "output_type": "execute_result"
    }
   ],
   "source": [
    "response.choices[0].message.content"
   ]
  },
  {
   "cell_type": "markdown",
   "id": "bfvDiFej1fKK",
   "metadata": {
    "id": "bfvDiFej1fKK"
   },
   "source": [
    "## With the image as a base64 encoded string:\n",
    "\n",
    "#### the reason we are doing this is we should convert an image into some machine readble text, aka bytes"
   ]
  },
  {
   "cell_type": "code",
   "execution_count": 27,
   "id": "P8mc0d112Nkt",
   "metadata": {
    "id": "P8mc0d112Nkt"
   },
   "outputs": [],
   "source": [
    "import base64\n",
    "from io import BytesIO\n",
    "from PIL import Image\n",
    "\n",
    "image = Image.open(\"my_pic.jpg\")\n",
    "\n",
    "# image to bytes\n",
    "image_bytes = BytesIO()\n",
    "image.save(image_bytes, format=\"JPEG\")\n",
    "image_bytes = image_bytes.getvalue()\n",
    "\n",
    "# encode the image bytes to base64\n",
    "base64_image = base64.b64encode(image_bytes).decode(\"utf-8\")\n",
    "\n",
    "# set the image type\n",
    "img_type = \"image/jpeg\"\n",
    "\n",
    "# mow base64_image contains the base64 string of the JPEG image\n"
   ]
  },
  {
   "cell_type": "code",
   "execution_count": 28,
   "id": "r7S7bGfD1ouA",
   "metadata": {
    "id": "r7S7bGfD1ouA"
   },
   "outputs": [],
   "source": [
    "# img_type = \"image/jpeg\"\n",
    "# base64_image = base64.b64encode(image_bytes.getvalue()).decode(\n",
    "#         \"utf-8\")"
   ]
  },
  {
   "cell_type": "code",
   "execution_count": 29,
   "id": "yeZ8TvTG1dW-",
   "metadata": {
    "id": "yeZ8TvTG1dW-"
   },
   "outputs": [],
   "source": [
    "response = client.chat.completions.create(\n",
    "    model=\"gpt-4o-mini\",\n",
    "    messages=[\n",
    "        {\n",
    "            \"role\": \"user\",\n",
    "            \"content\": [\n",
    "                {\"type\": \"text\", \"text\": prompt},\n",
    "                {\n",
    "                    \"type\": \"image_url\",\n",
    "                    \"image_url\": {\"url\": f\"data:{img_type};base64,{base64_image}\"},\n",
    "                },\n",
    "            ],\n",
    "        }\n",
    "    ],\n",
    ")"
   ]
  },
  {
   "cell_type": "code",
   "execution_count": 36,
   "id": "vVh0MyJk3c6z",
   "metadata": {
    "colab": {
     "base_uri": "https://localhost:8080/"
    },
    "id": "vVh0MyJk3c6z",
    "outputId": "934702c9-8650-4a0a-bce6-2ddc8c538fb5"
   },
   "outputs": [
    {
     "data": {
      "text/plain": [
       "ChatCompletion(id='chatcmpl-A9m5XPVxR9dpMB9yeaS4G76l2PPPn', choices=[Choice(finish_reason='stop', index=0, logprobs=None, message=ChatCompletionMessage(content='The picture shows a beach scene with four individuals sitting on beach chairs, facing the ocean. They are positioned on a sandy shore with the water in front of them. The sea appears calm, and the sky is clear with some light clouds. Their chairs are colorful, and there are a few bags or items near them on the sand. The overall atmosphere suggests a relaxed day at the beach.', refusal=None, role='assistant', function_call=None, tool_calls=None))], created=1726893167, model='gpt-4o-mini-2024-07-18', object='chat.completion', service_tier=None, system_fingerprint='fp_e9627b5346', usage=CompletionUsage(completion_tokens=78, prompt_tokens=36850, total_tokens=36928, completion_tokens_details=CompletionTokensDetails(reasoning_tokens=0)))"
      ]
     },
     "execution_count": 36,
     "metadata": {},
     "output_type": "execute_result"
    }
   ],
   "source": [
    "response"
   ]
  },
  {
   "cell_type": "code",
   "execution_count": 35,
   "id": "8NtmGMbi2qLk",
   "metadata": {
    "colab": {
     "base_uri": "https://localhost:8080/",
     "height": 89
    },
    "id": "8NtmGMbi2qLk",
    "outputId": "34bba801-c6ad-4b6e-f077-b2161b10f2d5"
   },
   "outputs": [
    {
     "data": {
      "application/vnd.google.colaboratory.intrinsic+json": {
       "type": "string"
      },
      "text/plain": [
       "'The picture shows a beach scene with four individuals sitting on beach chairs, facing the ocean. They are positioned on a sandy shore with the water in front of them. The sea appears calm, and the sky is clear with some light clouds. Their chairs are colorful, and there are a few bags or items near them on the sand. The overall atmosphere suggests a relaxed day at the beach.'"
      ]
     },
     "execution_count": 35,
     "metadata": {},
     "output_type": "execute_result"
    }
   ],
   "source": [
    "response.choices[0].message.content"
   ]
  },
  {
   "cell_type": "markdown",
   "id": "sI87ZiIW35is",
   "metadata": {
    "id": "sI87ZiIW35is"
   },
   "source": [
    "## Polling Helpers\n",
    "When interacting with the API some actions such as starting a Run and adding files to vector stores are asynchronous and take time to complete. The SDK includes helper functions which will poll the status until it reaches a terminal state and then return the resulting object. If an API method results in an action that could benefit from polling there will be a corresponding version of the method ending in '_and_poll'.\n",
    "\n",
    "For instance to create a Run and poll until it reaches a terminal state you can run:\n",
    "\n"
   ]
  },
  {
   "cell_type": "markdown",
   "id": "M4qVujqj4KwV",
   "metadata": {
    "id": "M4qVujqj4KwV"
   },
   "source": [
    "# Async usage\n",
    "Simply import AsyncOpenAI instead of OpenAI and use await with each API call:"
   ]
  },
  {
   "cell_type": "code",
   "execution_count": 48,
   "id": "XcXOECMc4KHx",
   "metadata": {
    "colab": {
     "base_uri": "https://localhost:8080/"
    },
    "id": "XcXOECMc4KHx",
    "outputId": "7a4e7d7e-5491-4b60-b69f-18e5a767216a"
   },
   "outputs": [
    {
     "name": "stdout",
     "output_type": "stream",
     "text": [
      "loop\n"
     ]
    }
   ],
   "source": [
    "import os\n",
    "import asyncio\n",
    "from openai import AsyncOpenAI\n",
    "\n",
    "client = AsyncOpenAI(\n",
    "    # cannot be omitted\n",
    "    api_key= OPENAI_API_KEY\n",
    ")\n",
    "\n",
    "async def main() -> None:\n",
    "    chat_completion = await client.chat.completions.create(\n",
    "        messages=[\n",
    "            {\n",
    "                \"role\": \"user\",\n",
    "                \"content\": \"Say this is a test\",\n",
    "            }\n",
    "        ],\n",
    "        model=\"gpt-3.5-turbo\",\n",
    "    )\n",
    "    print(chat_completion)\n",
    "\n",
    "if __name__ == \"__main__\":\n",
    "    try:\n",
    "        loop = asyncio.get_running_loop()\n",
    "    except RuntimeError:\n",
    "        loop = None\n",
    "\n",
    "    if loop and loop.is_running():\n",
    "        print(\"loop\")\n",
    "        # check if there's already a running event loop, use it\n",
    "        task = loop.create_task(main())\n",
    "    else:\n",
    "        # otherwise, use asyncio.run()\n",
    "        print(\"asyncio\")\n",
    "        asyncio.run(main())\n"
   ]
  },
  {
   "cell_type": "markdown",
   "id": "vHOnJeos4M7E",
   "metadata": {
    "id": "vHOnJeos4M7E"
   },
   "source": [
    "## Other stuff (still usable)\n",
    "main source: https://platform.openai.com/docs/assistants/deep-dive/runs-and-run-steps"
   ]
  },
  {
   "cell_type": "code",
   "execution_count": 66,
   "id": "jsBN5XGv16nu",
   "metadata": {
    "id": "jsBN5XGv16nu"
   },
   "outputs": [],
   "source": [
    "tools = [\n",
    "    {\n",
    "        \"type\": \"function\",\n",
    "        \"function\": {\n",
    "            \"name\": \"get_delivery_date\",\n",
    "            \"description\": \"Get the delivery date for a customer's order. Call this whenever you need to know the delivery date, for example when a customer asks 'Where is my package'\",\n",
    "            \"parameters\": {\n",
    "                \"type\": \"object\",\n",
    "                \"properties\": {\n",
    "                    \"order_id\": {\n",
    "                        \"type\": \"string\",\n",
    "                        \"description\": \"The customer's order ID.\",\n",
    "                    },\n",
    "                },\n",
    "                \"required\": [\"order_id\"],\n",
    "                \"additionalProperties\": False,\n",
    "            },\n",
    "        }\n",
    "    }\n",
    "]\n",
    "\n",
    "messages = [\n",
    "    {\"role\": \"system\", \"content\": \"You are a helpful customer support assistant. Use the supplied tools to assist the user.\"},\n",
    "    {\"role\": \"user\", \"content\": \"Hi, what is the weather like in Boston?\"}\n",
    "]\n",
    "\n",
    "response = openai.chat.completions.create(\n",
    "    model=\"gpt-4o\",\n",
    "    messages=messages,\n",
    "    tools=tools,\n",
    "    # functions = functions,\n",
    "    # function_call and functions go together\n",
    "    # function_call=\"auto\",\n",
    ")"
   ]
  },
  {
   "cell_type": "code",
   "execution_count": 50,
   "id": "aZk9BcAL18Dg",
   "metadata": {
    "colab": {
     "base_uri": "https://localhost:8080/"
    },
    "id": "aZk9BcAL18Dg",
    "outputId": "75c0076a-cea0-42c8-b5e7-22b12e1ea53d"
   },
   "outputs": [
    {
     "data": {
      "text/plain": [
       "ChatCompletion(id='chatcmpl-A9mGH8qPyOYEkm87tB3qZF7HE904T', choices=[Choice(finish_reason='stop', index=0, logprobs=None, message=ChatCompletionMessage(content='I currently do not have access to real-time weather information. You can check a weather website or app like Weather.com or AccuWeather to get the latest weather updates for Boston.', refusal=None, role='assistant', function_call=None, tool_calls=None))], created=1726893833, model='gpt-4o-2024-05-13', object='chat.completion', service_tier=None, system_fingerprint='fp_e375328146', usage=CompletionUsage(completion_tokens=37, prompt_tokens=104, total_tokens=141, completion_tokens_details=CompletionTokensDetails(reasoning_tokens=0)))"
      ]
     },
     "execution_count": 50,
     "metadata": {},
     "output_type": "execute_result"
    }
   ],
   "source": [
    "response"
   ]
  },
  {
   "cell_type": "code",
   "execution_count": 67,
   "id": "igZ56xpy5MtR",
   "metadata": {
    "colab": {
     "base_uri": "https://localhost:8080/",
     "height": 35
    },
    "id": "igZ56xpy5MtR",
    "outputId": "aaf791a9-a801-468e-a5ef-ddf431806641"
   },
   "outputs": [
    {
     "data": {
      "application/vnd.google.colaboratory.intrinsic+json": {
       "type": "string"
      },
      "text/plain": [
       "\"I'm currently unable to check the weather. You can use a weather website or app to get the latest updates.\""
      ]
     },
     "execution_count": 67,
     "metadata": {},
     "output_type": "execute_result"
    }
   ],
   "source": [
    "response.choices[0].message.content"
   ]
  },
  {
   "cell_type": "code",
   "execution_count": 64,
   "id": "ffa6385a-db38-40fa-b2b8-6fa226913c46",
   "metadata": {
    "colab": {
     "base_uri": "https://localhost:8080/"
    },
    "height": 98,
    "id": "ffa6385a-db38-40fa-b2b8-6fa226913c46",
    "outputId": "865570ec-6c03-48fb-b34b-6be7af2272b0"
   },
   "outputs": [
    {
     "data": {
      "text/plain": [
       "ChatCompletion(id='chatcmpl-A9mHtijN9A6vswo1i9Po4tzg5LVcs', choices=[Choice(finish_reason='stop', index=0, logprobs=None, message=ChatCompletionMessage(content='Please provide me with your order ID so I can check the delivery date for you.', refusal=None, role='assistant', function_call=None, tool_calls=None))], created=1726893933, model='gpt-4o-mini-2024-07-18', object='chat.completion', service_tier=None, system_fingerprint='fp_1bb46167f9', usage=CompletionUsage(completion_tokens=18, prompt_tokens=107, total_tokens=125, completion_tokens_details=CompletionTokensDetails(reasoning_tokens=0)))"
      ]
     },
     "execution_count": 64,
     "metadata": {},
     "output_type": "execute_result"
    }
   ],
   "source": [
    "# source: https://platform.openai.com/docs/guides/chat-completions/getting-started\n",
    "# https://platform.openai.com/docs/api-reference/chat/streaming\n",
    "\n",
    "from openai import OpenAI\n",
    "client = OpenAI(\n",
    "    api_key= OPENAI_API_KEY\n",
    ")\n",
    "\n",
    "response = client.chat.completions.create(\n",
    "  model=\"gpt-4o-mini\",\n",
    "  messages= messages,\n",
    "  # new syntex\n",
    "  tools=tools,\n",
    "  # function_call=\"auto\"\n",
    ")\n",
    "response"
   ]
  },
  {
   "cell_type": "code",
   "execution_count": 65,
   "id": "Xa_vU6zi5QxU",
   "metadata": {
    "colab": {
     "base_uri": "https://localhost:8080/",
     "height": 35
    },
    "id": "Xa_vU6zi5QxU",
    "outputId": "5b29562b-b7f9-44d9-cf43-d3940b9391f7"
   },
   "outputs": [
    {
     "data": {
      "application/vnd.google.colaboratory.intrinsic+json": {
       "type": "string"
      },
      "text/plain": [
       "'Please provide me with your order ID so I can check the delivery date for you.'"
      ]
     },
     "execution_count": 65,
     "metadata": {},
     "output_type": "execute_result"
    }
   ],
   "source": [
    "response.choices[0].message.content"
   ]
  },
  {
   "cell_type": "code",
   "execution_count": 62,
   "id": "BFxchnJ9BqcV",
   "metadata": {
    "colab": {
     "base_uri": "https://localhost:8080/"
    },
    "id": "BFxchnJ9BqcV",
    "outputId": "f5d4cf0f-85b2-463b-f505-99eef19ceee2"
   },
   "outputs": [
    {
     "data": {
      "text/plain": [
       "ChatCompletion(id='chatcmpl-A9mHlOfIst3csW8RigJtMqronyzZG', choices=[Choice(finish_reason='stop', index=0, logprobs=None, message=ChatCompletionMessage(content='The 2020 World Series was played at Globe Life Field in Arlington, Texas. This was the first time the World Series was held at a neutral site due to the COVID-19 pandemic.', refusal=None, role='assistant', function_call=None, tool_calls=None))], created=1726893925, model='gpt-4o-mini-2024-07-18', object='chat.completion', service_tier=None, system_fingerprint='fp_1bb46167f9', usage=CompletionUsage(completion_tokens=39, prompt_tokens=53, total_tokens=92, completion_tokens_details=CompletionTokensDetails(reasoning_tokens=0)))"
      ]
     },
     "execution_count": 62,
     "metadata": {},
     "output_type": "execute_result"
    }
   ],
   "source": [
    "# source: https://platform.openai.com/docs/guides/chat-completions/getting-started\n",
    "# https://platform.openai.com/docs/api-reference/chat/streaming\n",
    "\n",
    "from openai import OpenAI\n",
    "client = OpenAI(\n",
    "    api_key= OPENAI_API_KEY\n",
    ")\n",
    "\n",
    "response = client.chat.completions.create(\n",
    "  model=\"gpt-4o-mini\",\n",
    "  messages=[\n",
    "    {\"role\": \"system\", \"content\": \"You are a helpful assistant.\"},\n",
    "    {\"role\": \"user\", \"content\": \"Who won the world series in 2020?\"},\n",
    "    {\"role\": \"assistant\", \"content\": \"The Los Angeles Dodgers won the World Series in 2020.\"},\n",
    "    {\"role\": \"user\", \"content\": \"Where was it played?\"}\n",
    "  ]\n",
    ")\n",
    "\n",
    "response"
   ]
  },
  {
   "cell_type": "code",
   "execution_count": 63,
   "id": "20gvUzoS5Ssn",
   "metadata": {
    "colab": {
     "base_uri": "https://localhost:8080/",
     "height": 53
    },
    "id": "20gvUzoS5Ssn",
    "outputId": "91ef6a0d-cd78-4f90-a7d4-7bac0553c98d"
   },
   "outputs": [
    {
     "data": {
      "application/vnd.google.colaboratory.intrinsic+json": {
       "type": "string"
      },
      "text/plain": [
       "'The 2020 World Series was played at Globe Life Field in Arlington, Texas. This was the first time the World Series was held at a neutral site due to the COVID-19 pandemic.'"
      ]
     },
     "execution_count": 63,
     "metadata": {},
     "output_type": "execute_result"
    }
   ],
   "source": [
    "response.choices[0].message.content"
   ]
  },
  {
   "cell_type": "code",
   "execution_count": 56,
   "id": "ntn1LhWZ4GFT",
   "metadata": {
    "id": "ntn1LhWZ4GFT"
   },
   "outputs": [],
   "source": [
    "tools = [\n",
    "    {\n",
    "        \"type\": \"function\",\n",
    "        \"function\": {\n",
    "            \"name\": \"get_delivery_date\",\n",
    "            \"description\": \"Get the delivery date for a customer's order. Call this whenever you need to know the delivery date, for example when a customer asks 'Where is my package'\",\n",
    "            \"parameters\": {\n",
    "                \"type\": \"object\",\n",
    "                \"properties\": {\n",
    "                    \"order_id\": {\n",
    "                        \"type\": \"string\",\n",
    "                        \"description\": \"The customer's order ID.\"\n",
    "                    }\n",
    "                },\n",
    "                \"required\": [\"order_id\"],\n",
    "                \"additionalProperties\": False\n",
    "            }\n",
    "        }\n",
    "    }\n",
    "]\n",
    "\n",
    "messages = []\n",
    "messages.append({\"role\": \"system\", \"content\": \"You are a helpful customer support assistant. Use the supplied tools to assist the user.\"})\n",
    "messages.append({\"role\": \"user\", \"content\": \"Hi, can you tell me the delivery date for my order?\"})\n",
    "# # // highlight-start\n",
    "# does not work if you keep adding\n",
    "# messages.append({\"role\": \"assistant\", \"content\": \"Hi there! I can help with that. Can you please provide your order ID?\"})\n",
    "# messages.append({\"role\": \"user\", \"content\": \"i think it is order_12345\"})\n",
    "# // highlight-end\n",
    "\n",
    "response = client.chat.completions.create(\n",
    "    model='gpt-4o',\n",
    "    messages=messages,\n",
    "    tools=tools\n",
    ")"
   ]
  },
  {
   "cell_type": "code",
   "execution_count": 57,
   "id": "QG8Tu_F6CBOa",
   "metadata": {
    "colab": {
     "base_uri": "https://localhost:8080/"
    },
    "id": "QG8Tu_F6CBOa",
    "outputId": "22ff88f1-a987-4e68-ded7-c9f593704ea3"
   },
   "outputs": [
    {
     "data": {
      "text/plain": [
       "ChatCompletion(id='chatcmpl-A9mH6aTlDEAmmsM8T5zC9Sw0BXiqM', choices=[Choice(finish_reason='stop', index=0, logprobs=None, message=ChatCompletionMessage(content=\"Sure, I'd be happy to help with that. Could you please provide me with your order ID?\", refusal=None, role='assistant', function_call=None, tool_calls=None))], created=1726893884, model='gpt-4o-2024-05-13', object='chat.completion', service_tier=None, system_fingerprint='fp_e375328146', usage=CompletionUsage(completion_tokens=21, prompt_tokens=107, total_tokens=128, completion_tokens_details=CompletionTokensDetails(reasoning_tokens=0)))"
      ]
     },
     "execution_count": 57,
     "metadata": {},
     "output_type": "execute_result"
    }
   ],
   "source": [
    "response"
   ]
  },
  {
   "cell_type": "code",
   "execution_count": 58,
   "id": "jAT8VrHX5Zwv",
   "metadata": {
    "colab": {
     "base_uri": "https://localhost:8080/",
     "height": 35
    },
    "id": "jAT8VrHX5Zwv",
    "outputId": "f8dda010-8cac-4e08-f7e4-0b1f1b02feb8"
   },
   "outputs": [
    {
     "data": {
      "application/vnd.google.colaboratory.intrinsic+json": {
       "type": "string"
      },
      "text/plain": [
       "\"Sure, I'd be happy to help with that. Could you please provide me with your order ID?\""
      ]
     },
     "execution_count": 58,
     "metadata": {},
     "output_type": "execute_result"
    }
   ],
   "source": [
    "response.choices[0].message.content"
   ]
  },
  {
   "cell_type": "code",
   "execution_count": 59,
   "id": "Es6m7mCF4TRK",
   "metadata": {
    "id": "Es6m7mCF4TRK"
   },
   "outputs": [],
   "source": [
    "# Simulate the order_id and delivery_date\n",
    "from datetime import datetime\n",
    "order_id = \"order_12345\"\n",
    "delivery_date = datetime.now()\n",
    "\n",
    "# simulate the tool call response\n",
    "response = {\n",
    "    \"choices\": [\n",
    "        {\n",
    "            \"message\": {\n",
    "                \"role\": \"assistant\",\n",
    "                \"tool_calls\": [\n",
    "                    {\n",
    "                        \"id\": \"call_62136354\",\n",
    "                        \"type\": \"function\",\n",
    "                        \"function\": {\n",
    "                            \"arguments\": \"{'order_id': 'order_12345'}\",\n",
    "                            \"name\": \"get_delivery_date\"\n",
    "                        }\n",
    "                    }\n",
    "                ]\n",
    "            }\n",
    "        }\n",
    "    ]\n",
    "}\n",
    "\n",
    "function_call_result_message = {\n",
    "    \"role\": \"tool\",\n",
    "    \"content\": json.dumps({\n",
    "        \"order_id\": order_id,\n",
    "        \"delivery_date\": delivery_date.strftime('%Y-%m-%d %H:%M:%S')\n",
    "    }),\n",
    "    \"tool_call_id\": response['choices'][0]['message']['tool_calls'][0]['id']\n",
    "}\n",
    "\n",
    "# chat completion payload\n",
    "completion_payload = {\n",
    "    \"model\": \"gpt-4o\",\n",
    "    \"messages\": [\n",
    "        {\"role\": \"system\", \"content\": \"You are a helpful customer support assistant. Use the supplied tools to assist the user.\"},\n",
    "        {\"role\": \"user\", \"content\": \"Hi, can you tell me the delivery date for my order?\"},\n",
    "        {\"role\": \"assistant\", \"content\": \"Hi there! I can help with that. Can you please provide your order ID?\"},\n",
    "        {\"role\": \"user\", \"content\": \"i think it is order_12345\"},\n",
    "        response['choices'][0]['message'],\n",
    "        function_call_result_message\n",
    "    ]\n",
    "}\n",
    "\n",
    "# call the openai api's chat completions endpoint\n",
    "# to send the tool call result back to the model\n",
    "response = openai.chat.completions.create(\n",
    "    model=completion_payload[\"model\"],\n",
    "    messages=completion_payload[\"messages\"]\n",
    ")\n"
   ]
  },
  {
   "cell_type": "code",
   "execution_count": 60,
   "id": "xjtrPbIS4cfv",
   "metadata": {
    "colab": {
     "base_uri": "https://localhost:8080/"
    },
    "id": "xjtrPbIS4cfv",
    "outputId": "c6d8882e-42af-4b22-fa66-67e2546d0da9"
   },
   "outputs": [
    {
     "data": {
      "text/plain": [
       "ChatCompletion(id='chatcmpl-A9mHOGW3ogrbs66LLht9bPIbyEOlR', choices=[Choice(finish_reason='stop', index=0, logprobs=None, message=ChatCompletionMessage(content='Your order (ID: order_12345) is scheduled to be delivered on **September 21, 2024, at 4:45 AM**. If you have any other questions or need further assistance, feel free to ask!', refusal=None, role='assistant', function_call=None, tool_calls=None))], created=1726893902, model='gpt-4o-2024-05-13', object='chat.completion', service_tier=None, system_fingerprint='fp_3537616b13', usage=CompletionUsage(completion_tokens=49, prompt_tokens=131, total_tokens=180, completion_tokens_details=CompletionTokensDetails(reasoning_tokens=0)))"
      ]
     },
     "execution_count": 60,
     "metadata": {},
     "output_type": "execute_result"
    }
   ],
   "source": [
    "response"
   ]
  },
  {
   "cell_type": "code",
   "execution_count": 61,
   "id": "eea5a420-9c52-441c-b868-6ce69c498477",
   "metadata": {
    "colab": {
     "base_uri": "https://localhost:8080/",
     "height": 53
    },
    "height": 30,
    "id": "eea5a420-9c52-441c-b868-6ce69c498477",
    "outputId": "8b5092b7-af42-4c19-ee02-760ff4a34613"
   },
   "outputs": [
    {
     "data": {
      "application/vnd.google.colaboratory.intrinsic+json": {
       "type": "string"
      },
      "text/plain": [
       "'Your order (ID: order_12345) is scheduled to be delivered on **September 21, 2024, at 4:45 AM**. If you have any other questions or need further assistance, feel free to ask!'"
      ]
     },
     "execution_count": 61,
     "metadata": {},
     "output_type": "execute_result"
    }
   ],
   "source": [
    "response.choices[0].message.content"
   ]
  },
  {
   "cell_type": "code",
   "execution_count": null,
   "id": "1ab51675-a078-4704-b63b-9f722d86b0d9",
   "metadata": {
    "height": 30,
    "id": "1ab51675-a078-4704-b63b-9f722d86b0d9"
   },
   "outputs": [],
   "source": []
  },
  {
   "cell_type": "code",
   "execution_count": null,
   "id": "0d4c2a24-c011-4c44-a78e-611143ff3034",
   "metadata": {
    "height": 30,
    "id": "0d4c2a24-c011-4c44-a78e-611143ff3034"
   },
   "outputs": [],
   "source": []
  },
  {
   "cell_type": "code",
   "execution_count": null,
   "id": "600778a5-a4d5-44aa-b3a7-172c82e74eed",
   "metadata": {
    "height": 30,
    "id": "600778a5-a4d5-44aa-b3a7-172c82e74eed"
   },
   "outputs": [],
   "source": []
  },
  {
   "cell_type": "code",
   "execution_count": null,
   "id": "60557042-93b5-4172-8aaa-1219ea35addb",
   "metadata": {
    "height": 30,
    "id": "60557042-93b5-4172-8aaa-1219ea35addb"
   },
   "outputs": [],
   "source": []
  },
  {
   "cell_type": "code",
   "execution_count": null,
   "id": "693f24b4-0796-4c2d-86ab-0d23766551d3",
   "metadata": {
    "height": 30,
    "id": "693f24b4-0796-4c2d-86ab-0d23766551d3"
   },
   "outputs": [],
   "source": []
  },
  {
   "cell_type": "code",
   "execution_count": null,
   "id": "611029f7-e4c5-45b0-bcc9-9ec214a32686",
   "metadata": {
    "height": 30,
    "id": "611029f7-e4c5-45b0-bcc9-9ec214a32686"
   },
   "outputs": [],
   "source": []
  },
  {
   "cell_type": "code",
   "execution_count": null,
   "id": "e20ed315-b80a-4d82-bda8-41cc54b30b36",
   "metadata": {
    "height": 30,
    "id": "e20ed315-b80a-4d82-bda8-41cc54b30b36"
   },
   "outputs": [],
   "source": []
  },
  {
   "cell_type": "code",
   "execution_count": null,
   "id": "be374e72-c849-4962-bb50-33607824bab1",
   "metadata": {
    "height": 30,
    "id": "be374e72-c849-4962-bb50-33607824bab1"
   },
   "outputs": [],
   "source": []
  },
  {
   "cell_type": "code",
   "execution_count": null,
   "id": "9a7702f2-cee6-4649-a662-6d1dc9d49e0c",
   "metadata": {
    "height": 30,
    "id": "9a7702f2-cee6-4649-a662-6d1dc9d49e0c"
   },
   "outputs": [],
   "source": []
  },
  {
   "cell_type": "code",
   "execution_count": null,
   "id": "37a2ba14-9908-48b1-adad-1ef764114254",
   "metadata": {
    "height": 30,
    "id": "37a2ba14-9908-48b1-adad-1ef764114254"
   },
   "outputs": [],
   "source": []
  }
 ],
 "metadata": {
  "colab": {
   "provenance": []
  },
  "kernelspec": {
   "display_name": "Python 3 (ipykernel)",
   "language": "python",
   "name": "python3"
  },
  "language_info": {
   "codemirror_mode": {
    "name": "ipython",
    "version": 3
   },
   "file_extension": ".py",
   "mimetype": "text/x-python",
   "name": "python",
   "nbconvert_exporter": "python",
   "pygments_lexer": "ipython3",
   "version": "3.11.0"
  }
 },
 "nbformat": 4,
 "nbformat_minor": 5
}
