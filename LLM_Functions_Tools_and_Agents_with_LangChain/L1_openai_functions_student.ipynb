{
 "cells": [
  {
   "cell_type": "markdown",
   "id": "a3df44d6-62d0-4324-8052-419503a6b040",
   "metadata": {
    "id": "a3df44d6-62d0-4324-8052-419503a6b040"
   },
   "source": [
    "# OpenAI Function Calling\n"
   ]
  },
  {
   "cell_type": "markdown",
   "id": "59b038f2-759a-42e9-ab02-eca264b93ee5",
   "metadata": {
    "id": "59b038f2-759a-42e9-ab02-eca264b93ee5"
   },
   "source": [
    "**Notes**:\n",
    "- LLM's don't always produce the same results. The results you see in this notebook may differ from the results you see in the video.\n",
    "- Notebooks results are temporary. Download the notebooks to your local machine if you wish to save your results."
   ]
  },
  {
   "cell_type": "markdown",
   "id": "ijJZRK7mycTg",
   "metadata": {
    "id": "ijJZRK7mycTg"
   },
   "source": [
    "## outline (for this course)\n",
    "\n",
    "- OpenAi function calling\n",
    "- LangChain Expression Language (LCEL)\n",
    "- OpenAI function calling in LangChain\n",
    "- Tagging and extraction using OpenAI function calling\n",
    "- Tools and Routing\n",
    "- Conversational Agent"
   ]
  },
  {
   "cell_type": "markdown",
   "id": "sbIhbwdMzCHA",
   "metadata": {
    "id": "sbIhbwdMzCHA"
   },
   "source": [
    "## Function calling\n",
    "\n",
    "- OpenAI has fine-tuned the gpt-3.5 turbo-0613 and gpt-4-0613 models to :\n",
    "  1. accept additional arguments through which users can pass in descriptions of functions.\n",
    "  2. if it is relevant, return the nam of the function to use, along with a JSON object with teh appropriate input parameters.\n",
    "\n",
    "\n",
    "#### did not really follow the tutorials, as the syntex are basically completely outdated/different\n",
    "\n",
    "#### base codes: https://platform.openai.com/docs/guides/function-calling"
   ]
  },
  {
   "cell_type": "code",
   "execution_count": 3,
   "id": "G2PLvLoRtPvi",
   "metadata": {
    "id": "G2PLvLoRtPvi"
   },
   "outputs": [],
   "source": [
    "# !pip install python-dotenv\n",
    "# !pip install openai\n",
    "# !pip install -U langchain langchain-openai"
   ]
  },
  {
   "cell_type": "code",
   "execution_count": 4,
   "id": "3d1a7aac-599c-4653-b497-49fe9a31a07d",
   "metadata": {
    "height": 115,
    "id": "3d1a7aac-599c-4653-b497-49fe9a31a07d",
    "tags": []
   },
   "outputs": [],
   "source": [
    "import os\n",
    "import openai\n",
    "\n",
    "from dotenv import load_dotenv, find_dotenv\n",
    "_ = load_dotenv(find_dotenv()) # read local .env file\n",
    "openai.api_key = os.environ['OPENAI_API_KEY']\n",
    "LANGCHAIN_API_KEY = os.environ[\"LANGCHAIN_API_KEY\"]\n",
    "OPENAI_API_KEY = openai.api_key"
   ]
  },
  {
   "cell_type": "code",
   "execution_count": 5,
   "id": "e036b435-e842-40a3-8e1c-1d5d716394c6",
   "metadata": {
    "height": 234,
    "id": "e036b435-e842-40a3-8e1c-1d5d716394c6"
   },
   "outputs": [],
   "source": [
    "import json\n",
    "\n",
    "# Example dummy function hard coded to return the same weather\n",
    "# In production, this could be your backend API or an external API\n",
    "def get_current_weather(location, unit=\"fahrenheit\"):\n",
    "    \"\"\"Get the current weather in a given location\"\"\"\n",
    "    weather_info = {\n",
    "        \"location\": location,\n",
    "        \"temperature\": \"72\",\n",
    "        \"unit\": unit,\n",
    "        \"forecast\": [\"sunny\", \"windy\"],\n",
    "    }\n",
    "    return json.dumps(weather_info)"
   ]
  },
  {
   "cell_type": "code",
   "execution_count": 1,
   "id": "aVLLBTxiAoyp",
   "metadata": {
    "id": "aVLLBTxiAoyp"
   },
   "outputs": [],
   "source": [
    "# define a function\n",
    "\n",
    "# functions = [\n",
    "#     {\n",
    "#         \"name\": \"get_current_weather\",\n",
    "#         \"description\": \"Get the current weather in a given location\",\n",
    "#         \"parameters\": {\n",
    "#             \"type\": \"object\",\n",
    "#             \"properties\": {\n",
    "#                 \"location\": {\n",
    "#                     \"type\": \"string\",\n",
    "#                     \"description\": \"The city and state, e.g. San Francisco, CA\",\n",
    "#                 },\n",
    "#                 \"unit\": {\"type\": \"string\", \"enum\": [\"celsius\", \"fahrenheit\"]},\n",
    "#             },\n",
    "#             \"required\": [\"location\"],\n",
    "#         },\n",
    "#     }\n",
    "# ]"
   ]
  },
  {
   "cell_type": "code",
   "execution_count": 6,
   "id": "290fae11-d9af-40f8-9b78-3d6a847737b2",
   "metadata": {
    "height": 319,
    "id": "290fae11-d9af-40f8-9b78-3d6a847737b2"
   },
   "outputs": [],
   "source": [
    "# new syntex requires insert function into part of the tools\n",
    "\n",
    "tools = [\n",
    "    {\n",
    "        \"type\": \"function\",\n",
    "        \"function\":  {\n",
    "        \"name\": \"get_current_weather\",\n",
    "        \"description\": \"Get the current weather in a given location\",\n",
    "        \"parameters\": {\n",
    "            \"type\": \"object\",\n",
    "            \"properties\": {\n",
    "                \"location\": {\n",
    "                    \"type\": \"string\",\n",
    "                    \"description\": \"The city and state, e.g. San Francisco, CA\",\n",
    "                },\n",
    "                \"unit\": {\"type\": \"string\", \"enum\": [\"celsius\", \"fahrenheit\"]},\n",
    "            },\n",
    "            \"required\": [\"location\"],\n",
    "        },\n",
    "        }\n",
    "    }\n",
    "]"
   ]
  },
  {
   "cell_type": "code",
   "execution_count": 7,
   "id": "5b5e2abe-7cf0-4b00-8c08-b3df91d78eaa",
   "metadata": {
    "height": 115,
    "id": "5b5e2abe-7cf0-4b00-8c08-b3df91d78eaa"
   },
   "outputs": [],
   "source": [
    "messages = [\n",
    "    {\n",
    "        \"role\": \"user\",\n",
    "        \"content\": \"What's the weather like in Boston?\"\n",
    "    }\n",
    "]"
   ]
  },
  {
   "cell_type": "code",
   "execution_count": 8,
   "id": "654fce05-7ef6-49d7-8d78-f190ecf3f0dd",
   "metadata": {
    "height": 30,
    "id": "654fce05-7ef6-49d7-8d78-f190ecf3f0dd"
   },
   "outputs": [],
   "source": [
    "import openai"
   ]
  },
  {
   "cell_type": "code",
   "execution_count": 2,
   "id": "44LkB4tHvkP9",
   "metadata": {
    "id": "44LkB4tHvkP9"
   },
   "outputs": [],
   "source": [
    "# an example of new syntex from: https://github.com/openai/openai-python\n",
    "import os\n",
    "from openai import OpenAI\n",
    "\n",
    "client = OpenAI(\n",
    "    # This cannot be omitted\n",
    "    api_key= OPENAI_API_KEY\n",
    ")\n",
    "\n",
    "# model = ChatOpenAI(api_key= OPENAI_API_KEY)\n",
    "chat_completion = client.chat.completions.create(\n",
    "    messages=[\n",
    "        {\n",
    "            \"role\": \"user\",\n",
    "            \"content\": \"Say this is a test\",\n",
    "        }\n",
    "    ],\n",
    "    model=\"gpt-3.5-turbo\",\n",
    ")"
   ]
  },
  {
   "cell_type": "code",
   "execution_count": 10,
   "id": "bqsJ0SrOwqRK",
   "metadata": {
    "colab": {
     "base_uri": "https://localhost:8080/"
    },
    "id": "bqsJ0SrOwqRK",
    "outputId": "922f3924-4a50-4732-8b27-137950a89bdf"
   },
   "outputs": [
    {
     "data": {
      "text/plain": [
       "ChatCompletion(id='chatcmpl-A9iSGhq2FALs2AudZXCj6ce8anvI5', choices=[Choice(finish_reason='stop', index=0, logprobs=None, message=ChatCompletionMessage(content='This is a test.', refusal=None, role='assistant', function_call=None, tool_calls=None))], created=1726879200, model='gpt-3.5-turbo-0125', object='chat.completion', service_tier=None, system_fingerprint=None, usage=CompletionUsage(completion_tokens=5, prompt_tokens=12, total_tokens=17, completion_tokens_details=CompletionTokensDetails(reasoning_tokens=0)))"
      ]
     },
     "execution_count": 10,
     "metadata": {},
     "output_type": "execute_result"
    }
   ],
   "source": [
    "chat_completion"
   ]
  },
  {
   "cell_type": "code",
   "execution_count": 11,
   "id": "jsBN5XGv16nu",
   "metadata": {
    "id": "jsBN5XGv16nu"
   },
   "outputs": [],
   "source": [
    "tools = [\n",
    "    {\n",
    "        \"type\": \"function\",\n",
    "        \"function\": {\n",
    "            \"name\": \"get_delivery_date\",\n",
    "            \"description\": \"Get the delivery date for a customer's order. Call this whenever you need to know the delivery date, for example when a customer asks 'Where is my package'\",\n",
    "            \"parameters\": {\n",
    "                \"type\": \"object\",\n",
    "                \"properties\": {\n",
    "                    \"order_id\": {\n",
    "                        \"type\": \"string\",\n",
    "                        \"description\": \"The customer's order ID.\",\n",
    "                    },\n",
    "                },\n",
    "                \"required\": [\"order_id\"],\n",
    "                \"additionalProperties\": False,\n",
    "            },\n",
    "        }\n",
    "    }\n",
    "]\n",
    "\n",
    "messages = [\n",
    "    {\"role\": \"system\", \"content\": \"You are a helpful customer support assistant. Use the supplied tools to assist the user.\"},\n",
    "    {\"role\": \"user\", \"content\": \"Hi, what is the weather like in Boston?\"}\n",
    "]\n",
    "\n",
    "response = openai.chat.completions.create(\n",
    "    model=\"gpt-4o\",\n",
    "    messages=messages,\n",
    "    tools=tools,\n",
    "    # functions = functions,\n",
    "    # function_call and functions go together\n",
    "    # function_call=\"auto\",\n",
    ")"
   ]
  },
  {
   "cell_type": "code",
   "execution_count": 12,
   "id": "aZk9BcAL18Dg",
   "metadata": {
    "colab": {
     "base_uri": "https://localhost:8080/"
    },
    "id": "aZk9BcAL18Dg",
    "outputId": "bd2a11c2-f1ed-46d6-cf4e-ebe2bb69d426"
   },
   "outputs": [
    {
     "data": {
      "text/plain": [
       "ChatCompletion(id='chatcmpl-A9iShD6QfaJocmN5F2D3xz8kA1DCE', choices=[Choice(finish_reason='stop', index=0, logprobs=None, message=ChatCompletionMessage(content=\"I currently don't have access to real-time weather information. You may want to check a reliable weather website or use a weather app for the most accurate and up-to-date details on the weather in Boston.\", refusal=None, role='assistant', function_call=None, tool_calls=None))], created=1726879227, model='gpt-4o-2024-05-13', object='chat.completion', service_tier=None, system_fingerprint='fp_3537616b13', usage=CompletionUsage(completion_tokens=41, prompt_tokens=104, total_tokens=145, completion_tokens_details=CompletionTokensDetails(reasoning_tokens=0)))"
      ]
     },
     "execution_count": 12,
     "metadata": {},
     "output_type": "execute_result"
    }
   ],
   "source": [
    "response"
   ]
  },
  {
   "cell_type": "code",
   "execution_count": 13,
   "id": "ffa6385a-db38-40fa-b2b8-6fa226913c46",
   "metadata": {
    "colab": {
     "base_uri": "https://localhost:8080/"
    },
    "height": 98,
    "id": "ffa6385a-db38-40fa-b2b8-6fa226913c46",
    "outputId": "e2cae169-c8f9-48eb-a3f3-eb937ebd2d87"
   },
   "outputs": [
    {
     "data": {
      "text/plain": [
       "ChatCompletion(id='chatcmpl-A9iTNPnp9bFhbjXE42xmtu5nB6FYY', choices=[Choice(finish_reason='stop', index=0, logprobs=None, message=ChatCompletionMessage(content=\"I'm unable to provide real-time weather information. However, you can easily check the weather for Boston on various weather websites or apps like the Weather Channel, AccuWeather, or your smartphone’s weather app.\", refusal=None, role='assistant', function_call=None, tool_calls=None))], created=1726879269, model='gpt-4o-mini-2024-07-18', object='chat.completion', service_tier=None, system_fingerprint='fp_1bb46167f9', usage=CompletionUsage(completion_tokens=42, prompt_tokens=104, total_tokens=146, completion_tokens_details=CompletionTokensDetails(reasoning_tokens=0)))"
      ]
     },
     "execution_count": 13,
     "metadata": {},
     "output_type": "execute_result"
    }
   ],
   "source": [
    "# source: https://platform.openai.com/docs/guides/chat-completions/getting-started\n",
    "# https://platform.openai.com/docs/api-reference/chat/streaming\n",
    "\n",
    "from openai import OpenAI\n",
    "client = OpenAI(\n",
    "    api_key= OPENAI_API_KEY\n",
    ")\n",
    "\n",
    "response = client.chat.completions.create(\n",
    "  model=\"gpt-4o-mini\",\n",
    "  messages= messages,\n",
    "  # new syntex\n",
    "  tools=tools,\n",
    "  # function_call=\"auto\"\n",
    ")\n",
    "response"
   ]
  },
  {
   "cell_type": "code",
   "execution_count": 17,
   "id": "BFxchnJ9BqcV",
   "metadata": {
    "colab": {
     "base_uri": "https://localhost:8080/"
    },
    "id": "BFxchnJ9BqcV",
    "outputId": "ccad532a-59dd-49a9-cb83-4d66ff532c31"
   },
   "outputs": [
    {
     "data": {
      "text/plain": [
       "ChatCompletion(id='chatcmpl-A9iUhb6VmUPRs1zaqFEhCoxTbopgh', choices=[Choice(finish_reason='stop', index=0, logprobs=None, message=ChatCompletionMessage(content='The 2020 World Series was played at Globe Life Field in Arlington, Texas. This was a neutral site due to the COVID-19 pandemic.', refusal=None, role='assistant', function_call=None, tool_calls=None))], created=1726879351, model='gpt-4o-mini-2024-07-18', object='chat.completion', service_tier=None, system_fingerprint='fp_1bb46167f9', usage=CompletionUsage(completion_tokens=30, prompt_tokens=53, total_tokens=83, completion_tokens_details=CompletionTokensDetails(reasoning_tokens=0)))"
      ]
     },
     "execution_count": 17,
     "metadata": {},
     "output_type": "execute_result"
    }
   ],
   "source": [
    "# source: https://platform.openai.com/docs/guides/chat-completions/getting-started\n",
    "# https://platform.openai.com/docs/api-reference/chat/streaming\n",
    "\n",
    "from openai import OpenAI\n",
    "client = OpenAI(\n",
    "    api_key= OPENAI_API_KEY\n",
    ")\n",
    "\n",
    "response = client.chat.completions.create(\n",
    "  model=\"gpt-4o-mini\",\n",
    "  messages=[\n",
    "    {\"role\": \"system\", \"content\": \"You are a helpful assistant.\"},\n",
    "    {\"role\": \"user\", \"content\": \"Who won the world series in 2020?\"},\n",
    "    {\"role\": \"assistant\", \"content\": \"The Los Angeles Dodgers won the World Series in 2020.\"},\n",
    "    {\"role\": \"user\", \"content\": \"Where was it played?\"}\n",
    "  ]\n",
    ")\n",
    "\n",
    "response"
   ]
  },
  {
   "cell_type": "code",
   "execution_count": 27,
   "id": "ntn1LhWZ4GFT",
   "metadata": {
    "id": "ntn1LhWZ4GFT"
   },
   "outputs": [],
   "source": [
    "tools = [\n",
    "    {\n",
    "        \"type\": \"function\",\n",
    "        \"function\": {\n",
    "            \"name\": \"get_delivery_date\",\n",
    "            \"description\": \"Get the delivery date for a customer's order. Call this whenever you need to know the delivery date, for example when a customer asks 'Where is my package'\",\n",
    "            \"parameters\": {\n",
    "                \"type\": \"object\",\n",
    "                \"properties\": {\n",
    "                    \"order_id\": {\n",
    "                        \"type\": \"string\",\n",
    "                        \"description\": \"The customer's order ID.\"\n",
    "                    }\n",
    "                },\n",
    "                \"required\": [\"order_id\"],\n",
    "                \"additionalProperties\": False\n",
    "            }\n",
    "        }\n",
    "    }\n",
    "]\n",
    "\n",
    "messages = []\n",
    "messages.append({\"role\": \"system\", \"content\": \"You are a helpful customer support assistant. Use the supplied tools to assist the user.\"})\n",
    "messages.append({\"role\": \"user\", \"content\": \"Hi, can you tell me the delivery date for my order?\"})\n",
    "# # // highlight-start\n",
    "# does not work if you keep adding\n",
    "# messages.append({\"role\": \"assistant\", \"content\": \"Hi there! I can help with that. Can you please provide your order ID?\"})\n",
    "# messages.append({\"role\": \"user\", \"content\": \"i think it is order_12345\"})\n",
    "# // highlight-end\n",
    "\n",
    "response = client.chat.completions.create(\n",
    "    model='gpt-4o',\n",
    "    messages=messages,\n",
    "    tools=tools\n",
    ")"
   ]
  },
  {
   "cell_type": "code",
   "execution_count": 28,
   "id": "QG8Tu_F6CBOa",
   "metadata": {
    "colab": {
     "base_uri": "https://localhost:8080/"
    },
    "id": "QG8Tu_F6CBOa",
    "outputId": "c6710c89-dea9-493d-91f6-41796708fece"
   },
   "outputs": [
    {
     "data": {
      "text/plain": [
       "ChatCompletion(id='chatcmpl-A9iYpO9WGjOZoowomrKhugG11jy2d', choices=[Choice(finish_reason='stop', index=0, logprobs=None, message=ChatCompletionMessage(content=\"Sure, I'd be happy to help with that. Could you please provide me with your order ID?\", refusal=None, role='assistant', function_call=None, tool_calls=None))], created=1726879607, model='gpt-4o-2024-05-13', object='chat.completion', service_tier=None, system_fingerprint='fp_a2ff031fb5', usage=CompletionUsage(completion_tokens=21, prompt_tokens=107, total_tokens=128, completion_tokens_details=CompletionTokensDetails(reasoning_tokens=0)))"
      ]
     },
     "execution_count": 28,
     "metadata": {},
     "output_type": "execute_result"
    }
   ],
   "source": [
    "response"
   ]
  },
  {
   "cell_type": "code",
   "execution_count": 30,
   "id": "Es6m7mCF4TRK",
   "metadata": {
    "id": "Es6m7mCF4TRK"
   },
   "outputs": [],
   "source": [
    "# Simulate the order_id and delivery_date\n",
    "from datetime import datetime\n",
    "order_id = \"order_12345\"\n",
    "delivery_date = datetime.now()\n",
    "\n",
    "# simulate the tool call response\n",
    "response = {\n",
    "    \"choices\": [\n",
    "        {\n",
    "            \"message\": {\n",
    "                \"role\": \"assistant\",\n",
    "                \"tool_calls\": [\n",
    "                    {\n",
    "                        \"id\": \"call_62136354\",\n",
    "                        \"type\": \"function\",\n",
    "                        \"function\": {\n",
    "                            \"arguments\": \"{'order_id': 'order_12345'}\",\n",
    "                            \"name\": \"get_delivery_date\"\n",
    "                        }\n",
    "                    }\n",
    "                ]\n",
    "            }\n",
    "        }\n",
    "    ]\n",
    "}\n",
    "\n",
    "function_call_result_message = {\n",
    "    \"role\": \"tool\",\n",
    "    \"content\": json.dumps({\n",
    "        \"order_id\": order_id,\n",
    "        \"delivery_date\": delivery_date.strftime('%Y-%m-%d %H:%M:%S')\n",
    "    }),\n",
    "    \"tool_call_id\": response['choices'][0]['message']['tool_calls'][0]['id']\n",
    "}\n",
    "\n",
    "# chat completion payload\n",
    "completion_payload = {\n",
    "    \"model\": \"gpt-4o\",\n",
    "    \"messages\": [\n",
    "        {\"role\": \"system\", \"content\": \"You are a helpful customer support assistant. Use the supplied tools to assist the user.\"},\n",
    "        {\"role\": \"user\", \"content\": \"Hi, can you tell me the delivery date for my order?\"},\n",
    "        {\"role\": \"assistant\", \"content\": \"Hi there! I can help with that. Can you please provide your order ID?\"},\n",
    "        {\"role\": \"user\", \"content\": \"i think it is order_12345\"},\n",
    "        response['choices'][0]['message'],\n",
    "        function_call_result_message\n",
    "    ]\n",
    "}\n",
    "\n",
    "# call the OpenAI API's chat completions endpoint to send the tool call result back to the model\n",
    "response = openai.chat.completions.create(\n",
    "    model=completion_payload[\"model\"],\n",
    "    messages=completion_payload[\"messages\"]\n",
    ")\n"
   ]
  },
  {
   "cell_type": "code",
   "execution_count": 31,
   "id": "xjtrPbIS4cfv",
   "metadata": {
    "colab": {
     "base_uri": "https://localhost:8080/"
    },
    "id": "xjtrPbIS4cfv",
    "outputId": "6493d558-1ac4-46f8-9f2f-c6249880e029"
   },
   "outputs": [
    {
     "data": {
      "text/plain": [
       "ChatCompletion(id='chatcmpl-A9iZqyYfc2wZYQ7GnH9DtZJuslqRW', choices=[Choice(finish_reason='stop', index=0, logprobs=None, message=ChatCompletionMessage(content='Your order (ID: order_12345) is scheduled to be delivered on **September 21, 2024**. If you have any other questions or need further assistance, feel free to ask!', refusal=None, role='assistant', function_call=None, tool_calls=None))], created=1726879670, model='gpt-4o-2024-05-13', object='chat.completion', service_tier=None, system_fingerprint='fp_e375328146', usage=CompletionUsage(completion_tokens=42, prompt_tokens=131, total_tokens=173, completion_tokens_details=CompletionTokensDetails(reasoning_tokens=0)))"
      ]
     },
     "execution_count": 31,
     "metadata": {},
     "output_type": "execute_result"
    }
   ],
   "source": [
    "response"
   ]
  },
  {
   "cell_type": "code",
   "execution_count": null,
   "id": "eea5a420-9c52-441c-b868-6ce69c498477",
   "metadata": {
    "height": 30,
    "id": "eea5a420-9c52-441c-b868-6ce69c498477"
   },
   "outputs": [],
   "source": []
  },
  {
   "cell_type": "code",
   "execution_count": null,
   "id": "1ab51675-a078-4704-b63b-9f722d86b0d9",
   "metadata": {
    "height": 30,
    "id": "1ab51675-a078-4704-b63b-9f722d86b0d9"
   },
   "outputs": [],
   "source": []
  },
  {
   "cell_type": "code",
   "execution_count": null,
   "id": "0d4c2a24-c011-4c44-a78e-611143ff3034",
   "metadata": {
    "height": 30,
    "id": "0d4c2a24-c011-4c44-a78e-611143ff3034"
   },
   "outputs": [],
   "source": []
  },
  {
   "cell_type": "code",
   "execution_count": null,
   "id": "600778a5-a4d5-44aa-b3a7-172c82e74eed",
   "metadata": {
    "height": 30,
    "id": "600778a5-a4d5-44aa-b3a7-172c82e74eed"
   },
   "outputs": [],
   "source": []
  },
  {
   "cell_type": "code",
   "execution_count": null,
   "id": "60557042-93b5-4172-8aaa-1219ea35addb",
   "metadata": {
    "height": 30,
    "id": "60557042-93b5-4172-8aaa-1219ea35addb"
   },
   "outputs": [],
   "source": []
  },
  {
   "cell_type": "code",
   "execution_count": null,
   "id": "693f24b4-0796-4c2d-86ab-0d23766551d3",
   "metadata": {
    "height": 30,
    "id": "693f24b4-0796-4c2d-86ab-0d23766551d3"
   },
   "outputs": [],
   "source": []
  },
  {
   "cell_type": "code",
   "execution_count": null,
   "id": "611029f7-e4c5-45b0-bcc9-9ec214a32686",
   "metadata": {
    "height": 30,
    "id": "611029f7-e4c5-45b0-bcc9-9ec214a32686"
   },
   "outputs": [],
   "source": []
  },
  {
   "cell_type": "code",
   "execution_count": null,
   "id": "e20ed315-b80a-4d82-bda8-41cc54b30b36",
   "metadata": {
    "height": 30,
    "id": "e20ed315-b80a-4d82-bda8-41cc54b30b36"
   },
   "outputs": [],
   "source": []
  },
  {
   "cell_type": "code",
   "execution_count": null,
   "id": "be374e72-c849-4962-bb50-33607824bab1",
   "metadata": {
    "height": 30,
    "id": "be374e72-c849-4962-bb50-33607824bab1"
   },
   "outputs": [],
   "source": []
  },
  {
   "cell_type": "code",
   "execution_count": null,
   "id": "9a7702f2-cee6-4649-a662-6d1dc9d49e0c",
   "metadata": {
    "height": 30,
    "id": "9a7702f2-cee6-4649-a662-6d1dc9d49e0c"
   },
   "outputs": [],
   "source": []
  },
  {
   "cell_type": "code",
   "execution_count": null,
   "id": "37a2ba14-9908-48b1-adad-1ef764114254",
   "metadata": {
    "height": 30,
    "id": "37a2ba14-9908-48b1-adad-1ef764114254"
   },
   "outputs": [],
   "source": []
  }
 ],
 "metadata": {
  "colab": {
   "provenance": []
  },
  "kernelspec": {
   "display_name": "Python 3 (ipykernel)",
   "language": "python",
   "name": "python3"
  },
  "language_info": {
   "codemirror_mode": {
    "name": "ipython",
    "version": 3
   },
   "file_extension": ".py",
   "mimetype": "text/x-python",
   "name": "python",
   "nbconvert_exporter": "python",
   "pygments_lexer": "ipython3",
   "version": "3.11.0"
  }
 },
 "nbformat": 4,
 "nbformat_minor": 5
}
