{
 "cells": [
  {
   "cell_type": "markdown",
   "id": "b815ef73",
   "metadata": {
    "id": "b815ef73"
   },
   "source": [
    "# Tools and Routing"
   ]
  },
  {
   "cell_type": "markdown",
   "id": "JWlmpEhS4Ylf",
   "metadata": {
    "id": "JWlmpEhS4Ylf"
   },
   "source": [
    "- Functions and services an LLM can utilize to extend its capabilities are named \"tools\" in LangChain\n",
    "- LangChain has many tools available.\n",
    "  - search tools\n",
    "  - Math tools\n",
    "  - SQL tools\n",
    "  -...\n",
    "\n",
    "In this lab, it focuses on:\n",
    "1. create yoru won tools;\n",
    "2. build a toold based on an openapi spec:\n",
    "  - predating LLMs, the openapi specification is routinely used by service providers to describe their APIs.\n",
    "3. select from multiple possible toools - called \"routing\" (ask llm to choose the tools)"
   ]
  },
  {
   "cell_type": "code",
   "execution_count": 1,
   "id": "SN3LG0_P3pja",
   "metadata": {
    "id": "SN3LG0_P3pja"
   },
   "outputs": [],
   "source": [
    "!pip install -q openai langchain python-dotenv\n",
    "!pip install -q wikipedia\n",
    "!pip install -q requests"
   ]
  },
  {
   "cell_type": "code",
   "execution_count": 2,
   "id": "cb41f5f4-df8d-4d04-9eaa-193b8c29b00b",
   "metadata": {
    "height": 115,
    "id": "cb41f5f4-df8d-4d04-9eaa-193b8c29b00b",
    "tags": []
   },
   "outputs": [],
   "source": [
    "import os\n",
    "import openai\n",
    "\n",
    "from dotenv import load_dotenv, find_dotenv\n",
    "_ = load_dotenv(find_dotenv()) # read local .env file\n",
    "openai.api_key = os.environ['OPENAI_API_KEY']\n",
    "OPENAI_API_KEY = openai.api_key"
   ]
  },
  {
   "cell_type": "code",
   "execution_count": 3,
   "id": "139c45e6-65a4-4fcb-a109-e5ba41a80835",
   "metadata": {
    "height": 30,
    "id": "139c45e6-65a4-4fcb-a109-e5ba41a80835"
   },
   "outputs": [],
   "source": [
    "from langchain.agents import tool"
   ]
  },
  {
   "cell_type": "code",
   "execution_count": 4,
   "id": "8a17f623-9342-46bd-a913-9ea6be32a7a9",
   "metadata": {
    "height": 81,
    "id": "8a17f623-9342-46bd-a913-9ea6be32a7a9"
   },
   "outputs": [],
   "source": [
    "@tool\n",
    "def search(query: str) -> str:\n",
    "    \"\"\"Search for weather online\"\"\"\n",
    "    return \"42f\""
   ]
  },
  {
   "cell_type": "code",
   "execution_count": 5,
   "id": "db510949-acb8-4f69-b6c9-242b84fdc63a",
   "metadata": {
    "colab": {
     "base_uri": "https://localhost:8080/",
     "height": 35
    },
    "height": 30,
    "id": "db510949-acb8-4f69-b6c9-242b84fdc63a",
    "outputId": "e38c407d-d1aa-4cb1-fb38-631efea87526"
   },
   "outputs": [
    {
     "data": {
      "application/vnd.google.colaboratory.intrinsic+json": {
       "type": "string"
      },
      "text/plain": [
       "'search'"
      ]
     },
     "execution_count": 5,
     "metadata": {},
     "output_type": "execute_result"
    }
   ],
   "source": [
    "search.name"
   ]
  },
  {
   "cell_type": "code",
   "execution_count": 6,
   "id": "c4c12426-5e1a-4057-8ae5-6dfb6beace97",
   "metadata": {
    "colab": {
     "base_uri": "https://localhost:8080/",
     "height": 35
    },
    "height": 30,
    "id": "c4c12426-5e1a-4057-8ae5-6dfb6beace97",
    "outputId": "3ce29a54-9565-4dcb-e44d-cceec4760b4d"
   },
   "outputs": [
    {
     "data": {
      "application/vnd.google.colaboratory.intrinsic+json": {
       "type": "string"
      },
      "text/plain": [
       "'Search for weather online'"
      ]
     },
     "execution_count": 6,
     "metadata": {},
     "output_type": "execute_result"
    }
   ],
   "source": [
    "search.description"
   ]
  },
  {
   "cell_type": "code",
   "execution_count": 7,
   "id": "22d1c4e6-8313-41a0-ae7a-61343699cb7c",
   "metadata": {
    "colab": {
     "base_uri": "https://localhost:8080/"
    },
    "height": 30,
    "id": "22d1c4e6-8313-41a0-ae7a-61343699cb7c",
    "outputId": "d0e458b9-334f-4f79-9e19-f2c93530dd0b"
   },
   "outputs": [
    {
     "data": {
      "text/plain": [
       "{'query': {'title': 'Query', 'type': 'string'}}"
      ]
     },
     "execution_count": 7,
     "metadata": {},
     "output_type": "execute_result"
    }
   ],
   "source": [
    "search.args"
   ]
  },
  {
   "cell_type": "code",
   "execution_count": 8,
   "id": "8765af16-17fc-4490-98ab-4e9dd59337cf",
   "metadata": {
    "height": 81,
    "id": "8765af16-17fc-4490-98ab-4e9dd59337cf"
   },
   "outputs": [],
   "source": [
    "from pydantic import BaseModel, Field\n",
    "class SearchInput(BaseModel):\n",
    "    query: str = Field(description=\"Thing to search for\")\n",
    "## description of the input is to tell the LLM how the input should be.\n",
    "# therefore, it is important to define what the SearchInput would be."
   ]
  },
  {
   "cell_type": "code",
   "execution_count": 9,
   "id": "91d20261-e18f-4989-808c-c4f36643d024",
   "metadata": {
    "height": 81,
    "id": "91d20261-e18f-4989-808c-c4f36643d024"
   },
   "outputs": [],
   "source": [
    "@tool(args_schema=SearchInput)\n",
    "def search(query: str) -> str:\n",
    "    \"\"\"Search for the weather online.\"\"\"\n",
    "    return \"42f\""
   ]
  },
  {
   "cell_type": "code",
   "execution_count": 10,
   "id": "88b3f7d0-a856-4842-82da-6c00df53e9d9",
   "metadata": {
    "colab": {
     "base_uri": "https://localhost:8080/"
    },
    "height": 30,
    "id": "88b3f7d0-a856-4842-82da-6c00df53e9d9",
    "outputId": "9d6e07b4-a620-443c-9924-735151edf0f5"
   },
   "outputs": [
    {
     "data": {
      "text/plain": [
       "{'query': {'description': 'Thing to search for',\n",
       "  'title': 'Query',\n",
       "  'type': 'string'}}"
      ]
     },
     "execution_count": 10,
     "metadata": {},
     "output_type": "execute_result"
    }
   ],
   "source": [
    "search.args"
   ]
  },
  {
   "cell_type": "code",
   "execution_count": 11,
   "id": "060dc15b-f95f-47ab-b081-d6736f277ebc",
   "metadata": {
    "colab": {
     "base_uri": "https://localhost:8080/",
     "height": 35
    },
    "height": 30,
    "id": "060dc15b-f95f-47ab-b081-d6736f277ebc",
    "outputId": "b9779e42-d12c-45b3-c417-6548caf95b46"
   },
   "outputs": [
    {
     "data": {
      "application/vnd.google.colaboratory.intrinsic+json": {
       "type": "string"
      },
      "text/plain": [
       "'42f'"
      ]
     },
     "execution_count": 11,
     "metadata": {},
     "output_type": "execute_result"
    }
   ],
   "source": [
    "search.run(\"sf\")"
   ]
  },
  {
   "cell_type": "code",
   "execution_count": 12,
   "id": "e93b85b2-1786-4f63-8e65-cd6a8b5c0b33",
   "metadata": {
    "height": 691,
    "id": "e93b85b2-1786-4f63-8e65-cd6a8b5c0b33"
   },
   "outputs": [],
   "source": [
    "import requests\n",
    "from pydantic import BaseModel, Field\n",
    "import datetime\n",
    "\n",
    "\n",
    "# Define the input schema\n",
    "class OpenMeteoInput(BaseModel):\n",
    "    latitude: float = Field(..., description=\"Latitude of the location to fetch weather data for\")\n",
    "    longitude: float = Field(..., description=\"Longitude of the location to fetch weather data for\")\n",
    "\n",
    "\n",
    "# self defined function that will be sent to llm to be used at the right time.\n",
    "\n",
    "@tool(args_schema=OpenMeteoInput)\n",
    "def get_current_temperature(latitude: float, longitude: float) -> dict:\n",
    "    \"\"\"Fetch current temperature for given coordinates.\"\"\"\n",
    "\n",
    "    BASE_URL = \"https://api.open-meteo.com/v1/forecast\"\n",
    "\n",
    "    # Parameters for the request\n",
    "    params = {\n",
    "        'latitude': latitude,\n",
    "        'longitude': longitude,\n",
    "        'hourly': 'temperature_2m',\n",
    "        'forecast_days': 1,\n",
    "    }\n",
    "\n",
    "    # Make the request\n",
    "    response = requests.get(BASE_URL, params=params)\n",
    "\n",
    "    if response.status_code == 200:\n",
    "        results = response.json()\n",
    "    else:\n",
    "        raise Exception(f\"API Request failed with status code: {response.status_code}\")\n",
    "\n",
    "# getting the forcast for the next day and get the forecast that is closer to the current time.\n",
    "    current_utc_time = datetime.datetime.utcnow()\n",
    "    time_list = [datetime.datetime.fromisoformat(time_str.replace('Z', '+00:00')) for time_str in results['hourly']['time']]\n",
    "    temperature_list = results['hourly']['temperature_2m']\n",
    "\n",
    "    closest_time_index = min(range(len(time_list)), key=lambda i: abs(time_list[i] - current_utc_time))\n",
    "    current_temperature = temperature_list[closest_time_index]\n",
    "\n",
    "    return f'The current temperature is {current_temperature}°C'"
   ]
  },
  {
   "cell_type": "code",
   "execution_count": 13,
   "id": "731ed353-a27d-42df-89a8-9767bafb23be",
   "metadata": {
    "colab": {
     "base_uri": "https://localhost:8080/",
     "height": 35
    },
    "height": 30,
    "id": "731ed353-a27d-42df-89a8-9767bafb23be",
    "outputId": "a5ce835c-c2a2-4eee-ade1-f57d7ee7f5c6"
   },
   "outputs": [
    {
     "data": {
      "application/vnd.google.colaboratory.intrinsic+json": {
       "type": "string"
      },
      "text/plain": [
       "'get_current_temperature'"
      ]
     },
     "execution_count": 13,
     "metadata": {},
     "output_type": "execute_result"
    }
   ],
   "source": [
    "get_current_temperature.name"
   ]
  },
  {
   "cell_type": "code",
   "execution_count": 14,
   "id": "d4f62eb8-c528-4e4a-b078-22e9d9b20a09",
   "metadata": {
    "colab": {
     "base_uri": "https://localhost:8080/",
     "height": 35
    },
    "height": 30,
    "id": "d4f62eb8-c528-4e4a-b078-22e9d9b20a09",
    "outputId": "c5c6a8c4-1ad9-470e-c8f0-f73efef61c56"
   },
   "outputs": [
    {
     "data": {
      "application/vnd.google.colaboratory.intrinsic+json": {
       "type": "string"
      },
      "text/plain": [
       "'Fetch current temperature for given coordinates.'"
      ]
     },
     "execution_count": 14,
     "metadata": {},
     "output_type": "execute_result"
    }
   ],
   "source": [
    "get_current_temperature.description\n",
    "# doc string"
   ]
  },
  {
   "cell_type": "code",
   "execution_count": 15,
   "id": "38ebb59f-cf0f-4281-99c3-87c8cfd3377b",
   "metadata": {
    "colab": {
     "base_uri": "https://localhost:8080/"
    },
    "height": 30,
    "id": "38ebb59f-cf0f-4281-99c3-87c8cfd3377b",
    "outputId": "1df85a01-40d4-4232-cb45-d685dc72a2ac"
   },
   "outputs": [
    {
     "data": {
      "text/plain": [
       "{'latitude': {'description': 'Latitude of the location to fetch weather data for',\n",
       "  'title': 'Latitude',\n",
       "  'type': 'number'},\n",
       " 'longitude': {'description': 'Longitude of the location to fetch weather data for',\n",
       "  'title': 'Longitude',\n",
       "  'type': 'number'}}"
      ]
     },
     "execution_count": 15,
     "metadata": {},
     "output_type": "execute_result"
    }
   ],
   "source": [
    "get_current_temperature.args"
   ]
  },
  {
   "cell_type": "code",
   "execution_count": 16,
   "id": "36aacbec-9cdd-414a-b502-168cea350a30",
   "metadata": {
    "height": 45,
    "id": "36aacbec-9cdd-414a-b502-168cea350a30"
   },
   "outputs": [],
   "source": [
    "from langchain.tools.render import format_tool_to_openai_function\n",
    "\n",
    "# convert this tool to an openai function"
   ]
  },
  {
   "cell_type": "code",
   "execution_count": 16,
   "id": "20ZW9kjl7nv0",
   "metadata": {
    "id": "20ZW9kjl7nv0"
   },
   "outputs": [],
   "source": []
  },
  {
   "cell_type": "code",
   "execution_count": 17,
   "id": "6277b6a8-f197-4057-a96a-5ebb61e18520",
   "metadata": {
    "colab": {
     "base_uri": "https://localhost:8080/"
    },
    "height": 30,
    "id": "6277b6a8-f197-4057-a96a-5ebb61e18520",
    "outputId": "98c92d43-79ad-47a3-b428-2d7ca6480f55"
   },
   "outputs": [
    {
     "name": "stderr",
     "output_type": "stream",
     "text": [
      "<ipython-input-17-4be3c6878d9e>:1: LangChainDeprecationWarning: The function `format_tool_to_openai_function` was deprecated in LangChain 0.1.16 and will be removed in 1.0. Use :meth:`~langchain_core.utils.function_calling.convert_to_openai_function()` instead.\n",
      "  format_tool_to_openai_function(get_current_temperature)\n"
     ]
    },
    {
     "data": {
      "text/plain": [
       "{'name': 'get_current_temperature',\n",
       " 'description': 'Fetch current temperature for given coordinates.',\n",
       " 'parameters': {'properties': {'latitude': {'description': 'Latitude of the location to fetch weather data for',\n",
       "    'type': 'number'},\n",
       "   'longitude': {'description': 'Longitude of the location to fetch weather data for',\n",
       "    'type': 'number'}},\n",
       "  'required': ['latitude', 'longitude'],\n",
       "  'type': 'object'}}"
      ]
     },
     "execution_count": 17,
     "metadata": {},
     "output_type": "execute_result"
    }
   ],
   "source": [
    "format_tool_to_openai_function(get_current_temperature)\n",
    "# we get a json, that is possibel for openai to undestand as a function with a chain."
   ]
  },
  {
   "cell_type": "code",
   "execution_count": 18,
   "id": "e088eceb-424b-4da6-981f-63322c9ac56a",
   "metadata": {
    "colab": {
     "base_uri": "https://localhost:8080/",
     "height": 91
    },
    "height": 30,
    "id": "e088eceb-424b-4da6-981f-63322c9ac56a",
    "outputId": "008cb970-0794-4585-d7e9-0bb45f47698b"
   },
   "outputs": [
    {
     "name": "stderr",
     "output_type": "stream",
     "text": [
      "<ipython-input-18-df5bf01ecf0c>:1: LangChainDeprecationWarning: The method `BaseTool.__call__` was deprecated in langchain-core 0.1.47 and will be removed in 1.0. Use :meth:`~invoke` instead.\n",
      "  get_current_temperature({\"latitude\": 15, \"longitude\": 14})\n"
     ]
    },
    {
     "data": {
      "application/vnd.google.colaboratory.intrinsic+json": {
       "type": "string"
      },
      "text/plain": [
       "'The current temperature is 28.8°C'"
      ]
     },
     "execution_count": 18,
     "metadata": {},
     "output_type": "execute_result"
    }
   ],
   "source": [
    "get_current_temperature({\"latitude\": 15, \"longitude\": 14})"
   ]
  },
  {
   "cell_type": "markdown",
   "id": "3tqHX6vkIujU",
   "metadata": {
    "id": "3tqHX6vkIujU"
   },
   "source": [
    "## let's define some other functions...."
   ]
  },
  {
   "cell_type": "code",
   "execution_count": 117,
   "id": "raawAWYFItyo",
   "metadata": {
    "id": "raawAWYFItyo"
   },
   "outputs": [],
   "source": [
    "class CurrencyConversionInput(BaseModel):\n",
    "    from_currency: str = Field(..., description=\"the currency to convert from, USD or CNY)\")\n",
    "    to_currency: str = Field(..., description=\"the currency to convert to, USD or CNY)\")\n",
    "    amount: float = Field(..., description=\"he amount of money to convert\")\n",
    "\n",
    "@tool(args_schema=CurrencyConversionInput)\n",
    "def convert_currency(from_currency: str, to_currency: str, amount: float) -> str:\n",
    "  # must have a docstring if it does not have description....\n",
    "    \"\"\"Convert currency from one type to another using an exchange rate API.\"\"\"\n",
    "\n",
    "    BASE_URL = f\"https://api.exchangerate-api.com/v4/latest/{from_currency}\"\n",
    "\n",
    "    response = requests.get(BASE_URL)\n",
    "\n",
    "    if response.status_code == 200:\n",
    "        data = response.json()\n",
    "        exchange_rate = data['rates'][to_currency]\n",
    "        converted_amount = amount * exchange_rate\n",
    "        return f\"{amount} {from_currency} is equal to {converted_amount:.2f} {to_currency}.\"\n",
    "    else:\n",
    "        raise Exception(f\"API Request failed with status code: {response.status_code}\")\n"
   ]
  },
  {
   "cell_type": "code",
   "execution_count": 119,
   "id": "lNkwuZH9JG_6",
   "metadata": {
    "colab": {
     "base_uri": "https://localhost:8080/",
     "height": 35
    },
    "id": "lNkwuZH9JG_6",
    "outputId": "5f0eb2f0-13d3-4c4e-edff-b41b5862f6a8"
   },
   "outputs": [
    {
     "data": {
      "application/vnd.google.colaboratory.intrinsic+json": {
       "type": "string"
      },
      "text/plain": [
       "'convert_currency'"
      ]
     },
     "execution_count": 119,
     "metadata": {},
     "output_type": "execute_result"
    }
   ],
   "source": [
    "convert_currency.name"
   ]
  },
  {
   "cell_type": "code",
   "execution_count": 122,
   "id": "XzQEQNLLJQgo",
   "metadata": {
    "colab": {
     "base_uri": "https://localhost:8080/",
     "height": 35
    },
    "id": "XzQEQNLLJQgo",
    "outputId": "f2a07d16-087f-43e4-fdba-733eace6abc9"
   },
   "outputs": [
    {
     "data": {
      "application/vnd.google.colaboratory.intrinsic+json": {
       "type": "string"
      },
      "text/plain": [
       "'Convert currency from one type to another using an exchange rate API.'"
      ]
     },
     "execution_count": 122,
     "metadata": {},
     "output_type": "execute_result"
    }
   ],
   "source": [
    "convert_currency.description"
   ]
  },
  {
   "cell_type": "code",
   "execution_count": 123,
   "id": "px9-vVh0JZ5l",
   "metadata": {
    "colab": {
     "base_uri": "https://localhost:8080/"
    },
    "id": "px9-vVh0JZ5l",
    "outputId": "3b5baca8-178d-4bc6-e2de-0273765919d1"
   },
   "outputs": [
    {
     "data": {
      "text/plain": [
       "{'from_currency': {'description': 'the currency to convert from (e.g., USD, CNY)',\n",
       "  'title': 'From Currency',\n",
       "  'type': 'string'},\n",
       " 'to_currency': {'description': 'the currency to convert to (e.g., USD, CNY)',\n",
       "  'title': 'To Currency',\n",
       "  'type': 'string'},\n",
       " 'amount': {'description': 'he amount of money to convert',\n",
       "  'title': 'Amount',\n",
       "  'type': 'number'}}"
      ]
     },
     "execution_count": 123,
     "metadata": {},
     "output_type": "execute_result"
    }
   ],
   "source": [
    "convert_currency.args"
   ]
  },
  {
   "cell_type": "code",
   "execution_count": 124,
   "id": "GmQ0DjpAJdhS",
   "metadata": {
    "colab": {
     "base_uri": "https://localhost:8080/"
    },
    "id": "GmQ0DjpAJdhS",
    "outputId": "feb7b0ab-78e2-423c-d12c-bf2307716e65"
   },
   "outputs": [
    {
     "data": {
      "text/plain": [
       "{'name': 'convert_currency',\n",
       " 'description': 'Convert currency from one type to another using an exchange rate API.',\n",
       " 'parameters': {'properties': {'from_currency': {'description': 'the currency to convert from (e.g., USD, CNY)',\n",
       "    'type': 'string'},\n",
       "   'to_currency': {'description': 'the currency to convert to (e.g., USD, CNY)',\n",
       "    'type': 'string'},\n",
       "   'amount': {'description': 'he amount of money to convert',\n",
       "    'type': 'number'}},\n",
       "  'required': ['from_currency', 'to_currency', 'amount'],\n",
       "  'type': 'object'}}"
      ]
     },
     "execution_count": 124,
     "metadata": {},
     "output_type": "execute_result"
    }
   ],
   "source": [
    "format_tool_to_openai_function(convert_currency)\n",
    "# we get a json, that is possibel for openai to undestand as a function with a chain."
   ]
  },
  {
   "cell_type": "code",
   "execution_count": 133,
   "id": "hZF1Jx6bJjdG",
   "metadata": {
    "colab": {
     "base_uri": "https://localhost:8080/"
    },
    "id": "hZF1Jx6bJjdG",
    "outputId": "d03b631a-c5a5-4b03-fcb1-bb097b836b13"
   },
   "outputs": [
    {
     "name": "stdout",
     "output_type": "stream",
     "text": [
      "100.0 USD is equal to 705.00 CNY.\n"
     ]
    }
   ],
   "source": [
    "# must call the tool with structured input, aka \"{}\"!\n",
    "input_data = {\n",
    "    \"from_currency\": \"USD\",\n",
    "    \"to_currency\": \"CNY\",\n",
    "    \"amount\": 100.0\n",
    "}\n",
    "result = convert_currency(input_data)\n",
    "print(result)\n",
    "# corret\n"
   ]
  },
  {
   "cell_type": "code",
   "execution_count": 134,
   "id": "7jVvvLP8KfHk",
   "metadata": {
    "colab": {
     "base_uri": "https://localhost:8080/"
    },
    "id": "7jVvvLP8KfHk",
    "outputId": "0d9854f9-6bce-4fc4-e4e9-d88a8f4759c2"
   },
   "outputs": [
    {
     "name": "stdout",
     "output_type": "stream",
     "text": [
      "100.0 CNY is equal to 14.20 USD.\n"
     ]
    }
   ],
   "source": [
    "# must call the tool with structured input\n",
    "input_data = {\n",
    "    \"from_currency\": \"CNY\",\n",
    "    \"to_currency\": \"USD\",\n",
    "    \"amount\": 100.0\n",
    "}\n",
    "result = convert_currency(input_data)\n",
    "print(result)\n",
    "# corret\n"
   ]
  },
  {
   "cell_type": "code",
   "execution_count": 19,
   "id": "5eefc272-d205-4bad-ab00-282ccb3cc2fe",
   "metadata": {
    "height": 334,
    "id": "5eefc272-d205-4bad-ab00-282ccb3cc2fe"
   },
   "outputs": [],
   "source": [
    "import wikipedia\n",
    "# self-defined function.. later the langchain will send this to a llm and let the llm\n",
    "# decide when it is a good time to use this function to answer questions.\n",
    "@tool\n",
    "def search_wikipedia(query: str) -> str:\n",
    "    \"\"\"Run Wikipedia search and get page summaries.\"\"\"\n",
    "    page_titles = wikipedia.search(query)\n",
    "    summaries = []\n",
    "    # get the first three element of that page\n",
    "    for page_title in page_titles[: 3]:\n",
    "        try:\n",
    "            wiki_page =  wikipedia.page(title=page_title, auto_suggest=False)\n",
    "            summaries.append(f\"Page: {page_title}\\nSummary: {wiki_page.summary}\")\n",
    "        except (\n",
    "            self.wiki_client.exceptions.PageError,\n",
    "            self.wiki_client.exceptions.DisambiguationError,\n",
    "        ):\n",
    "            pass\n",
    "    if not summaries:\n",
    "        return \"No good Wikipedia Search Result was found\"\n",
    "    return \"\\n\\n\".join(summaries)"
   ]
  },
  {
   "cell_type": "code",
   "execution_count": 20,
   "id": "289c5d0c-0e71-4d70-963f-9d9f58e53d56",
   "metadata": {
    "colab": {
     "base_uri": "https://localhost:8080/",
     "height": 35
    },
    "height": 30,
    "id": "289c5d0c-0e71-4d70-963f-9d9f58e53d56",
    "outputId": "c1df22f0-67e2-4289-89a2-9b9550c0d07c"
   },
   "outputs": [
    {
     "data": {
      "application/vnd.google.colaboratory.intrinsic+json": {
       "type": "string"
      },
      "text/plain": [
       "'search_wikipedia'"
      ]
     },
     "execution_count": 20,
     "metadata": {},
     "output_type": "execute_result"
    }
   ],
   "source": [
    "search_wikipedia.name"
   ]
  },
  {
   "cell_type": "code",
   "execution_count": 21,
   "id": "69756d79-ec2f-4185-89af-d14de817fc27",
   "metadata": {
    "colab": {
     "base_uri": "https://localhost:8080/",
     "height": 35
    },
    "height": 30,
    "id": "69756d79-ec2f-4185-89af-d14de817fc27",
    "outputId": "d0ffb35f-4847-4d38-a43f-6bdc1efc7710"
   },
   "outputs": [
    {
     "data": {
      "application/vnd.google.colaboratory.intrinsic+json": {
       "type": "string"
      },
      "text/plain": [
       "'Run Wikipedia search and get page summaries.'"
      ]
     },
     "execution_count": 21,
     "metadata": {},
     "output_type": "execute_result"
    }
   ],
   "source": [
    "search_wikipedia.description"
   ]
  },
  {
   "cell_type": "code",
   "execution_count": 22,
   "id": "d5b876cd-cc6c-484d-a3fa-d8810e22d564",
   "metadata": {
    "colab": {
     "base_uri": "https://localhost:8080/"
    },
    "height": 30,
    "id": "d5b876cd-cc6c-484d-a3fa-d8810e22d564",
    "outputId": "10f27b8c-aecf-4690-8686-7b2f06f076ab"
   },
   "outputs": [
    {
     "data": {
      "text/plain": [
       "{'name': 'search_wikipedia',\n",
       " 'description': 'Run Wikipedia search and get page summaries.',\n",
       " 'parameters': {'properties': {'query': {'type': 'string'}},\n",
       "  'required': ['query'],\n",
       "  'type': 'object'}}"
      ]
     },
     "execution_count": 22,
     "metadata": {},
     "output_type": "execute_result"
    }
   ],
   "source": [
    "format_tool_to_openai_function(search_wikipedia)\n",
    "# convert to an open ai fucntion format"
   ]
  },
  {
   "cell_type": "code",
   "execution_count": 23,
   "id": "6dfb10e9-5d1e-474a-9c8f-7abdf7939a34",
   "metadata": {
    "colab": {
     "base_uri": "https://localhost:8080/",
     "height": 178
    },
    "height": 30,
    "id": "6dfb10e9-5d1e-474a-9c8f-7abdf7939a34",
    "outputId": "0842fdfd-e11f-4b7d-918d-eafa12eb3bdb",
    "scrolled": true
   },
   "outputs": [
    {
     "data": {
      "application/vnd.google.colaboratory.intrinsic+json": {
       "type": "string"
      },
      "text/plain": [
       "\"Page: LangChain\\nSummary: LangChain is a framework designed to simplify the creation of applications using large language models (LLMs). As a language model integration framework, LangChain's use-cases largely overlap with those of language models in general, including document analysis and summarization, chatbots, and code analysis.\\n\\nPage: Retrieval-augmented generation\\nSummary: Retrieval augmented generation (RAG) is a type of generative artificial intelligence that has information retrieval capabilities. It modifies interactions with a large language model (LLM) so that the model responds to user queries with reference to a specified set of documents, using this information in preference to information drawn from its own vast, static training data. This allows LLMs to use domain-specific and/or updated information.  \\nUse cases include providing chatbot access to internal company data, or giving factual information only from an authoritative source.\\n\\nPage: DataStax\\nSummary: DataStax, Inc. is a real-time data for AI company based in Santa Clara, California. Its product Astra DB is a cloud database-as-a-service based on Apache Cassandra. DataStax also offers DataStax Enterprise (DSE), an on-premises database built on Apache Cassandra, and Astra Streaming, a messaging and event streaming cloud service based on Apache Pulsar. As of June 2022, the company has roughly 800 customers distributed in over 50 countries.\\n\\n\""
      ]
     },
     "execution_count": 23,
     "metadata": {},
     "output_type": "execute_result"
    }
   ],
   "source": [
    "search_wikipedia({\"query\": \"langchain\"})"
   ]
  },
  {
   "cell_type": "code",
   "execution_count": 24,
   "id": "v2sKcPwa8GiP",
   "metadata": {
    "colab": {
     "base_uri": "https://localhost:8080/",
     "height": 178
    },
    "id": "v2sKcPwa8GiP",
    "outputId": "4be7d876-0b12-41ec-b96e-45d773b25c09"
   },
   "outputs": [
    {
     "data": {
      "application/vnd.google.colaboratory.intrinsic+json": {
       "type": "string"
      },
      "text/plain": [
       "\"Page: The Substance\\nSummary: The Substance is a 2024 satirical body horror film co-produced, written and directed by Coralie Fargeat. The film stars Demi Moore, Margaret Qualley and Dennis Quaid. An international co-production between the United Kingdom, the United States and France, its plot follows a fading celebrity (Moore) who decides to use a black market drug, a cell-replicating substance that temporarily creates a younger, better version of herself (Qualley), unknowingly giving herself horrifying side effects.\\nThe Substance premiered on 19 May 2024 at the 77th Cannes Film Festival, and was selected to compete for the Palme d'Or in its main competition section, where Fargeat won Best Screenplay. It was released theatrically in the United Kingdom and the United States by Mubi on 20 September 2024, and is scheduled to be released in France by Metropolitan Filmexport on 6 November 2024.\\n\\nPage: Arkansas (film)\\nSummary: Arkansas is a 2020 American neo-noir crime thriller film directed by Clark Duke in his directorial debut, from a screenplay he wrote with Andrew Boonkrong. It stars Liam Hemsworth, Clark Duke, Michael Kenneth Williams, Vivica A. Fox, Eden Brolin, Chandler Duke, John Malkovich and Vince Vaughn. It is based on the novel Arkansas by John Brandon.\\n\\nPage: Margaret Qualley\\nSummary: Sarah Margaret Qualley (born October 23, 1994) is an American actress. A daughter of actress Andie MacDowell, she trained as a ballerina in her youth. She made her acting debut in the 2013 drama film Palo Alto and gained recognition for her supporting role in the HBO drama series The Leftovers (2014–2017).\\nQualley then appeared in films such as The Nice Guys (2016), Death Note (2017), and Once Upon a Time in Hollywood (2019), and performed in the video game Death Stranding (2019). She received critical acclaim and nominations for Primetime Emmy Awards for playing Ann Reinking in the FX biographical miniseries Fosse/Verdon (2019) and the title role in the Netflix drama miniseries Maid (2021). Qualley has since appeared in Yorgos Lanthimos' films Poor Things (2023) and Kinds of Kindness (2024), as well as the body horror film The Substance (2024). \\n\\n\""
      ]
     },
     "execution_count": 24,
     "metadata": {},
     "output_type": "execute_result"
    }
   ],
   "source": [
    "search_wikipedia({\"query\": \"The Substance (movie)\"})\n",
    "\n",
    "## indeed the first paragraphs of the wiki contents"
   ]
  },
  {
   "cell_type": "markdown",
   "id": "Grrpw9669Lmm",
   "metadata": {
    "id": "Grrpw9669Lmm"
   },
   "source": [
    "## so far we've done is to create a function in notebook and then create an openai function using the function we just created.\n",
    "## often times, fucntions we want to interact with apis\n",
    "## so now, we can use open apis to interact with openai function calls\n",
    "\n",
    "### this section not working very well.... because some package issues"
   ]
  },
  {
   "cell_type": "code",
   "execution_count": 100,
   "id": "DAifeElsDy3D",
   "metadata": {
    "id": "DAifeElsDy3D"
   },
   "outputs": [],
   "source": [
    "# !pip uninstall langchain langchain-community langsmith\n",
    "# !pip install langchain==0.3.0 langchain-community==0.3.0 langsmith==0.1.125\n",
    "# !pip show langchain langchain-community langsmith\n",
    "# !pip install langchain==0.0.312\n",
    "# !pip install pydantic==1.10.8"
   ]
  },
  {
   "cell_type": "code",
   "execution_count": 101,
   "id": "zBx1EPnU9LFq",
   "metadata": {
    "id": "zBx1EPnU9LFq"
   },
   "outputs": [],
   "source": [
    "# !pip install -U langchain-community\n",
    "# !pip install openapi-schema-pydantic==1.2.4\n",
    "# !pip install langchain==0.0.312"
   ]
  },
  {
   "cell_type": "code",
   "execution_count": 43,
   "id": "54cbe57e-f64c-4392-bcdd-9621fe1e46e5",
   "metadata": {
    "height": 62,
    "id": "54cbe57e-f64c-4392-bcdd-9621fe1e46e5"
   },
   "outputs": [],
   "source": [
    "from langchain.chains.openai_functions.openapi import openapi_spec_to_openai_fn\n",
    "from langchain.utilities.openapi import OpenAPISpec\n"
   ]
  },
  {
   "cell_type": "code",
   "execution_count": 27,
   "id": "7fe38e50-874c-49bd-8681-f95dcab0b464",
   "metadata": {
    "height": 3105,
    "id": "7fe38e50-874c-49bd-8681-f95dcab0b464"
   },
   "outputs": [],
   "source": [
    "text = \"\"\"\n",
    "{\n",
    "  \"openapi\": \"3.0.0\",\n",
    "  \"info\": {\n",
    "    \"version\": \"1.0.0\",\n",
    "    \"title\": \"Swagger Petstore\",\n",
    "    \"license\": {\n",
    "      \"name\": \"MIT\"\n",
    "    }\n",
    "  },\n",
    "  \"servers\": [\n",
    "    {\n",
    "      \"url\": \"http://petstore.swagger.io/v1\"\n",
    "    }\n",
    "  ],\n",
    "  \"paths\": {\n",
    "    \"/pets\": {\n",
    "      \"get\": {\n",
    "        \"summary\": \"List all pets\",\n",
    "        \"operationId\": \"listPets\",\n",
    "        \"tags\": [\n",
    "          \"pets\"\n",
    "        ],\n",
    "        \"parameters\": [\n",
    "          {\n",
    "            \"name\": \"limit\",\n",
    "            \"in\": \"query\",\n",
    "            \"description\": \"How many items to return at one time (max 100)\",\n",
    "            \"required\": false,\n",
    "            \"schema\": {\n",
    "              \"type\": \"integer\",\n",
    "              \"maximum\": 100,\n",
    "              \"format\": \"int32\"\n",
    "            }\n",
    "          }\n",
    "        ],\n",
    "        \"responses\": {\n",
    "          \"200\": {\n",
    "            \"description\": \"A paged array of pets\",\n",
    "            \"headers\": {\n",
    "              \"x-next\": {\n",
    "                \"description\": \"A link to the next page of responses\",\n",
    "                \"schema\": {\n",
    "                  \"type\": \"string\"\n",
    "                }\n",
    "              }\n",
    "            },\n",
    "            \"content\": {\n",
    "              \"application/json\": {\n",
    "                \"schema\": {\n",
    "                  \"$ref\": \"#/components/schemas/Pets\"\n",
    "                }\n",
    "              }\n",
    "            }\n",
    "          },\n",
    "          \"default\": {\n",
    "            \"description\": \"unexpected error\",\n",
    "            \"content\": {\n",
    "              \"application/json\": {\n",
    "                \"schema\": {\n",
    "                  \"$ref\": \"#/components/schemas/Error\"\n",
    "                }\n",
    "              }\n",
    "            }\n",
    "          }\n",
    "        }\n",
    "      },\n",
    "      \"post\": {\n",
    "        \"summary\": \"Create a pet\",\n",
    "        \"operationId\": \"createPets\",\n",
    "        \"tags\": [\n",
    "          \"pets\"\n",
    "        ],\n",
    "        \"responses\": {\n",
    "          \"201\": {\n",
    "            \"description\": \"Null response\"\n",
    "          },\n",
    "          \"default\": {\n",
    "            \"description\": \"unexpected error\",\n",
    "            \"content\": {\n",
    "              \"application/json\": {\n",
    "                \"schema\": {\n",
    "                  \"$ref\": \"#/components/schemas/Error\"\n",
    "                }\n",
    "              }\n",
    "            }\n",
    "          }\n",
    "        }\n",
    "      }\n",
    "    },\n",
    "    \"/pets/{petId}\": {\n",
    "      \"get\": {\n",
    "        \"summary\": \"Info for a specific pet\",\n",
    "        \"operationId\": \"showPetById\",\n",
    "        \"tags\": [\n",
    "          \"pets\"\n",
    "        ],\n",
    "        \"parameters\": [\n",
    "          {\n",
    "            \"name\": \"petId\",\n",
    "            \"in\": \"path\",\n",
    "            \"required\": true,\n",
    "            \"description\": \"The id of the pet to retrieve\",\n",
    "            \"schema\": {\n",
    "              \"type\": \"string\"\n",
    "            }\n",
    "          }\n",
    "        ],\n",
    "        \"responses\": {\n",
    "          \"200\": {\n",
    "            \"description\": \"Expected response to a valid request\",\n",
    "            \"content\": {\n",
    "              \"application/json\": {\n",
    "                \"schema\": {\n",
    "                  \"$ref\": \"#/components/schemas/Pet\"\n",
    "                }\n",
    "              }\n",
    "            }\n",
    "          },\n",
    "          \"default\": {\n",
    "            \"description\": \"unexpected error\",\n",
    "            \"content\": {\n",
    "              \"application/json\": {\n",
    "                \"schema\": {\n",
    "                  \"$ref\": \"#/components/schemas/Error\"\n",
    "                }\n",
    "              }\n",
    "            }\n",
    "          }\n",
    "        }\n",
    "      }\n",
    "    }\n",
    "  },\n",
    "  \"components\": {\n",
    "    \"schemas\": {\n",
    "      \"Pet\": {\n",
    "        \"type\": \"object\",\n",
    "        \"required\": [\n",
    "          \"id\",\n",
    "          \"name\"\n",
    "        ],\n",
    "        \"properties\": {\n",
    "          \"id\": {\n",
    "            \"type\": \"integer\",\n",
    "            \"format\": \"int64\"\n",
    "          },\n",
    "          \"name\": {\n",
    "            \"type\": \"string\"\n",
    "          },\n",
    "          \"tag\": {\n",
    "            \"type\": \"string\"\n",
    "          }\n",
    "        }\n",
    "      },\n",
    "      \"Pets\": {\n",
    "        \"type\": \"array\",\n",
    "        \"maxItems\": 100,\n",
    "        \"items\": {\n",
    "          \"$ref\": \"#/components/schemas/Pet\"\n",
    "        }\n",
    "      },\n",
    "      \"Error\": {\n",
    "        \"type\": \"object\",\n",
    "        \"required\": [\n",
    "          \"code\",\n",
    "          \"message\"\n",
    "        ],\n",
    "        \"properties\": {\n",
    "          \"code\": {\n",
    "            \"type\": \"integer\",\n",
    "            \"format\": \"int32\"\n",
    "          },\n",
    "          \"message\": {\n",
    "            \"type\": \"string\"\n",
    "          }\n",
    "        }\n",
    "      }\n",
    "    }\n",
    "  }\n",
    "}\n",
    "\"\"\""
   ]
  },
  {
   "cell_type": "code",
   "execution_count": 28,
   "id": "T30am1lk-C06",
   "metadata": {
    "id": "T30am1lk-C06"
   },
   "outputs": [],
   "source": [
    "# !pip install --upgrade pydantic==1.2"
   ]
  },
  {
   "cell_type": "code",
   "execution_count": 29,
   "id": "c7EV5bko-sC1",
   "metadata": {
    "id": "c7EV5bko-sC1"
   },
   "outputs": [],
   "source": [
    "# openapi-schema-pydantic = {version = \"^1.2\", optional = true}"
   ]
  },
  {
   "cell_type": "code",
   "execution_count": 38,
   "id": "fQ4MpgIP-bz6",
   "metadata": {
    "id": "fQ4MpgIP-bz6"
   },
   "outputs": [],
   "source": [
    "# # has to implement these lines of codes so the next line of code does not throw erros:\n",
    "# # source: https://github.com/langchain-ai/langchain/issues/9520\n",
    "# @classmethod\n",
    "# def parse_obj(cls, obj: dict) -> OpenAPISpec:\n",
    "#     try:\n",
    "#         cls._alert_unsupported_spec(obj)\n",
    "#         return super().parse_obj(obj)\n",
    "#     except ValidationError as e:\n",
    "#         # We are handling possibly misconfigured specs and\n",
    "#         # want to do a best-effort job to get a reasonable interface out of it.\n",
    "#         new_obj = copy.deepcopy(obj)\n",
    "#         for error in e.errors():\n",
    "#             keys = error[\"loc\"]\n",
    "#             item = new_obj\n",
    "#             for key in keys[:-1]:\n",
    "#                 item = item[key]\n",
    "#             item.pop(keys[-1], None)\n",
    "#         return cls.parse_obj(new_obj)"
   ]
  },
  {
   "cell_type": "code",
   "execution_count": 31,
   "id": "DL6pnQT8Bmzl",
   "metadata": {
    "id": "DL6pnQT8Bmzl"
   },
   "outputs": [],
   "source": [
    "# !pip install openapi-schema-pydantic==1.2.4\n",
    "# !pip install pydantic==1.10.8\n",
    "# !pip install langchain==0.0.312\n",
    "# the only working way to solve this issue"
   ]
  },
  {
   "cell_type": "code",
   "execution_count": 32,
   "id": "X8SycLD7_hyd",
   "metadata": {
    "id": "X8SycLD7_hyd"
   },
   "outputs": [],
   "source": [
    "# llm = openai(\n",
    "#       model_name=\"gpt-4\",\n",
    "#       temperature=0,\n",
    "#       openai_api_key= OPENAI_API_KEY,\n",
    "#   )\n",
    "\n",
    "# memory = ConversationBufferMemory(memory_key=\"chat_history\", return_messages=True)\n",
    "# analytics_toolkit = NLAToolkit.from_llm_and_spec(\n",
    "#       llm, OpenAPISpec.from_spec_dict(api_spec)\n",
    "#   )\n",
    "\n",
    "# !pip install --upgrade langchain_community"
   ]
  },
  {
   "cell_type": "code",
   "execution_count": 33,
   "id": "dnx5Y_WOBAPw",
   "metadata": {
    "id": "dnx5Y_WOBAPw"
   },
   "outputs": [],
   "source": [
    "# alternative way to parse openai\n",
    "\n",
    "# !pip install openapi-spec-validator\n"
   ]
  },
  {
   "cell_type": "code",
   "execution_count": 34,
   "id": "0ADpgpvPBIFA",
   "metadata": {
    "id": "0ADpgpvPBIFA"
   },
   "outputs": [],
   "source": [
    "# from openapi_spec_validator import validate_spec\n",
    "# import json\n",
    "\n",
    "# openapi_spec = json.loads(text)\n",
    "# validate_spec(openapi_spec)\n"
   ]
  },
  {
   "cell_type": "code",
   "execution_count": 83,
   "id": "laBP7Md5CKt3",
   "metadata": {
    "id": "laBP7Md5CKt3"
   },
   "outputs": [],
   "source": [
    "# !pip install openapi-schema-pydantic==1.2.4\n"
   ]
  },
  {
   "cell_type": "code",
   "execution_count": 68,
   "id": "653156d4-d6a4-499b-aab3-cf4f7b1f0c47",
   "metadata": {
    "height": 30,
    "id": "653156d4-d6a4-499b-aab3-cf4f7b1f0c47"
   },
   "outputs": [],
   "source": [
    "# spec = OpenAPISpec.from_text(text)\n",
    "# # spec = OpenAPISpec.from_text(text)\n",
    "\n",
    "# # # AttributeError: 'super' object has no attribute 'parse_obj'"
   ]
  },
  {
   "cell_type": "code",
   "execution_count": null,
   "id": "d9ba6100-3c88-4b05-af93-784b57bf7424",
   "metadata": {
    "height": 45,
    "id": "d9ba6100-3c88-4b05-af93-784b57bf7424"
   },
   "outputs": [],
   "source": [
    "# pet_openai_functions, pet_callables = openapi_spec_to_openai_fn(openapi_spec)"
   ]
  },
  {
   "cell_type": "code",
   "execution_count": null,
   "id": "91199697-c662-438f-8c68-e6daa8aad07d",
   "metadata": {
    "height": 30,
    "id": "91199697-c662-438f-8c68-e6daa8aad07d"
   },
   "outputs": [],
   "source": [
    "# pet_openai_functions"
   ]
  },
  {
   "cell_type": "code",
   "execution_count": 84,
   "id": "ae8b3c1b-7a30-4b1b-abfd-e56f90b1d166",
   "metadata": {
    "height": 30,
    "id": "ae8b3c1b-7a30-4b1b-abfd-e56f90b1d166"
   },
   "outputs": [],
   "source": [
    "# from langchain.chat_models import ChatOpenAI"
   ]
  },
  {
   "cell_type": "code",
   "execution_count": 66,
   "id": "doEqmxfdEiKK",
   "metadata": {
    "id": "doEqmxfdEiKK"
   },
   "outputs": [],
   "source": [
    "# from langchain.chat_models import ChatOpenAI\n"
   ]
  },
  {
   "cell_type": "code",
   "execution_count": 85,
   "id": "ib6pBxaVEnQ7",
   "metadata": {
    "id": "ib6pBxaVEnQ7"
   },
   "outputs": [],
   "source": [
    "# !pip uninstall langchain\n",
    "# !pip install langchain==0.3.0"
   ]
  },
  {
   "cell_type": "code",
   "execution_count": null,
   "id": "ed100888-f3d4-4739-bba5-f839033850a3",
   "metadata": {
    "height": 45,
    "id": "ed100888-f3d4-4739-bba5-f839033850a3"
   },
   "outputs": [],
   "source": [
    "# model = ChatOpenAI(temperature=0).bind(functions=pet_openai_functions)"
   ]
  },
  {
   "cell_type": "code",
   "execution_count": null,
   "id": "4063cdea-627c-4cc1-a2b5-9b5b6dcf179e",
   "metadata": {
    "height": 30,
    "id": "4063cdea-627c-4cc1-a2b5-9b5b6dcf179e"
   },
   "outputs": [],
   "source": [
    "# model.invoke(\"what are three pets names\")"
   ]
  },
  {
   "cell_type": "code",
   "execution_count": null,
   "id": "3a1f5534-cf06-4baf-b710-f169ea7434ac",
   "metadata": {
    "height": 30,
    "id": "3a1f5534-cf06-4baf-b710-f169ea7434ac"
   },
   "outputs": [],
   "source": [
    "# model.invoke(\"tell me about pet with id 42\")"
   ]
  },
  {
   "cell_type": "markdown",
   "id": "198b21dd-c9de-491d-9a0c-71ae56727689",
   "metadata": {
    "id": "198b21dd-c9de-491d-9a0c-71ae56727689"
   },
   "source": [
    "### Routing\n",
    "\n",
    "In lesson 3, we show an example of function calling deciding between two candidate functions.\n",
    "\n",
    "Given our tools above, let's format these as OpenAI functions and show this same behavior."
   ]
  },
  {
   "cell_type": "code",
   "execution_count": 102,
   "id": "OxFOMyvJGwBC",
   "metadata": {
    "id": "OxFOMyvJGwBC"
   },
   "outputs": [],
   "source": [
    "from langchain.chat_models import ChatOpenAI\n"
   ]
  },
  {
   "cell_type": "code",
   "execution_count": 135,
   "id": "8137758c-c5d3-47df-9062-5e31d43657e7",
   "metadata": {
    "height": 115,
    "id": "8137758c-c5d3-47df-9062-5e31d43657e7"
   },
   "outputs": [],
   "source": [
    "functions = [\n",
    "    format_tool_to_openai_function(f) for f in [\n",
    "        search_wikipedia, get_current_temperature, convert_currency\n",
    "    ]\n",
    "]\n",
    "model = ChatOpenAI(temperature=0, openai_api_key = OPENAI_API_KEY).bind(functions=functions)"
   ]
  },
  {
   "cell_type": "code",
   "execution_count": 71,
   "id": "99120542-36bc-4ed1-aa9e-e2294e282c81",
   "metadata": {
    "colab": {
     "base_uri": "https://localhost:8080/"
    },
    "height": 30,
    "id": "99120542-36bc-4ed1-aa9e-e2294e282c81",
    "outputId": "be0de5b4-4652-4b4c-eccf-4d86487345ea"
   },
   "outputs": [
    {
     "data": {
      "text/plain": [
       "AIMessage(content='', additional_kwargs={'function_call': {'arguments': '{\"latitude\":37.7749,\"longitude\":-122.4194}', 'name': 'get_current_temperature'}}, response_metadata={'token_usage': {'completion_tokens': 25, 'prompt_tokens': 105, 'total_tokens': 130, 'completion_tokens_details': {'reasoning_tokens': 0}}, 'model_name': 'gpt-3.5-turbo', 'system_fingerprint': None, 'finish_reason': 'function_call', 'logprobs': None}, id='run-02b09d7b-cb65-4607-a1b6-4ca55d7ded59-0')"
      ]
     },
     "execution_count": 71,
     "metadata": {},
     "output_type": "execute_result"
    }
   ],
   "source": [
    "model.invoke(\"what is the weather in sf right now\")"
   ]
  },
  {
   "cell_type": "code",
   "execution_count": 72,
   "id": "a20047d9-4b34-4e6c-9407-570af1559bc8",
   "metadata": {
    "colab": {
     "base_uri": "https://localhost:8080/"
    },
    "height": 30,
    "id": "a20047d9-4b34-4e6c-9407-570af1559bc8",
    "outputId": "8703c612-538f-4bf6-93d9-461192a75353"
   },
   "outputs": [
    {
     "data": {
      "text/plain": [
       "AIMessage(content='', additional_kwargs={'function_call': {'arguments': '{\"query\":\"Langchain\"}', 'name': 'search_wikipedia'}}, response_metadata={'token_usage': {'completion_tokens': 16, 'prompt_tokens': 101, 'total_tokens': 117, 'completion_tokens_details': {'reasoning_tokens': 0}}, 'model_name': 'gpt-3.5-turbo', 'system_fingerprint': None, 'finish_reason': 'function_call', 'logprobs': None}, id='run-2c38c099-d648-4b49-b7c3-189c14327502-0')"
      ]
     },
     "execution_count": 72,
     "metadata": {},
     "output_type": "execute_result"
    }
   ],
   "source": [
    "model.invoke(\"what is langchain\")"
   ]
  },
  {
   "cell_type": "code",
   "execution_count": 136,
   "id": "H2B1gkuPKqxG",
   "metadata": {
    "colab": {
     "base_uri": "https://localhost:8080/"
    },
    "id": "H2B1gkuPKqxG",
    "outputId": "45e3c7fb-3547-4085-f4b9-2e89ab7f2fec"
   },
   "outputs": [
    {
     "data": {
      "text/plain": [
       "AIMessage(content='', additional_kwargs={'function_call': {'arguments': '{\"from_currency\":\"USD\",\"to_currency\":\"CNY\",\"amount\":100}', 'name': 'convert_currency'}}, response_metadata={'token_usage': {'completion_tokens': 25, 'prompt_tokens': 185, 'total_tokens': 210, 'completion_tokens_details': {'reasoning_tokens': 0}}, 'model_name': 'gpt-3.5-turbo', 'system_fingerprint': None, 'finish_reason': 'function_call', 'logprobs': None}, id='run-0abcbb20-2267-4b39-b88d-738cbb80d8ac-0')"
      ]
     },
     "execution_count": 136,
     "metadata": {},
     "output_type": "execute_result"
    }
   ],
   "source": [
    "model.invoke(\"how much is 100 USD worth in CNY?\")"
   ]
  },
  {
   "cell_type": "code",
   "execution_count": 137,
   "id": "831a0506-1d5c-4bc3-b67f-24e201a4fa6d",
   "metadata": {
    "height": 115,
    "id": "831a0506-1d5c-4bc3-b67f-24e201a4fa6d"
   },
   "outputs": [],
   "source": [
    "from langchain.prompts import ChatPromptTemplate\n",
    "prompt = ChatPromptTemplate.from_messages([\n",
    "    (\"system\", \"You are a helpful but sassy assistant\"),\n",
    "    (\"user\", \"{input}\"),\n",
    "])\n",
    "chain = prompt | model"
   ]
  },
  {
   "cell_type": "code",
   "execution_count": 74,
   "id": "d9c32ccc-6691-4dd5-98dc-aabf02563ad5",
   "metadata": {
    "colab": {
     "base_uri": "https://localhost:8080/"
    },
    "height": 45,
    "id": "d9c32ccc-6691-4dd5-98dc-aabf02563ad5",
    "outputId": "c0e26618-7e72-4b73-959b-aba6d11ab89f"
   },
   "outputs": [
    {
     "data": {
      "text/plain": [
       "AIMessage(content='', additional_kwargs={'function_call': {'arguments': '{\"latitude\":37.7749,\"longitude\":-122.4194}', 'name': 'get_current_temperature'}}, response_metadata={'token_usage': {'completion_tokens': 25, 'prompt_tokens': 113, 'total_tokens': 138, 'completion_tokens_details': {'reasoning_tokens': 0}}, 'model_name': 'gpt-3.5-turbo', 'system_fingerprint': None, 'finish_reason': 'function_call', 'logprobs': None}, id='run-d0b9ccac-9bed-418f-bb3a-fcbf8edc5f63-0')"
      ]
     },
     "execution_count": 74,
     "metadata": {},
     "output_type": "execute_result"
    }
   ],
   "source": [
    "chain.invoke({\"input\": \"what is the weather in sf right now\"})"
   ]
  },
  {
   "cell_type": "code",
   "execution_count": 138,
   "id": "8_IQf5T2Kyeu",
   "metadata": {
    "colab": {
     "base_uri": "https://localhost:8080/"
    },
    "id": "8_IQf5T2Kyeu",
    "outputId": "08936318-f64c-4a37-8702-704bb3f815e9"
   },
   "outputs": [
    {
     "data": {
      "text/plain": [
       "AIMessage(content='', additional_kwargs={'function_call': {'arguments': '{\"from_currency\":\"CNY\",\"to_currency\":\"USD\",\"amount\":100}', 'name': 'convert_currency'}}, response_metadata={'token_usage': {'completion_tokens': 25, 'prompt_tokens': 194, 'total_tokens': 219, 'completion_tokens_details': {'reasoning_tokens': 0}}, 'model_name': 'gpt-3.5-turbo', 'system_fingerprint': None, 'finish_reason': 'function_call', 'logprobs': None}, id='run-c2a3c363-b562-4aad-8c85-0f65f94b587d-0')"
      ]
     },
     "execution_count": 138,
     "metadata": {},
     "output_type": "execute_result"
    }
   ],
   "source": [
    "# convert_currency\n",
    "\n",
    "chain.invoke({\"input\": \"How much is 100 CNY worth in USD?\"})"
   ]
  },
  {
   "cell_type": "code",
   "execution_count": 75,
   "id": "921e808c-6618-4d2f-85df-1f3089497724",
   "metadata": {
    "height": 45,
    "id": "921e808c-6618-4d2f-85df-1f3089497724"
   },
   "outputs": [],
   "source": [
    "from langchain.agents.output_parsers import OpenAIFunctionsAgentOutputParser"
   ]
  },
  {
   "cell_type": "code",
   "execution_count": 76,
   "id": "094baef1-4140-41f4-9111-ff9710826e6b",
   "metadata": {
    "height": 30,
    "id": "094baef1-4140-41f4-9111-ff9710826e6b"
   },
   "outputs": [],
   "source": [
    "chain = prompt | model | OpenAIFunctionsAgentOutputParser()"
   ]
  },
  {
   "cell_type": "code",
   "execution_count": 139,
   "id": "f105e8e8-d418-4d4a-95eb-52636d4e890f",
   "metadata": {
    "height": 45,
    "id": "f105e8e8-d418-4d4a-95eb-52636d4e890f"
   },
   "outputs": [],
   "source": [
    "result = chain.invoke({\"input\": \"what is the weather in sf right now\"})"
   ]
  },
  {
   "cell_type": "code",
   "execution_count": 78,
   "id": "409b26c0-a1e0-4225-ae2e-396c1f76bf0a",
   "metadata": {
    "colab": {
     "base_uri": "https://localhost:8080/",
     "height": 187
    },
    "height": 30,
    "id": "409b26c0-a1e0-4225-ae2e-396c1f76bf0a",
    "outputId": "c57e3a78-dd3e-4e87-9ac3-fb9917c015d0"
   },
   "outputs": [
    {
     "data": {
      "text/html": [
       "<div style=\"max-width:800px; border: 1px solid var(--colab-border-color);\"><style>\n",
       "      pre.function-repr-contents {\n",
       "        overflow-x: auto;\n",
       "        padding: 8px 12px;\n",
       "        max-height: 500px;\n",
       "      }\n",
       "\n",
       "      pre.function-repr-contents.function-repr-contents-collapsed {\n",
       "        cursor: pointer;\n",
       "        max-height: 100px;\n",
       "      }\n",
       "    </style>\n",
       "    <pre style=\"white-space: initial; background:\n",
       "         var(--colab-secondary-surface-color); padding: 8px 12px;\n",
       "         border-bottom: 1px solid var(--colab-border-color);\"><b>langchain_core.agents.AgentActionMessageLog</b><br/>def __init__(tool: str, tool_input: Union[str, dict], log: str, **kwargs: Any)</pre><pre class=\"function-repr-contents function-repr-contents-collapsed\" style=\"\"><a class=\"filepath\" style=\"display:none\" href=\"#\">/usr/local/lib/python3.10/dist-packages/langchain_core/agents.py</a>Representation of an action to be executed by an agent.\n",
       "\n",
       "This is similar to AgentAction, but includes a message log consisting of\n",
       "chat messages. This is useful when working with ChatModels, and is used\n",
       "to reconstruct conversation history from the agent&#x27;s perspective.</pre>\n",
       "      <script>\n",
       "      if (google.colab.kernel.accessAllowed && google.colab.files && google.colab.files.view) {\n",
       "        for (const element of document.querySelectorAll('.filepath')) {\n",
       "          element.style.display = 'block'\n",
       "          element.onclick = (event) => {\n",
       "            event.preventDefault();\n",
       "            event.stopPropagation();\n",
       "            google.colab.files.view(element.textContent, 86);\n",
       "          };\n",
       "        }\n",
       "      }\n",
       "      for (const element of document.querySelectorAll('.function-repr-contents')) {\n",
       "        element.onclick = (event) => {\n",
       "          event.preventDefault();\n",
       "          event.stopPropagation();\n",
       "          element.classList.toggle('function-repr-contents-collapsed');\n",
       "        };\n",
       "      }\n",
       "      </script>\n",
       "      </div>"
      ],
      "text/plain": [
       "langchain_core.agents.AgentActionMessageLog"
      ]
     },
     "execution_count": 78,
     "metadata": {},
     "output_type": "execute_result"
    }
   ],
   "source": [
    "type(result)"
   ]
  },
  {
   "cell_type": "code",
   "execution_count": 79,
   "id": "9cdde008-4b11-4ab2-a01c-6ae394a7dccf",
   "metadata": {
    "colab": {
     "base_uri": "https://localhost:8080/",
     "height": 35
    },
    "height": 30,
    "id": "9cdde008-4b11-4ab2-a01c-6ae394a7dccf",
    "outputId": "ed83835e-81d5-4896-e24a-2aad06265f21"
   },
   "outputs": [
    {
     "data": {
      "application/vnd.google.colaboratory.intrinsic+json": {
       "type": "string"
      },
      "text/plain": [
       "'get_current_temperature'"
      ]
     },
     "execution_count": 79,
     "metadata": {},
     "output_type": "execute_result"
    }
   ],
   "source": [
    "result.tool"
   ]
  },
  {
   "cell_type": "code",
   "execution_count": 80,
   "id": "66ffb308-3d77-4acb-b4b5-e2b0d38f3860",
   "metadata": {
    "colab": {
     "base_uri": "https://localhost:8080/"
    },
    "height": 30,
    "id": "66ffb308-3d77-4acb-b4b5-e2b0d38f3860",
    "outputId": "9dd0179d-1bcd-4046-bcfc-df6a415c5a84"
   },
   "outputs": [
    {
     "data": {
      "text/plain": [
       "{'latitude': 37.7749, 'longitude': -122.4194}"
      ]
     },
     "execution_count": 80,
     "metadata": {},
     "output_type": "execute_result"
    }
   ],
   "source": [
    "result.tool_input"
   ]
  },
  {
   "cell_type": "code",
   "execution_count": 81,
   "id": "07e661b1-6d0d-43b9-9de4-19c6cceff291",
   "metadata": {
    "colab": {
     "base_uri": "https://localhost:8080/",
     "height": 35
    },
    "height": 30,
    "id": "07e661b1-6d0d-43b9-9de4-19c6cceff291",
    "outputId": "c78fac0d-095a-49a5-d815-6f0b0e322a79"
   },
   "outputs": [
    {
     "data": {
      "application/vnd.google.colaboratory.intrinsic+json": {
       "type": "string"
      },
      "text/plain": [
       "'The current temperature is 14.0°C'"
      ]
     },
     "execution_count": 81,
     "metadata": {},
     "output_type": "execute_result"
    }
   ],
   "source": [
    "get_current_temperature(result.tool_input)"
   ]
  },
  {
   "cell_type": "code",
   "execution_count": 82,
   "id": "057e3072-a203-4a5e-b1f6-b250cd7bd33b",
   "metadata": {
    "height": 30,
    "id": "057e3072-a203-4a5e-b1f6-b250cd7bd33b"
   },
   "outputs": [],
   "source": [
    "result = chain.invoke({\"input\": \"hi!\"})"
   ]
  },
  {
   "cell_type": "code",
   "execution_count": 86,
   "id": "5be6bc0f-5b81-49fa-ac16-b8896847d87a",
   "metadata": {
    "colab": {
     "base_uri": "https://localhost:8080/",
     "height": 156
    },
    "height": 30,
    "id": "5be6bc0f-5b81-49fa-ac16-b8896847d87a",
    "outputId": "465127f6-f892-48a4-d53e-4c421afa5943"
   },
   "outputs": [
    {
     "data": {
      "text/html": [
       "<div style=\"max-width:800px; border: 1px solid var(--colab-border-color);\"><style>\n",
       "      pre.function-repr-contents {\n",
       "        overflow-x: auto;\n",
       "        padding: 8px 12px;\n",
       "        max-height: 500px;\n",
       "      }\n",
       "\n",
       "      pre.function-repr-contents.function-repr-contents-collapsed {\n",
       "        cursor: pointer;\n",
       "        max-height: 100px;\n",
       "      }\n",
       "    </style>\n",
       "    <pre style=\"white-space: initial; background:\n",
       "         var(--colab-secondary-surface-color); padding: 8px 12px;\n",
       "         border-bottom: 1px solid var(--colab-border-color);\"><b>langchain_core.agents.AgentFinish</b><br/>def __init__(return_values: dict, log: str, **kwargs: Any)</pre><pre class=\"function-repr-contents function-repr-contents-collapsed\" style=\"\"><a class=\"filepath\" style=\"display:none\" href=\"#\">/usr/local/lib/python3.10/dist-packages/langchain_core/agents.py</a>Final return value of an ActionAgent.\n",
       "\n",
       "Agents return an AgentFinish when they have reached a stopping condition.</pre>\n",
       "      <script>\n",
       "      if (google.colab.kernel.accessAllowed && google.colab.files && google.colab.files.view) {\n",
       "        for (const element of document.querySelectorAll('.filepath')) {\n",
       "          element.style.display = 'block'\n",
       "          element.onclick = (event) => {\n",
       "            event.preventDefault();\n",
       "            event.stopPropagation();\n",
       "            google.colab.files.view(element.textContent, 122);\n",
       "          };\n",
       "        }\n",
       "      }\n",
       "      for (const element of document.querySelectorAll('.function-repr-contents')) {\n",
       "        element.onclick = (event) => {\n",
       "          event.preventDefault();\n",
       "          event.stopPropagation();\n",
       "          element.classList.toggle('function-repr-contents-collapsed');\n",
       "        };\n",
       "      }\n",
       "      </script>\n",
       "      </div>"
      ],
      "text/plain": [
       "langchain_core.agents.AgentFinish"
      ]
     },
     "execution_count": 86,
     "metadata": {},
     "output_type": "execute_result"
    }
   ],
   "source": [
    "type(result)"
   ]
  },
  {
   "cell_type": "code",
   "execution_count": 87,
   "id": "dd128d20-f552-4cc5-a45e-f47b58c9982b",
   "metadata": {
    "colab": {
     "base_uri": "https://localhost:8080/"
    },
    "height": 30,
    "id": "dd128d20-f552-4cc5-a45e-f47b58c9982b",
    "outputId": "3a70ba8b-24ea-452a-c48e-941be5c454fa"
   },
   "outputs": [
    {
     "data": {
      "text/plain": [
       "{'output': 'Well, hello there! How can I assist you today?'}"
      ]
     },
     "execution_count": 87,
     "metadata": {},
     "output_type": "execute_result"
    }
   ],
   "source": [
    "result.return_values"
   ]
  },
  {
   "cell_type": "code",
   "execution_count": 144,
   "id": "134f422a-b72b-40df-9552-cf9f9fc2d780",
   "metadata": {
    "height": 198,
    "id": "134f422a-b72b-40df-9552-cf9f9fc2d780"
   },
   "outputs": [],
   "source": [
    "from langchain.schema.agent import AgentFinish\n",
    "def route(result):\n",
    "    if isinstance(result, AgentFinish):\n",
    "        return result.return_values['output']\n",
    "    else:\n",
    "        tools = {\n",
    "            \"search_wikipedia\": search_wikipedia,\n",
    "            \"get_current_temperature\": get_current_temperature,\n",
    "            \"convert_currency\": convert_currency\n",
    "\n",
    "        }\n",
    "        return tools[result.tool].run(result.tool_input)"
   ]
  },
  {
   "cell_type": "code",
   "execution_count": 145,
   "id": "8fefc329-b270-4ebb-b884-430e4e541e7f",
   "metadata": {
    "height": 45,
    "id": "8fefc329-b270-4ebb-b884-430e4e541e7f"
   },
   "outputs": [],
   "source": [
    "chain = prompt | model | OpenAIFunctionsAgentOutputParser() | route"
   ]
  },
  {
   "cell_type": "code",
   "execution_count": 146,
   "id": "b2dcb4b2-0e0d-425b-bff8-db7cd33afa16",
   "metadata": {
    "height": 45,
    "id": "b2dcb4b2-0e0d-425b-bff8-db7cd33afa16"
   },
   "outputs": [],
   "source": [
    "result = chain.invoke({\"input\": \"What is the weather in san francisco right now?\"})"
   ]
  },
  {
   "cell_type": "code",
   "execution_count": 91,
   "id": "498d487b-ceba-4e9f-8a24-0f8c27438a18",
   "metadata": {
    "colab": {
     "base_uri": "https://localhost:8080/",
     "height": 35
    },
    "height": 30,
    "id": "498d487b-ceba-4e9f-8a24-0f8c27438a18",
    "outputId": "ea344aa4-cfe1-41b6-ba0f-8db309fdebba"
   },
   "outputs": [
    {
     "data": {
      "application/vnd.google.colaboratory.intrinsic+json": {
       "type": "string"
      },
      "text/plain": [
       "'The current temperature is 14.0°C'"
      ]
     },
     "execution_count": 91,
     "metadata": {},
     "output_type": "execute_result"
    }
   ],
   "source": [
    "result"
   ]
  },
  {
   "cell_type": "code",
   "execution_count": 103,
   "id": "6c93eb1b-044f-4c52-bcd4-dcd0e01f42e8",
   "metadata": {
    "height": 30,
    "id": "6c93eb1b-044f-4c52-bcd4-dcd0e01f42e8"
   },
   "outputs": [],
   "source": [
    "result = chain.invoke({\"input\": \"What is langchain?\"})"
   ]
  },
  {
   "cell_type": "code",
   "execution_count": 104,
   "id": "42b3b4DEG06B",
   "metadata": {
    "id": "42b3b4DEG06B"
   },
   "outputs": [],
   "source": [
    "result2 = chain.invoke({\"input\": \"Tell me something about the movie 'the Substance\"})"
   ]
  },
  {
   "cell_type": "code",
   "execution_count": 93,
   "id": "5c0de3e7-2367-4cef-b3dd-efa69b701061",
   "metadata": {
    "colab": {
     "base_uri": "https://localhost:8080/",
     "height": 178
    },
    "height": 30,
    "id": "5c0de3e7-2367-4cef-b3dd-efa69b701061",
    "outputId": "c47dbc83-7c6e-47d9-895c-2c9285de52ce",
    "scrolled": true
   },
   "outputs": [
    {
     "data": {
      "application/vnd.google.colaboratory.intrinsic+json": {
       "type": "string"
      },
      "text/plain": [
       "\"Page: LangChain\\nSummary: LangChain is a framework designed to simplify the creation of applications using large language models (LLMs). As a language model integration framework, LangChain's use-cases largely overlap with those of language models in general, including document analysis and summarization, chatbots, and code analysis.\\n\\nPage: Retrieval-augmented generation\\nSummary: Retrieval augmented generation (RAG) is a type of generative artificial intelligence that has information retrieval capabilities. It modifies interactions with a large language model (LLM) so that the model responds to user queries with reference to a specified set of documents, using this information in preference to information drawn from its own vast, static training data. This allows LLMs to use domain-specific and/or updated information.  \\nUse cases include providing chatbot access to internal company data, or giving factual information only from an authoritative source.\\n\\nPage: DataStax\\nSummary: DataStax, Inc. is a real-time data for AI company based in Santa Clara, California. Its product Astra DB is a cloud database-as-a-service based on Apache Cassandra. DataStax also offers DataStax Enterprise (DSE), an on-premises database built on Apache Cassandra, and Astra Streaming, a messaging and event streaming cloud service based on Apache Pulsar. As of June 2022, the company has roughly 800 customers distributed in over 50 countries.\\n\\n\""
      ]
     },
     "execution_count": 93,
     "metadata": {},
     "output_type": "execute_result"
    }
   ],
   "source": [
    "result"
   ]
  },
  {
   "cell_type": "code",
   "execution_count": 105,
   "id": "1e1570d2-6215-4f24-802d-14e75db4319a",
   "metadata": {
    "colab": {
     "base_uri": "https://localhost:8080/",
     "height": 178
    },
    "height": 30,
    "id": "1e1570d2-6215-4f24-802d-14e75db4319a",
    "outputId": "58cdb24d-dba6-4515-fc5f-9073f43bcc73"
   },
   "outputs": [
    {
     "data": {
      "application/vnd.google.colaboratory.intrinsic+json": {
       "type": "string"
      },
      "text/plain": [
       "\"Page: The Substance\\nSummary: The Substance is a 2024 satirical body horror film co-produced, written and directed by Coralie Fargeat. The film stars Demi Moore, Margaret Qualley and Dennis Quaid. An international co-production between the United Kingdom, the United States and France, its plot follows a fading celebrity (Moore) who decides to use a black market drug, a cell-replicating substance that temporarily creates a younger, better version of herself (Qualley), unknowingly giving herself horrifying side effects.\\nThe Substance premiered on 19 May 2024 at the 77th Cannes Film Festival, and was selected to compete for the Palme d'Or in its main competition section, where Fargeat won Best Screenplay. It was released theatrically in the United Kingdom and the United States by Mubi on 20 September 2024, and is scheduled to be released in France by Metropolitan Filmexport on 6 November 2024.\\n\\nPage: Arkansas (film)\\nSummary: Arkansas is a 2020 American neo-noir crime thriller film directed by Clark Duke in his directorial debut, from a screenplay he wrote with Andrew Boonkrong. It stars Liam Hemsworth, Clark Duke, Michael Kenneth Williams, Vivica A. Fox, Eden Brolin, Chandler Duke, John Malkovich and Vince Vaughn. It is based on the novel Arkansas by John Brandon.\\n\\nPage: Margaret Qualley\\nSummary: Sarah Margaret Qualley (born October 23, 1994) is an American actress. A daughter of actress Andie MacDowell, she trained as a ballerina in her youth. She made her acting debut in the 2013 drama film Palo Alto and gained recognition for her supporting role in the HBO drama series The Leftovers (2014–2017).\\nQualley then appeared in films such as The Nice Guys (2016), Death Note (2017), and Once Upon a Time in Hollywood (2019), and performed in the video game Death Stranding (2019). She received critical acclaim and nominations for Primetime Emmy Awards for playing Ann Reinking in the FX biographical miniseries Fosse/Verdon (2019) and the title role in the Netflix drama miniseries Maid (2021). Qualley has since appeared in Yorgos Lanthimos' films Poor Things (2023) and Kinds of Kindness (2024), as well as the body horror film The Substance (2024). \\n\\n\""
      ]
     },
     "execution_count": 105,
     "metadata": {},
     "output_type": "execute_result"
    }
   ],
   "source": [
    "result2\n",
    "\n",
    "# will automatically get to the wiki page"
   ]
  },
  {
   "cell_type": "code",
   "execution_count": 106,
   "id": "ca1bf47c-a050-47ab-a840-b3a67e2b69cc",
   "metadata": {
    "height": 30,
    "id": "ca1bf47c-a050-47ab-a840-b3a67e2b69cc"
   },
   "outputs": [],
   "source": [
    "result3 = chain.invoke({\"input\": \"Tell me something about the new iPhone16\"})"
   ]
  },
  {
   "cell_type": "code",
   "execution_count": 107,
   "id": "d2124caf-4362-4608-996d-5cdff95551d7",
   "metadata": {
    "colab": {
     "base_uri": "https://localhost:8080/",
     "height": 178
    },
    "height": 30,
    "id": "d2124caf-4362-4608-996d-5cdff95551d7",
    "outputId": "a8a95145-4485-44f9-d376-9f06fb3f5046"
   },
   "outputs": [
    {
     "data": {
      "application/vnd.google.colaboratory.intrinsic+json": {
       "type": "string"
      },
      "text/plain": [
       "'Page: IPhone 16\\nSummary: The iPhone 16  and iPhone 16 Plus are smartphones designed, developed, and marketed by Apple Inc. They are the eighteenth-generation iPhones, succeeding the iPhone 15 and iPhone 15 Plus. The devices were unveiled alongside the higher-priced iPhone 16 Pro and 16 Pro Max during the September 9, 2024 Apple Event at Apple Park in Cupertino, California.\\n\\n\\n\\nPage: IPhone 16 Pro\\nSummary: The iPhone 16 Pro and iPhone 16 Pro Max are smartphones designed, developed, and marketed by Apple Inc. Alongside the iPhone 16 and iPhone 16 Plus, they form the eighteenth generation of the iPhone, succeeding the iPhone 15 Pro and iPhone 15 Pro Max, and were announced on September 9, 2024, and released on September 20, 2024. The iPhone 16 Pro and iPhone 16 Pro Max include larger 6.3-inch and 6.9-inch displays, a faster processor, upgraded wide and ultra-wide cameras, support for Wi-Fi 7, larger batteries, and the iOS 18 operating system.\\n\\n\\n\\nPage: IPhone 13\\nSummary: The iPhone 13 and iPhone 13 Mini (stylized as iPhone 13 mini) are smartphones designed, developed, marketed, and sold by Apple Inc. They are the fifteenth generation of iPhones (succeeding the iPhone 12 and iPhone 12 Mini respectively). They were unveiled at an Apple Event in Apple Park in Cupertino, California, on September 14, 2021, alongside the higher-priced iPhone 13 Pro and iPhone 13 Pro Max flagships. Pre-orders for the iPhone 13 and iPhone 13 Mini began on September 17, 2021. They were officially released on September 24, 2021.\\nTogether with iPhone 12, the iPhone 13 Mini was discontinued on September 12, 2023, with the announcement of the iPhone 15 and iPhone 15 Pro. Alongside the iPhone 15 Pro, the iPhone 13 was discontinued on September 9, 2024, with the announcement of the iPhone 16 and iPhone 16 Pro.'"
      ]
     },
     "execution_count": 107,
     "metadata": {},
     "output_type": "execute_result"
    }
   ],
   "source": [
    "result3\n",
    "\n",
    "# will automatically get to the wiki page"
   ]
  },
  {
   "cell_type": "code",
   "execution_count": 109,
   "id": "ad6ca0db-6b1d-4d8e-8c63-3a485607fbd9",
   "metadata": {
    "height": 30,
    "id": "ad6ca0db-6b1d-4d8e-8c63-3a485607fbd9"
   },
   "outputs": [],
   "source": [
    "result4 = chain.invoke({\"input\": \"Tell me something about Andrew Ng\"})"
   ]
  },
  {
   "cell_type": "code",
   "execution_count": 110,
   "id": "0f0ed82c-8e26-44b3-a1ea-67143ab65161",
   "metadata": {
    "colab": {
     "base_uri": "https://localhost:8080/",
     "height": 178
    },
    "height": 30,
    "id": "0f0ed82c-8e26-44b3-a1ea-67143ab65161",
    "outputId": "69e19031-1976-4254-9402-5ac2367df81d"
   },
   "outputs": [
    {
     "data": {
      "application/vnd.google.colaboratory.intrinsic+json": {
       "type": "string"
      },
      "text/plain": [
       "'Page: Andrew Ng\\nSummary: Andrew Yan-Tak Ng (Chinese: 吳恩達; born 1976) is a British-American computer scientist and technology entrepreneur focusing on machine learning and artificial intelligence (AI). Ng was a cofounder and head of Google Brain and was the former Chief Scientist at Baidu, building the company\\'s Artificial Intelligence Group into a team of several thousand people.\\nNg is an adjunct professor at Stanford University (formerly associate professor and Director of its Stanford AI Lab or SAIL). Ng has also worked in the field of online education, cofounding Coursera and DeepLearning.AI. He has spearheaded many efforts to \"democratize deep learning\" teaching over 8 million students through his online courses. Ng is renowned globally in computer science, recognized in Time magazine\\'s 100 Most Influential People in 2012 and Fast Company\\'s Most Creative People in 2014. His influence extends to being named in the Time100 AI Most Influential People in 2023.\\nIn 2018, he launched and currently heads the AI Fund, initially a $175-million investment fund for backing artificial intelligence startups. He has founded Landing AI, which provides AI-powered SaaS products.\\nOn April 11, 2024, Amazon announced the appointment of Ng to its board of directors.\\n\\nPage: Andrew Ng (physicist)\\nSummary: Andrew Kam-hung Ng is a Canadian physicist who is a professor emeritus in the Department of Physics and Astronomy at the Peter Wall Institute for Advanced Studies.\\n\\nPage: Coursera\\nSummary: Coursera Inc. () is an American global massive open online course provider. It was founded in 2012 by Stanford University computer science professors Andrew Ng and Daphne Koller. Coursera works with universities and other organizations to offer online courses, certifications, and degrees in a variety of subjects. \\nOn February 2, 2021, Coursera announced its B Corporation certification from B Lab and its transformation into a Public Benefit Corporation. \\nAs of 2023, more than 300 universities and companies were offering courses through Coursera, and by 2024, the number of courses available had risen to approximately 7,000.\\n\\n'"
      ]
     },
     "execution_count": 110,
     "metadata": {},
     "output_type": "execute_result"
    }
   ],
   "source": [
    "result4\n",
    "# will automatically get to the wiki page"
   ]
  },
  {
   "cell_type": "code",
   "execution_count": 111,
   "id": "1c9b8542-7719-412c-b240-958ea8bdbbef",
   "metadata": {
    "height": 30,
    "id": "1c9b8542-7719-412c-b240-958ea8bdbbef"
   },
   "outputs": [],
   "source": [
    "result5 = chain.invoke({\"input\": \"What is the weather in New York City right now?\"})"
   ]
  },
  {
   "cell_type": "code",
   "execution_count": 112,
   "id": "83233f7c-3820-4697-80a6-c25423cc7b26",
   "metadata": {
    "colab": {
     "base_uri": "https://localhost:8080/",
     "height": 35
    },
    "height": 30,
    "id": "83233f7c-3820-4697-80a6-c25423cc7b26",
    "outputId": "155ee12b-485b-46c9-ae46-3d48abce08fd"
   },
   "outputs": [
    {
     "data": {
      "application/vnd.google.colaboratory.intrinsic+json": {
       "type": "string"
      },
      "text/plain": [
       "'The current temperature is 17.2°C'"
      ]
     },
     "execution_count": 112,
     "metadata": {},
     "output_type": "execute_result"
    }
   ],
   "source": [
    "result5\n",
    "# correct, will use the weather function automaticlaly."
   ]
  },
  {
   "cell_type": "code",
   "execution_count": 113,
   "id": "4a950c46-1a8c-4807-9cc4-373264aaa9dc",
   "metadata": {
    "height": 30,
    "id": "4a950c46-1a8c-4807-9cc4-373264aaa9dc"
   },
   "outputs": [],
   "source": [
    "result6 = chain.invoke({\"input\": \"How to set up an OpenAI account?\"})"
   ]
  },
  {
   "cell_type": "code",
   "execution_count": 114,
   "id": "b11cf095-9583-4206-8155-2a9acd5a4aad",
   "metadata": {
    "colab": {
     "base_uri": "https://localhost:8080/",
     "height": 178
    },
    "height": 30,
    "id": "b11cf095-9583-4206-8155-2a9acd5a4aad",
    "outputId": "188f22c4-d0e8-4c7b-a710-36a0a9cebd13"
   },
   "outputs": [
    {
     "data": {
      "application/vnd.google.colaboratory.intrinsic+json": {
       "type": "string"
      },
      "text/plain": [
       "'Page: Dead Internet theory\\nSummary: The dead Internet theory is an online conspiracy theory that asserts that, due to a coordinated and intentional effort, the Internet now consists mainly of bot activity and automatically generated content manipulated by algorithmic curation to intentionally manipulate the population and minimize organic human activity. Proponents of the theory believe these bots were created intentionally to help manipulate algorithms and boost search results in order to manipulate consumers. Some proponents of the theory accuse government agencies of using bots to manipulate public perception. The date given for this \"death\" is generally around 2016 or 2017.\\nThe dead Internet theory has gained traction because many of the observed phenomena are quantifiable, such as increased bot traffic, but the literature does not support the full theory. Caroline Busta, founder of the media platform New Models, was quoted in an article in The Atlantic calling much of the dead Internet theory a \"paranoid fantasy\", even if there are legitimate criticisms involving bot traffic and the integrity of the internet, but she said she does agree with the \"overarching idea\". In an article in The New Atlantis, Robert Mariani called the theory a mix between a genuine conspiracy theory and a creepypasta. The dead Internet theory is sometimes used to refer to the observable increase in content generated via large language models (LLMs) such as ChatGPT appearing in popular Internet spaces without mention of the full theory.\\n\\nPage: 404 Media\\nSummary: 404 Media is an online publication focusing on technology and internet reporting. The publication covers topics such as hacking, sex work, niche online communities, and the right to repair movement. The publication is worker-owned.\\n\\nPage: Pixel 9\\nSummary: The Pixel 9, Pixel 9 Pro, and Pixel 9 Pro XL are a group of Android smartphones designed, developed, and marketed by Google as part of the Google Pixel product line. They serve as the successor to the Pixel 8 and Pixel 8 Pro, respectively. Sporting a redesigned appearance and powered by the fourth-generation Google Tensor system-on-chip, the phones are heavily integrated with Gemini-branded artificial intelligence features.\\nThe Pixel 9, Pixel 9 Pro, and Pixel 9 Pro XL were officially announced on August 13, 2024, at the annual Made by Google event, and were released in the United States on August 22 and September 4.'"
      ]
     },
     "execution_count": 114,
     "metadata": {},
     "output_type": "execute_result"
    }
   ],
   "source": [
    "result6\n",
    "# does not directly fit in weather question or wikipedia question...\n",
    "# will still generate somethin the langauge model knows? but not necessary relevant"
   ]
  },
  {
   "cell_type": "code",
   "execution_count": 147,
   "id": "181b3737-eb4d-452a-b018-a1289f7f0d41",
   "metadata": {
    "height": 30,
    "id": "181b3737-eb4d-452a-b018-a1289f7f0d41"
   },
   "outputs": [],
   "source": [
    "result7 = chain.invoke({\"input\": \"What is 100 CNY worth in USD?\"})"
   ]
  },
  {
   "cell_type": "code",
   "execution_count": 148,
   "id": "3TGoR5qoLI53",
   "metadata": {
    "colab": {
     "base_uri": "https://localhost:8080/",
     "height": 35
    },
    "id": "3TGoR5qoLI53",
    "outputId": "94ca4e70-5bfd-4a31-a7e3-8a8057f21b6c"
   },
   "outputs": [
    {
     "data": {
      "application/vnd.google.colaboratory.intrinsic+json": {
       "type": "string"
      },
      "text/plain": [
       "'100.0 CNY is equal to 14.20 USD.'"
      ]
     },
     "execution_count": 148,
     "metadata": {},
     "output_type": "execute_result"
    }
   ],
   "source": [
    "result7"
   ]
  },
  {
   "cell_type": "code",
   "execution_count": 156,
   "id": "FRG5l9U1LJ8M",
   "metadata": {
    "id": "FRG5l9U1LJ8M"
   },
   "outputs": [],
   "source": [
    "result8 = chain.invoke({\"input\": \"What is 200 japanese yen worth in USD?\"})"
   ]
  },
  {
   "cell_type": "code",
   "execution_count": 157,
   "id": "1jakakvSLTuK",
   "metadata": {
    "colab": {
     "base_uri": "https://localhost:8080/",
     "height": 35
    },
    "id": "1jakakvSLTuK",
    "outputId": "e2809add-faa2-4701-85b0-8d9d6ff6aea1"
   },
   "outputs": [
    {
     "data": {
      "application/vnd.google.colaboratory.intrinsic+json": {
       "type": "string"
      },
      "text/plain": [
       "'200.0 JPY is equal to 1.39 USD.'"
      ]
     },
     "execution_count": 157,
     "metadata": {},
     "output_type": "execute_result"
    }
   ],
   "source": [
    "result8"
   ]
  },
  {
   "cell_type": "code",
   "execution_count": null,
   "id": "m9CdJ1Y1LVFN",
   "metadata": {
    "id": "m9CdJ1Y1LVFN"
   },
   "outputs": [],
   "source": []
  }
 ],
 "metadata": {
  "colab": {
   "provenance": []
  },
  "kernelspec": {
   "display_name": "Python 3 (ipykernel)",
   "language": "python",
   "name": "python3"
  },
  "language_info": {
   "codemirror_mode": {
    "name": "ipython",
    "version": 3
   },
   "file_extension": ".py",
   "mimetype": "text/x-python",
   "name": "python",
   "nbconvert_exporter": "python",
   "pygments_lexer": "ipython3",
   "version": "3.9.19"
  }
 },
 "nbformat": 4,
 "nbformat_minor": 5
}
