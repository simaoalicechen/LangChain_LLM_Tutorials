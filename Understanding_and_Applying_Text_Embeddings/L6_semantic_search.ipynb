{
 "cells": [
  {
   "cell_type": "markdown",
   "id": "15690d6f-6515-4b65-9a8f-b907f90711ea",
   "metadata": {
    "id": "15690d6f-6515-4b65-9a8f-b907f90711ea"
   },
   "source": [
    "## Lesson 6: Semantic Search, Building a Q&A System"
   ]
  },
  {
   "cell_type": "markdown",
   "id": "5f6eba99-d01c-469d-9d88-a4d73cbf12cb",
   "metadata": {
    "id": "5f6eba99-d01c-469d-9d88-a4d73cbf12cb"
   },
   "source": [
    "#### Project environment setup\n",
    "\n",
    "- Load credentials and relevant Python Libraries"
   ]
  },
  {
   "cell_type": "markdown",
   "id": "19970643",
   "metadata": {},
   "source": [
    "## The idea is that what if we want something that is very domain specific?\n",
    "## What if we cannot get the answer from just any LLM? Such as access inf outside of trainint data; integrate with existing IT systems, databases, and business data; Mitigate risks of hallucinations. (a term: Grounding LLMs)\n",
    "\n",
    "## Naturally, we can add things to the knowlegde base, such as a csv or an external database. "
   ]
  },
  {
   "cell_type": "code",
   "execution_count": 7,
   "id": "MP9MUWOfdXI8",
   "metadata": {
    "id": "MP9MUWOfdXI8"
   },
   "outputs": [],
   "source": [
    "# !pip install mplcursors\n",
    "# !pip install google-cloud-bigquery google-auth\n",
    "# !pip install python-dotenv\n",
    "# !pip install ipympl\n",
    "# !pip install python-dotenv\n",
    "# !pip install scann"
   ]
  },
  {
   "cell_type": "code",
   "execution_count": 8,
   "id": "600b34d4-4b4a-46f9-a0d6-9a312a09d1d0",
   "metadata": {
    "id": "600b34d4-4b4a-46f9-a0d6-9a312a09d1d0"
   },
   "outputs": [],
   "source": [
    "from utilss_6 import authenticate\n",
    "credentials, PROJECT_ID = authenticate()"
   ]
  },
  {
   "cell_type": "markdown",
   "id": "dc1b1938-32fb-4e32-ac23-35ce13cbd62f",
   "metadata": {
    "id": "dc1b1938-32fb-4e32-ac23-35ce13cbd62f"
   },
   "source": [
    "#### Enter project details"
   ]
  },
  {
   "cell_type": "code",
   "execution_count": 9,
   "id": "a33f57d4-096e-448b-aadf-d208deb84696",
   "metadata": {
    "id": "a33f57d4-096e-448b-aadf-d208deb84696"
   },
   "outputs": [],
   "source": [
    "REGION = 'us-central1'"
   ]
  },
  {
   "cell_type": "code",
   "execution_count": 2,
   "id": "bjbeqEx3eFIC",
   "metadata": {
    "id": "bjbeqEx3eFIC"
   },
   "outputs": [],
   "source": [
    "import os\n",
    "# API stuff:\n",
    "# Do not forget to erase\n",
    "project = os.env.get[\"PROJECT_ID\"]\n",
    "REGION = 'us-central1'\n",
    "# project = project\n",
    "credentials = os.env.get[\"credentials\"]"
   ]
  },
  {
   "cell_type": "code",
   "execution_count": 46,
   "id": "tjqeC6jOeN14",
   "metadata": {
    "id": "tjqeC6jOeN14"
   },
   "outputs": [],
   "source": [
    "# have to add this part back too. Important\n",
    "# from vertexai.language_models import TextEmbeddingModel\n",
    "from google.cloud import aiplatform\n",
    "from google.oauth2 import service_account\n",
    "\n",
    "# Load the credentials explicitly\n",
    "credentials = service_account.Credentials.from_service_account_file(\n",
    "    'google_api.json')\n",
    "\n",
    "# Initialize Vertex AI with the correct credentials\n",
    "aiplatform.init(project= project , location=\"us-central1\", credentials=credentials)"
   ]
  },
  {
   "cell_type": "code",
   "execution_count": 16,
   "id": "e6406271-fa6a-4293-aa61-bf0febf855af",
   "metadata": {
    "id": "e6406271-fa6a-4293-aa61-bf0febf855af"
   },
   "outputs": [],
   "source": [
    "import vertexai\n",
    "vertexai.init(project=PROJECT_ID, location=REGION, credentials = credentials)"
   ]
  },
  {
   "cell_type": "markdown",
   "id": "2fe50e74-21cc-4cb8-9595-7ad2df27af06",
   "metadata": {
    "id": "2fe50e74-21cc-4cb8-9595-7ad2df27af06"
   },
   "source": [
    "## Load Stack Overflow questions and answers from BigQuery"
   ]
  },
  {
   "cell_type": "code",
   "execution_count": 17,
   "id": "300058f6-3372-47fd-a4f5-63e92f7af612",
   "metadata": {
    "id": "300058f6-3372-47fd-a4f5-63e92f7af612"
   },
   "outputs": [],
   "source": [
    "import pandas as pd"
   ]
  },
  {
   "cell_type": "code",
   "execution_count": 18,
   "id": "eeb1e4da-a583-493b-8f6b-e30e69281e24",
   "metadata": {
    "id": "eeb1e4da-a583-493b-8f6b-e30e69281e24"
   },
   "outputs": [],
   "source": [
    "so_database = pd.read_csv('so_database_app.csv')"
   ]
  },
  {
   "cell_type": "code",
   "execution_count": 20,
   "id": "c31de31c-ca30-4a11-8fbc-8f179cde839a",
   "metadata": {
    "colab": {
     "base_uri": "https://localhost:8080/",
     "height": 442
    },
    "id": "c31de31c-ca30-4a11-8fbc-8f179cde839a",
    "outputId": "99a4b76e-85db-4e00-a270-a7b76798de7f"
   },
   "outputs": [
    {
     "name": "stdout",
     "output_type": "stream",
     "text": [
      "Shape: (2000, 3)\n"
     ]
    },
    {
     "data": {
      "application/vnd.google.colaboratory.intrinsic+json": {
       "summary": "{\n  \"name\": \"so_database\",\n  \"rows\": 2000,\n  \"fields\": [\n    {\n      \"column\": \"input_text\",\n      \"properties\": {\n        \"dtype\": \"string\",\n        \"num_unique_values\": 2000,\n        \"samples\": [\n          \"How can I change color with append Div?<p>I can't change color with append div dynamically. I want change default color of div, in red.</p>\\n<p>My HTML markup is:</p>\\n<pre><code>&lt;div id=&quot;risultato&quot;&gt;&lt;/div&gt;\\n</code></pre>\\n<p>Javascript code:</p>\\n<pre><code>var result= document.getElementById('risultato');\\nresult.style.color = &quot;red&quot;;\\nresult.innerHTML+= &lt;a href=&quot;www.google.com&quot;&gt;\\n</code></pre>\\n<p>but google.com have blue color not red.</p>\\n<p>I also tried with css:</p>\\n<pre><code>&lt;style&gt;\\n#risultato {\\n    margin-left: 18px;\\n    font-size: 17px;\\n    text-decoration: none;\\n    color: red;\\n}   \\n&lt;/style&gt;\\n</code></pre>\\n<p>But it doesn't work. How can I do this?</p>\",\n          \"Format string to datetime in Pandas without zero padding, AM/PM and UTC<p>My csv file contains the date and time values like below. I want to convert this to a datetime format in pandas but I keep getting errors.<br />\\nI then want to convert it to a 24 hour format with zero padding and without the mention UTC.</p>\\n<p>I already tried : <code>format=&quot;%m/%d/%Y %I:%M %p&quot;</code></p>\\n<pre><code>10/12/2021 10:25 AM UTC   \\n9/28/2021 8:51 AM UTC   \\n7/27/2021 9:45 AM UTC   \\n2/2/2022 7:10 PM UTC \\n</code></pre>\\n<p>Desired output:</p>\\n<pre><code>10/12/2021 10:25   \\n09/28/2021 08:51   \\n07/27/2021 09:45   \\n02/02/2022 19:10 \\n</code></pre>\",\n          \"Docker compose can't correct build react app<p>I have api (net-core) and react-app projects in root folder. I start dockerize my project from react application. If docker-compose and docker file in same react-app folder, dockerize works correct. But i want in future start two docker from root folder. This my folder structure:</p>\\n<pre><code>root\\n      \\u251c client-app\\n      \\u2502  \\u251c node_modules\\n      \\u2502  \\u251c public\\n      \\u2502  \\u251c src\\n      \\u2502  \\u2502  \\u251c etc folders and files\\n      \\u2502  \\u251c Dockerfile\\n      \\u2502  \\u251c package.json\\n      \\u2502  \\u2514 package-lock.json\\n      \\u251c api folder\\n      \\u2514 docker-compose.yml\\n</code></pre>\\n<p>This is dockerfile:</p>\\n<pre><code>FROM node:alpine\\nWORKDIR /client-app\\nENV PATH=&quot;./node_modules/.bin:$PATH&quot;\\nCOPY ./client-app/package.json /client-app/\\nRUN npm install\\nCOPY ./client-app/ /client-app/\\nRUN npm run build\\n</code></pre>\\n<p>This is docker-compose:</p>\\n<pre><code>version: &quot;3.4&quot;\\nservices:\\n  app:\\n    build:\\n      context: .\\n      dockerfile: client-app/Dockerfile\\n    volumes:\\n      - .:/client-app\\n    ports:\\n      - &quot;3000:3000&quot;\\n    image: app/react\\n    container_name: app_container\\n    command: npm start\\n</code></pre>\\n<p>Then i start dockerize from root folder docker-compose up:</p>\\n<pre><code> =&gt; exporting to image                                                                                                                           4.4s \\n =&gt; =&gt; exporting layers                                                                                                                          4.4s \\n =&gt; =&gt; writing image sha256:38172c4db5efba2b309f84f3c0b6c02e1ecbae89e611f1899205f663a805646e                                                     0.0s \\n =&gt; =&gt; naming to app/react                                                                                                                       0.0s \\n\\nUse 'docker scan' to run Snyk tests against images to find vulnerabilities and learn how to fix them\\n[+] Running 2/1\\n - Network larchkiktest_default     Created                                                                                                      0.0s \\n - Container app_container  Created                                                                                                              0.1s\\nAttaching to app_container\\napp_container  | npm ERR! code ENOENT\\napp_container  | npm ERR! syscall open\\napp_container  | npm ERR! path /client-app/package.json\\napp_container  | npm ERR! errno -2\\napp_container  | npm ERR! enoent ENOENT: no such file or directory, open '/client-app/package.json'\\napp_container  | npm ERR! enoent This is related to npm not being able to find a file.\\napp_container  | npm ERR! enoent\\napp_container  |\\napp_container  | npm ERR! A complete log of this run can be found in:\\napp_container  | npm ERR!     /root/.npm/_logs/2022-04-10T18_00_24_224Z-debug-0.log\\napp_container exited with code 254\\n</code></pre>\\n<p>If i change folders in dockerfile, like this:\\nCOPY package.json ./ or  COPY . . then docker fail install packages or build project because  can't find files. How i can fix build react app from root folder? Thank you.</p>\"\n        ],\n        \"semantic_type\": \"\",\n        \"description\": \"\"\n      }\n    },\n    {\n      \"column\": \"output_text\",\n      \"properties\": {\n        \"dtype\": \"string\",\n        \"num_unique_values\": 2000,\n        \"samples\": [\n          \"<p><div class=\\\"snippet\\\" data-lang=\\\"js\\\" data-hide=\\\"false\\\" data-console=\\\"true\\\" data-babel=\\\"false\\\">\\n<div class=\\\"snippet-code\\\">\\n<pre class=\\\"snippet-code-js lang-js prettyprint-override\\\"><code>var result= document.getElementById('risultato');\\nresult.style.color = \\\"red\\\";\\nresult.innerHTML+= '&lt;a style=\\\"color:green\\\" href=\\\"www.google.com\\\"&gt;google&lt;/a&gt;'</code></pre>\\n<pre class=\\\"snippet-code-css lang-css prettyprint-override\\\"><code>both js and css are basically fine.  your innerHTML statement needs some fine tuning.</code></pre>\\n<pre class=\\\"snippet-code-html lang-html prettyprint-override\\\"><code>&lt;div id=\\\"risultato\\\"&gt;some text&lt;/div&gt;</code></pre>\\n</div>\\n</div>\\n</p>\",\n          \"<p>You can use <a href=\\\"https://docs.python.org/3/library/datetime.html#strftime-and-strptime-behavior\\\" rel=\\\"nofollow noreferrer\\\"><code>%m/%d/%Y %H:%M</code></a>:</p>\\n<pre><code>pd.to_datetime(df['date'], dayfirst=False).dt.strftime('%m/%d/%Y %H:%M')\\n</code></pre>\\n<p>output:</p>\\n<pre><code>0    10/12/2021 10:25\\n1    09/28/2021 08:51\\n2    07/27/2021 09:45\\n3    02/02/2022 19:10\\nName: date, dtype: object\\n</code></pre>\\n<p>used input:</p>\\n<pre><code>df = pd.DataFrame({'date': ['10/12/2021 10:25 AM UTC',\\n                            '9/28/2021 8:51 AM UTC',\\n                            '7/27/2021 9:45 AM UTC',\\n                            '2/2/2022 7:10 PM UTC']})\\n</code></pre>\",\n          \"<p>I resolved error. Need to change Workdir /usr/src/app. Now my files are like this:</p>\\n<pre><code>FROM node:alpine\\nWORKDIR /usr/src/app\\nENV PATH=&quot;./node_modules/.bin:$PATH&quot;\\nCOPY ./client-app/package*.json .\\nRUN npm install\\nCOPY ./client-app/ .\\nRUN npm run build\\n\\nversion: &quot;3.4&quot;\\nservices:\\n  app:\\n    build:\\n      context: .\\n      dockerfile: client-app/Dockerfile\\n    volumes:\\n      - ./:/app\\n    ports:\\n      - &quot;3000:3000&quot;\\n    image: app/react\\n    container_name: app_container\\n    command: npm start\\n</code></pre>\"\n        ],\n        \"semantic_type\": \"\",\n        \"description\": \"\"\n      }\n    },\n    {\n      \"column\": \"category\",\n      \"properties\": {\n        \"dtype\": \"category\",\n        \"num_unique_values\": 4,\n        \"samples\": [\n          \"html\",\n          \"css\",\n          \"python\"\n        ],\n        \"semantic_type\": \"\",\n        \"description\": \"\"\n      }\n    }\n  ]\n}",
       "type": "dataframe",
       "variable_name": "so_database"
      },
      "text/html": [
       "\n",
       "  <div id=\"df-356510fc-41c8-4096-91fb-bd0244d7f1ea\" class=\"colab-df-container\">\n",
       "    <div>\n",
       "<style scoped>\n",
       "    .dataframe tbody tr th:only-of-type {\n",
       "        vertical-align: middle;\n",
       "    }\n",
       "\n",
       "    .dataframe tbody tr th {\n",
       "        vertical-align: top;\n",
       "    }\n",
       "\n",
       "    .dataframe thead th {\n",
       "        text-align: right;\n",
       "    }\n",
       "</style>\n",
       "<table border=\"1\" class=\"dataframe\">\n",
       "  <thead>\n",
       "    <tr style=\"text-align: right;\">\n",
       "      <th></th>\n",
       "      <th>input_text</th>\n",
       "      <th>output_text</th>\n",
       "      <th>category</th>\n",
       "    </tr>\n",
       "  </thead>\n",
       "  <tbody>\n",
       "    <tr>\n",
       "      <th>0</th>\n",
       "      <td>python's inspect.getfile returns \"&lt;string&gt;\"&lt;p&gt;...</td>\n",
       "      <td>&lt;p&gt;&lt;code&gt;&amp;lt;string&amp;gt;&lt;/code&gt; means that the ...</td>\n",
       "      <td>python</td>\n",
       "    </tr>\n",
       "    <tr>\n",
       "      <th>1</th>\n",
       "      <td>Passing parameter to function while multithrea...</td>\n",
       "      <td>&lt;p&gt;Try this and note the difference:&lt;/p&gt;\\n&lt;pre...</td>\n",
       "      <td>python</td>\n",
       "    </tr>\n",
       "    <tr>\n",
       "      <th>2</th>\n",
       "      <td>How do we test a specific method written in a ...</td>\n",
       "      <td>&lt;p&gt;Duplicate of &lt;a href=\"https://stackoverflow...</td>\n",
       "      <td>python</td>\n",
       "    </tr>\n",
       "    <tr>\n",
       "      <th>3</th>\n",
       "      <td>how can i remove the black bg color of an imag...</td>\n",
       "      <td>&lt;p&gt;The alpha channel &amp;quot;disappears&amp;quot; be...</td>\n",
       "      <td>python</td>\n",
       "    </tr>\n",
       "    <tr>\n",
       "      <th>4</th>\n",
       "      <td>How to extract each sheet within an Excel file...</td>\n",
       "      <td>&lt;p&gt;You need to specify the &lt;code&gt;index&lt;/code&gt; ...</td>\n",
       "      <td>python</td>\n",
       "    </tr>\n",
       "    <tr>\n",
       "      <th>...</th>\n",
       "      <td>...</td>\n",
       "      <td>...</td>\n",
       "      <td>...</td>\n",
       "    </tr>\n",
       "    <tr>\n",
       "      <th>1995</th>\n",
       "      <td>Is it possible to made inline-block elements l...</td>\n",
       "      <td>&lt;p&gt;If this is only for the visual purpose then...</td>\n",
       "      <td>css</td>\n",
       "    </tr>\n",
       "    <tr>\n",
       "      <th>1996</th>\n",
       "      <td>Flip Clock code works on Codepen and doesn't w...</td>\n",
       "      <td>&lt;p&gt;You forgot to attach the CSS file for the f...</td>\n",
       "      <td>css</td>\n",
       "    </tr>\n",
       "    <tr>\n",
       "      <th>1997</th>\n",
       "      <td>React Native How can I put one view in front o...</td>\n",
       "      <td>&lt;p&gt;You can do it using zIndex for example:&lt;/p&gt;...</td>\n",
       "      <td>css</td>\n",
       "    </tr>\n",
       "    <tr>\n",
       "      <th>1998</th>\n",
       "      <td>setting fixed width with 100% height of the pa...</td>\n",
       "      <td>&lt;p&gt;You can use &lt;code&gt;width: calc(100% - 100px)...</td>\n",
       "      <td>css</td>\n",
       "    </tr>\n",
       "    <tr>\n",
       "      <th>1999</th>\n",
       "      <td>How to make sidebar button not bring viewpoint...</td>\n",
       "      <td>&lt;p&gt;It is quite simple, just remove that href=\"...</td>\n",
       "      <td>css</td>\n",
       "    </tr>\n",
       "  </tbody>\n",
       "</table>\n",
       "<p>2000 rows × 3 columns</p>\n",
       "</div>\n",
       "    <div class=\"colab-df-buttons\">\n",
       "\n",
       "  <div class=\"colab-df-container\">\n",
       "    <button class=\"colab-df-convert\" onclick=\"convertToInteractive('df-356510fc-41c8-4096-91fb-bd0244d7f1ea')\"\n",
       "            title=\"Convert this dataframe to an interactive table.\"\n",
       "            style=\"display:none;\">\n",
       "\n",
       "  <svg xmlns=\"http://www.w3.org/2000/svg\" height=\"24px\" viewBox=\"0 -960 960 960\">\n",
       "    <path d=\"M120-120v-720h720v720H120Zm60-500h600v-160H180v160Zm220 220h160v-160H400v160Zm0 220h160v-160H400v160ZM180-400h160v-160H180v160Zm440 0h160v-160H620v160ZM180-180h160v-160H180v160Zm440 0h160v-160H620v160Z\"/>\n",
       "  </svg>\n",
       "    </button>\n",
       "\n",
       "  <style>\n",
       "    .colab-df-container {\n",
       "      display:flex;\n",
       "      gap: 12px;\n",
       "    }\n",
       "\n",
       "    .colab-df-convert {\n",
       "      background-color: #E8F0FE;\n",
       "      border: none;\n",
       "      border-radius: 50%;\n",
       "      cursor: pointer;\n",
       "      display: none;\n",
       "      fill: #1967D2;\n",
       "      height: 32px;\n",
       "      padding: 0 0 0 0;\n",
       "      width: 32px;\n",
       "    }\n",
       "\n",
       "    .colab-df-convert:hover {\n",
       "      background-color: #E2EBFA;\n",
       "      box-shadow: 0px 1px 2px rgba(60, 64, 67, 0.3), 0px 1px 3px 1px rgba(60, 64, 67, 0.15);\n",
       "      fill: #174EA6;\n",
       "    }\n",
       "\n",
       "    .colab-df-buttons div {\n",
       "      margin-bottom: 4px;\n",
       "    }\n",
       "\n",
       "    [theme=dark] .colab-df-convert {\n",
       "      background-color: #3B4455;\n",
       "      fill: #D2E3FC;\n",
       "    }\n",
       "\n",
       "    [theme=dark] .colab-df-convert:hover {\n",
       "      background-color: #434B5C;\n",
       "      box-shadow: 0px 1px 3px 1px rgba(0, 0, 0, 0.15);\n",
       "      filter: drop-shadow(0px 1px 2px rgba(0, 0, 0, 0.3));\n",
       "      fill: #FFFFFF;\n",
       "    }\n",
       "  </style>\n",
       "\n",
       "    <script>\n",
       "      const buttonEl =\n",
       "        document.querySelector('#df-356510fc-41c8-4096-91fb-bd0244d7f1ea button.colab-df-convert');\n",
       "      buttonEl.style.display =\n",
       "        google.colab.kernel.accessAllowed ? 'block' : 'none';\n",
       "\n",
       "      async function convertToInteractive(key) {\n",
       "        const element = document.querySelector('#df-356510fc-41c8-4096-91fb-bd0244d7f1ea');\n",
       "        const dataTable =\n",
       "          await google.colab.kernel.invokeFunction('convertToInteractive',\n",
       "                                                    [key], {});\n",
       "        if (!dataTable) return;\n",
       "\n",
       "        const docLinkHtml = 'Like what you see? Visit the ' +\n",
       "          '<a target=\"_blank\" href=https://colab.research.google.com/notebooks/data_table.ipynb>data table notebook</a>'\n",
       "          + ' to learn more about interactive tables.';\n",
       "        element.innerHTML = '';\n",
       "        dataTable['output_type'] = 'display_data';\n",
       "        await google.colab.output.renderOutput(dataTable, element);\n",
       "        const docLink = document.createElement('div');\n",
       "        docLink.innerHTML = docLinkHtml;\n",
       "        element.appendChild(docLink);\n",
       "      }\n",
       "    </script>\n",
       "  </div>\n",
       "\n",
       "\n",
       "<div id=\"df-b2b89fc6-75cc-491c-bebb-70854c4e5510\">\n",
       "  <button class=\"colab-df-quickchart\" onclick=\"quickchart('df-b2b89fc6-75cc-491c-bebb-70854c4e5510')\"\n",
       "            title=\"Suggest charts\"\n",
       "            style=\"display:none;\">\n",
       "\n",
       "<svg xmlns=\"http://www.w3.org/2000/svg\" height=\"24px\"viewBox=\"0 0 24 24\"\n",
       "     width=\"24px\">\n",
       "    <g>\n",
       "        <path d=\"M19 3H5c-1.1 0-2 .9-2 2v14c0 1.1.9 2 2 2h14c1.1 0 2-.9 2-2V5c0-1.1-.9-2-2-2zM9 17H7v-7h2v7zm4 0h-2V7h2v10zm4 0h-2v-4h2v4z\"/>\n",
       "    </g>\n",
       "</svg>\n",
       "  </button>\n",
       "\n",
       "<style>\n",
       "  .colab-df-quickchart {\n",
       "      --bg-color: #E8F0FE;\n",
       "      --fill-color: #1967D2;\n",
       "      --hover-bg-color: #E2EBFA;\n",
       "      --hover-fill-color: #174EA6;\n",
       "      --disabled-fill-color: #AAA;\n",
       "      --disabled-bg-color: #DDD;\n",
       "  }\n",
       "\n",
       "  [theme=dark] .colab-df-quickchart {\n",
       "      --bg-color: #3B4455;\n",
       "      --fill-color: #D2E3FC;\n",
       "      --hover-bg-color: #434B5C;\n",
       "      --hover-fill-color: #FFFFFF;\n",
       "      --disabled-bg-color: #3B4455;\n",
       "      --disabled-fill-color: #666;\n",
       "  }\n",
       "\n",
       "  .colab-df-quickchart {\n",
       "    background-color: var(--bg-color);\n",
       "    border: none;\n",
       "    border-radius: 50%;\n",
       "    cursor: pointer;\n",
       "    display: none;\n",
       "    fill: var(--fill-color);\n",
       "    height: 32px;\n",
       "    padding: 0;\n",
       "    width: 32px;\n",
       "  }\n",
       "\n",
       "  .colab-df-quickchart:hover {\n",
       "    background-color: var(--hover-bg-color);\n",
       "    box-shadow: 0 1px 2px rgba(60, 64, 67, 0.3), 0 1px 3px 1px rgba(60, 64, 67, 0.15);\n",
       "    fill: var(--button-hover-fill-color);\n",
       "  }\n",
       "\n",
       "  .colab-df-quickchart-complete:disabled,\n",
       "  .colab-df-quickchart-complete:disabled:hover {\n",
       "    background-color: var(--disabled-bg-color);\n",
       "    fill: var(--disabled-fill-color);\n",
       "    box-shadow: none;\n",
       "  }\n",
       "\n",
       "  .colab-df-spinner {\n",
       "    border: 2px solid var(--fill-color);\n",
       "    border-color: transparent;\n",
       "    border-bottom-color: var(--fill-color);\n",
       "    animation:\n",
       "      spin 1s steps(1) infinite;\n",
       "  }\n",
       "\n",
       "  @keyframes spin {\n",
       "    0% {\n",
       "      border-color: transparent;\n",
       "      border-bottom-color: var(--fill-color);\n",
       "      border-left-color: var(--fill-color);\n",
       "    }\n",
       "    20% {\n",
       "      border-color: transparent;\n",
       "      border-left-color: var(--fill-color);\n",
       "      border-top-color: var(--fill-color);\n",
       "    }\n",
       "    30% {\n",
       "      border-color: transparent;\n",
       "      border-left-color: var(--fill-color);\n",
       "      border-top-color: var(--fill-color);\n",
       "      border-right-color: var(--fill-color);\n",
       "    }\n",
       "    40% {\n",
       "      border-color: transparent;\n",
       "      border-right-color: var(--fill-color);\n",
       "      border-top-color: var(--fill-color);\n",
       "    }\n",
       "    60% {\n",
       "      border-color: transparent;\n",
       "      border-right-color: var(--fill-color);\n",
       "    }\n",
       "    80% {\n",
       "      border-color: transparent;\n",
       "      border-right-color: var(--fill-color);\n",
       "      border-bottom-color: var(--fill-color);\n",
       "    }\n",
       "    90% {\n",
       "      border-color: transparent;\n",
       "      border-bottom-color: var(--fill-color);\n",
       "    }\n",
       "  }\n",
       "</style>\n",
       "\n",
       "  <script>\n",
       "    async function quickchart(key) {\n",
       "      const quickchartButtonEl =\n",
       "        document.querySelector('#' + key + ' button');\n",
       "      quickchartButtonEl.disabled = true;  // To prevent multiple clicks.\n",
       "      quickchartButtonEl.classList.add('colab-df-spinner');\n",
       "      try {\n",
       "        const charts = await google.colab.kernel.invokeFunction(\n",
       "            'suggestCharts', [key], {});\n",
       "      } catch (error) {\n",
       "        console.error('Error during call to suggestCharts:', error);\n",
       "      }\n",
       "      quickchartButtonEl.classList.remove('colab-df-spinner');\n",
       "      quickchartButtonEl.classList.add('colab-df-quickchart-complete');\n",
       "    }\n",
       "    (() => {\n",
       "      let quickchartButtonEl =\n",
       "        document.querySelector('#df-b2b89fc6-75cc-491c-bebb-70854c4e5510 button');\n",
       "      quickchartButtonEl.style.display =\n",
       "        google.colab.kernel.accessAllowed ? 'block' : 'none';\n",
       "    })();\n",
       "  </script>\n",
       "</div>\n",
       "\n",
       "  <div id=\"id_7aa6e74f-12b3-44eb-aa44-1acce8b1b756\">\n",
       "    <style>\n",
       "      .colab-df-generate {\n",
       "        background-color: #E8F0FE;\n",
       "        border: none;\n",
       "        border-radius: 50%;\n",
       "        cursor: pointer;\n",
       "        display: none;\n",
       "        fill: #1967D2;\n",
       "        height: 32px;\n",
       "        padding: 0 0 0 0;\n",
       "        width: 32px;\n",
       "      }\n",
       "\n",
       "      .colab-df-generate:hover {\n",
       "        background-color: #E2EBFA;\n",
       "        box-shadow: 0px 1px 2px rgba(60, 64, 67, 0.3), 0px 1px 3px 1px rgba(60, 64, 67, 0.15);\n",
       "        fill: #174EA6;\n",
       "      }\n",
       "\n",
       "      [theme=dark] .colab-df-generate {\n",
       "        background-color: #3B4455;\n",
       "        fill: #D2E3FC;\n",
       "      }\n",
       "\n",
       "      [theme=dark] .colab-df-generate:hover {\n",
       "        background-color: #434B5C;\n",
       "        box-shadow: 0px 1px 3px 1px rgba(0, 0, 0, 0.15);\n",
       "        filter: drop-shadow(0px 1px 2px rgba(0, 0, 0, 0.3));\n",
       "        fill: #FFFFFF;\n",
       "      }\n",
       "    </style>\n",
       "    <button class=\"colab-df-generate\" onclick=\"generateWithVariable('so_database')\"\n",
       "            title=\"Generate code using this dataframe.\"\n",
       "            style=\"display:none;\">\n",
       "\n",
       "  <svg xmlns=\"http://www.w3.org/2000/svg\" height=\"24px\"viewBox=\"0 0 24 24\"\n",
       "       width=\"24px\">\n",
       "    <path d=\"M7,19H8.4L18.45,9,17,7.55,7,17.6ZM5,21V16.75L18.45,3.32a2,2,0,0,1,2.83,0l1.4,1.43a1.91,1.91,0,0,1,.58,1.4,1.91,1.91,0,0,1-.58,1.4L9.25,21ZM18.45,9,17,7.55Zm-12,3A5.31,5.31,0,0,0,4.9,8.1,5.31,5.31,0,0,0,1,6.5,5.31,5.31,0,0,0,4.9,4.9,5.31,5.31,0,0,0,6.5,1,5.31,5.31,0,0,0,8.1,4.9,5.31,5.31,0,0,0,12,6.5,5.46,5.46,0,0,0,6.5,12Z\"/>\n",
       "  </svg>\n",
       "    </button>\n",
       "    <script>\n",
       "      (() => {\n",
       "      const buttonEl =\n",
       "        document.querySelector('#id_7aa6e74f-12b3-44eb-aa44-1acce8b1b756 button.colab-df-generate');\n",
       "      buttonEl.style.display =\n",
       "        google.colab.kernel.accessAllowed ? 'block' : 'none';\n",
       "\n",
       "      buttonEl.onclick = () => {\n",
       "        google.colab.notebook.generateWithVariable('so_database');\n",
       "      }\n",
       "      })();\n",
       "    </script>\n",
       "  </div>\n",
       "\n",
       "    </div>\n",
       "  </div>\n"
      ],
      "text/plain": [
       "                                             input_text  \\\n",
       "0     python's inspect.getfile returns \"<string>\"<p>...   \n",
       "1     Passing parameter to function while multithrea...   \n",
       "2     How do we test a specific method written in a ...   \n",
       "3     how can i remove the black bg color of an imag...   \n",
       "4     How to extract each sheet within an Excel file...   \n",
       "...                                                 ...   \n",
       "1995  Is it possible to made inline-block elements l...   \n",
       "1996  Flip Clock code works on Codepen and doesn't w...   \n",
       "1997  React Native How can I put one view in front o...   \n",
       "1998  setting fixed width with 100% height of the pa...   \n",
       "1999  How to make sidebar button not bring viewpoint...   \n",
       "\n",
       "                                            output_text category  \n",
       "0     <p><code>&lt;string&gt;</code> means that the ...   python  \n",
       "1     <p>Try this and note the difference:</p>\\n<pre...   python  \n",
       "2     <p>Duplicate of <a href=\"https://stackoverflow...   python  \n",
       "3     <p>The alpha channel &quot;disappears&quot; be...   python  \n",
       "4     <p>You need to specify the <code>index</code> ...   python  \n",
       "...                                                 ...      ...  \n",
       "1995  <p>If this is only for the visual purpose then...      css  \n",
       "1996  <p>You forgot to attach the CSS file for the f...      css  \n",
       "1997  <p>You can do it using zIndex for example:</p>...      css  \n",
       "1998  <p>You can use <code>width: calc(100% - 100px)...      css  \n",
       "1999  <p>It is quite simple, just remove that href=\"...      css  \n",
       "\n",
       "[2000 rows x 3 columns]"
      ]
     },
     "execution_count": 20,
     "metadata": {},
     "output_type": "execute_result"
    }
   ],
   "source": [
    "print(\"Shape: \" + str(so_database.shape))\n",
    "so_database"
   ]
  },
  {
   "cell_type": "markdown",
   "id": "923834d6-e065-44c5-9032-0af3d032dd74",
   "metadata": {
    "id": "923834d6-e065-44c5-9032-0af3d032dd74"
   },
   "source": [
    "## Load the question embeddings"
   ]
  },
  {
   "cell_type": "code",
   "execution_count": 21,
   "id": "c31d02d1-632d-4139-bc31-d1dd4c760f26",
   "metadata": {
    "id": "c31d02d1-632d-4139-bc31-d1dd4c760f26"
   },
   "outputs": [],
   "source": [
    "from vertexai.language_models import TextEmbeddingModel"
   ]
  },
  {
   "cell_type": "code",
   "execution_count": 56,
   "id": "0fcae98f-3d58-40dc-9244-65b084ce2910",
   "metadata": {
    "id": "0fcae98f-3d58-40dc-9244-65b084ce2910"
   },
   "outputs": [],
   "source": [
    "embedding_model = TextEmbeddingModel.from_pretrained(\n",
    "    \"textembedding-gecko@001\")\n",
    "\n",
    "# managing rate limits"
   ]
  },
  {
   "cell_type": "code",
   "execution_count": 24,
   "id": "a7cb7c15-1f60-4ae1-9eee-cacf91ce40be",
   "metadata": {
    "id": "a7cb7c15-1f60-4ae1-9eee-cacf91ce40be"
   },
   "outputs": [],
   "source": [
    "import numpy as np\n",
    "from utilss_6 import encode_text_to_embedding_batched"
   ]
  },
  {
   "cell_type": "markdown",
   "id": "8fc34bc0-f2ec-4445-a3c8-2c49957ad167",
   "metadata": {
    "id": "8fc34bc0-f2ec-4445-a3c8-2c49957ad167"
   },
   "source": [
    "- Here is the code that embeds the text.  You can adapt it for use in your own projects.  \n",
    "- To save on API calls, we've embedded the text already, so you can load it from the saved file in the next cell.\n",
    "\n",
    "```Python\n",
    "# Encode the stack overflow data\n",
    "\n",
    "so_questions = so_database.input_text.tolist()\n",
    "question_embeddings = encode_text_to_embedding_batched(\n",
    "            sentences = so_questions,\n",
    "            api_calls_per_second = 20/60,\n",
    "            batch_size = 5)\n",
    "```"
   ]
  },
  {
   "cell_type": "code",
   "execution_count": 26,
   "id": "GbBnTct-ecfs",
   "metadata": {
    "id": "GbBnTct-ecfs"
   },
   "outputs": [],
   "source": [
    "# # Encode the stack overflow data\n",
    "\n",
    "# so_questions = so_database.input_text.tolist()\n",
    "# question_embeddings = encode_text_to_embedding_batched(\n",
    "#             sentences = so_questions,\n",
    "#             api_calls_per_second = 20/60,\n",
    "#             batch_size = 5)\n",
    "\n",
    "# no need if run the below codes.\n",
    "# get batch embedding. To save API calls, do not do this."
   ]
  },
  {
   "cell_type": "code",
   "execution_count": 57,
   "id": "8545a2ba-3d8c-4a61-9fd4-a9687df824e8",
   "metadata": {
    "colab": {
     "base_uri": "https://localhost:8080/"
    },
    "id": "8545a2ba-3d8c-4a61-9fd4-a9687df824e8",
    "outputId": "12a8dfb5-3c51-4cc5-8a51-03b3a499f341"
   },
   "outputs": [
    {
     "name": "stdout",
     "output_type": "stream",
     "text": [
      "[[-0.03571156 -0.00240684  0.05860338 ... -0.03100227 -0.00855574\n",
      "  -0.01997405]\n",
      " [-0.02024316 -0.0026255   0.01940405 ... -0.02158143 -0.05655403\n",
      "  -0.01040497]\n",
      " [-0.05175979 -0.03712264  0.02699278 ... -0.07055898 -0.0402537\n",
      "   0.00092099]\n",
      " ...\n",
      " [-0.00580394 -0.01621097  0.05829635 ... -0.03350992 -0.05343556\n",
      "  -0.06016821]\n",
      " [-0.00436622 -0.02692963  0.03363771 ... -0.01686567 -0.03812337\n",
      "  -0.02329491]\n",
      " [-0.04240424 -0.01633749  0.05516777 ... -0.02697376 -0.01751165\n",
      "  -0.04558187]]\n"
     ]
    }
   ],
   "source": [
    "import pickle\n",
    "with open('question_embeddings_app.pkl', 'rb') as file:\n",
    "\n",
    "    # Call load method to deserialze\n",
    "    question_embeddings = pickle.load(file)\n",
    "\n",
    "    print(question_embeddings)\n",
    "\n",
    "\n",
    "# no need to do this if already done.\n",
    "# precalculated embeddings"
   ]
  },
  {
   "cell_type": "code",
   "execution_count": 58,
   "id": "8d11d36e-e70a-4981-a37b-6b978520d90f",
   "metadata": {
    "id": "8d11d36e-e70a-4981-a37b-6b978520d90f"
   },
   "outputs": [],
   "source": [
    "so_database['embeddings'] = question_embeddings.tolist()"
   ]
  },
  {
   "cell_type": "code",
   "execution_count": 59,
   "id": "c9b8f8e5-4989-47cc-a3b1-55e782dea2d0",
   "metadata": {
    "colab": {
     "base_uri": "https://localhost:8080/",
     "height": 597
    },
    "id": "c9b8f8e5-4989-47cc-a3b1-55e782dea2d0",
    "outputId": "4b214161-3b17-4d5a-cbd8-2e43854371c5"
   },
   "outputs": [
    {
     "data": {
      "application/vnd.google.colaboratory.intrinsic+json": {
       "summary": "{\n  \"name\": \"so_database\",\n  \"rows\": 2000,\n  \"fields\": [\n    {\n      \"column\": \"input_text\",\n      \"properties\": {\n        \"dtype\": \"string\",\n        \"num_unique_values\": 2000,\n        \"samples\": [\n          \"How can I change color with append Div?<p>I can't change color with append div dynamically. I want change default color of div, in red.</p>\\n<p>My HTML markup is:</p>\\n<pre><code>&lt;div id=&quot;risultato&quot;&gt;&lt;/div&gt;\\n</code></pre>\\n<p>Javascript code:</p>\\n<pre><code>var result= document.getElementById('risultato');\\nresult.style.color = &quot;red&quot;;\\nresult.innerHTML+= &lt;a href=&quot;www.google.com&quot;&gt;\\n</code></pre>\\n<p>but google.com have blue color not red.</p>\\n<p>I also tried with css:</p>\\n<pre><code>&lt;style&gt;\\n#risultato {\\n    margin-left: 18px;\\n    font-size: 17px;\\n    text-decoration: none;\\n    color: red;\\n}   \\n&lt;/style&gt;\\n</code></pre>\\n<p>But it doesn't work. How can I do this?</p>\",\n          \"Format string to datetime in Pandas without zero padding, AM/PM and UTC<p>My csv file contains the date and time values like below. I want to convert this to a datetime format in pandas but I keep getting errors.<br />\\nI then want to convert it to a 24 hour format with zero padding and without the mention UTC.</p>\\n<p>I already tried : <code>format=&quot;%m/%d/%Y %I:%M %p&quot;</code></p>\\n<pre><code>10/12/2021 10:25 AM UTC   \\n9/28/2021 8:51 AM UTC   \\n7/27/2021 9:45 AM UTC   \\n2/2/2022 7:10 PM UTC \\n</code></pre>\\n<p>Desired output:</p>\\n<pre><code>10/12/2021 10:25   \\n09/28/2021 08:51   \\n07/27/2021 09:45   \\n02/02/2022 19:10 \\n</code></pre>\",\n          \"Docker compose can't correct build react app<p>I have api (net-core) and react-app projects in root folder. I start dockerize my project from react application. If docker-compose and docker file in same react-app folder, dockerize works correct. But i want in future start two docker from root folder. This my folder structure:</p>\\n<pre><code>root\\n      \\u251c client-app\\n      \\u2502  \\u251c node_modules\\n      \\u2502  \\u251c public\\n      \\u2502  \\u251c src\\n      \\u2502  \\u2502  \\u251c etc folders and files\\n      \\u2502  \\u251c Dockerfile\\n      \\u2502  \\u251c package.json\\n      \\u2502  \\u2514 package-lock.json\\n      \\u251c api folder\\n      \\u2514 docker-compose.yml\\n</code></pre>\\n<p>This is dockerfile:</p>\\n<pre><code>FROM node:alpine\\nWORKDIR /client-app\\nENV PATH=&quot;./node_modules/.bin:$PATH&quot;\\nCOPY ./client-app/package.json /client-app/\\nRUN npm install\\nCOPY ./client-app/ /client-app/\\nRUN npm run build\\n</code></pre>\\n<p>This is docker-compose:</p>\\n<pre><code>version: &quot;3.4&quot;\\nservices:\\n  app:\\n    build:\\n      context: .\\n      dockerfile: client-app/Dockerfile\\n    volumes:\\n      - .:/client-app\\n    ports:\\n      - &quot;3000:3000&quot;\\n    image: app/react\\n    container_name: app_container\\n    command: npm start\\n</code></pre>\\n<p>Then i start dockerize from root folder docker-compose up:</p>\\n<pre><code> =&gt; exporting to image                                                                                                                           4.4s \\n =&gt; =&gt; exporting layers                                                                                                                          4.4s \\n =&gt; =&gt; writing image sha256:38172c4db5efba2b309f84f3c0b6c02e1ecbae89e611f1899205f663a805646e                                                     0.0s \\n =&gt; =&gt; naming to app/react                                                                                                                       0.0s \\n\\nUse 'docker scan' to run Snyk tests against images to find vulnerabilities and learn how to fix them\\n[+] Running 2/1\\n - Network larchkiktest_default     Created                                                                                                      0.0s \\n - Container app_container  Created                                                                                                              0.1s\\nAttaching to app_container\\napp_container  | npm ERR! code ENOENT\\napp_container  | npm ERR! syscall open\\napp_container  | npm ERR! path /client-app/package.json\\napp_container  | npm ERR! errno -2\\napp_container  | npm ERR! enoent ENOENT: no such file or directory, open '/client-app/package.json'\\napp_container  | npm ERR! enoent This is related to npm not being able to find a file.\\napp_container  | npm ERR! enoent\\napp_container  |\\napp_container  | npm ERR! A complete log of this run can be found in:\\napp_container  | npm ERR!     /root/.npm/_logs/2022-04-10T18_00_24_224Z-debug-0.log\\napp_container exited with code 254\\n</code></pre>\\n<p>If i change folders in dockerfile, like this:\\nCOPY package.json ./ or  COPY . . then docker fail install packages or build project because  can't find files. How i can fix build react app from root folder? Thank you.</p>\"\n        ],\n        \"semantic_type\": \"\",\n        \"description\": \"\"\n      }\n    },\n    {\n      \"column\": \"output_text\",\n      \"properties\": {\n        \"dtype\": \"string\",\n        \"num_unique_values\": 2000,\n        \"samples\": [\n          \"<p><div class=\\\"snippet\\\" data-lang=\\\"js\\\" data-hide=\\\"false\\\" data-console=\\\"true\\\" data-babel=\\\"false\\\">\\n<div class=\\\"snippet-code\\\">\\n<pre class=\\\"snippet-code-js lang-js prettyprint-override\\\"><code>var result= document.getElementById('risultato');\\nresult.style.color = \\\"red\\\";\\nresult.innerHTML+= '&lt;a style=\\\"color:green\\\" href=\\\"www.google.com\\\"&gt;google&lt;/a&gt;'</code></pre>\\n<pre class=\\\"snippet-code-css lang-css prettyprint-override\\\"><code>both js and css are basically fine.  your innerHTML statement needs some fine tuning.</code></pre>\\n<pre class=\\\"snippet-code-html lang-html prettyprint-override\\\"><code>&lt;div id=\\\"risultato\\\"&gt;some text&lt;/div&gt;</code></pre>\\n</div>\\n</div>\\n</p>\",\n          \"<p>You can use <a href=\\\"https://docs.python.org/3/library/datetime.html#strftime-and-strptime-behavior\\\" rel=\\\"nofollow noreferrer\\\"><code>%m/%d/%Y %H:%M</code></a>:</p>\\n<pre><code>pd.to_datetime(df['date'], dayfirst=False).dt.strftime('%m/%d/%Y %H:%M')\\n</code></pre>\\n<p>output:</p>\\n<pre><code>0    10/12/2021 10:25\\n1    09/28/2021 08:51\\n2    07/27/2021 09:45\\n3    02/02/2022 19:10\\nName: date, dtype: object\\n</code></pre>\\n<p>used input:</p>\\n<pre><code>df = pd.DataFrame({'date': ['10/12/2021 10:25 AM UTC',\\n                            '9/28/2021 8:51 AM UTC',\\n                            '7/27/2021 9:45 AM UTC',\\n                            '2/2/2022 7:10 PM UTC']})\\n</code></pre>\",\n          \"<p>I resolved error. Need to change Workdir /usr/src/app. Now my files are like this:</p>\\n<pre><code>FROM node:alpine\\nWORKDIR /usr/src/app\\nENV PATH=&quot;./node_modules/.bin:$PATH&quot;\\nCOPY ./client-app/package*.json .\\nRUN npm install\\nCOPY ./client-app/ .\\nRUN npm run build\\n\\nversion: &quot;3.4&quot;\\nservices:\\n  app:\\n    build:\\n      context: .\\n      dockerfile: client-app/Dockerfile\\n    volumes:\\n      - ./:/app\\n    ports:\\n      - &quot;3000:3000&quot;\\n    image: app/react\\n    container_name: app_container\\n    command: npm start\\n</code></pre>\"\n        ],\n        \"semantic_type\": \"\",\n        \"description\": \"\"\n      }\n    },\n    {\n      \"column\": \"category\",\n      \"properties\": {\n        \"dtype\": \"category\",\n        \"num_unique_values\": 4,\n        \"samples\": [\n          \"html\",\n          \"css\",\n          \"python\"\n        ],\n        \"semantic_type\": \"\",\n        \"description\": \"\"\n      }\n    },\n    {\n      \"column\": \"embeddings\",\n      \"properties\": {\n        \"dtype\": \"object\",\n        \"semantic_type\": \"\",\n        \"description\": \"\"\n      }\n    }\n  ]\n}",
       "type": "dataframe",
       "variable_name": "so_database"
      },
      "text/html": [
       "\n",
       "  <div id=\"df-ba330a0f-30c6-47aa-a5d6-e9204904751d\" class=\"colab-df-container\">\n",
       "    <div>\n",
       "<style scoped>\n",
       "    .dataframe tbody tr th:only-of-type {\n",
       "        vertical-align: middle;\n",
       "    }\n",
       "\n",
       "    .dataframe tbody tr th {\n",
       "        vertical-align: top;\n",
       "    }\n",
       "\n",
       "    .dataframe thead th {\n",
       "        text-align: right;\n",
       "    }\n",
       "</style>\n",
       "<table border=\"1\" class=\"dataframe\">\n",
       "  <thead>\n",
       "    <tr style=\"text-align: right;\">\n",
       "      <th></th>\n",
       "      <th>input_text</th>\n",
       "      <th>output_text</th>\n",
       "      <th>category</th>\n",
       "      <th>embeddings</th>\n",
       "    </tr>\n",
       "  </thead>\n",
       "  <tbody>\n",
       "    <tr>\n",
       "      <th>0</th>\n",
       "      <td>python's inspect.getfile returns \"&lt;string&gt;\"&lt;p&gt;...</td>\n",
       "      <td>&lt;p&gt;&lt;code&gt;&amp;lt;string&amp;gt;&lt;/code&gt; means that the ...</td>\n",
       "      <td>python</td>\n",
       "      <td>[-0.03571155667304993, -0.0024068362545222044,...</td>\n",
       "    </tr>\n",
       "    <tr>\n",
       "      <th>1</th>\n",
       "      <td>Passing parameter to function while multithrea...</td>\n",
       "      <td>&lt;p&gt;Try this and note the difference:&lt;/p&gt;\\n&lt;pre...</td>\n",
       "      <td>python</td>\n",
       "      <td>[-0.020243162289261818, -0.002625499852001667,...</td>\n",
       "    </tr>\n",
       "    <tr>\n",
       "      <th>2</th>\n",
       "      <td>How do we test a specific method written in a ...</td>\n",
       "      <td>&lt;p&gt;Duplicate of &lt;a href=\"https://stackoverflow...</td>\n",
       "      <td>python</td>\n",
       "      <td>[-0.05175979062914848, -0.03712264448404312, 0...</td>\n",
       "    </tr>\n",
       "    <tr>\n",
       "      <th>3</th>\n",
       "      <td>how can i remove the black bg color of an imag...</td>\n",
       "      <td>&lt;p&gt;The alpha channel &amp;quot;disappears&amp;quot; be...</td>\n",
       "      <td>python</td>\n",
       "      <td>[0.02206624671816826, -0.028208276256918907, 0...</td>\n",
       "    </tr>\n",
       "    <tr>\n",
       "      <th>4</th>\n",
       "      <td>How to extract each sheet within an Excel file...</td>\n",
       "      <td>&lt;p&gt;You need to specify the &lt;code&gt;index&lt;/code&gt; ...</td>\n",
       "      <td>python</td>\n",
       "      <td>[-0.05498068407177925, -0.0032414537854492664,...</td>\n",
       "    </tr>\n",
       "    <tr>\n",
       "      <th>...</th>\n",
       "      <td>...</td>\n",
       "      <td>...</td>\n",
       "      <td>...</td>\n",
       "      <td>...</td>\n",
       "    </tr>\n",
       "    <tr>\n",
       "      <th>1995</th>\n",
       "      <td>Is it possible to made inline-block elements l...</td>\n",
       "      <td>&lt;p&gt;If this is only for the visual purpose then...</td>\n",
       "      <td>css</td>\n",
       "      <td>[-0.009190441109240055, -0.01732615754008293, ...</td>\n",
       "    </tr>\n",
       "    <tr>\n",
       "      <th>1996</th>\n",
       "      <td>Flip Clock code works on Codepen and doesn't w...</td>\n",
       "      <td>&lt;p&gt;You forgot to attach the CSS file for the f...</td>\n",
       "      <td>css</td>\n",
       "      <td>[-0.009033069014549255, -0.0009270847076550126...</td>\n",
       "    </tr>\n",
       "    <tr>\n",
       "      <th>1997</th>\n",
       "      <td>React Native How can I put one view in front o...</td>\n",
       "      <td>&lt;p&gt;You can do it using zIndex for example:&lt;/p&gt;...</td>\n",
       "      <td>css</td>\n",
       "      <td>[-0.005803938489407301, -0.016210969537496567,...</td>\n",
       "    </tr>\n",
       "    <tr>\n",
       "      <th>1998</th>\n",
       "      <td>setting fixed width with 100% height of the pa...</td>\n",
       "      <td>&lt;p&gt;You can use &lt;code&gt;width: calc(100% - 100px)...</td>\n",
       "      <td>css</td>\n",
       "      <td>[-0.004366223234683275, -0.02692963369190693, ...</td>\n",
       "    </tr>\n",
       "    <tr>\n",
       "      <th>1999</th>\n",
       "      <td>How to make sidebar button not bring viewpoint...</td>\n",
       "      <td>&lt;p&gt;It is quite simple, just remove that href=\"...</td>\n",
       "      <td>css</td>\n",
       "      <td>[-0.04240424185991287, -0.016337493434548378, ...</td>\n",
       "    </tr>\n",
       "  </tbody>\n",
       "</table>\n",
       "<p>2000 rows × 4 columns</p>\n",
       "</div>\n",
       "    <div class=\"colab-df-buttons\">\n",
       "\n",
       "  <div class=\"colab-df-container\">\n",
       "    <button class=\"colab-df-convert\" onclick=\"convertToInteractive('df-ba330a0f-30c6-47aa-a5d6-e9204904751d')\"\n",
       "            title=\"Convert this dataframe to an interactive table.\"\n",
       "            style=\"display:none;\">\n",
       "\n",
       "  <svg xmlns=\"http://www.w3.org/2000/svg\" height=\"24px\" viewBox=\"0 -960 960 960\">\n",
       "    <path d=\"M120-120v-720h720v720H120Zm60-500h600v-160H180v160Zm220 220h160v-160H400v160Zm0 220h160v-160H400v160ZM180-400h160v-160H180v160Zm440 0h160v-160H620v160ZM180-180h160v-160H180v160Zm440 0h160v-160H620v160Z\"/>\n",
       "  </svg>\n",
       "    </button>\n",
       "\n",
       "  <style>\n",
       "    .colab-df-container {\n",
       "      display:flex;\n",
       "      gap: 12px;\n",
       "    }\n",
       "\n",
       "    .colab-df-convert {\n",
       "      background-color: #E8F0FE;\n",
       "      border: none;\n",
       "      border-radius: 50%;\n",
       "      cursor: pointer;\n",
       "      display: none;\n",
       "      fill: #1967D2;\n",
       "      height: 32px;\n",
       "      padding: 0 0 0 0;\n",
       "      width: 32px;\n",
       "    }\n",
       "\n",
       "    .colab-df-convert:hover {\n",
       "      background-color: #E2EBFA;\n",
       "      box-shadow: 0px 1px 2px rgba(60, 64, 67, 0.3), 0px 1px 3px 1px rgba(60, 64, 67, 0.15);\n",
       "      fill: #174EA6;\n",
       "    }\n",
       "\n",
       "    .colab-df-buttons div {\n",
       "      margin-bottom: 4px;\n",
       "    }\n",
       "\n",
       "    [theme=dark] .colab-df-convert {\n",
       "      background-color: #3B4455;\n",
       "      fill: #D2E3FC;\n",
       "    }\n",
       "\n",
       "    [theme=dark] .colab-df-convert:hover {\n",
       "      background-color: #434B5C;\n",
       "      box-shadow: 0px 1px 3px 1px rgba(0, 0, 0, 0.15);\n",
       "      filter: drop-shadow(0px 1px 2px rgba(0, 0, 0, 0.3));\n",
       "      fill: #FFFFFF;\n",
       "    }\n",
       "  </style>\n",
       "\n",
       "    <script>\n",
       "      const buttonEl =\n",
       "        document.querySelector('#df-ba330a0f-30c6-47aa-a5d6-e9204904751d button.colab-df-convert');\n",
       "      buttonEl.style.display =\n",
       "        google.colab.kernel.accessAllowed ? 'block' : 'none';\n",
       "\n",
       "      async function convertToInteractive(key) {\n",
       "        const element = document.querySelector('#df-ba330a0f-30c6-47aa-a5d6-e9204904751d');\n",
       "        const dataTable =\n",
       "          await google.colab.kernel.invokeFunction('convertToInteractive',\n",
       "                                                    [key], {});\n",
       "        if (!dataTable) return;\n",
       "\n",
       "        const docLinkHtml = 'Like what you see? Visit the ' +\n",
       "          '<a target=\"_blank\" href=https://colab.research.google.com/notebooks/data_table.ipynb>data table notebook</a>'\n",
       "          + ' to learn more about interactive tables.';\n",
       "        element.innerHTML = '';\n",
       "        dataTable['output_type'] = 'display_data';\n",
       "        await google.colab.output.renderOutput(dataTable, element);\n",
       "        const docLink = document.createElement('div');\n",
       "        docLink.innerHTML = docLinkHtml;\n",
       "        element.appendChild(docLink);\n",
       "      }\n",
       "    </script>\n",
       "  </div>\n",
       "\n",
       "\n",
       "<div id=\"df-bea96cb5-7fa3-4d37-931c-064ea9a107b8\">\n",
       "  <button class=\"colab-df-quickchart\" onclick=\"quickchart('df-bea96cb5-7fa3-4d37-931c-064ea9a107b8')\"\n",
       "            title=\"Suggest charts\"\n",
       "            style=\"display:none;\">\n",
       "\n",
       "<svg xmlns=\"http://www.w3.org/2000/svg\" height=\"24px\"viewBox=\"0 0 24 24\"\n",
       "     width=\"24px\">\n",
       "    <g>\n",
       "        <path d=\"M19 3H5c-1.1 0-2 .9-2 2v14c0 1.1.9 2 2 2h14c1.1 0 2-.9 2-2V5c0-1.1-.9-2-2-2zM9 17H7v-7h2v7zm4 0h-2V7h2v10zm4 0h-2v-4h2v4z\"/>\n",
       "    </g>\n",
       "</svg>\n",
       "  </button>\n",
       "\n",
       "<style>\n",
       "  .colab-df-quickchart {\n",
       "      --bg-color: #E8F0FE;\n",
       "      --fill-color: #1967D2;\n",
       "      --hover-bg-color: #E2EBFA;\n",
       "      --hover-fill-color: #174EA6;\n",
       "      --disabled-fill-color: #AAA;\n",
       "      --disabled-bg-color: #DDD;\n",
       "  }\n",
       "\n",
       "  [theme=dark] .colab-df-quickchart {\n",
       "      --bg-color: #3B4455;\n",
       "      --fill-color: #D2E3FC;\n",
       "      --hover-bg-color: #434B5C;\n",
       "      --hover-fill-color: #FFFFFF;\n",
       "      --disabled-bg-color: #3B4455;\n",
       "      --disabled-fill-color: #666;\n",
       "  }\n",
       "\n",
       "  .colab-df-quickchart {\n",
       "    background-color: var(--bg-color);\n",
       "    border: none;\n",
       "    border-radius: 50%;\n",
       "    cursor: pointer;\n",
       "    display: none;\n",
       "    fill: var(--fill-color);\n",
       "    height: 32px;\n",
       "    padding: 0;\n",
       "    width: 32px;\n",
       "  }\n",
       "\n",
       "  .colab-df-quickchart:hover {\n",
       "    background-color: var(--hover-bg-color);\n",
       "    box-shadow: 0 1px 2px rgba(60, 64, 67, 0.3), 0 1px 3px 1px rgba(60, 64, 67, 0.15);\n",
       "    fill: var(--button-hover-fill-color);\n",
       "  }\n",
       "\n",
       "  .colab-df-quickchart-complete:disabled,\n",
       "  .colab-df-quickchart-complete:disabled:hover {\n",
       "    background-color: var(--disabled-bg-color);\n",
       "    fill: var(--disabled-fill-color);\n",
       "    box-shadow: none;\n",
       "  }\n",
       "\n",
       "  .colab-df-spinner {\n",
       "    border: 2px solid var(--fill-color);\n",
       "    border-color: transparent;\n",
       "    border-bottom-color: var(--fill-color);\n",
       "    animation:\n",
       "      spin 1s steps(1) infinite;\n",
       "  }\n",
       "\n",
       "  @keyframes spin {\n",
       "    0% {\n",
       "      border-color: transparent;\n",
       "      border-bottom-color: var(--fill-color);\n",
       "      border-left-color: var(--fill-color);\n",
       "    }\n",
       "    20% {\n",
       "      border-color: transparent;\n",
       "      border-left-color: var(--fill-color);\n",
       "      border-top-color: var(--fill-color);\n",
       "    }\n",
       "    30% {\n",
       "      border-color: transparent;\n",
       "      border-left-color: var(--fill-color);\n",
       "      border-top-color: var(--fill-color);\n",
       "      border-right-color: var(--fill-color);\n",
       "    }\n",
       "    40% {\n",
       "      border-color: transparent;\n",
       "      border-right-color: var(--fill-color);\n",
       "      border-top-color: var(--fill-color);\n",
       "    }\n",
       "    60% {\n",
       "      border-color: transparent;\n",
       "      border-right-color: var(--fill-color);\n",
       "    }\n",
       "    80% {\n",
       "      border-color: transparent;\n",
       "      border-right-color: var(--fill-color);\n",
       "      border-bottom-color: var(--fill-color);\n",
       "    }\n",
       "    90% {\n",
       "      border-color: transparent;\n",
       "      border-bottom-color: var(--fill-color);\n",
       "    }\n",
       "  }\n",
       "</style>\n",
       "\n",
       "  <script>\n",
       "    async function quickchart(key) {\n",
       "      const quickchartButtonEl =\n",
       "        document.querySelector('#' + key + ' button');\n",
       "      quickchartButtonEl.disabled = true;  // To prevent multiple clicks.\n",
       "      quickchartButtonEl.classList.add('colab-df-spinner');\n",
       "      try {\n",
       "        const charts = await google.colab.kernel.invokeFunction(\n",
       "            'suggestCharts', [key], {});\n",
       "      } catch (error) {\n",
       "        console.error('Error during call to suggestCharts:', error);\n",
       "      }\n",
       "      quickchartButtonEl.classList.remove('colab-df-spinner');\n",
       "      quickchartButtonEl.classList.add('colab-df-quickchart-complete');\n",
       "    }\n",
       "    (() => {\n",
       "      let quickchartButtonEl =\n",
       "        document.querySelector('#df-bea96cb5-7fa3-4d37-931c-064ea9a107b8 button');\n",
       "      quickchartButtonEl.style.display =\n",
       "        google.colab.kernel.accessAllowed ? 'block' : 'none';\n",
       "    })();\n",
       "  </script>\n",
       "</div>\n",
       "\n",
       "  <div id=\"id_3215e7f0-62f5-4a23-888c-5a1324b56bd3\">\n",
       "    <style>\n",
       "      .colab-df-generate {\n",
       "        background-color: #E8F0FE;\n",
       "        border: none;\n",
       "        border-radius: 50%;\n",
       "        cursor: pointer;\n",
       "        display: none;\n",
       "        fill: #1967D2;\n",
       "        height: 32px;\n",
       "        padding: 0 0 0 0;\n",
       "        width: 32px;\n",
       "      }\n",
       "\n",
       "      .colab-df-generate:hover {\n",
       "        background-color: #E2EBFA;\n",
       "        box-shadow: 0px 1px 2px rgba(60, 64, 67, 0.3), 0px 1px 3px 1px rgba(60, 64, 67, 0.15);\n",
       "        fill: #174EA6;\n",
       "      }\n",
       "\n",
       "      [theme=dark] .colab-df-generate {\n",
       "        background-color: #3B4455;\n",
       "        fill: #D2E3FC;\n",
       "      }\n",
       "\n",
       "      [theme=dark] .colab-df-generate:hover {\n",
       "        background-color: #434B5C;\n",
       "        box-shadow: 0px 1px 3px 1px rgba(0, 0, 0, 0.15);\n",
       "        filter: drop-shadow(0px 1px 2px rgba(0, 0, 0, 0.3));\n",
       "        fill: #FFFFFF;\n",
       "      }\n",
       "    </style>\n",
       "    <button class=\"colab-df-generate\" onclick=\"generateWithVariable('so_database')\"\n",
       "            title=\"Generate code using this dataframe.\"\n",
       "            style=\"display:none;\">\n",
       "\n",
       "  <svg xmlns=\"http://www.w3.org/2000/svg\" height=\"24px\"viewBox=\"0 0 24 24\"\n",
       "       width=\"24px\">\n",
       "    <path d=\"M7,19H8.4L18.45,9,17,7.55,7,17.6ZM5,21V16.75L18.45,3.32a2,2,0,0,1,2.83,0l1.4,1.43a1.91,1.91,0,0,1,.58,1.4,1.91,1.91,0,0,1-.58,1.4L9.25,21ZM18.45,9,17,7.55Zm-12,3A5.31,5.31,0,0,0,4.9,8.1,5.31,5.31,0,0,0,1,6.5,5.31,5.31,0,0,0,4.9,4.9,5.31,5.31,0,0,0,6.5,1,5.31,5.31,0,0,0,8.1,4.9,5.31,5.31,0,0,0,12,6.5,5.46,5.46,0,0,0,6.5,12Z\"/>\n",
       "  </svg>\n",
       "    </button>\n",
       "    <script>\n",
       "      (() => {\n",
       "      const buttonEl =\n",
       "        document.querySelector('#id_3215e7f0-62f5-4a23-888c-5a1324b56bd3 button.colab-df-generate');\n",
       "      buttonEl.style.display =\n",
       "        google.colab.kernel.accessAllowed ? 'block' : 'none';\n",
       "\n",
       "      buttonEl.onclick = () => {\n",
       "        google.colab.notebook.generateWithVariable('so_database');\n",
       "      }\n",
       "      })();\n",
       "    </script>\n",
       "  </div>\n",
       "\n",
       "    </div>\n",
       "  </div>\n"
      ],
      "text/plain": [
       "                                             input_text  \\\n",
       "0     python's inspect.getfile returns \"<string>\"<p>...   \n",
       "1     Passing parameter to function while multithrea...   \n",
       "2     How do we test a specific method written in a ...   \n",
       "3     how can i remove the black bg color of an imag...   \n",
       "4     How to extract each sheet within an Excel file...   \n",
       "...                                                 ...   \n",
       "1995  Is it possible to made inline-block elements l...   \n",
       "1996  Flip Clock code works on Codepen and doesn't w...   \n",
       "1997  React Native How can I put one view in front o...   \n",
       "1998  setting fixed width with 100% height of the pa...   \n",
       "1999  How to make sidebar button not bring viewpoint...   \n",
       "\n",
       "                                            output_text category  \\\n",
       "0     <p><code>&lt;string&gt;</code> means that the ...   python   \n",
       "1     <p>Try this and note the difference:</p>\\n<pre...   python   \n",
       "2     <p>Duplicate of <a href=\"https://stackoverflow...   python   \n",
       "3     <p>The alpha channel &quot;disappears&quot; be...   python   \n",
       "4     <p>You need to specify the <code>index</code> ...   python   \n",
       "...                                                 ...      ...   \n",
       "1995  <p>If this is only for the visual purpose then...      css   \n",
       "1996  <p>You forgot to attach the CSS file for the f...      css   \n",
       "1997  <p>You can do it using zIndex for example:</p>...      css   \n",
       "1998  <p>You can use <code>width: calc(100% - 100px)...      css   \n",
       "1999  <p>It is quite simple, just remove that href=\"...      css   \n",
       "\n",
       "                                             embeddings  \n",
       "0     [-0.03571155667304993, -0.0024068362545222044,...  \n",
       "1     [-0.020243162289261818, -0.002625499852001667,...  \n",
       "2     [-0.05175979062914848, -0.03712264448404312, 0...  \n",
       "3     [0.02206624671816826, -0.028208276256918907, 0...  \n",
       "4     [-0.05498068407177925, -0.0032414537854492664,...  \n",
       "...                                                 ...  \n",
       "1995  [-0.009190441109240055, -0.01732615754008293, ...  \n",
       "1996  [-0.009033069014549255, -0.0009270847076550126...  \n",
       "1997  [-0.005803938489407301, -0.016210969537496567,...  \n",
       "1998  [-0.004366223234683275, -0.02692963369190693, ...  \n",
       "1999  [-0.04240424185991287, -0.016337493434548378, ...  \n",
       "\n",
       "[2000 rows x 4 columns]"
      ]
     },
     "execution_count": 59,
     "metadata": {},
     "output_type": "execute_result"
    }
   ],
   "source": [
    "so_database"
   ]
  },
  {
   "cell_type": "markdown",
   "id": "gai5Ptajn4tn",
   "metadata": {
    "id": "gai5Ptajn4tn"
   },
   "source": [
    "# Q & A over stack over flow data\n",
    "\n",
    "### QuetsionL: Combine 3 datadrames in panags, I have a dataframe like this:\n",
    "\n",
    "### accpted answer: You can use pd.concat here.\n",
    "### Just define and pass all 3 dataframes to...\n",
    "\n",
    "## Embedded user query (one) --> compute similarity --> Embedded Stack Overflow questions (many)\n"
   ]
  },
  {
   "cell_type": "markdown",
   "id": "Q11YVOdLqYFj",
   "metadata": {
    "id": "Q11YVOdLqYFj"
   },
   "source": [
    "## Mesaruing similarity using embeddings:\n",
    "\n",
    "### Euclidean Distance, Cosine similarity, Dot product\n",
    "\n",
    "### Euclidean Distance (L2 Distance): Distance between ends of vectors: distance between ends of vectors\n",
    "### Cosine Similarity: Cosine of the angle between vectors: Cosine of the angle between vectors\n",
    "### Dot Product: Cosine multiplied by lengths of both vectors; Cosine multiplied by lengths of both vectors\n",
    "\n",
    "\n",
    "\n"
   ]
  },
  {
   "cell_type": "markdown",
   "id": "024e3893-c558-4a35-8680-dc95cd70e417",
   "metadata": {
    "id": "024e3893-c558-4a35-8680-dc95cd70e417"
   },
   "source": [
    "## Semantic Search\n",
    "\n",
    "When a user asks a question, we can embed their query on the fly and search over all of the Stack Overflow question embeddings to find the most simliar datapoint."
   ]
  },
  {
   "cell_type": "code",
   "execution_count": 60,
   "id": "e84c0523-8bb7-44f2-b437-28b7ca14428f",
   "metadata": {
    "id": "e84c0523-8bb7-44f2-b437-28b7ca14428f"
   },
   "outputs": [],
   "source": [
    "import numpy as np\n",
    "\n",
    "from sklearn.metrics.pairwise import cosine_similarity\n",
    "from sklearn.metrics import pairwise_distances_argmin as distances_argmin"
   ]
  },
  {
   "cell_type": "code",
   "execution_count": 61,
   "id": "3f0a36b9-2929-4f83-bee7-2a6b82c30787",
   "metadata": {
    "id": "3f0a36b9-2929-4f83-bee7-2a6b82c30787"
   },
   "outputs": [],
   "source": [
    "query = ['How to concat dataframes pandas']"
   ]
  },
  {
   "cell_type": "code",
   "execution_count": 78,
   "id": "96226ac6-0be7-4243-aede-df8226cfc1b2",
   "metadata": {
    "id": "96226ac6-0be7-4243-aede-df8226cfc1b2"
   },
   "outputs": [],
   "source": [
    "# if goodgleAPI does not work, wait for a while\n",
    "# Check billing even if on free trials\n",
    "# set up payment regardless\n",
    "\n",
    "\n",
    "# make the query embeedings:\n",
    "query_embedding = embedding_model.get_embeddings(query)[0].values\n"
   ]
  },
  {
   "cell_type": "code",
   "execution_count": 117,
   "id": "bNfQNzPkq6-H",
   "metadata": {
    "id": "bNfQNzPkq6-H"
   },
   "outputs": [],
   "source": [
    "# Looking inside and check:\n",
    "\n",
    "# embedding_model.get_embeddings(query)\n",
    "# query_embedding = embedding_model.get_embeddings(query)[0]\n",
    "\n",
    "# query_embedding_all = embedding_model.get_embeddings(query)[0]\n",
    "# query_embedding_all.values\n",
    "\n",
    "# query_embedding_inside = embedding_model.get_embeddings(query)\n",
    "# type(query_embedding_inside), len(query_embedding_inside), \\\n",
    "# len(query_embedding), query_embedding[0], \\\n",
    "# query_embedding_inside"
   ]
  },
  {
   "cell_type": "code",
   "execution_count": 127,
   "id": "1a2b5de8-eede-4cba-ae6e-5a56d14eb2b1",
   "metadata": {
    "id": "1a2b5de8-eede-4cba-ae6e-5a56d14eb2b1"
   },
   "outputs": [],
   "source": [
    "# get the cosine value for query_embedding and so_database.embeddings\n",
    "cos_sim_array = cosine_similarity([query_embedding],\n",
    "                                  list(so_database.embeddings.values))"
   ]
  },
  {
   "cell_type": "code",
   "execution_count": 126,
   "id": "6sZ2mMBtuq10",
   "metadata": {
    "colab": {
     "base_uri": "https://localhost:8080/"
    },
    "id": "6sZ2mMBtuq10",
    "outputId": "72e1a3ec-eabe-443d-d752-2f738aa945bc"
   },
   "outputs": [
    {
     "data": {
      "text/plain": [
       "-0.03571155667304993"
      ]
     },
     "execution_count": 126,
     "metadata": {},
     "output_type": "execute_result"
    }
   ],
   "source": [
    "list(so_database.embeddings.values[0])[0]"
   ]
  },
  {
   "cell_type": "code",
   "execution_count": 128,
   "id": "pAKPRoiKsQ_w",
   "metadata": {
    "colab": {
     "base_uri": "https://localhost:8080/"
    },
    "id": "pAKPRoiKsQ_w",
    "outputId": "ba35fff3-cbdf-4cfb-97a0-74fa89b1dd86"
   },
   "outputs": [
    {
     "data": {
      "text/plain": [
       "(array([[0.58799547, 0.59202437, 0.56660594, ..., 0.49681789, 0.5201778 ,\n",
       "         0.48240689]]),\n",
       " (1, 2000),\n",
       " numpy.ndarray)"
      ]
     },
     "execution_count": 128,
     "metadata": {},
     "output_type": "execute_result"
    }
   ],
   "source": [
    "cos_sim_array, cos_sim_array.shape, type(cos_sim_array)"
   ]
  },
  {
   "cell_type": "code",
   "execution_count": 129,
   "id": "1f7f8418-93c4-416e-8df8-b15e96aa7bdf",
   "metadata": {
    "colab": {
     "base_uri": "https://localhost:8080/"
    },
    "id": "1f7f8418-93c4-416e-8df8-b15e96aa7bdf",
    "outputId": "f1957050-d904-4202-f481-6529341a8362"
   },
   "outputs": [
    {
     "data": {
      "text/plain": [
       "(1, 2000)"
      ]
     },
     "execution_count": 129,
     "metadata": {},
     "output_type": "execute_result"
    }
   ],
   "source": [
    "cos_sim_array.shape"
   ]
  },
  {
   "cell_type": "markdown",
   "id": "582821c0-b31b-43ef-814e-5e5534b2d23c",
   "metadata": {
    "id": "582821c0-b31b-43ef-814e-5e5534b2d23c"
   },
   "source": [
    "Once we have a similarity value between our query embedding and each of the database embeddings, we can extract the index with the highest value. This embedding corresponds to the Stack Overflow post that is most similiar to the question \"How to concat dataframes pandas\"."
   ]
  },
  {
   "cell_type": "code",
   "execution_count": 130,
   "id": "45c4a855-e9bc-4283-b93a-13a76fed5adc",
   "metadata": {
    "id": "45c4a855-e9bc-4283-b93a-13a76fed5adc"
   },
   "outputs": [],
   "source": [
    "# cosine similarity\n",
    "index_doc_cosine = np.argmax(cos_sim_array)"
   ]
  },
  {
   "cell_type": "code",
   "execution_count": 131,
   "id": "b47bc5ad-c085-4b4e-9984-8bdb2afa05eb",
   "metadata": {
    "id": "b47bc5ad-c085-4b4e-9984-8bdb2afa05eb"
   },
   "outputs": [],
   "source": [
    "# distances\n",
    "index_doc_distances = distances_argmin([query_embedding],\n",
    "                                       list(so_database.embeddings.values))[0]"
   ]
  },
  {
   "cell_type": "code",
   "execution_count": 123,
   "id": "5aa5ae70-9109-4ff6-b5bc-e0e587abe177",
   "metadata": {
    "colab": {
     "base_uri": "https://localhost:8080/",
     "height": 143
    },
    "id": "5aa5ae70-9109-4ff6-b5bc-e0e587abe177",
    "outputId": "2293747e-3631-433c-d85e-6132e0a33e3e"
   },
   "outputs": [
    {
     "data": {
      "application/vnd.google.colaboratory.intrinsic+json": {
       "type": "string"
      },
      "text/plain": [
       "'Add a column name to a panda dataframe (multi index)<p>I concatenate series objects, with existing column names together to a DataFrame in Pandas. The result looks like this:</p>\\n<pre><code>pd.concat([x, y, z], axis=1)\\n\\n\\n   X   |  Y   |   Z\\n  -------------------\\n  data | data | data\\n</code></pre>\\n<p>Now I want to insert another column name A above the column names X, Y, Z, for the whole DataFrame. This should look like this at the end:</p>\\n<pre><code>   A                  # New Column Name\\n  ------------------- \\n   X   |  Y   |   Z   # Old Column Names\\n  -------------------\\n  data | data | data \\n</code></pre>\\n<p>So far I did not find a solution how to insert a column name A above the existing columns names X, Y, Z for the complete DataFrame. I would be grateful for any help. :)</p>'"
      ]
     },
     "execution_count": 123,
     "metadata": {},
     "output_type": "execute_result"
    }
   ],
   "source": [
    "so_database.input_text[index_doc_cosine]"
   ]
  },
  {
   "cell_type": "code",
   "execution_count": 91,
   "id": "8d957e90-c952-4d09-bca7-dbc7b9d3b2fb",
   "metadata": {
    "colab": {
     "base_uri": "https://localhost:8080/",
     "height": 71
    },
    "id": "8d957e90-c952-4d09-bca7-dbc7b9d3b2fb",
    "outputId": "80652df4-40a3-4264-f4de-5327d34a04b2"
   },
   "outputs": [
    {
     "data": {
      "application/vnd.google.colaboratory.intrinsic+json": {
       "type": "string"
      },
      "text/plain": [
       "\"<p>Let's try with <code>MultiIndex.from_product</code> to create <code>MultiIndex</code> columns:</p>\\n<pre><code>df = pd.concat([x, y, z], axis=1)\\ndf.columns = pd.MultiIndex.from_product([['A'], df.columns])\\n</code></pre>\\n<hr />\\n<pre><code>A            \\nX     Y     Z\\ndata  data  data\\n</code></pre>\""
      ]
     },
     "execution_count": 91,
     "metadata": {},
     "output_type": "execute_result"
    }
   ],
   "source": [
    "so_database.output_text[index_doc_cosine]\n",
    "# unfinished product"
   ]
  },
  {
   "cell_type": "markdown",
   "id": "7117a803-e2d0-460e-a431-2aeaf6c35a78",
   "metadata": {
    "id": "7117a803-e2d0-460e-a431-2aeaf6c35a78"
   },
   "source": [
    "## Question answering with relevant context\n",
    "\n",
    "Now that we have found the most simliar Stack Overflow question, we can take the corresponding answer and use an LLM to produce a more conversational response.\n",
    "\n",
    "\n",
    "### Noe, introducing LLM"
   ]
  },
  {
   "cell_type": "markdown",
   "id": "15ReKXQRyPSX",
   "metadata": {
    "id": "15ReKXQRyPSX"
   },
   "source": []
  },
  {
   "cell_type": "code",
   "execution_count": 137,
   "id": "224a6e5c-360d-4652-8082-a23a0e4eb445",
   "metadata": {
    "id": "224a6e5c-360d-4652-8082-a23a0e4eb445"
   },
   "outputs": [],
   "source": [
    "from vertexai.language_models import TextGenerationModel\n",
    "\n",
    "## Google LLM, under the llms family of Gemini"
   ]
  },
  {
   "cell_type": "code",
   "execution_count": 138,
   "id": "61d1378f-8d7c-41f1-be5a-957a2855ebd0",
   "metadata": {
    "id": "61d1378f-8d7c-41f1-be5a-957a2855ebd0"
   },
   "outputs": [],
   "source": [
    "generation_model = TextGenerationModel.from_pretrained(\n",
    "    \"text-bison@001\")\n",
    "\n"
   ]
  },
  {
   "cell_type": "code",
   "execution_count": 139,
   "id": "e1069f11-18f2-4f35-ade2-08cbde27a6c9",
   "metadata": {
    "id": "e1069f11-18f2-4f35-ade2-08cbde27a6c9"
   },
   "outputs": [],
   "source": [
    "context = \"Question: \" + so_database.input_text[index_doc_cosine] +\\\n",
    "\"\\n Answer: \" + so_database.output_text[index_doc_cosine]"
   ]
  },
  {
   "cell_type": "code",
   "execution_count": 140,
   "id": "f19e0aba-8d5f-4997-b754-73e32d54b27e",
   "metadata": {
    "id": "f19e0aba-8d5f-4997-b754-73e32d54b27e"
   },
   "outputs": [],
   "source": [
    "prompt = f\"\"\"Here is the context: {context}\n",
    "             Using the relevant information from the context,\n",
    "             provide an answer to the query: {query}.\"\n",
    "             If the context doesn't provide \\\n",
    "             any relevant information, \\\n",
    "             answer with \\\n",
    "             [I couldn't find a good match in the \\\n",
    "             document database for your query]\n",
    "             \"\"\""
   ]
  },
  {
   "cell_type": "code",
   "execution_count": 142,
   "id": "8460c33c-24db-4698-9e2c-509ff7629c73",
   "metadata": {
    "colab": {
     "base_uri": "https://localhost:8080/",
     "height": 340
    },
    "id": "8460c33c-24db-4698-9e2c-509ff7629c73",
    "outputId": "51c42bb5-fb23-4a5d-8178-d7371a234168"
   },
   "outputs": [
    {
     "data": {
      "text/markdown": [
       "To concatenate dataframes in pandas, you can use the `pd.concat()` function. This function takes a list of dataframes as input and concatenates them along the specified axis. The default axis is 0, which means that the dataframes will be concatenated along the rows. To concatenate dataframes along the columns, you can specify the `axis` argument to be 1.\n",
       "\n",
       "For example, the following code concatenates two dataframes, `df1` and `df2`, along the rows:\n",
       "\n",
       "```\n",
       "df = pd.concat([df1, df2])\n",
       "```\n",
       "\n",
       "The following code concatenates `df1` and `df2` along the columns:\n",
       "\n",
       "```\n",
       "df = pd.concat([df1, df2], axis=1)\n",
       "```\n",
       "\n",
       "You can also use the `pd.concat()` function to concatenate dataframes with different column names. To do this, you can specify the `ignore_index` argument to be True. This will cause the index of the concatenated dataframe to be reset to start from 0.\n",
       "\n",
       "For example, the following code concatenates two dataframes, `df1` and `df2`, with different column names:\n",
       "\n",
       "```\n",
       "df = pd.concat([df1, df2], ignore_index=True)\n",
       "```\n",
       "\n",
       "The resulting dataframe will have the following columns:\n",
       "\n",
       "```\n",
       "0   1\n",
       "0   a   b\n",
       "1   c   d\n",
       "```"
      ],
      "text/plain": [
       "<IPython.core.display.Markdown object>"
      ]
     },
     "metadata": {},
     "output_type": "display_data"
    }
   ],
   "source": [
    "from IPython.display import Markdown, display\n",
    "\n",
    "t_value = 0.2\n",
    "response = generation_model.predict(prompt = prompt,\n",
    "                                    temperature = t_value,\n",
    "                                    max_output_tokens = 1024)\n",
    "\n",
    "display(Markdown(response.text))\n",
    "\n",
    "# took the answer from stackoverflow and use"
   ]
  },
  {
   "cell_type": "markdown",
   "id": "82a6ad63-2511-411b-b25f-33ddc2eb06fd",
   "metadata": {
    "id": "82a6ad63-2511-411b-b25f-33ddc2eb06fd"
   },
   "source": [
    "## When the documents don't provide useful information\n",
    "\n",
    "Our current workflow returns the most similar question from our embeddings database. But what do we do when that question isn't actually relevant when answering the user query? In other words, we don't have a good match in our database.\n",
    "\n",
    "In addition to providing a more conversational response, LLMs can help us handle these cases where the most similiar document isn't actually a reasonable answer to the user's query."
   ]
  },
  {
   "cell_type": "code",
   "execution_count": 143,
   "id": "f2a14e45-63be-4f5d-978c-046de430be41",
   "metadata": {
    "id": "f2a14e45-63be-4f5d-978c-046de430be41"
   },
   "outputs": [],
   "source": [
    "query = ['How to make the perfect lasagna']"
   ]
  },
  {
   "cell_type": "code",
   "execution_count": 144,
   "id": "232818b5-281b-42df-a41a-a4a11e720113",
   "metadata": {
    "id": "232818b5-281b-42df-a41a-a4a11e720113"
   },
   "outputs": [],
   "source": [
    "query_embedding = embedding_model.get_embeddings(query)[0].values"
   ]
  },
  {
   "cell_type": "code",
   "execution_count": 145,
   "id": "000c1979-bb51-4dbd-921a-53d43b603a1b",
   "metadata": {
    "id": "000c1979-bb51-4dbd-921a-53d43b603a1b"
   },
   "outputs": [],
   "source": [
    "cos_sim_array = cosine_similarity([query_embedding],\n",
    "                                  list(so_database.embeddings.values))"
   ]
  },
  {
   "cell_type": "code",
   "execution_count": 146,
   "id": "1ccfded1-bf83-4d01-bdfa-a7dfd9f7eeee",
   "metadata": {
    "colab": {
     "base_uri": "https://localhost:8080/"
    },
    "id": "1ccfded1-bf83-4d01-bdfa-a7dfd9f7eeee",
    "outputId": "13434247-20f6-48bc-e269-929df8d866dc"
   },
   "outputs": [
    {
     "data": {
      "text/plain": [
       "array([[0.52794666, 0.49346994, 0.50784253, ..., 0.45782265, 0.5483748 ,\n",
       "        0.49693718]])"
      ]
     },
     "execution_count": 146,
     "metadata": {},
     "output_type": "execute_result"
    }
   ],
   "source": [
    "cos_sim_array"
   ]
  },
  {
   "cell_type": "code",
   "execution_count": 147,
   "id": "c9c1e7ff-8db2-4f21-a3d3-7fdd2084bfc1",
   "metadata": {
    "id": "c9c1e7ff-8db2-4f21-a3d3-7fdd2084bfc1"
   },
   "outputs": [],
   "source": [
    "index_doc = np.argmax(cos_sim_array)"
   ]
  },
  {
   "cell_type": "code",
   "execution_count": 148,
   "id": "f6b607d8-af01-4f0b-8ab6-53d9b7e9fba4",
   "metadata": {
    "id": "f6b607d8-af01-4f0b-8ab6-53d9b7e9fba4"
   },
   "outputs": [],
   "source": [
    "context = so_database.input_text[index_doc] + \\\n",
    "\"\\n Answer: \" + so_database.output_text[index_doc]"
   ]
  },
  {
   "cell_type": "code",
   "execution_count": 149,
   "id": "9e5688d3-12ae-4472-8bb8-3e0496424258",
   "metadata": {
    "id": "9e5688d3-12ae-4472-8bb8-3e0496424258"
   },
   "outputs": [],
   "source": [
    "prompt = f\"\"\"Here is the context: {context}\n",
    "             Using the relevant information from the context,\n",
    "             provide an answer to the query: {query}.\"\n",
    "             If the context doesn't provide \\\n",
    "             any relevant information, answer with\n",
    "             [I couldn't find a good match in the \\\n",
    "             document database for your query]\n",
    "             \"\"\""
   ]
  },
  {
   "cell_type": "markdown",
   "id": "ugLEviIr0oZ6",
   "metadata": {
    "id": "ugLEviIr0oZ6"
   },
   "source": []
  },
  {
   "cell_type": "code",
   "execution_count": 150,
   "id": "3685dd6a-7d08-4348-8ceb-7e1a640bfb2a",
   "metadata": {
    "colab": {
     "base_uri": "https://localhost:8080/",
     "height": 46
    },
    "id": "3685dd6a-7d08-4348-8ceb-7e1a640bfb2a",
    "outputId": "a07fdbc4-7db4-413d-9784-92e7aa149b9d"
   },
   "outputs": [
    {
     "data": {
      "text/markdown": [
       "I couldn't find a good match in the document database for your query."
      ],
      "text/plain": [
       "<IPython.core.display.Markdown object>"
      ]
     },
     "metadata": {},
     "output_type": "display_data"
    }
   ],
   "source": [
    "t_value = 0.2\n",
    "response = generation_model.predict(prompt = prompt,\n",
    "                                    temperature = t_value,\n",
    "                                    max_output_tokens = 1024)\n",
    "display(Markdown(response.text))\n",
    "\n",
    "# just one sentence answer"
   ]
  },
  {
   "cell_type": "markdown",
   "id": "OF_S10Fs0qit",
   "metadata": {
    "id": "OF_S10Fs0qit"
   },
   "source": [
    "## Exhaustive serch over a collection fo embedding vectors is infeasible for large datasets.\n",
    "\n",
    "## Instead, use algorithms that perform approximate matches\n",
    "\n",
    "## ScaNN (Scalable Nearest neighbors) is a method for efficient vector similarity search at scale."
   ]
  },
  {
   "cell_type": "markdown",
   "id": "07ca1481-e353-46b0-8982-81db8eb23567",
   "metadata": {
    "id": "07ca1481-e353-46b0-8982-81db8eb23567"
   },
   "source": [
    "## Scale with approximate nearest neighbor search\n",
    "\n",
    "When dealing with a large dataset, computing the similarity between the query and each original embedded document in the database might be too expensive. Instead of doing that, you can use approximate nearest neighbor algorithms that find the most similar documents in a more efficient way.\n",
    "\n",
    "These algorithms usually work by creating an index for your data, and using that index to find the most similar documents for your queries. In this notebook, we will use ScaNN to demonstrate the benefits of efficient vector similarity search. First, you have to create an index for your embedded dataset."
   ]
  },
  {
   "cell_type": "code",
   "execution_count": 155,
   "id": "320eee3a-4fdd-42e0-bfff-6c4504499447",
   "metadata": {
    "id": "320eee3a-4fdd-42e0-bfff-6c4504499447"
   },
   "outputs": [],
   "source": [
    "import scann\n",
    "from utilss_6 import create_index\n",
    "\n",
    "#Create index using scann\n",
    "index = create_index(embedded_dataset = question_embeddings,\n",
    "                     num_leaves = 25,\n",
    "                     num_leaves_to_search = 10,\n",
    "                     training_sample_size = 2000)"
   ]
  },
  {
   "cell_type": "code",
   "execution_count": 156,
   "id": "2bdb20d1-6f09-4afc-9ce3-be927b48aa15",
   "metadata": {
    "id": "2bdb20d1-6f09-4afc-9ce3-be927b48aa15"
   },
   "outputs": [],
   "source": [
    "query = \"how to concat dataframes pandas\""
   ]
  },
  {
   "cell_type": "code",
   "execution_count": 159,
   "id": "e5a3d624-b505-48a3-a639-ba976f57d920",
   "metadata": {
    "colab": {
     "base_uri": "https://localhost:8080/"
    },
    "id": "e5a3d624-b505-48a3-a639-ba976f57d920",
    "outputId": "d8f208b6-6836-4ab5-d28e-41077432b171"
   },
   "outputs": [
    {
     "name": "stdout",
     "output_type": "stream",
     "text": [
      "[docid:1143] [0.778209388256073] -- Add a column name to a panda dataframe (multi index)<p>I concatenate series objects, with existing column names together to a...\n",
      "Latency (ms): 135.92839241027832\n"
     ]
    }
   ],
   "source": [
    "import time\n",
    "\n",
    "start = time.time()\n",
    "query_embedding = embedding_model.get_embeddings([query])[0].values\n",
    "neighbors, distances = index.search(query_embedding, final_num_neighbors = 1)\n",
    "end = time.time()\n",
    "\n",
    "for id, dist in zip(neighbors, distances):\n",
    "    print(f\"[docid:{id}] [{dist}] -- {so_database.input_text[int(id)][:125]}...\")\n",
    "\n",
    "print(\"Latency (ms):\", 1000 * (end - start))"
   ]
  },
  {
   "cell_type": "code",
   "execution_count": 161,
   "id": "e44cec14-4001-4207-8ee2-03917482d94a",
   "metadata": {
    "colab": {
     "base_uri": "https://localhost:8080/"
    },
    "id": "e44cec14-4001-4207-8ee2-03917482d94a",
    "outputId": "60eb1e34-414d-4f86-849d-eeaa5c144843"
   },
   "outputs": [
    {
     "name": "stdout",
     "output_type": "stream",
     "text": [
      "[docid:1143] [0.7782096307231192] -- Add a column name to a panda dataframe (multi index)<p>I concatenate series objects, with existing column names together to a...\n",
      "Latency (ms): 228.19232940673828\n"
     ]
    }
   ],
   "source": [
    "start = time.time()\n",
    "query_embedding = embedding_model.get_embeddings([query])[0].values\n",
    "cos_sim_array = cosine_similarity([query_embedding], list(so_database.embeddings.values))\n",
    "index_doc = np.argmax(cos_sim_array)\n",
    "end = time.time()\n",
    "\n",
    "print(f\"[docid:{index_doc}] [{np.max(cos_sim_array)}] -- {so_database.input_text[int(index_doc)][:125]}...\")\n",
    "\n",
    "print(\"Latency (ms):\", 1000 * (end - start))\n",
    "\n",
    "\n",
    "# the same result with exhaustive search and ScaNN\n",
    "# same file identified"
   ]
  },
  {
   "cell_type": "markdown",
   "id": "zNFaq5mB2bYe",
   "metadata": {
    "id": "zNFaq5mB2bYe"
   },
   "source": [
    "## Summary:\n",
    "\n",
    "Q&A with semantic search\n",
    "\n",
    "Stack Overflow Questions\n",
    "+      \n",
    "User Query\n",
    "-----> Embedding model --> Embedded query  + Embedded quetions\n",
    "\n",
    "-----> Embedded quetions --> Nearest Neighbor Search <------ Embedded query\n",
    "\n",
    "Nearest Neighbor Search --> Stack Overflow answers / or any CSV or external database"
   ]
  },
  {
   "cell_type": "code",
   "execution_count": null,
   "id": "f4c2f366-e8ac-4da7-8d40-c970d171b7f8",
   "metadata": {
    "id": "f4c2f366-e8ac-4da7-8d40-c970d171b7f8"
   },
   "outputs": [],
   "source": []
  }
 ],
 "metadata": {
  "colab": {
   "provenance": []
  },
  "kernelspec": {
   "display_name": "Python 3 (ipykernel)",
   "language": "python",
   "name": "python3"
  },
  "language_info": {
   "codemirror_mode": {
    "name": "ipython",
    "version": 3
   },
   "file_extension": ".py",
   "mimetype": "text/x-python",
   "name": "python",
   "nbconvert_exporter": "python",
   "pygments_lexer": "ipython3",
   "version": "3.11.0"
  }
 },
 "nbformat": 4,
 "nbformat_minor": 5
}
