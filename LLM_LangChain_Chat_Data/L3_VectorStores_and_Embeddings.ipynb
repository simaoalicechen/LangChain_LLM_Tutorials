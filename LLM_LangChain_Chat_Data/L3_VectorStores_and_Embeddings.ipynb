{
 "cells": [
  {
   "cell_type": "code",
   "execution_count": 1,
   "metadata": {
    "id": "xelufNxXq7NZ"
   },
   "outputs": [],
   "source": [
    "# openai.api_key  = os.environ['OPENAI_API_KEY']"
   ]
  },
  {
   "cell_type": "markdown",
   "metadata": {
    "id": "smDk90XixDGK"
   },
   "source": []
  },
  {
   "cell_type": "code",
   "execution_count": 23,
   "metadata": {
    "id": "sFUOCJ7qtuy0"
   },
   "outputs": [],
   "source": [
    "# !pip install openai\n",
    "# !pip install python-dotenv\n",
    "# !pip install PyMuPDF\n",
    "# !pip install langchain_community\n",
    "# !pip install pypdf\n"
   ]
  },
  {
   "cell_type": "markdown",
   "metadata": {
    "id": "O9YPlngorKu1"
   },
   "source": [
    "# Vector Stores\n",
    "\n",
    "## Document Loading\n",
    "### URLs PDF / DB ==> Documents\n",
    "## Splitting Splits\n",
    "## Storage  ==> Vector Store"
   ]
  },
  {
   "cell_type": "markdown",
   "metadata": {
    "id": "8fAajGkpwBHT"
   },
   "source": [
    "## Embeddings:\n",
    "### Embedding vector captures content/meaning\n",
    "### Text with similar content will have similar vectors"
   ]
  },
  {
   "cell_type": "markdown",
   "metadata": {
    "id": "hC8YBz9JwKN4"
   },
   "source": [
    "1) My dog Rover likes to chase squirrels.  \\\n",
    "2) Fluffy, my cat, refuses to eat from a can. \\\n",
    "3) The chevy Bolt accelerates to 60mph in 6.7 seconds. \\"
   ]
  },
  {
   "cell_type": "markdown",
   "metadata": {
    "id": "O3xeJgaLwbLO"
   },
   "source": [
    "sentence of 1) and 2) are similar, but the 3) one is not very similar to the first 2. \\\n",
    "Vector Store is a database where we can try to find the document and compare all the vectors in the store.\n",
    "\n",
    "We then find the relationships through LLM to understand them."
   ]
  },
  {
   "cell_type": "code",
   "execution_count": 47,
   "metadata": {
    "id": "rs4uPl5fwJpF"
   },
   "outputs": [],
   "source": [
    "import cv2\n",
    "from matplotlib import pyplot as plt"
   ]
  },
  {
   "cell_type": "markdown",
   "metadata": {
    "id": "Ua9q6_LCriKo"
   },
   "source": [
    "# Vectorstores and Embeddings\n",
    "\n",
    "Recall the overall workflow for retrieval augmented generation (RAG):"
   ]
  },
  {
   "cell_type": "code",
   "execution_count": 4,
   "metadata": {
    "colab": {
     "base_uri": "https://localhost:8080/",
     "height": 183
    },
    "id": "DoUv3csDrhAQ",
    "outputId": "9920e736-3259-4af9-8e56-6765a6f99b37"
   },
   "outputs": [
    {
     "data": {
      "image/png": "[encoded data removed]",
      "text/plain": [
       "<Figure size 640x480 with 1 Axes>"
      ]
     },
     "metadata": {},
     "output_type": "display_data"
    }
   ],
   "source": [
    "# !sample_data/Image.30.22 PM.png\n",
    "img = cv2.imread('sample_data/Image.30.22 PM.png')\n",
    "img = cv2.cvtColor(img, cv2.COLOR_BGR2RGB)\n",
    "plt.imshow(img)\n",
    "plt.axis('off')\n",
    "plt.show()\n"
   ]
  },
  {
   "cell_type": "code",
   "execution_count": 33,
   "metadata": {
    "id": "NeklGUfXs9BS"
   },
   "outputs": [],
   "source": [
    "import os\n",
    "import openai\n",
    "import sys\n",
    "sys.path.append('../..')\n",
    "\n",
    "from dotenv import load_dotenv, find_dotenv\n",
    "_ = load_dotenv(find_dotenv()) # read local .env file\n",
    "\n",
    "openai.api_key  = os.environ['OPENAI_API_KEY']"
   ]
  },
  {
   "cell_type": "markdown",
   "metadata": {
    "id": "VSivn0HSt-fi"
   },
   "source": [
    "### We just discussed `Document Loading` and `Splitting`."
   ]
  },
  {
   "cell_type": "code",
   "execution_count": 27,
   "metadata": {
    "id": "lFQv6SFOtU_f"
   },
   "outputs": [],
   "source": [
    "from langchain.document_loaders import PyPDFLoader\n",
    "\n",
    "# Load PDF\n",
    "loaders = [\n",
    "    # Duplicate documents on purpose - messy data\n",
    "    PyPDFLoader(\"sample_data/The History of Pret A Manger_ From a Single Shop to a Global Phenomenon.pdf\"),\n",
    "    PyPDFLoader(\"sample_data/The History of Starbucks.pdf\")\n",
    "]\n",
    "docs = []\n",
    "for loader in loaders:\n",
    "    docs.extend(loader.load())"
   ]
  },
  {
   "cell_type": "code",
   "execution_count": 28,
   "metadata": {
    "id": "amlOOfKDuD8r"
   },
   "outputs": [],
   "source": [
    "# split\n",
    "from langchain.text_splitter import RecursiveCharacterTextSplitter\n",
    "text_splitter = RecursiveCharacterTextSplitter(\n",
    "    chunk_size = 1500,\n",
    "    chunk_overlap = 150\n",
    ")"
   ]
  },
  {
   "cell_type": "code",
   "execution_count": 29,
   "metadata": {
    "id": "1FK6xLfwwAEr"
   },
   "outputs": [],
   "source": [
    "splits = text_splitter.split_documents(docs)"
   ]
  },
  {
   "cell_type": "code",
   "execution_count": 30,
   "metadata": {
    "colab": {
     "base_uri": "https://localhost:8080/"
    },
    "id": "KiWf-DhWw1_z",
    "outputId": "843e6dba-636f-4118-e3c8-fd2707435aab"
   },
   "outputs": [
    {
     "data": {
      "text/plain": [
       "13"
      ]
     },
     "execution_count": 30,
     "metadata": {},
     "output_type": "execute_result"
    }
   ],
   "source": [
    "len(splits)"
   ]
  },
  {
   "cell_type": "markdown",
   "metadata": {
    "id": "D0yz4cgrB9no"
   },
   "source": [
    "## Will use OpenAI Embeddings to create these embeddings"
   ]
  },
  {
   "cell_type": "code",
   "execution_count": 34,
   "metadata": {
    "id": "jEVb60tJw7q-"
   },
   "outputs": [],
   "source": [
    "from langchain.embeddings.openai import OpenAIEmbeddings\n",
    "embedding = OpenAIEmbeddings(openai_api_key = openai.api_key)"
   ]
  },
  {
   "cell_type": "code",
   "execution_count": 35,
   "metadata": {
    "id": "1Qb66b0Xw_iC"
   },
   "outputs": [],
   "source": [
    "splits = text_splitter.split_documents(docs)"
   ]
  },
  {
   "cell_type": "code",
   "execution_count": 36,
   "metadata": {
    "colab": {
     "base_uri": "https://localhost:8080/"
    },
    "id": "mbkgToNJxScx",
    "outputId": "fc83709a-973e-4dd0-d365-cc4a4e0b29f7"
   },
   "outputs": [
    {
     "data": {
      "text/plain": [
       "13"
      ]
     },
     "execution_count": 36,
     "metadata": {},
     "output_type": "execute_result"
    }
   ],
   "source": [
    "len(splits)"
   ]
  },
  {
   "cell_type": "markdown",
   "metadata": {
    "id": "ymlcX6QHxV2c"
   },
   "source": [
    "## Embeddings\n",
    "\n",
    "Let's take our splits and embed them."
   ]
  },
  {
   "cell_type": "code",
   "execution_count": 38,
   "metadata": {
    "id": "qFEpnvPJxTdw"
   },
   "outputs": [],
   "source": [
    "from langchain.embeddings.openai import OpenAIEmbeddings\n",
    "embedding = OpenAIEmbeddings(openai_api_key = openai.api_key)\n"
   ]
  },
  {
   "cell_type": "code",
   "execution_count": 56,
   "metadata": {
    "id": "cIZao_4qxXGp"
   },
   "outputs": [],
   "source": [
    "sentence1 = \"i like dogs\"\n",
    "sentence2 = \"i like cats\"\n",
    "sentence3 = \"the weather is ugly outside\""
   ]
  },
  {
   "cell_type": "code",
   "execution_count": 50,
   "metadata": {
    "id": "yOduxq3uzBn2"
   },
   "outputs": [],
   "source": [
    "# !pip install tiktoken"
   ]
  },
  {
   "cell_type": "code",
   "execution_count": 57,
   "metadata": {
    "id": "fiS2izb4y6rG"
   },
   "outputs": [],
   "source": [
    "embedding1 = embedding.embed_query(sentence1)\n",
    "embedding2 = embedding.embed_query(sentence2)\n",
    "embedding3 = embedding.embed_query(sentence3)"
   ]
  },
  {
   "cell_type": "code",
   "execution_count": 52,
   "metadata": {
    "id": "ApwoYuyhy-Kt"
   },
   "outputs": [],
   "source": [
    "import numpy as np"
   ]
  },
  {
   "cell_type": "code",
   "execution_count": 59,
   "metadata": {
    "colab": {
     "base_uri": "https://localhost:8080/"
    },
    "id": "Z9LtYRerzFZ2",
    "outputId": "a3209737-d01e-47a7-c788-22528bbf6ab7"
   },
   "outputs": [
    {
     "data": {
      "text/plain": [
       "0.9199654768865412"
      ]
     },
     "execution_count": 59,
     "metadata": {},
     "output_type": "execute_result"
    }
   ],
   "source": [
    "np.dot(embedding1, embedding2)"
   ]
  },
  {
   "cell_type": "code",
   "execution_count": 60,
   "metadata": {
    "colab": {
     "base_uri": "https://localhost:8080/"
    },
    "id": "zIt-cOr9zHoy",
    "outputId": "8876458c-45df-40d7-db98-f8b10915984e"
   },
   "outputs": [
    {
     "data": {
      "text/plain": [
       "0.7635830547730189"
      ]
     },
     "execution_count": 60,
     "metadata": {},
     "output_type": "execute_result"
    }
   ],
   "source": [
    "np.dot(embedding1, embedding3)"
   ]
  },
  {
   "cell_type": "code",
   "execution_count": 61,
   "metadata": {
    "colab": {
     "base_uri": "https://localhost:8080/"
    },
    "id": "sm6tIaD6zI6g",
    "outputId": "23df966b-fda7-4a57-f127-5cead68640e9"
   },
   "outputs": [
    {
     "data": {
      "text/plain": [
       "0.7739155252390244"
      ]
     },
     "execution_count": 61,
     "metadata": {},
     "output_type": "execute_result"
    }
   ],
   "source": [
    "np.dot(embedding2, embedding3)"
   ]
  },
  {
   "cell_type": "code",
   "execution_count": 61,
   "metadata": {
    "id": "EAY_ey3fzKOo"
   },
   "outputs": [],
   "source": []
  },
  {
   "cell_type": "code",
   "execution_count": null,
   "metadata": {
    "id": "QIv7AlAhDtkW"
   },
   "outputs": [],
   "source": []
  },
  {
   "cell_type": "markdown",
   "metadata": {
    "id": "TXhDHGCQDuEo"
   },
   "source": [
    "## Vectorstores"
   ]
  },
  {
   "cell_type": "code",
   "execution_count": 63,
   "metadata": {
    "id": "Ib2Me2i2DuaK"
   },
   "outputs": [],
   "source": [
    "# ! pip install chromadb"
   ]
  },
  {
   "cell_type": "code",
   "execution_count": 64,
   "metadata": {
    "id": "E4hikUl2DvtT"
   },
   "outputs": [],
   "source": [
    "from langchain.vectorstores import Chroma"
   ]
  },
  {
   "cell_type": "code",
   "execution_count": 67,
   "metadata": {
    "id": "ft3AwTHvD8Lf"
   },
   "outputs": [],
   "source": [
    "persist_directory = 'sample_data/chroma/'"
   ]
  },
  {
   "cell_type": "code",
   "execution_count": 68,
   "metadata": {
    "id": "5DZhWGShD9gR"
   },
   "outputs": [],
   "source": [
    "!rm -rf ./sample_data/chroma\n",
    "# remove old database files if any just to make sure"
   ]
  },
  {
   "cell_type": "code",
   "execution_count": 69,
   "metadata": {
    "id": "aze6LJs7D_Cy"
   },
   "outputs": [],
   "source": [
    "vectordb = Chroma.from_documents(\n",
    "    documents=splits,\n",
    "    embedding=embedding,\n",
    "    persist_directory=persist_directory\n",
    ")"
   ]
  },
  {
   "cell_type": "code",
   "execution_count": 70,
   "metadata": {
    "colab": {
     "base_uri": "https://localhost:8080/"
    },
    "id": "n0WDufpDELtX",
    "outputId": "f1a93ef0-34bf-4ca5-c9a3-a6a890dedcd4"
   },
   "outputs": [
    {
     "name": "stdout",
     "output_type": "stream",
     "text": [
      "13\n"
     ]
    }
   ],
   "source": [
    "print(vectordb._collection.count())"
   ]
  },
  {
   "cell_type": "code",
   "execution_count": 86,
   "metadata": {
    "id": "lZGw_AWAEN7e"
   },
   "outputs": [],
   "source": [
    "question = \"How long old is Starbucks this year?\""
   ]
  },
  {
   "cell_type": "code",
   "execution_count": 87,
   "metadata": {
    "id": "566H90RYEPWO"
   },
   "outputs": [],
   "source": [
    "docs = vectordb.similarity_search(question,k=3)"
   ]
  },
  {
   "cell_type": "code",
   "execution_count": 88,
   "metadata": {
    "colab": {
     "base_uri": "https://localhost:8080/"
    },
    "id": "UtgaUwA1EQaW",
    "outputId": "3840e0e4-442b-4705-8a0e-980872b285a3"
   },
   "outputs": [
    {
     "data": {
      "text/plain": [
       "3"
      ]
     },
     "execution_count": 88,
     "metadata": {},
     "output_type": "execute_result"
    }
   ],
   "source": [
    "len(docs)"
   ]
  },
  {
   "cell_type": "code",
   "execution_count": 89,
   "metadata": {
    "colab": {
     "base_uri": "https://localhost:8080/",
     "height": 268
    },
    "id": "vEZjnP4LEZFI",
    "outputId": "21fa9991-7b7a-480a-85d7-33a0c55b8ae2"
   },
   "outputs": [
    {
     "data": {
      "application/vnd.google.colaboratory.intrinsic+json": {
       "type": "string"
      },
      "text/plain": [
       "'of\\nturning\\nStarbucks\\ninto\\na\\nchain\\nof\\nespresso\\nbars\\ndidn\\'t\\ninitially\\nalign\\nwith\\nthe\\nfounders\\'\\ngoals.\\nUndeterred,\\nSchultz\\nleft\\nStarbucks\\nin\\n1985\\nto\\nstart\\nhis\\nown\\ncoffee\\ncompany,\\nIl\\nGiornale,\\nwhich\\nwas\\nan\\nembodiment\\nof\\nthe\\nItalian\\ncoffee\\nexperience.\\nHis\\nsuccess\\ncaught\\nthe\\nattention\\nof\\nStarbucks\\'\\noriginal\\nowners,\\nand\\nin\\n1987,\\nSchultz\\nacquired\\nStarbucks\\nwith\\nthe\\nhelp\\nof\\nlocal\\ninvestors,\\nmerging\\nit\\nwith\\nIl\\nGiornale.\\nThis\\nmarked\\nthe\\nbeginning\\nof\\nStarbucks\\nas\\nwe\\nknow\\nit\\ntoday.\\nExpansion\\nand\\nInnovation:\\n1990s\\nand\\nBeyond\\nUnder\\nSchultz’s\\nleadership,\\nStarbucks\\nbegan\\nits\\nrapid\\nexpansion.\\nThe\\nbrand\\'s\\nphilosophy\\nwas\\nto\\ncreate\\na\\n\"third\\nplace\"\\nbetween\\nhome\\nand\\nwork,\\nwhere\\npeople\\ncould\\nrelax,\\nsocialize,\\nand\\nenjoy\\nhigh-quality\\ncoffee.\\nThe\\nfirst\\nStarbucks\\noutside\\nNorth\\nAmerica\\nopened\\nin\\nTokyo\\nin\\n1996,\\nsignaling\\nthe\\ncompany\\'s\\ninternational\\nambitions.\\nStarbucks\\ncontinued\\nto\\ninnovate\\nby\\nintroducing\\na\\nwide\\nrange\\nof\\nbeverages,\\nfood\\nitems,\\nand\\nmerchandise.\\nThe\\nintroduction\\nof\\nthe\\nFrappuccino\\nin\\n1995\\nbecame\\na\\nsignificant\\nhit,\\ncontributing\\nto\\nthe\\nbrand\\'s\\ngrowing\\npopularity.\\nStarbucks\\nalso\\nbecame\\nknown\\nfor\\nits\\nseasonal\\nofferings,\\nsuch\\nas\\nthe\\nPumpkin\\nSpice\\nLatte,\\nwhich\\nbecame\\na\\ncultural\\nphenomenon.\\nChallenges\\nand\\nRebirth'"
      ]
     },
     "execution_count": 89,
     "metadata": {},
     "output_type": "execute_result"
    }
   ],
   "source": [
    "docs[1].page_content"
   ]
  },
  {
   "cell_type": "code",
   "execution_count": 90,
   "metadata": {
    "colab": {
     "base_uri": "https://localhost:8080/",
     "height": 268
    },
    "id": "5AhmeYO2ER1s",
    "outputId": "5daeb2df-2efe-4a6c-a23d-a4dab89d886b"
   },
   "outputs": [
    {
     "data": {
      "application/vnd.google.colaboratory.intrinsic+json": {
       "type": "string"
      },
      "text/plain": [
       "\"Despite\\nits\\nsuccess,\\nStarbucks\\nfaced\\nchallenges\\nin\\nthe\\nlate\\n2000s\\ndue\\nto\\noverexpansion\\nand\\nthe\\neconomic\\ndownturn.\\nThe\\ncompany\\nhad\\nopened\\nthousands\\nof\\nstores\\nglobally,\\nand\\nmany\\nbelieved\\nthat\\nthe\\nrapid\\ngrowth\\nhad\\ndiluted\\nthe\\nbrand's\\nidentity.\\nIn\\n2008,\\nSchultz\\nreturned\\nas\\nCEO\\nto\\nsteer\\nthe\\ncompany\\nthrough\\nthis\\ndifficult\\nperiod.\\nHe\\nimplemented\\na\\nseries\\nof\\nchanges,\\nincluding\\nclosing\\nunderperforming\\nstores,\\nretraining\\nbaristas,\\nand\\nrefocusing\\non\\nthe\\nquality\\nof\\nthe\\ncoffee.\\nThese\\nefforts\\npaid\\noff,\\nand\\nStarbucks\\nemerged\\nstronger,\\nwith\\na\\nrenewed\\nemphasis\\non\\ncustomer\\nexperience\\nand\\nproduct\\nquality.\\nThe\\ncompany\\nalso\\nembraced\\ndigital\\ninnovation,\\nintroducing\\nmobile\\nordering\\nand\\nloyalty\\nprograms\\nthat\\nhave\\nbeen\\nwidely\\nsuccessful.\\nStarbucks\\nToday\\nToday,\\nStarbucks\\noperates\\nover\\n30,000\\nstores\\nin\\nmore\\nthan\\n80\\ncountries.\\nThe\\nbrand\\nhas\\nbecome\\na\\nsymbol\\nof\\nthe\\nglobal\\ncoffee\\nculture,\\nand\\nits\\niconic\\ngreen\\nlogo\\nis\\ninstantly\\nrecognizable\\naround\\nthe\\nworld.\\nStarbucks\\nhas\\nalso\\nexpanded\\nits\\nproduct\\nofferings\\nto\\ninclude\\nteas,\\njuices,\\nand\\na\\nline\\nof\\nready-to-drink\\nbeverages\\navailable\\nin\\ngrocery\\nstores.\\nIn\\naddition\\nto\\nits\\ncoffee\\nempire,\\nStarbucks\\nis\\ncommitted\\nto\\nsocial\\nresponsibility.\\nThe\\ncompany\\nhas\\nset\\nambitious\\ngoals\\nfor\\nsustainability,\\nincluding\\nethical\\nsourcing\\nof\\ncoffee\\nbeans,\\nreducing\\nits\\ncarbon\\nfootprint,\\nand\\ninvesting\\nin\\ncommunity\\nprograms.\\nConclusion\\nFrom\\na\\nsingle\\nstore\\nin\\nSeattle\\nto\\na\\nglobal\\ncoffee\\nempire,\\nStarbucks\\nhas\\nprofoundly\\nimpacted\\nhow\\nthe\\nworld\\nenjoys\\ncoffee.\\nIts\\nsuccess\\nstory\\nis\\na\\ntestament\""
      ]
     },
     "execution_count": 90,
     "metadata": {},
     "output_type": "execute_result"
    }
   ],
   "source": [
    "docs[0].page_content"
   ]
  },
  {
   "cell_type": "markdown",
   "metadata": {
    "id": "i-o0FLnZElmk"
   },
   "source": [
    "Save this so we can use it later!"
   ]
  },
  {
   "cell_type": "code",
   "execution_count": 91,
   "metadata": {
    "id": "16l1ZmpdES3Y"
   },
   "outputs": [],
   "source": [
    "vectordb.persist()"
   ]
  },
  {
   "cell_type": "markdown",
   "metadata": {
    "id": "gG1FGV51ErTp"
   },
   "source": [
    "## Failure modes\n",
    "\n",
    "This seems great, and basic similarity search will get you 80% of the way there very easily.\n",
    "\n",
    "But there are some failure modes that can creep up.\n",
    "\n",
    "Here are some edge cases that can arise - we'll fix them in the next class."
   ]
  },
  {
   "cell_type": "code",
   "execution_count": 94,
   "metadata": {
    "id": "GdSbgv25EpOt"
   },
   "outputs": [],
   "source": [
    "question = \"what did customers say about Pret?\""
   ]
  },
  {
   "cell_type": "code",
   "execution_count": 95,
   "metadata": {
    "id": "Vuk1HZFZEtli"
   },
   "outputs": [],
   "source": [
    "docs = vectordb.similarity_search(question,k=5)"
   ]
  },
  {
   "cell_type": "markdown",
   "metadata": {
    "id": "P55s5V1QEyW7"
   },
   "source": [
    "Notice that we're getting duplicate chunks (because of the duplicate `MachineLearning-Lecture01.pdf` in the index).\n",
    "\n",
    "Semantic search fetches all similar documents, but does not enforce diversity.\n",
    "\n",
    "`docs[0]` and `docs[1]` are indentical."
   ]
  },
  {
   "cell_type": "code",
   "execution_count": 96,
   "metadata": {
    "colab": {
     "base_uri": "https://localhost:8080/"
    },
    "id": "fmk4HcGxEvLB",
    "outputId": "9ddc6dfb-1068-41f9-9f10-220a34c3d550"
   },
   "outputs": [
    {
     "data": {
      "text/plain": [
       "Document(metadata={'page': 0, 'source': 'sample_data/The History of Pret A Manger_ From a Single Shop to a Global Phenomenon.pdf'}, page_content=\"other\\nfast-food\\nchains,\\nPret's\\nfood\\nwas\\nprepared\\ndaily\\non-site\\nin\\neach\\nstore's\\nkitchen,\\nusing\\nnatural\\ningredients\\nwith\\nno\\nartificial\\npreservatives\\nor\\nadditives.\\nThis\\nfocus\\non\\nfreshness\\nand\\nquality\\nresonated\\nwith\\ncustomers,\\nand\\nthe\\nbrand\\nquickly\\ngained\\npopularity.\\nIn\\nthe\\nearly\\n1990s,\\nPret\\nbegan\\nto\\nexpand\\nacross\\nLondon,\\nopening\\nnew\\nstores\\nin\\nkey\\nlocations.\\nBy\\n1996,\\nthe\\nbrand\\nhad\\nattracted\\nthe\\nattention\\nof\\nMcDonald's,\\nwhich\\nacquired\\na\\n33%\\nstake\\nin\\nthe\\ncompany,\\nproviding\\nthe\\ncapital\\nneeded\\nfor\\nfurther\\nexpansion.\\nThis\\npartnership\\nallowed\\nPret\\nto\\nextend\\nits\\nreach\\nbeyond\\nthe\\nUK,\\nwith\\nits\\nfirst\\ninternational\\nstore\\nopening\\nin\\nNew\\nYork\\nCity\\nin\\n2000.\\nInternational\\nPresence\\nThe\\nsuccess\\nof\\nthe\\nNew\\nYork\\nstore\\nmarked\\nthe\\nbeginning\\nof\\nPret\\nA\\nManger's\\nglobal\\nexpansion.\\nOver\\nthe\\nnext\\ntwo\\ndecades,\\nPret\\nopened\\nstores\\nin\\nmajor\\ncities\\nacross\\nthe\\nworld,\\nincluding\\nParis,\\nHong\\nKong,\\nDubai,\\nand\\nSydney.\\nThe\\nbrand's\\ncommitment\\nto\\nquality\\nand\\nfreshness,\\ncombined\\nwith\\nits\\nfocus\\non\\nethical\\nsourcing\\nand\\nsustainability,\\nhelped\\nit\\nto\\nbuild\\na\\nloyal\\ncustomer\\nbase\\nin\\neach\\nnew\\nmarket.\")"
      ]
     },
     "execution_count": 96,
     "metadata": {},
     "output_type": "execute_result"
    }
   ],
   "source": [
    "docs[0]"
   ]
  },
  {
   "cell_type": "code",
   "execution_count": 97,
   "metadata": {
    "colab": {
     "base_uri": "https://localhost:8080/"
    },
    "id": "KegzgwfTE07f",
    "outputId": "50ad8286-0131-4264-e520-5b1bdc77a10d"
   },
   "outputs": [
    {
     "data": {
      "text/plain": [
       "Document(metadata={'page': 1, 'source': 'sample_data/The History of Pret A Manger_ From a Single Shop to a Global Phenomenon.pdf'}, page_content=\"launching\\na\\ncoffee\\nsubscription\\nprogram,\\nand\\nintroducing\\nmore\\nready-to-eat\\nproducts\\nin\\nsupermarkets.\\nThese\\nadaptations\\nhelped\\nPret\\nto\\nweather\\nthe\\nstorm\\nand\\ncontinue\\nserving\\nits\\ncustomers\\nin\\nnew\\nand\\ninnovative\\nways.\\nConclusion\\nFrom\\nits\\nhumble\\nbeginnings\\nin\\nLondon\\nto\\nits\\nstatus\\nas\\na\\nglobal\\nbrand,\\nPret\\nA\\nManger\\nhas\\nremained\\ntrue\\nto\\nits\\nfounding\\nprinciples\\nof\\nfreshness,\\nquality,\\nand\\nethical\\nresponsibility.\\nThe\\nbrand's\\nability\\nto\\nadapt\\nand\\ninnovate\\nhas\\nbeen\\nkey\\nto\\nits\\nenduring\\nsuccess,\\nand\\nit\\ncontinues\\nto\\nbe\\na\\nbeloved\\nchoice\\nfor\\nthose\\nseeking\\nhealthy\\nand\\nconvenient\\nfood\\noptions.\\nAs\\nPret\\nA\\nManger\\nlooks\\nto\\nthe\\nfuture,\\nit\\nremains\\ncommitted\\nto\\nproviding\\nthe\\nsame\\nhigh\\nstandards\\nthat\\nhave\\nmade\\nit\\na\\nfavorite\\nfor\\nmillions\\nof\\ncustomers\\nworldwide.\")"
      ]
     },
     "execution_count": 97,
     "metadata": {},
     "output_type": "execute_result"
    }
   ],
   "source": [
    "docs[1]"
   ]
  },
  {
   "cell_type": "markdown",
   "metadata": {
    "id": "ZJZ_EIhfFKhi"
   },
   "source": [
    "We can see a new failure mode.\n",
    "\n",
    "The question below asks a question about the third lecture, but includes results from other lectures as well."
   ]
  },
  {
   "cell_type": "code",
   "execution_count": 99,
   "metadata": {
    "id": "b9ftPABMFH4N"
   },
   "outputs": [],
   "source": [
    "question = \"what did they say about Pret's sandwitch?\""
   ]
  },
  {
   "cell_type": "code",
   "execution_count": 100,
   "metadata": {
    "id": "51if79P4FNVy"
   },
   "outputs": [],
   "source": [
    "docs = vectordb.similarity_search(question,k=5)"
   ]
  },
  {
   "cell_type": "code",
   "execution_count": 101,
   "metadata": {
    "colab": {
     "base_uri": "https://localhost:8080/"
    },
    "id": "pZTi014_FSNk",
    "outputId": "bc1ea4f2-c6db-46f8-8ef0-a62889e54410"
   },
   "outputs": [
    {
     "name": "stdout",
     "output_type": "stream",
     "text": [
      "{'page': 0, 'source': 'sample_data/The History of Pret A Manger_ From a Single Shop to a Global Phenomenon.pdf'}\n",
      "{'page': 2, 'source': 'sample_data/The History of Pret A Manger_ From a Single Shop to a Global Phenomenon.pdf'}\n",
      "{'page': 0, 'source': 'sample_data/The History of Pret A Manger_ From a Single Shop to a Global Phenomenon.pdf'}\n",
      "{'page': 1, 'source': 'sample_data/The History of Pret A Manger_ From a Single Shop to a Global Phenomenon.pdf'}\n",
      "{'page': 1, 'source': 'sample_data/The History of Pret A Manger_ From a Single Shop to a Global Phenomenon.pdf'}\n"
     ]
    }
   ],
   "source": [
    "for doc in docs:\n",
    "    print(doc.metadata)"
   ]
  },
  {
   "cell_type": "code",
   "execution_count": 102,
   "metadata": {
    "colab": {
     "base_uri": "https://localhost:8080/"
    },
    "id": "pHM_xCC1FTQa",
    "outputId": "3305f7c0-3ad1-4534-cff4-d4df0200f628"
   },
   "outputs": [
    {
     "name": "stdout",
     "output_type": "stream",
     "text": [
      "In\n",
      "2008,\n",
      "Bridgepoint,\n",
      "a\n",
      "private\n",
      "equity\n",
      "firm,\n",
      "acquired\n",
      "a\n",
      "majority\n",
      "stake\n",
      "in\n",
      "Pret\n",
      "A\n",
      "Manger,\n",
      "allowing\n",
      "for\n",
      "further\n",
      "growth\n",
      "and\n",
      "innovation.\n",
      "During\n",
      "this\n",
      "period,\n",
      "Pret\n",
      "expanded\n",
      "its\n",
      "menu\n",
      "to\n",
      "include\n",
      "more\n",
      "vegetarian\n",
      "and\n",
      "vegan\n",
      "options,\n",
      "catering\n",
      "to\n",
      "the\n",
      "growing\n",
      "demand\n",
      "for\n",
      "plant-based\n",
      "foods.\n",
      "The\n",
      "Pret\n",
      "Experience\n",
      "One\n",
      "of\n",
      "the\n",
      "key\n",
      "factors\n",
      "behind\n",
      "Pret\n",
      "A\n",
      "Manger's\n",
      "success\n",
      "is\n",
      "the\n",
      "unique\n",
      "experience\n",
      "it\n",
      "offers\n",
      "to\n",
      "customers.\n",
      "From\n",
      "the\n",
      "welcoming\n",
      "and\n",
      "friendly\n",
      "service\n",
      "to\n",
      "the\n",
      "carefully\n",
      "curated\n",
      "menu,\n",
      "Pret\n",
      "has\n",
      "always\n",
      "focused\n",
      "on\n",
      "creating\n",
      "a\n",
      "positive\n",
      "and\n",
      "memorable\n",
      "experience.\n",
      "The\n",
      "brand's\n",
      "commitment\n",
      "to\n",
      "social\n",
      "responsibility\n",
      "is\n",
      "also\n",
      "evident\n",
      "in\n",
      "its\n",
      "charitable\n",
      "initiatives,\n",
      "such\n",
      "as\n",
      "donating\n",
      "unsold\n",
      "food\n",
      "to\n",
      "local\n",
      "charities\n",
      "at\n",
      "the\n",
      "end\n",
      "of\n",
      "each\n",
      "day.\n",
      "Pret's\n",
      "stores\n",
      "are\n",
      "designed\n",
      "to\n",
      "be\n",
      "inviting\n",
      "and\n",
      "comfortable\n",
      "spaces\n",
      "where\n",
      "customers\n",
      "can\n",
      "relax,\n",
      "work,\n",
      "or\n",
      "catch\n",
      "up\n",
      "with\n",
      "friends.\n",
      "The\n",
      "brand's\n",
      "emphasis\n",
      "on\n",
      "simplicity,\n",
      "quality,\n",
      "and\n",
      "consistency\n",
      "has\n",
      "helped\n",
      "it\n",
      "to\n",
      "stand\n",
      "out\n",
      "in\n",
      "a\n",
      "crowded\n",
      "market\n",
      "and\n",
      "build\n",
      "a\n",
      "loyal\n",
      "following\n",
      "around\n",
      "the\n",
      "world.\n",
      "Challenges\n",
      "and\n",
      "Adaptation\n",
      "Like\n",
      "many\n",
      "businesses,\n",
      "Pret\n",
      "A\n",
      "Manger\n",
      "faced\n",
      "significant\n",
      "challenges\n",
      "during\n",
      "the\n",
      "COVID-19\n",
      "pandemic.\n",
      "With\n",
      "many\n",
      "stores\n",
      "located\n",
      "in\n",
      "city\n",
      "centers\n",
      "and\n",
      "business\n",
      "districts,\n",
      "the\n",
      "brand\n",
      "was\n",
      "heavily\n",
      "impacted\n",
      "by\n",
      "the\n",
      "decline\n",
      "in\n",
      "foot\n",
      "traffic\n",
      "due\n",
      "to\n",
      "lockdowns\n",
      "and\n",
      "remote\n",
      "working.\n",
      "In\n",
      "response,\n",
      "Pret\n",
      "adapted\n",
      "its\n",
      "business\n",
      "model\n",
      "by\n",
      "expanding\n",
      "its\n",
      "delivery\n",
      "services,\n",
      "launching\n",
      "a\n",
      "coffee\n",
      "subscription\n",
      "program,\n",
      "and\n",
      "introducing\n",
      "more\n",
      "ready-to-eat\n",
      "products\n",
      "in\n",
      "supermarkets.\n",
      "These\n",
      "adaptations\n",
      "helped\n",
      "Pret\n",
      "to\n",
      "weather\n",
      "the\n"
     ]
    }
   ],
   "source": [
    "print(docs[4].page_content)"
   ]
  },
  {
   "cell_type": "code",
   "execution_count": null,
   "metadata": {
    "id": "001l8ymnFVPU"
   },
   "outputs": [],
   "source": []
  }
 ],
 "metadata": {
  "colab": {
   "provenance": []
  },
  "kernelspec": {
   "display_name": "Python 3 (ipykernel)",
   "language": "python",
   "name": "python3"
  },
  "language_info": {
   "codemirror_mode": {
    "name": "ipython",
    "version": 3
   },
   "file_extension": ".py",
   "mimetype": "text/x-python",
   "name": "python",
   "nbconvert_exporter": "python",
   "pygments_lexer": "ipython3",
   "version": "3.11.0"
  }
 },
 "nbformat": 4,
 "nbformat_minor": 1
}
