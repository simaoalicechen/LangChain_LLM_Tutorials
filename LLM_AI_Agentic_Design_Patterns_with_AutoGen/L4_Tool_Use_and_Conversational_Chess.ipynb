{
 "cells": [
  {
   "cell_type": "markdown",
   "id": "9a6dd449",
   "metadata": {
    "id": "9a6dd449"
   },
   "source": [
    "# Lesson 4: Tool Use and Conversational Chess"
   ]
  },
  {
   "cell_type": "markdown",
   "id": "75bcfd3c",
   "metadata": {
    "id": "75bcfd3c"
   },
   "source": [
    "## Setup"
   ]
  },
  {
   "cell_type": "code",
   "execution_count": 7,
   "id": "KUnSZZjnlepP",
   "metadata": {
    "id": "KUnSZZjnlepP"
   },
   "outputs": [],
   "source": [
    "# !pip install autogen openai\n",
    "# !pip install chess"
   ]
  },
  {
   "cell_type": "code",
   "execution_count": 1,
   "id": "d1p9FvcZlX22",
   "metadata": {
    "id": "d1p9FvcZlX22"
   },
   "outputs": [],
   "source": [
    "# reset all those keys\n",
    "import os\n",
    "openai_api_key = os.getenv(\"OPENAI_API_KEY\")"
   ]
  },
  {
   "cell_type": "code",
   "execution_count": 4,
   "id": "6032c971-8934-4018-8743-eace0553578c",
   "metadata": {
    "height": 30,
    "id": "6032c971-8934-4018-8743-eace0553578c"
   },
   "outputs": [],
   "source": [
    "llm_config = {\"model\": \"gpt-4-turbo\"}"
   ]
  },
  {
   "cell_type": "code",
   "execution_count": 8,
   "id": "086cb574-1299-43ce-90b4-79e089a76a11",
   "metadata": {
    "height": 64,
    "id": "086cb574-1299-43ce-90b4-79e089a76a11"
   },
   "outputs": [],
   "source": [
    "import chess\n",
    "import chess.svg\n",
    "from typing_extensions import Annotated"
   ]
  },
  {
   "cell_type": "markdown",
   "id": "f4406540",
   "metadata": {
    "id": "f4406540"
   },
   "source": [
    "## Initialize the chess board"
   ]
  },
  {
   "cell_type": "code",
   "execution_count": 9,
   "id": "10161c38-0fe6-4a03-a5ff-069e8374a1d8",
   "metadata": {
    "height": 30,
    "id": "10161c38-0fe6-4a03-a5ff-069e8374a1d8"
   },
   "outputs": [],
   "source": [
    "board = chess.Board()"
   ]
  },
  {
   "cell_type": "code",
   "execution_count": 10,
   "id": "c799e0a9-be62-4c20-b524-7a39d125f46d",
   "metadata": {
    "height": 30,
    "id": "c799e0a9-be62-4c20-b524-7a39d125f46d"
   },
   "outputs": [],
   "source": [
    "made_move = False"
   ]
  },
  {
   "cell_type": "markdown",
   "id": "22d38427",
   "metadata": {
    "id": "22d38427"
   },
   "source": [
    "## Define the needed tools\n",
    "\n",
    "### 1. Tool for getting legal moves"
   ]
  },
  {
   "cell_type": "code",
   "execution_count": 49,
   "id": "78607e9f-47b0-419e-b652-dd6b5b0390c1",
   "metadata": {
    "colab": {
     "base_uri": "https://localhost:8080/",
     "height": 53
    },
    "height": 115,
    "id": "78607e9f-47b0-419e-b652-dd6b5b0390c1",
    "outputId": "40b204cf-8895-4598-adea-df631095d852"
   },
   "outputs": [
    {
     "data": {
      "application/vnd.google.colaboratory.intrinsic+json": {
       "type": "string"
      },
      "text/plain": [
       "'\\nretrieves the list of legal chess moves based on the current state of the chess board. \\nIt is linked to the board_proxy, a proxy for interacting with the chess board, that for some reason, does not show here.\\n'"
      ]
     },
     "execution_count": 49,
     "metadata": {},
     "output_type": "execute_result"
    }
   ],
   "source": [
    "def get_legal_moves(\n",
    "\n",
    ") -> Annotated[str, \"A list of legal moves in UCI format\"]:\n",
    "    return \"Possible moves are: \" + \",\".join(\n",
    "        [str(move) for move in board.legal_moves]\n",
    "    )\n",
    "\"\"\"\n",
    "retrieves the list of legal chess moves based on the current state of the chess board.\n",
    "It is linked to the board_proxy, a proxy for interacting with the chess board, that for some reason, does not show here.\n",
    "\"\"\""
   ]
  },
  {
   "cell_type": "markdown",
   "id": "0be25bc8",
   "metadata": {
    "id": "0be25bc8"
   },
   "source": [
    "### 2. Tool for making a move on the board"
   ]
  },
  {
   "cell_type": "code",
   "execution_count": 12,
   "id": "08a09854-dfd4-495c-84c1-8ea1dd8cacdb",
   "metadata": {
    "height": 506,
    "id": "08a09854-dfd4-495c-84c1-8ea1dd8cacdb"
   },
   "outputs": [],
   "source": [
    "def make_move(\n",
    "    move: Annotated[str, \"A move in UCI format.\"]\n",
    ") -> Annotated[str, \"Result of the move.\"]:\n",
    "    move = chess.Move.from_uci(move)\n",
    "    board.push_uci(str(move))\n",
    "    global made_move\n",
    "    made_move = True\n",
    "\n",
    "    # Display the board.\n",
    "    display(\n",
    "        chess.svg.board(\n",
    "            board,\n",
    "            arrows=[(move.from_square, move.to_square)],\n",
    "            fill={move.from_square: \"gray\"},\n",
    "            size=200\n",
    "        )\n",
    "    )\n",
    "\n",
    "    # Get the piece name.\n",
    "    piece = board.piece_at(move.to_square)\n",
    "    piece_symbol = piece.unicode_symbol()\n",
    "    piece_name = (\n",
    "        chess.piece_name(piece.piece_type).capitalize()\n",
    "        if piece_symbol.isupper()\n",
    "        else chess.piece_name(piece.piece_type)\n",
    "    )\n",
    "    return f\"Moved {piece_name} ({piece_symbol}) from \"\\\n",
    "    f\"{chess.SQUARE_NAMES[move.from_square]} to \"\\\n",
    "    f\"{chess.SQUARE_NAMES[move.to_square]}.\""
   ]
  },
  {
   "cell_type": "markdown",
   "id": "a06e6f41",
   "metadata": {
    "id": "a06e6f41"
   },
   "source": [
    "## Create agents\n",
    "\n",
    "You will create the player agents and a board proxy agents for the chess board."
   ]
  },
  {
   "cell_type": "code",
   "execution_count": 18,
   "id": "MQLibK0xmMPE",
   "metadata": {
    "id": "MQLibK0xmMPE"
   },
   "outputs": [],
   "source": [
    "# !pip install dask"
   ]
  },
  {
   "cell_type": "code",
   "execution_count": 13,
   "id": "3055679f-5f69-4d32-aff6-076925a36174",
   "metadata": {
    "colab": {
     "base_uri": "https://localhost:8080/"
    },
    "height": 30,
    "id": "3055679f-5f69-4d32-aff6-076925a36174",
    "outputId": "797ce47b-9221-4635-accf-fc036955c40b"
   },
   "outputs": [
    {
     "name": "stderr",
     "output_type": "stream",
     "text": [
      "/usr/local/lib/python3.10/dist-packages/dask/dataframe/__init__.py:42: FutureWarning: \n",
      "Dask dataframe query planning is disabled because dask-expr is not installed.\n",
      "\n",
      "You can install it with `pip install dask[dataframe]` or `conda install dask`.\n",
      "This will raise in a future version.\n",
      "\n",
      "  warnings.warn(msg, FutureWarning)\n"
     ]
    }
   ],
   "source": [
    "from autogen import ConversableAgent"
   ]
  },
  {
   "cell_type": "code",
   "execution_count": 14,
   "id": "9466949c-c2cf-4bba-8307-d7ff4b70a948",
   "metadata": {
    "height": 164,
    "id": "9466949c-c2cf-4bba-8307-d7ff4b70a948"
   },
   "outputs": [],
   "source": [
    "# Player white agent\n",
    "player_white = ConversableAgent(\n",
    "    name=\"Player White\",\n",
    "    system_message=\"You are a chess player and you play as white. \"\n",
    "    \"First call get_legal_moves(), to get a list of legal moves. \"\n",
    "    \"Then call make_move(move) to make a move.\",\n",
    "    llm_config=llm_config,\n",
    ")"
   ]
  },
  {
   "cell_type": "code",
   "execution_count": 15,
   "id": "dcb6a474-2691-425c-8558-beb3363cd2bb",
   "metadata": {
    "height": 164,
    "id": "dcb6a474-2691-425c-8558-beb3363cd2bb"
   },
   "outputs": [],
   "source": [
    "# Player black agent\n",
    "player_black = ConversableAgent(\n",
    "    name=\"Player Black\",\n",
    "    system_message=\"You are a chess player and you play as black. \"\n",
    "    \"First call get_legal_moves(), to get a list of legal moves. \"\n",
    "    \"Then call make_move(move) to make a move.\",\n",
    "    llm_config=llm_config,\n",
    ")"
   ]
  },
  {
   "cell_type": "code",
   "execution_count": 16,
   "id": "6b69ac38-6399-425a-9681-4a2b7403a4bf",
   "metadata": {
    "height": 149,
    "id": "6b69ac38-6399-425a-9681-4a2b7403a4bf"
   },
   "outputs": [],
   "source": [
    "def check_made_move(msg):\n",
    "    global made_move\n",
    "    if made_move:\n",
    "        made_move = False\n",
    "        return True\n",
    "    else:\n",
    "        return False\n"
   ]
  },
  {
   "cell_type": "code",
   "execution_count": 19,
   "id": "c3eaa260-422c-4e44-a355-42f0d885e9bc",
   "metadata": {
    "height": 132,
    "id": "c3eaa260-422c-4e44-a355-42f0d885e9bc"
   },
   "outputs": [],
   "source": [
    "board_proxy = ConversableAgent(\n",
    "    name=\"Board Proxy\",\n",
    "    llm_config=False,\n",
    "    is_termination_msg=check_made_move,\n",
    "    default_auto_reply=\"Please make a move.\",\n",
    "    human_input_mode=\"NEVER\",\n",
    ")"
   ]
  },
  {
   "cell_type": "markdown",
   "id": "3cd1c45d",
   "metadata": {
    "id": "3cd1c45d"
   },
   "source": [
    "## Register the tools\n",
    "\n",
    "A tool must be registered for the agent that calls the tool and the agent that executes the tool."
   ]
  },
  {
   "cell_type": "code",
   "execution_count": 20,
   "id": "5caf8ae1-4b39-4be5-89fa-0d57b4595841",
   "metadata": {
    "height": 30,
    "id": "5caf8ae1-4b39-4be5-89fa-0d57b4595841"
   },
   "outputs": [],
   "source": [
    "from autogen import register_function"
   ]
  },
  {
   "cell_type": "code",
   "execution_count": 21,
   "id": "880a9926-d76b-4322-872c-b691d933506e",
   "metadata": {
    "colab": {
     "base_uri": "https://localhost:8080/"
    },
    "height": 285,
    "id": "880a9926-d76b-4322-872c-b691d933506e",
    "outputId": "a8eca531-98a4-4865-c35b-c8f4c34133cf"
   },
   "outputs": [
    {
     "name": "stderr",
     "output_type": "stream",
     "text": [
      "/usr/local/lib/python3.10/dist-packages/autogen/agentchat/conversable_agent.py:2492: UserWarning: Function 'get_legal_moves' is being overridden.\n",
      "  warnings.warn(f\"Function '{name}' is being overridden.\", UserWarning)\n",
      "/usr/local/lib/python3.10/dist-packages/autogen/agentchat/conversable_agent.py:2492: UserWarning: Function 'make_move' is being overridden.\n",
      "  warnings.warn(f\"Function '{name}' is being overridden.\", UserWarning)\n"
     ]
    }
   ],
   "source": [
    "for caller in [player_white, player_black]:\n",
    "    register_function(\n",
    "        get_legal_moves,\n",
    "        caller=caller,\n",
    "        executor=board_proxy,\n",
    "        name=\"get_legal_moves\",\n",
    "        description=\"Get legal moves.\",\n",
    "    )\n",
    "\n",
    "    register_function(\n",
    "        make_move,\n",
    "        caller=caller,\n",
    "        executor=board_proxy,\n",
    "        name=\"make_move\",\n",
    "        description=\"Call this tool to make a move.\",\n",
    "    )"
   ]
  },
  {
   "cell_type": "code",
   "execution_count": 22,
   "id": "dd487d3e-9226-4764-bd25-b452c1993388",
   "metadata": {
    "colab": {
     "base_uri": "https://localhost:8080/"
    },
    "height": 30,
    "id": "dd487d3e-9226-4764-bd25-b452c1993388",
    "outputId": "93b0ed5c-96e3-417e-f2d0-51c2dbe06b9d"
   },
   "outputs": [
    {
     "data": {
      "text/plain": [
       "[{'type': 'function',\n",
       "  'function': {'description': 'Get legal moves.',\n",
       "   'name': 'get_legal_moves',\n",
       "   'parameters': {'type': 'object', 'properties': {}, 'required': []}}},\n",
       " {'type': 'function',\n",
       "  'function': {'description': 'Call this tool to make a move.',\n",
       "   'name': 'make_move',\n",
       "   'parameters': {'type': 'object',\n",
       "    'properties': {'move': {'type': 'string',\n",
       "      'description': 'A move in UCI format.'}},\n",
       "    'required': ['move']}}}]"
      ]
     },
     "execution_count": 22,
     "metadata": {},
     "output_type": "execute_result"
    }
   ],
   "source": [
    "player_black.llm_config[\"tools\"]"
   ]
  },
  {
   "cell_type": "markdown",
   "id": "1a7fa1f0",
   "metadata": {
    "id": "1a7fa1f0"
   },
   "source": [
    "## Register the nested chats\n",
    "\n",
    "Each player agent will have a nested chat with the board proxy agent to\n",
    "make moves on the chess board."
   ]
  },
  {
   "cell_type": "code",
   "execution_count": 23,
   "id": "3230f945-f302-4f39-bc37-766ca082fb28",
   "metadata": {
    "height": 370,
    "id": "3230f945-f302-4f39-bc37-766ca082fb28"
   },
   "outputs": [],
   "source": [
    "player_white.register_nested_chats(\n",
    "    trigger=player_black,\n",
    "    chat_queue=[\n",
    "        {\n",
    "            \"sender\": board_proxy,\n",
    "            \"recipient\": player_white,\n",
    "            \"summary_method\": \"last_msg\",\n",
    "        }\n",
    "    ],\n",
    ")\n",
    "\n",
    "player_black.register_nested_chats(\n",
    "    trigger=player_white,\n",
    "    chat_queue=[\n",
    "        {\n",
    "            \"sender\": board_proxy,\n",
    "            \"recipient\": player_black,\n",
    "            \"summary_method\": \"last_msg\",\n",
    "        }\n",
    "    ],\n",
    ")"
   ]
  },
  {
   "cell_type": "markdown",
   "id": "d371ce02",
   "metadata": {
    "id": "d371ce02"
   },
   "source": [
    "## Start the Game\n",
    "\n",
    "The game will start with the first message."
   ]
  },
  {
   "cell_type": "markdown",
   "id": "ceb2b874",
   "metadata": {
    "id": "ceb2b874"
   },
   "source": [
    "<p style=\"background-color:#ECECEC; padding:15px; \"> <b>Note:</b> In this lesson, you will use GPT 4 for better results. Please note that the lesson has a quota limit. If you want to explore the code in this lesson further, we recommend trying it locally with your own API key."
   ]
  },
  {
   "cell_type": "markdown",
   "id": "5f445154",
   "metadata": {
    "id": "5f445154"
   },
   "source": [
    "**Note**: You might get a slightly different moves than what's shown in the video."
   ]
  },
  {
   "cell_type": "code",
   "execution_count": 40,
   "id": "1zsGRHPrpxCV",
   "metadata": {
    "colab": {
     "base_uri": "https://localhost:8080/"
    },
    "id": "1zsGRHPrpxCV",
    "outputId": "e02cb809-e30d-4e68-8c8a-fd0c592cd261"
   },
   "outputs": [
    {
     "name": "stdout",
     "output_type": "stream",
     "text": [
      "joe (to cathy):\n",
      "\n",
      "I'm Joe. Cathy, let's keep the jokes rolling.\n",
      "\n",
      "--------------------------------------------------------------------------------\n",
      "cathy (to joe):\n",
      "\n",
      "Hey Joe, ready to laugh? Why don’t scientists trust atoms anymore? Because they make up everything! How's that for a warm-up? Let’s keep the giggles going!\n",
      "\n",
      "--------------------------------------------------------------------------------\n",
      "joe (to cathy):\n",
      "\n",
      "That’s a good one, Cathy! Speaking of making stuff up, have you ever noticed how a kid’s explanation for why they're covered in mud somehow involves a dragon, a time machine, and a promise they definitely didn’t break? I'd trust an atom any day over a 6-year-old with a wild story and mysteriously missing cookies! So, what's your next brain-bender?\n",
      "\n",
      "--------------------------------------------------------------------------------\n",
      "cathy (to joe):\n",
      "\n",
      "Right, Joe? Kids have imaginations bigger than their little muddy pockets! Okay, brace yourself for this next head-scratcher. Why did the coffee file a police report? Because it got mugged! Now, I think even those cookie-thieving time travelers couldn’t concoct a tale wilder than that! What do you think, got any zingers up your sleeve?\n",
      "\n",
      "--------------------------------------------------------------------------------\n"
     ]
    }
   ],
   "source": [
    "# this is a pure chat thing, but the chess thing was the same idea.\n",
    "# cathy = ConversableAgent(\n",
    "#     name=\"cathy\",\n",
    "#     system_message=\n",
    "#     \"Your name is Cathy and you are a stand-up comedian.\",\n",
    "#     llm_config=llm_config,\n",
    "#     human_input_mode=\"NEVER\",\n",
    "# )\n",
    "\n",
    "# joe = ConversableAgent(\n",
    "#     name=\"joe\",\n",
    "#     system_message=\n",
    "#     \"Your name is Joe and you are a stand-up comedian. \"\n",
    "#     \"Start the next joke from the punchline of the previous joke.\",\n",
    "#     llm_config=llm_config,\n",
    "#     human_input_mode=\"NEVER\",\n",
    "# )\n",
    "\n",
    "# # agent conversation definition\n",
    "# chat_result = joe.initiate_chat(\n",
    "#     recipient=cathy,\n",
    "#     message=\"I'm Joe. Cathy, let's keep the jokes rolling.\",\n",
    "#     max_turns=2,\n",
    "# )"
   ]
  },
  {
   "cell_type": "code",
   "execution_count": 47,
   "id": "yuBjol1yp-3a",
   "metadata": {
    "id": "yuBjol1yp-3a"
   },
   "outputs": [],
   "source": [
    "# source: https://cbarkinozer.medium.com/autogen-ile-yz-ajanik-tasar%C4%B1m-desenleri-985c95c1fffa\n",
    "llm_config = {\"model\": \"gpt-4-turbo\"}\n",
    "import chess\n",
    "import chess.svg\n",
    "from typing_extensions import Annotated\n",
    "board = chess.Board()\n",
    "made_move = False"
   ]
  },
  {
   "cell_type": "code",
   "execution_count": 42,
   "id": "Hh0nNcI4qC1Y",
   "metadata": {
    "id": "Hh0nNcI4qC1Y"
   },
   "outputs": [],
   "source": [
    "def get_legal_moves(\n",
    "\n",
    ") -> Annotated[str, \"A list of legal moves in UCI format\"]:\n",
    "    return \"Possible moves are: \" + \",\".join(\n",
    "        [str(move) for move in board.legal_moves]\n",
    "    )"
   ]
  },
  {
   "cell_type": "code",
   "execution_count": 43,
   "id": "PUSL2ku9qHFX",
   "metadata": {
    "id": "PUSL2ku9qHFX"
   },
   "outputs": [],
   "source": [
    "def make_move(\n",
    "    move: Annotated[str, \"A move in UCI format.\"]\n",
    ") -> Annotated[str, \"Result of the move.\"]:\n",
    "    move = chess.Move.from_uci(move)\n",
    "    board.push_uci(str(move))\n",
    "    global made_move\n",
    "    made_move = True\n",
    "\n",
    "    # Display the board.\n",
    "    display(\n",
    "        chess.svg.board(\n",
    "            board,\n",
    "            arrows=[(move.from_square, move.to_square)],\n",
    "            fill={move.from_square: \"gray\"},\n",
    "            size=200\n",
    "        )\n",
    "    )\n",
    "\n",
    "    # Get the piece name.\n",
    "    piece = board.piece_at(move.to_square)\n",
    "    piece_symbol = piece.unicode_symbol()\n",
    "    piece_name = (\n",
    "        chess.piece_name(piece.piece_type).capitalize()\n",
    "        if piece_symbol.isupper()\n",
    "        else chess.piece_name(piece.piece_type)\n",
    "    )\n",
    "    return f\"Moved {piece_name} ({piece_symbol}) from \"\\\n",
    "    f\"{chess.SQUARE_NAMES[move.from_square]} to \"\\\n",
    "    f\"{chess.SQUARE_NAMES[move.to_square]}.\""
   ]
  },
  {
   "cell_type": "code",
   "execution_count": 44,
   "id": "VNsj4YVcqKmw",
   "metadata": {
    "id": "VNsj4YVcqKmw"
   },
   "outputs": [],
   "source": [
    "from autogen import ConversableAgent\n",
    "\n",
    "# Player white agent\n",
    "player_white = ConversableAgent(\n",
    "    name=\"Player White\",\n",
    "    system_message=\"You are a chess player and you play as white. \"\n",
    "    \"First call get_legal_moves(), to get a list of legal moves. \"\n",
    "    \"Then call make_move(move) to make a move.\",\n",
    "    llm_config=llm_config,\n",
    ")\n",
    "\n",
    "# Player black agent\n",
    "player_black = ConversableAgent(\n",
    "    name=\"Player Black\",\n",
    "    system_message=\"You are a chess player and you play as black. \"\n",
    "    \"First call get_legal_moves(), to get a list of legal moves. \"\n",
    "    \"Then call make_move(move) to make a move.\",\n",
    "    llm_config=llm_config,\n",
    ")\n",
    "\n",
    "def check_made_move(msg):\n",
    "    global made_move\n",
    "    if made_move:\n",
    "        made_move = False\n",
    "        return True\n",
    "    else:\n",
    "        return False\n",
    "\n",
    "board_proxy = ConversableAgent(\n",
    "    name=\"Board Proxy\",\n",
    "    llm_config=False, # no llm use\n",
    "    is_termination_msg=check_made_move, # stop conversing when a move has been made\n",
    "    default_auto_reply=\"Please make a move.\",\n",
    "    human_input_mode=\"NEVER\",\n",
    ")"
   ]
  },
  {
   "cell_type": "code",
   "execution_count": 37,
   "id": "gXhPyTwtop8C",
   "metadata": {
    "id": "gXhPyTwtop8C"
   },
   "outputs": [],
   "source": [
    "# not working due to network error that I do not know what to do right now.\n",
    "# it is really cool if the board shows"
   ]
  },
  {
   "cell_type": "code",
   "execution_count": 36,
   "id": "pwAGKsR_oPwn",
   "metadata": {
    "id": "pwAGKsR_oPwn"
   },
   "outputs": [],
   "source": [
    "# chat_result = player_black.initiate_chat(\n",
    "# player_white,\n",
    "# message=\"Let’s play chess! Your move.\",\n",
    "# max_turns=2,\n",
    "# )"
   ]
  },
  {
   "cell_type": "code",
   "execution_count": 39,
   "id": "5595758f-7ae1-467f-bad9-79c6c7cd0b25",
   "metadata": {
    "height": 132,
    "id": "5595758f-7ae1-467f-bad9-79c6c7cd0b25"
   },
   "outputs": [],
   "source": [
    "# board = chess.Board()\n",
    "\n",
    "# chat_result = player_black.initiate_chat(\n",
    "#     player_white,\n",
    "#     message=\"Let's play chess! Your move.\",\n",
    "#     max_turns=2,\n",
    "# )"
   ]
  },
  {
   "cell_type": "markdown",
   "id": "ad9cf403",
   "metadata": {
    "id": "ad9cf403"
   },
   "source": [
    "## Adding a fun chitchat to the game!"
   ]
  },
  {
   "cell_type": "code",
   "execution_count": 26,
   "id": "dc6c2ef8-4807-4b9e-9eff-0da219ac6381",
   "metadata": {
    "height": 164,
    "id": "dc6c2ef8-4807-4b9e-9eff-0da219ac6381"
   },
   "outputs": [],
   "source": [
    "player_white = ConversableAgent(\n",
    "    name=\"Player White\",\n",
    "    system_message=\"You are a chess player and you play as white. \"\n",
    "    \"First call get_legal_moves(), to get a list of legal moves. \"\n",
    "    \"Then call make_move(move) to make a move. \"\n",
    "    \"After a move is made, chitchat to make the game fun.\",\n",
    "    llm_config=llm_config,\n",
    ")"
   ]
  },
  {
   "cell_type": "code",
   "execution_count": 27,
   "id": "1da2db96-83d1-4b75-aa05-3840913a46ac",
   "metadata": {
    "height": 164,
    "id": "1da2db96-83d1-4b75-aa05-3840913a46ac"
   },
   "outputs": [],
   "source": [
    "player_black = ConversableAgent(\n",
    "    name=\"Player Black\",\n",
    "    system_message=\"You are a chess player and you play as black. \"\n",
    "    \"First call get_legal_moves(), to get a list of legal moves. \"\n",
    "    \"Then call make_move(move) to make a move. \"\n",
    "    \"After a move is made, chitchat to make the game fun.\",\n",
    "    llm_config=llm_config,\n",
    ")"
   ]
  },
  {
   "cell_type": "code",
   "execution_count": 28,
   "id": "489e5258-a48d-4745-9cf8-6d530ce1162c",
   "metadata": {
    "height": 693,
    "id": "489e5258-a48d-4745-9cf8-6d530ce1162c"
   },
   "outputs": [],
   "source": [
    "for caller in [player_white, player_black]:\n",
    "    register_function(\n",
    "        get_legal_moves,\n",
    "        caller=caller,\n",
    "        executor=board_proxy,\n",
    "        name=\"get_legal_moves\",\n",
    "        description=\"Get legal moves.\",\n",
    "    )\n",
    "\n",
    "    register_function(\n",
    "        make_move,\n",
    "        caller=caller,\n",
    "        executor=board_proxy,\n",
    "        name=\"make_move\",\n",
    "        description=\"Call this tool to make a move.\",\n",
    "    )\n",
    "\n",
    "player_white.register_nested_chats(\n",
    "    trigger=player_black,\n",
    "    chat_queue=[\n",
    "        {\n",
    "            \"sender\": board_proxy,\n",
    "            \"recipient\": player_white,\n",
    "            \"summary_method\": \"last_msg\",\n",
    "            \"silent\": True,\n",
    "        }\n",
    "    ],\n",
    ")\n",
    "\n",
    "player_black.register_nested_chats(\n",
    "    trigger=player_white,\n",
    "    chat_queue=[\n",
    "        {\n",
    "            \"sender\": board_proxy,\n",
    "            \"recipient\": player_black,\n",
    "            \"summary_method\": \"last_msg\",\n",
    "            \"silent\": True,\n",
    "        }\n",
    "    ],\n",
    ")"
   ]
  },
  {
   "cell_type": "code",
   "execution_count": 33,
   "id": "723edd10-e0c6-4205-8e9b-db4cef7a464f",
   "metadata": {
    "height": 132,
    "id": "723edd10-e0c6-4205-8e9b-db4cef7a464f"
   },
   "outputs": [],
   "source": [
    "# board = chess.Board()\n",
    "\n",
    "# chat_result = player_black.initiate_chat(\n",
    "#     player_white,\n",
    "#     message=\"Let's play chess! Your move.\",\n",
    "#     max_turns=2,\n",
    "# )"
   ]
  },
  {
   "cell_type": "markdown",
   "id": "4e8ca3c3",
   "metadata": {
    "id": "4e8ca3c3"
   },
   "source": [
    "**Note:**\n",
    "To add human input to this game, add **human_input_mode=\"ALWAYS\"** for both player agents."
   ]
  }
 ],
 "metadata": {
  "colab": {
   "provenance": []
  },
  "kernelspec": {
   "display_name": "Python 3 (ipykernel)",
   "language": "python",
   "name": "python3"
  },
  "language_info": {
   "codemirror_mode": {
    "name": "ipython",
    "version": 3
   },
   "file_extension": ".py",
   "mimetype": "text/x-python",
   "name": "python",
   "nbconvert_exporter": "python",
   "pygments_lexer": "ipython3",
   "version": "3.11.0"
  }
 },
 "nbformat": 4,
 "nbformat_minor": 5
}
