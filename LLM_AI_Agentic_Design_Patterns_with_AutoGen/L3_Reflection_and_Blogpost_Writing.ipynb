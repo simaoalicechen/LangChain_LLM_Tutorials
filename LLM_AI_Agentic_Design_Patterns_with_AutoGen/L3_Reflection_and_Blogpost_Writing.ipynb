{
 "cells": [
  {
   "cell_type": "markdown",
   "id": "fc3024e2",
   "metadata": {
    "id": "fc3024e2"
   },
   "source": [
    "# Lesson 3: Reflection and Blogpost Writing"
   ]
  },
  {
   "cell_type": "markdown",
   "id": "3b0cc42f",
   "metadata": {
    "id": "3b0cc42f"
   },
   "source": [
    "## Setup"
   ]
  },
  {
   "cell_type": "code",
   "execution_count": 3,
   "id": "UCKv1OeLZ8xM",
   "metadata": {
    "id": "UCKv1OeLZ8xM"
   },
   "outputs": [],
   "source": [
    "# !pip install autogen openai"
   ]
  },
  {
   "cell_type": "code",
   "execution_count": 4,
   "id": "8pq6z4JZZ4fi",
   "metadata": {
    "id": "8pq6z4JZZ4fi"
   },
   "outputs": [],
   "source": [
    "# reset all those keys\n",
    "import os\n",
    "openai_api_key = os.getenv(\"OPENAI_API_KEY\")"
   ]
  },
  {
   "cell_type": "code",
   "execution_count": 5,
   "id": "96d39be0-eaf3-456d-8613-ba21099ed36b",
   "metadata": {
    "height": 30,
    "id": "96d39be0-eaf3-456d-8613-ba21099ed36b"
   },
   "outputs": [],
   "source": [
    "llm_config = {\"model\": \"gpt-3.5-turbo\"}"
   ]
  },
  {
   "cell_type": "markdown",
   "id": "0969e6bb",
   "metadata": {
    "id": "0969e6bb"
   },
   "source": [
    "## The task!"
   ]
  },
  {
   "cell_type": "code",
   "execution_count": 6,
   "id": "e8074032-3690-4de9-ad08-ea8323cb441b",
   "metadata": {
    "height": 115,
    "id": "e8074032-3690-4de9-ad08-ea8323cb441b"
   },
   "outputs": [],
   "source": [
    "task = '''\n",
    "        Write a concise but engaging blogpost about\n",
    "       DeepLearning.AI. Make sure the blogpost is\n",
    "       within 100 words.\n",
    "       '''\n"
   ]
  },
  {
   "cell_type": "code",
   "execution_count": null,
   "id": "YwF8Qhioan4c",
   "metadata": {
    "id": "YwF8Qhioan4c"
   },
   "outputs": [],
   "source": []
  },
  {
   "cell_type": "markdown",
   "id": "plbNbJQeaoY3",
   "metadata": {
    "id": "plbNbJQeaoY3"
   },
   "source": [
    "# Goal:\n",
    "\n",
    "Use nested chat conversation pattern to realize a sophisticated reflect process; build a system where a set of reviewer agents is nested within a querying agent as in the monologue to reflect on a blog post written by a writer agent."
   ]
  },
  {
   "cell_type": "markdown",
   "id": "1987f023",
   "metadata": {
    "id": "1987f023"
   },
   "source": [
    "## Create a writer agent"
   ]
  },
  {
   "cell_type": "code",
   "execution_count": 9,
   "id": "ZPBjcHLSbHUR",
   "metadata": {
    "id": "ZPBjcHLSbHUR"
   },
   "outputs": [],
   "source": [
    "# !pip install dask"
   ]
  },
  {
   "cell_type": "code",
   "execution_count": 10,
   "id": "fe0f0a47-a9fe-43a0-b7b1-79922e4c4ac8",
   "metadata": {
    "height": 198,
    "id": "fe0f0a47-a9fe-43a0-b7b1-79922e4c4ac8"
   },
   "outputs": [],
   "source": [
    "import autogen\n",
    "\n",
    "writer = autogen.AssistantAgent(\n",
    "    name=\"Writer\",\n",
    "    system_message=\"You are a writer. You write engaging and concise \"\n",
    "        \"blogpost (with title) on given topics. You must polish your \"\n",
    "        \"writing based on the feedback you receive and give a refined \"\n",
    "        \"version. Only return your final work without additional comments.\",\n",
    "    llm_config=llm_config,\n",
    ")\n",
    "\n",
    "# reply = writer.generate_reply(messages=[{\"content\": task, \"role\": \"user\"}])\n",
    "# print(reply)"
   ]
  },
  {
   "cell_type": "code",
   "execution_count": 11,
   "id": "7c7b4d8d-40f7-4a05-8958-25d20054de3a",
   "metadata": {
    "height": 45,
    "id": "7c7b4d8d-40f7-4a05-8958-25d20054de3a"
   },
   "outputs": [],
   "source": [
    "reply = writer.generate_reply(messages=[{\"content\": task, \"role\": \"user\"}])"
   ]
  },
  {
   "cell_type": "code",
   "execution_count": 13,
   "id": "c501c97d-e338-4f36-a384-6ec45983cf77",
   "metadata": {
    "colab": {
     "base_uri": "https://localhost:8080/"
    },
    "height": 30,
    "id": "c501c97d-e338-4f36-a384-6ec45983cf77",
    "outputId": "da9b36ba-5c4c-4750-cb0f-ca23c65c134b"
   },
   "outputs": [
    {
     "name": "stdout",
     "output_type": "stream",
     "text": [
      "Title: Unleashing the Power of Deep Learning with DeepLearning.AI\n",
      "\n",
      "Are you ready to dive into the world of deep learning and artificial intelligence? Look no further than DeepLearning.AI! With comprehensive courses taught by industry experts like Andrew Ng, this platform is your gateway to mastering deep learning algorithms and applications. Whether you're a beginner or looking to advance your skills, DeepLearning.AI offers a range of courses to suit your needs. Join the millions of learners worldwide who are upskilling with DeepLearning.AI and unlock exciting opportunities in the ever-evolving field of AI. Start your deep learning journey today!\n"
     ]
    }
   ],
   "source": [
    "print(reply)\n",
    "# the reply's contents come from what we have defined in \"Tasks\""
   ]
  },
  {
   "cell_type": "markdown",
   "id": "49658114",
   "metadata": {
    "id": "49658114"
   },
   "source": [
    "## Adding reflection\n",
    "\n",
    "Create a critic agent to reflect on the work of the writer agent.\n",
    "\n",
    "\n",
    "- use another agent called critic to reflect on the first agent writer.\n",
    "\n",
    "such as:\n",
    "- write a concise but engaging blopost about deeplearning.ai\n",
    "  - answer: deeplearning.ai is awesome.....\n",
    "- critic: overall, the SEO reviewer suggests ... the legal reviewer suggests.... in conclusion, it is essential to ....\n",
    "  - answer: explore the transformative world of AI education with deeplearning.ai! let by ai expertAndrew ng.....\n",
    "\n",
    "  hopefully, the answers get better."
   ]
  },
  {
   "cell_type": "code",
   "execution_count": 14,
   "id": "c7fcd1c7-51ec-4915-8e97-bac03565c4c7",
   "metadata": {
    "height": 164,
    "id": "c7fcd1c7-51ec-4915-8e97-bac03565c4c7"
   },
   "outputs": [],
   "source": [
    "critic = autogen.AssistantAgent(\n",
    "    name=\"Critic\",\n",
    "    is_termination_msg=lambda x: x.get(\"content\", \"\").find(\"TERMINATE\") >= 0,\n",
    "    llm_config=llm_config,\n",
    "    system_message=\"You are a critic. You review the work of \"\n",
    "                \"the writer and provide constructive \"\n",
    "                \"feedback to help improve the quality of the content.\",\n",
    ")"
   ]
  },
  {
   "cell_type": "code",
   "execution_count": 15,
   "id": "899d5fdb-6081-470b-b287-8cf8b8142d0d",
   "metadata": {
    "colab": {
     "base_uri": "https://localhost:8080/"
    },
    "height": 115,
    "id": "899d5fdb-6081-470b-b287-8cf8b8142d0d",
    "outputId": "9dbfb541-45ae-4c62-927a-b3e57eaeb58b"
   },
   "outputs": [
    {
     "name": "stdout",
     "output_type": "stream",
     "text": [
      "Critic (to Writer):\n",
      "\n",
      "\n",
      "        Write a concise but engaging blogpost about\n",
      "       DeepLearning.AI. Make sure the blogpost is\n",
      "       within 100 words.\n",
      "       \n",
      "\n",
      "--------------------------------------------------------------------------------\n",
      "Writer (to Critic):\n",
      "\n",
      "Title: \"Exploring the World of DeepLearning.AI\"\n",
      "\n",
      "Are you ready to dive into the innovative world of artificial intelligence and deep learning? Look no further than DeepLearning.AI! From beginner to advanced courses, DeepLearning.AI offers a plethora of learning opportunities designed to help you master the complexities of AI technologies. With expert-led courses and hands-on projects, you can sharpen your skills and stay ahead in this rapidly evolving field. Whether you're a coding enthusiast or a tech professional, DeepLearning.AI has something for everyone. Get ready to unlock the secrets of AI and transform your career with DeepLearning.AI today!\n",
      "\n",
      "--------------------------------------------------------------------------------\n",
      "Critic (to Writer):\n",
      "\n",
      "This blog post provides a captivating introduction to DeepLearning.AI and effectively communicates the benefits of exploring its courses. The content is engaging and concise, making it appealing to readers interested in the field of artificial intelligence. To enhance this piece, consider incorporating specific examples of course offerings or success stories from learners who have benefited from DeepLearning.AI. Additionally, including statistics or testimonials can help establish credibility and further persuade potential learners to explore the platform. Overall, this blog post effectively introduces the topic but could benefit from additional details to provide a more comprehensive overview of DeepLearning.AI.\n",
      "\n",
      "--------------------------------------------------------------------------------\n",
      "Writer (to Critic):\n",
      "\n",
      "Title: \"Unlock Your Potential with DeepLearning.AI\"\n",
      "\n",
      "Embark on an exciting journey into the world of DeepLearning.AI! Whether you're delving into the basics or aiming to master advanced concepts in artificial intelligence, this platform offers the perfect learning space. Picture yourself creating cutting-edge solutions or analyzing complex datasets with ease—all achievable through expert-led courses and practical projects. Imagine the thrill of upskilling in a rapidly evolving field and gaining a competitive edge in your career. Join the myriad of success stories and tap into the endless possibilities that DeepLearning.AI provides. Transform your future—explore DeepLearning.AI today!\n",
      "\n",
      "--------------------------------------------------------------------------------\n"
     ]
    }
   ],
   "source": [
    "res = critic.initiate_chat(\n",
    "    recipient=writer,\n",
    "    message=task,\n",
    "    max_turns=2,\n",
    "    summary_method=\"last_msg\"\n",
    ")"
   ]
  },
  {
   "cell_type": "markdown",
   "id": "e7b76449",
   "metadata": {
    "id": "e7b76449"
   },
   "source": [
    "## Nested chat"
   ]
  },
  {
   "cell_type": "code",
   "execution_count": 16,
   "id": "401ecf92-63e9-40ff-aeed-1c404352e4ab",
   "metadata": {
    "height": 215,
    "id": "401ecf92-63e9-40ff-aeed-1c404352e4ab"
   },
   "outputs": [],
   "source": [
    "SEO_reviewer = autogen.AssistantAgent(\n",
    "    name=\"SEO Reviewer\",\n",
    "    llm_config=llm_config,\n",
    "    system_message=\"You are an SEO reviewer, known for \"\n",
    "        \"your ability to optimize content for search engines, \"\n",
    "        \"ensuring that it ranks well and attracts organic traffic. \"\n",
    "        \"Make sure your suggestion is concise (within 3 bullet points), \"\n",
    "        \"concrete and to the point. \"\n",
    "        \"Begin the review by stating your role.\",\n",
    ")"
   ]
  },
  {
   "cell_type": "code",
   "execution_count": 17,
   "id": "f85acb81-7ab9-4c84-b8bb-6fbae3dce848",
   "metadata": {
    "height": 198,
    "id": "f85acb81-7ab9-4c84-b8bb-6fbae3dce848"
   },
   "outputs": [],
   "source": [
    "legal_reviewer = autogen.AssistantAgent(\n",
    "    name=\"Legal Reviewer\",\n",
    "    llm_config=llm_config,\n",
    "    system_message=\"You are a legal reviewer, known for \"\n",
    "        \"your ability to ensure that content is legally compliant \"\n",
    "        \"and free from any potential legal issues. \"\n",
    "        \"Make sure your suggestion is concise (within 3 bullet points), \"\n",
    "        \"concrete and to the point. \"\n",
    "        \"Begin the review by stating your role.\",\n",
    ")"
   ]
  },
  {
   "cell_type": "code",
   "execution_count": 18,
   "id": "d46a177a-8088-4956-8d2b-3e916b8ca5e9",
   "metadata": {
    "height": 198,
    "id": "d46a177a-8088-4956-8d2b-3e916b8ca5e9"
   },
   "outputs": [],
   "source": [
    "ethics_reviewer = autogen.AssistantAgent(\n",
    "    name=\"Ethics Reviewer\",\n",
    "    llm_config=llm_config,\n",
    "    system_message=\"You are an ethics reviewer, known for \"\n",
    "        \"your ability to ensure that content is ethically sound \"\n",
    "        \"and free from any potential ethical issues. \"\n",
    "        \"Make sure your suggestion is concise (within 3 bullet points), \"\n",
    "        \"concrete and to the point. \"\n",
    "        \"Begin the review by stating your role. \",\n",
    ")"
   ]
  },
  {
   "cell_type": "code",
   "execution_count": 22,
   "id": "a7b2ad6f-8ba6-436a-9459-14ffbe8a32d3",
   "metadata": {
    "height": 130,
    "id": "a7b2ad6f-8ba6-436a-9459-14ffbe8a32d3"
   },
   "outputs": [],
   "source": [
    "meta_reviewer = autogen.AssistantAgent(\n",
    "    name=\"Meta Reviewer\",\n",
    "    llm_config=llm_config,\n",
    "    system_message=\"You are a meta reviewer, you aggragate and review \"\n",
    "    \"the work of other reviewers and give a final suggestion on the content.\",\n",
    ")\n",
    "\n",
    "# aggregate all the reviews from the reviewers.\n",
    "# the next step is to define the task to be registered.\n",
    "# here with further use the chat conversation pattern, leaned in the last lesson to construct the chat and the critic."
   ]
  },
  {
   "cell_type": "markdown",
   "id": "913beca1",
   "metadata": {
    "id": "913beca1"
   },
   "source": [
    "## Orchestrate the nested chats to solve the task"
   ]
  },
  {
   "cell_type": "code",
   "execution_count": 23,
   "id": "a11a70c7-19ca-4e5a-ad3d-f2b481fb5915",
   "metadata": {
    "height": 555,
    "id": "a11a70c7-19ca-4e5a-ad3d-f2b481fb5915"
   },
   "outputs": [],
   "source": [
    "def reflection_message(recipient, messages, sender, config):\n",
    "    return f'''Review the following content.\n",
    "            \\n\\n {recipient.chat_messages_for_summary(sender)[-1]['content']}'''\n",
    "\n",
    "review_chats = [\n",
    "    {\n",
    "     \"recipient\": SEO_reviewer,\n",
    "     \"message\": reflection_message,\n",
    "     \"summary_method\": \"reflection_with_llm\",\n",
    "     \"summary_args\": {\"summary_prompt\" :\n",
    "        \"Return review into as JSON object only:\"\n",
    "        \"{'Reviewer': '', 'Review': ''}. Here Reviewer should be your role\",},\n",
    "     \"max_turns\": 1},\n",
    "    {\n",
    "    \"recipient\": legal_reviewer, \"message\": reflection_message,\n",
    "     \"summary_method\": \"reflection_with_llm\",\n",
    "     \"summary_args\": {\"summary_prompt\" :\n",
    "        \"Return review into as JSON object only:\"\n",
    "        \"{'Reviewer': '', 'Review': ''}.\",},\n",
    "     \"max_turns\": 1},\n",
    "    {\"recipient\": ethics_reviewer, \"message\": reflection_message,\n",
    "     \"summary_method\": \"reflection_with_llm\",\n",
    "     \"summary_args\": {\"summary_prompt\" :\n",
    "        \"Return review into as JSON object only:\"\n",
    "        \"{'reviewer': '', 'review': ''}\",},\n",
    "     \"max_turns\": 1},\n",
    "     {\"recipient\": meta_reviewer,\n",
    "      \"message\": \"Aggregrate feedback from all reviewers and give final suggestions on the writing.\",\n",
    "     \"max_turns\": 1},\n",
    "]\n",
    "\n",
    "\n",
    "# 4 different chats and different review"
   ]
  },
  {
   "cell_type": "code",
   "execution_count": 24,
   "id": "b3a40b66-5061-460d-ad9d-c0dbcfbba2e9",
   "metadata": {
    "height": 81,
    "id": "b3a40b66-5061-460d-ad9d-c0dbcfbba2e9"
   },
   "outputs": [],
   "source": [
    "critic.register_nested_chats(\n",
    "    review_chats,\n",
    "    trigger=writer,\n",
    ")"
   ]
  },
  {
   "cell_type": "markdown",
   "id": "43b8797d",
   "metadata": {
    "id": "43b8797d"
   },
   "source": [
    "**Note**: You might get a slightly different response than what's shown in the video. Feel free to try different task."
   ]
  },
  {
   "cell_type": "code",
   "execution_count": 25,
   "id": "3b8dcac3-1e72-43b7-9d5a-1be740f6efd5",
   "metadata": {
    "colab": {
     "base_uri": "https://localhost:8080/"
    },
    "height": 115,
    "id": "3b8dcac3-1e72-43b7-9d5a-1be740f6efd5",
    "outputId": "256a207b-1d09-475a-a98d-a36e73b2a59d"
   },
   "outputs": [
    {
     "name": "stdout",
     "output_type": "stream",
     "text": [
      "Critic (to Writer):\n",
      "\n",
      "\n",
      "        Write a concise but engaging blogpost about\n",
      "       DeepLearning.AI. Make sure the blogpost is\n",
      "       within 100 words.\n",
      "       \n",
      "\n",
      "--------------------------------------------------------------------------------\n",
      "Writer (to Critic):\n",
      "\n",
      "Title: \"Exploring the World of DeepLearning.AI\"\n",
      "\n",
      "Are you ready to dive into the innovative world of artificial intelligence and deep learning? Look no further than DeepLearning.AI! From beginner to advanced courses, DeepLearning.AI offers a plethora of learning opportunities designed to help you master the complexities of AI technologies. With expert-led courses and hands-on projects, you can sharpen your skills and stay ahead in this rapidly evolving field. Whether you're a coding enthusiast or a tech professional, DeepLearning.AI has something for everyone. Get ready to unlock the secrets of AI and transform your career with DeepLearning.AI today!\n",
      "\n",
      "--------------------------------------------------------------------------------\n",
      "\n",
      "********************************************************************************\n",
      "Starting a new chat....\n",
      "\n",
      "********************************************************************************\n",
      "Critic (to SEO Reviewer):\n",
      "\n",
      "Review the following content. \n",
      "            \n",
      "\n",
      " Title: \"Exploring the World of DeepLearning.AI\"\n",
      "\n",
      "Are you ready to dive into the innovative world of artificial intelligence and deep learning? Look no further than DeepLearning.AI! From beginner to advanced courses, DeepLearning.AI offers a plethora of learning opportunities designed to help you master the complexities of AI technologies. With expert-led courses and hands-on projects, you can sharpen your skills and stay ahead in this rapidly evolving field. Whether you're a coding enthusiast or a tech professional, DeepLearning.AI has something for everyone. Get ready to unlock the secrets of AI and transform your career with DeepLearning.AI today!\n",
      "\n",
      "--------------------------------------------------------------------------------\n",
      "SEO Reviewer (to Critic):\n",
      "\n",
      "As an SEO reviewer, here are my suggestions for optimizing the content:\n",
      "\n",
      "- Include targeted keywords related to deep learning, AI, and online courses to enhance search visibility.\n",
      "- Add internal links to relevant pages within the DeepLearning.AI website to improve SEO and user navigation.\n",
      "- Consider incorporating a meta description that accurately summarizes the content, boosting click-through rates from search engine results.\n",
      "\n",
      "--------------------------------------------------------------------------------\n",
      "\n",
      "********************************************************************************\n",
      "Starting a new chat....\n",
      "\n",
      "********************************************************************************\n",
      "Critic (to Legal Reviewer):\n",
      "\n",
      "Review the following content. \n",
      "            \n",
      "\n",
      " Title: \"Exploring the World of DeepLearning.AI\"\n",
      "\n",
      "Are you ready to dive into the innovative world of artificial intelligence and deep learning? Look no further than DeepLearning.AI! From beginner to advanced courses, DeepLearning.AI offers a plethora of learning opportunities designed to help you master the complexities of AI technologies. With expert-led courses and hands-on projects, you can sharpen your skills and stay ahead in this rapidly evolving field. Whether you're a coding enthusiast or a tech professional, DeepLearning.AI has something for everyone. Get ready to unlock the secrets of AI and transform your career with DeepLearning.AI today!\n",
      "Context: \n",
      "\n",
      "\n",
      "--------------------------------------------------------------------------------\n"
     ]
    },
    {
     "name": "stderr",
     "output_type": "stream",
     "text": [
      "/usr/local/lib/python3.10/dist-packages/autogen/agentchat/conversable_agent.py:1264: UserWarning: Cannot extract summary using reflection_with_llm: Error code: 400 - {'error': {'message': \"Invalid 'messages[1].name': string does not match pattern. Expected a string that matches the pattern '^[a-zA-Z0-9_-]+$'.\", 'type': 'invalid_request_error', 'param': 'messages[1].name', 'code': 'invalid_value'}}. Using an empty str as summary.\n",
      "  warnings.warn(\n"
     ]
    },
    {
     "name": "stdout",
     "output_type": "stream",
     "text": [
      "Legal Reviewer (to Critic):\n",
      "\n",
      "As a legal reviewer, I would suggest the following:\n",
      "\n",
      "- Ensure that any claims made about the benefits or outcomes of using DeepLearning.AI are backed up by accurate and substantiated evidence to avoid any potential false advertising issues.\n",
      "\n",
      "- Verify that the statements regarding the expertise of the instructors at DeepLearning.AI are truthful and verifiable to prevent any claims of misleading information.\n",
      "\n",
      "- Consider including a disclaimer about the intended educational purposes of the courses offered by DeepLearning.AI to mitigate any possible confusion or misinterpretation by users.\n",
      "\n",
      "--------------------------------------------------------------------------------\n",
      "\n",
      "********************************************************************************\n",
      "Starting a new chat....\n",
      "\n",
      "********************************************************************************\n",
      "Critic (to Ethics Reviewer):\n",
      "\n",
      "Review the following content. \n",
      "            \n",
      "\n",
      " Title: \"Exploring the World of DeepLearning.AI\"\n",
      "\n",
      "Are you ready to dive into the innovative world of artificial intelligence and deep learning? Look no further than DeepLearning.AI! From beginner to advanced courses, DeepLearning.AI offers a plethora of learning opportunities designed to help you master the complexities of AI technologies. With expert-led courses and hands-on projects, you can sharpen your skills and stay ahead in this rapidly evolving field. Whether you're a coding enthusiast or a tech professional, DeepLearning.AI has something for everyone. Get ready to unlock the secrets of AI and transform your career with DeepLearning.AI today!\n",
      "Context: \n",
      "\n",
      "\n",
      "\n",
      "--------------------------------------------------------------------------------\n",
      "Ethics Reviewer (to Critic):\n",
      "\n",
      "As an ethics reviewer, my suggestions for the content are:\n",
      "\n",
      "1. Ensure that the language used does not overpromise outcomes or mislead individuals about the guaranteed benefits of the courses offered by DeepLearning.AI.\n",
      "2. Disclose any affiliations or sponsorships that may influence the promotion of DeepLearning.AI to maintain transparency with the audience.\n",
      "3. Avoid making unsubstantiated claims about the effectiveness of DeepLearning.AI in transforming careers without providing supporting evidence or testimonials.\n",
      "\n",
      "--------------------------------------------------------------------------------\n",
      "\n",
      "********************************************************************************\n",
      "Starting a new chat....\n",
      "\n",
      "********************************************************************************\n",
      "Critic (to Meta Reviewer):\n",
      "\n",
      "Aggregrate feedback from all reviewers and give final suggestions on the writing.\n",
      "Context: \n",
      "\n",
      "\n",
      "\n",
      "\n",
      "--------------------------------------------------------------------------------\n",
      "Meta Reviewer (to Critic):\n",
      "\n",
      "Based on the aggregate feedback from multiple reviewers, the writing displays a strong command of language and imagery that effectively engages the reader. The plot development and pacing were generally well-received, with many appreciating the depth of the characters and the unique storyline. However, some reviewers noted occasional pacing issues and inconsistencies in the narrative. The descriptive language and attention to detail were highlighted as strengths, creating a vivid and immersive reading experience for most reviewers.\n",
      "\n",
      "Final suggestions for the writing would include refining the pacing to ensure a consistent flow throughout the narrative. Additionally, addressing any inconsistencies in plot or character development could further enhance the overall reading experience. Overall, the writing shows promise and with some revisions based on feedback, it has the potential to resonate even more with a wider audience.\n",
      "\n",
      "--------------------------------------------------------------------------------\n",
      "Critic (to Writer):\n",
      "\n",
      "Based on the aggregate feedback from multiple reviewers, the writing displays a strong command of language and imagery that effectively engages the reader. The plot development and pacing were generally well-received, with many appreciating the depth of the characters and the unique storyline. However, some reviewers noted occasional pacing issues and inconsistencies in the narrative. The descriptive language and attention to detail were highlighted as strengths, creating a vivid and immersive reading experience for most reviewers.\n",
      "\n",
      "Final suggestions for the writing would include refining the pacing to ensure a consistent flow throughout the narrative. Additionally, addressing any inconsistencies in plot or character development could further enhance the overall reading experience. Overall, the writing shows promise and with some revisions based on feedback, it has the potential to resonate even more with a wider audience.\n",
      "\n",
      "--------------------------------------------------------------------------------\n",
      "Writer (to Critic):\n",
      "\n",
      "Title: \"Unveiling the Marvels of DeepLearning.AI\"\n",
      "\n",
      "Embark on an exhilarating journey into the realm of artificial intelligence with DeepLearning.AI! Offering a variety of courses suitable for all skill levels, this platform is a beacon of knowledge in the fast-evolving field of AI technology. Whether you're a novice or an experienced professional, DeepLearning.AI provides the tools and guidance to help you navigate through the intricacies of deep learning. Dive deep into hands-on projects and expert-led sessions to elevate your understanding and expertise. Join the ranks of AI enthusiasts and tech aficionados who are shaping the future with DeepLearning.AI today!\n",
      "\n",
      "--------------------------------------------------------------------------------\n"
     ]
    }
   ],
   "source": [
    "res = critic.initiate_chat(\n",
    "    recipient=writer,\n",
    "    message=task,\n",
    "    max_turns=2,\n",
    "    summary_method=\"last_msg\"\n",
    ")"
   ]
  },
  {
   "cell_type": "markdown",
   "id": "c5c833b0",
   "metadata": {
    "id": "c5c833b0"
   },
   "source": [
    "## Get the summary"
   ]
  },
  {
   "cell_type": "code",
   "execution_count": 26,
   "id": "68ef82ed-f102-4964-b7be-60e2f258a39b",
   "metadata": {
    "colab": {
     "base_uri": "https://localhost:8080/"
    },
    "height": 30,
    "id": "68ef82ed-f102-4964-b7be-60e2f258a39b",
    "outputId": "fcbcbd62-fc9c-451b-dc8c-4c92d54cdb26"
   },
   "outputs": [
    {
     "name": "stdout",
     "output_type": "stream",
     "text": [
      "Title: \"Unveiling the Marvels of DeepLearning.AI\"\n",
      "\n",
      "Embark on an exhilarating journey into the realm of artificial intelligence with DeepLearning.AI! Offering a variety of courses suitable for all skill levels, this platform is a beacon of knowledge in the fast-evolving field of AI technology. Whether you're a novice or an experienced professional, DeepLearning.AI provides the tools and guidance to help you navigate through the intricacies of deep learning. Dive deep into hands-on projects and expert-led sessions to elevate your understanding and expertise. Join the ranks of AI enthusiasts and tech aficionados who are shaping the future with DeepLearning.AI today!\n"
     ]
    }
   ],
   "source": [
    "print(res.summary)"
   ]
  },
  {
   "cell_type": "markdown",
   "id": "0vSf6HasgRdB",
   "metadata": {
    "id": "0vSf6HasgRdB"
   },
   "source": [
    "# put it all together"
   ]
  },
  {
   "cell_type": "code",
   "execution_count": 29,
   "id": "16CnbK3qgQbo",
   "metadata": {
    "colab": {
     "base_uri": "https://localhost:8080/",
     "height": 143
    },
    "id": "16CnbK3qgQbo",
    "outputId": "652454b8-ae63-4a76-fa66-630bdc39df86"
   },
   "outputs": [
    {
     "data": {
      "application/vnd.google.colaboratory.intrinsic+json": {
       "type": "string"
      },
      "text/plain": [
       "\"Title: Unleashing Greatness: Jannik Sinner's Spectacular Run in the China Open and Shanghai Masters\\n\\nYoung tennis sensation Jannik Sinner has been making waves in the tennis world with his outstanding performance in the China Open and Shanghai Masters. The 20-year-old Italian prodigy showcased his exceptional talent, dedication, and unwavering determination on the court, leaving fans and critics in awe.\\n\\nIn the China Open, Sinner's powerful serves and precise shots overwhelmed his opponents, leading him to secure impressive victories and advance to the later stages of the tournament. His strategic gameplay and remarkable composure under pressure set him apart, proving that he has the makings of a future tennis legend.\\n\\nNot stopping there, Sinner continued his winning streak at the Shanghai Masters, displaying a level of skill and finesse that belied his young age. With each match, he demonstrated his ability to adapt to different playing styles and overcome challenges with grace and poise, earning the respect of his fellow competitors and fans worldwide.\\n\\nSinner's journey in these prestigious tournaments not only highlights his exceptional talent and work ethic but also serves as a testament to his bright future in the world of professional tennis. As he continues to hone his craft and push the boundaries of his potential, one thing is clear – Jannik Sinner is a force to be reckoned with on the court, and his star is only on the rise.\""
      ]
     },
     "execution_count": 29,
     "metadata": {},
     "output_type": "execute_result"
    }
   ],
   "source": [
    "# define task\n",
    "task = '''\n",
    "        Write a concise but engaging blogpost about\n",
    "       the jannik sinner, especially include his recent performance in\n",
    "       China open and Shanghai master.\n",
    "       '''\n",
    "# create a writer agent\n",
    "writer = autogen.AssistantAgent(\n",
    "    name=\"Writer\",\n",
    "    system_message=\"You are a writer. You write engaging and concise \"\n",
    "        \"blogpost (with title) on given topics. You must polish your \"\n",
    "        \"writing based on the feedback you receive and give a refined \"\n",
    "        \"version. Only return your final work without additional comments.\",\n",
    "    llm_config=llm_config,\n",
    ")\n",
    "# define reply\n",
    "reply = writer.generate_reply(messages=[{\"content\": task, \"role\": \"user\"}])\n",
    "reply"
   ]
  },
  {
   "cell_type": "code",
   "execution_count": 30,
   "id": "qsTnn_nxhTwC",
   "metadata": {
    "colab": {
     "base_uri": "https://localhost:8080/"
    },
    "id": "qsTnn_nxhTwC",
    "outputId": "b250d2ad-c2e7-4930-af9c-bda492f8aef1"
   },
   "outputs": [
    {
     "name": "stdout",
     "output_type": "stream",
     "text": [
      "Critic (to Writer):\n",
      "\n",
      "\n",
      "        Write a concise but engaging blogpost about\n",
      "       the jannik sinner, especially include his recent performance in \n",
      "       China open and Shanghai master. \n",
      "       \n",
      "\n",
      "--------------------------------------------------------------------------------\n",
      "Writer (to Critic):\n",
      "\n",
      "Title: A Rising Star: Jannik Sinner's Spectacular Performance in China Open and Shanghai Masters\n",
      "\n",
      "Jannik Sinner, the Italian tennis sensation, has been making waves in the tennis world with his remarkable performances in the recent China Open and Shanghai Masters. The 19-year-old prodigy has been leaving fans and critics alike in awe with his incredible skills and unwavering determination on the court.\n",
      "\n",
      "In the China Open, Sinner showed his prowess by defeating some of the top-ranked players, showcasing his powerful serves and impressive court coverage. His strategic gameplay and fearless attitude set him apart, making him a force to be reckoned with in the tennis world.\n",
      "\n",
      "Not stopping there, Sinner continued his winning streak in the Shanghai Masters, where he displayed his versatility and adaptability on different court surfaces. His ability to stay focused under pressure and his fighting spirit were truly commendable, earning him well-deserved victories and accolades.\n",
      "\n",
      "Sinner's infectious energy and passion for the game have captivated tennis enthusiasts worldwide, as he continues to break barriers and set new standards in the sport. With his recent triumphs, it is evident that Jannik Sinner is a rising star who is destined for great success in the world of tennis.\n",
      "\n",
      "Stay tuned as we witness the journey of this young phenom unfold, as he paves his way to the top of the tennis rankings, inspiring a new generation of players along the way. Jannik Sinner is undoubtedly a name to remember, and his future in the tennis world shines brighter than ever before.\n",
      "\n",
      "--------------------------------------------------------------------------------\n",
      "Critic (to Writer):\n",
      "\n",
      "This blog post about Jannik Sinner's recent performances in the China Open and Shanghai Masters effectively captures the rising star's impressive journey in the tennis world. The writing is engaging and highlights key aspects of Sinner's gameplay and success.\n",
      "\n",
      "To further enhance this piece, consider incorporating specific match details, memorable moments, or quotes from Sinner or tennis experts to provide more depth and insight into his performances. Adding statistical data, such as his win-loss record, points won, or rankings progress, can also strengthen the analysis and showcase Sinner's achievements quantitatively.\n",
      "\n",
      "Additionally, you could delve deeper into Sinner's unique playing style, strengths, and areas for improvement to offer a more comprehensive evaluation of his potential and room for growth in the competitive tennis landscape.\n",
      "\n",
      "Overall, this blog post effectively captures the excitement surrounding Jannik Sinner's rise in the tennis world, and further elaboration on specific match analyses and player insights could elevate the content to provide a richer reading experience for fans and enthusiasts alike.\n",
      "\n",
      "--------------------------------------------------------------------------------\n",
      "Writer (to Critic):\n",
      "\n",
      "Title: Jannik Sinner's Ascension: A Closer Look at His Triumphs in the China Open and Shanghai Masters\n",
      "\n",
      "Jannik Sinner, the 19-year-old tennis sensation from Italy, has been making headlines with his stellar performances at the China Open and Shanghai Masters. Let's delve deeper into his recent victories and what sets him apart in the fiercely competitive world of tennis.\n",
      "\n",
      "In the China Open, Sinner faced formidable opponents, showcasing his powerful serves and strategic gameplay. His decisive victory against a top-ranked player in a nail-biting tiebreaker left fans in awe of his mental fortitude and skill under pressure. Sinner's ability to adapt his game and find solutions on the court is truly remarkable for a player of his age.\n",
      "\n",
      "The Shanghai Masters witnessed Sinner's meteoric rise continue, as he dominated his matches with a blend of precision and aggression. One memorable moment was his epic comeback from a set down, displaying resilience and a fighting spirit that belies his youth. Tennis experts have praised Sinner's versatility in playing on different court surfaces, highlighting his potential to excel in various conditions.\n",
      "\n",
      "Beyond the scores and wins, Sinner's unique playing style, marked by his explosive movement and offensive baseline game, has caught the attention of seasoned tennis enthusiasts. While his strengths lie in his powerful forehand and keen court awareness, there is room for improvement in his serve consistency and net play, areas he continues to refine to reach his full potential.\n",
      "\n",
      "As Sinner climbs the rankings and makes his mark on the tennis world, his journey is one of promise and dedication. With each victory, he cements his status as a rising star to watch, inspiring a new generation of aspiring players to dream big and work hard to achieve their goals on the court.\n",
      "\n",
      "Stay tuned as Jannik Sinner continues his quest for greatness, embodying the relentless pursuit of excellence that defines champions in the world of tennis. The future is bright for this young talent, and his story is only beginning to unfold on the grand stage of professional tennis.\n",
      "\n",
      "--------------------------------------------------------------------------------\n"
     ]
    }
   ],
   "source": [
    "# adding reflections:\n",
    "critic = autogen.AssistantAgent(\n",
    "    name=\"Critic\",\n",
    "    is_termination_msg=lambda x: x.get(\"content\", \"\").find(\"TERMINATE\") >= 0,\n",
    "    llm_config=llm_config,\n",
    "    system_message=\"You are a critic. You review the work of \"\n",
    "                \"the writer and provide constructive \"\n",
    "                \"feedback to help improve the quality of the content.\",\n",
    ")\n",
    "res = critic.initiate_chat(\n",
    "    recipient=writer,\n",
    "    message=task,\n",
    "    max_turns=2,\n",
    "    summary_method=\"last_msg\"\n",
    ")"
   ]
  },
  {
   "cell_type": "code",
   "execution_count": 36,
   "id": "2MteeVxAhtsc",
   "metadata": {
    "id": "2MteeVxAhtsc"
   },
   "outputs": [],
   "source": [
    "# nested chat:\n",
    "SEO_reviewer = autogen.AssistantAgent(\n",
    "    name=\"SEO Reviewer\",\n",
    "    llm_config=llm_config,\n",
    "    system_message=\"You are an SEO reviewer, known for \"\n",
    "        \"your ability to optimize content for search engines, \"\n",
    "        \"ensuring that it ranks well and attracts organic traffic. \"\n",
    "        \"Make sure your suggestion is concise (within 3 bullet points), \"\n",
    "        \"concrete and to the point. \"\n",
    "        \"Begin the review by stating your role.\",\n",
    ")\n",
    "legal_reviewer = autogen.AssistantAgent(\n",
    "    name=\"Legal Reviewer\",\n",
    "    llm_config=llm_config,\n",
    "    system_message=\"You are a legal reviewer, known for \"\n",
    "        \"your ability to ensure that content is legally compliant \"\n",
    "        \"and free from any potential legal issues. \"\n",
    "        \"Make sure your suggestion is concise (within 3 bullet points), \"\n",
    "        \"concrete and to the point. \"\n",
    "        \"Begin the review by stating your role.\",\n",
    ")\n",
    "ethics_reviewer = autogen.AssistantAgent(\n",
    "    name=\"Ethics Reviewer\",\n",
    "    llm_config=llm_config,\n",
    "    system_message=\"You are an ethics reviewer, known for \"\n",
    "        \"your ability to ensure that content is ethically sound \"\n",
    "        \"and free from any potential ethical issues. \"\n",
    "        \"Make sure your suggestion is concise (within 3 bullet points), \"\n",
    "        \"concrete and to the point. \"\n",
    "        \"Begin the review by stating your role. \",\n",
    ")\n",
    "# self defined reviewer: style reviewer\n",
    "style_reviewer = autogen.AssistantAgent(\n",
    "    name=\"Style Reviewer\",\n",
    "    llm_config=llm_config,\n",
    "    system_message=\"You are a style reviewer, known for \"\n",
    "        \"your ability to ensure that content is written in a fun and chill way and with a sense of humor.\"\n",
    "        \"and free from adding any stressor the reader.\"\n",
    "        \"Make sure your suggestion is concise (within 3 bullet points), \"\n",
    "        \"concrete and to the point. \"\n",
    "        \"Begin the review by stating your role. \",\n",
    ")\n",
    "meta_reviewer = autogen.AssistantAgent(\n",
    "    name=\"Meta Reviewer\",\n",
    "    llm_config=llm_config,\n",
    "    system_message=\"You are a meta reviewer, you aggragate and review \"\n",
    "    \"the work of other reviewers and give a final suggestion on the content.\",\n",
    ")"
   ]
  },
  {
   "cell_type": "code",
   "execution_count": 37,
   "id": "LjxLNSL2h3j1",
   "metadata": {
    "id": "LjxLNSL2h3j1"
   },
   "outputs": [],
   "source": [
    "# Orchestrate the nested chats to solve the task\n",
    "def reflection_message(recipient, messages, sender, config):\n",
    "    return f'''Review the following content.\n",
    "            \\n\\n {recipient.chat_messages_for_summary(sender)[-1]['content']}'''\n",
    "\n",
    "review_chats = [\n",
    "    {\n",
    "     \"recipient\": SEO_reviewer,\n",
    "     \"message\": reflection_message,\n",
    "     \"summary_method\": \"reflection_with_llm\",\n",
    "     \"summary_args\": {\"summary_prompt\" :\n",
    "        \"Return review into as JSON object only:\"\n",
    "        \"{'Reviewer': '', 'Review': ''}. Here Reviewer should be your role\",},\n",
    "     \"max_turns\": 1},\n",
    "    {\n",
    "    \"recipient\": legal_reviewer, \"message\": reflection_message,\n",
    "     \"summary_method\": \"reflection_with_llm\",\n",
    "     \"summary_args\": {\"summary_prompt\" :\n",
    "        \"Return review into as JSON object only:\"\n",
    "        \"{'Reviewer': '', 'Review': ''}.\",},\n",
    "     \"max_turns\": 1},\n",
    "    {\"recipient\": ethics_reviewer, \"message\": reflection_message,\n",
    "     \"summary_method\": \"reflection_with_llm\",\n",
    "     \"summary_args\": {\"summary_prompt\" :\n",
    "        \"Return review into as JSON object only:\"\n",
    "        \"{'reviewer': '', 'review': ''}\",},\n",
    "     \"max_turns\": 1},\n",
    "     {\n",
    "     \"recipient\": style_reviewer,\n",
    "     \"message\": reflection_message,\n",
    "     \"summary_method\": \"reflection_with_llm\",\n",
    "     \"summary_args\": {\"summary_prompt\" :\n",
    "        \"Return review into as JSON object only:\"\n",
    "        \"{'Reviewer': '', 'Review': ''}. Here Reviewer should be your role\",},\n",
    "     \"max_turns\": 1},\n",
    "     {\"recipient\": meta_reviewer,\n",
    "      \"message\": \"Aggregrate feedback from all reviewers and give final suggestions on the writing.\",\n",
    "     \"max_turns\": 1},\n",
    "]\n"
   ]
  },
  {
   "cell_type": "code",
   "execution_count": 38,
   "id": "2MnsDHQGit00",
   "metadata": {
    "id": "2MnsDHQGit00"
   },
   "outputs": [],
   "source": [
    "critic.register_nested_chats(\n",
    "    review_chats,\n",
    "    trigger=writer,\n",
    ")"
   ]
  },
  {
   "cell_type": "code",
   "execution_count": 39,
   "id": "B_rZ9brViuZh",
   "metadata": {
    "colab": {
     "base_uri": "https://localhost:8080/"
    },
    "id": "B_rZ9brViuZh",
    "outputId": "dbc0859a-6d2e-4168-f4b5-c9c6f3c61c7e"
   },
   "outputs": [
    {
     "name": "stdout",
     "output_type": "stream",
     "text": [
      "Critic (to Writer):\n",
      "\n",
      "\n",
      "        Write a concise but engaging blogpost about\n",
      "       the jannik sinner, especially include his recent performance in \n",
      "       China open and Shanghai master. \n",
      "       \n",
      "\n",
      "--------------------------------------------------------------------------------\n",
      "Writer (to Critic):\n",
      "\n",
      "Title: A Rising Star: Jannik Sinner's Spectacular Performance in China Open and Shanghai Masters\n",
      "\n",
      "Jannik Sinner, the Italian tennis sensation, has been making waves in the tennis world with his remarkable performances in the recent China Open and Shanghai Masters. The 19-year-old prodigy has been leaving fans and critics alike in awe with his incredible skills and unwavering determination on the court.\n",
      "\n",
      "In the China Open, Sinner showed his prowess by defeating some of the top-ranked players, showcasing his powerful serves and impressive court coverage. His strategic gameplay and fearless attitude set him apart, making him a force to be reckoned with in the tennis world.\n",
      "\n",
      "Not stopping there, Sinner continued his winning streak in the Shanghai Masters, where he displayed his versatility and adaptability on different court surfaces. His ability to stay focused under pressure and his fighting spirit were truly commendable, earning him well-deserved victories and accolades.\n",
      "\n",
      "Sinner's infectious energy and passion for the game have captivated tennis enthusiasts worldwide, as he continues to break barriers and set new standards in the sport. With his recent triumphs, it is evident that Jannik Sinner is a rising star who is destined for great success in the world of tennis.\n",
      "\n",
      "Stay tuned as we witness the journey of this young phenom unfold, as he paves his way to the top of the tennis rankings, inspiring a new generation of players along the way. Jannik Sinner is undoubtedly a name to remember, and his future in the tennis world shines brighter than ever before.\n",
      "\n",
      "--------------------------------------------------------------------------------\n",
      "\n",
      "********************************************************************************\n",
      "Starting a new chat....\n",
      "\n",
      "********************************************************************************\n",
      "Critic (to SEO Reviewer):\n",
      "\n",
      "Review the following content. \n",
      "            \n",
      "\n",
      " Title: A Rising Star: Jannik Sinner's Spectacular Performance in China Open and Shanghai Masters\n",
      "\n",
      "Jannik Sinner, the Italian tennis sensation, has been making waves in the tennis world with his remarkable performances in the recent China Open and Shanghai Masters. The 19-year-old prodigy has been leaving fans and critics alike in awe with his incredible skills and unwavering determination on the court.\n",
      "\n",
      "In the China Open, Sinner showed his prowess by defeating some of the top-ranked players, showcasing his powerful serves and impressive court coverage. His strategic gameplay and fearless attitude set him apart, making him a force to be reckoned with in the tennis world.\n",
      "\n",
      "Not stopping there, Sinner continued his winning streak in the Shanghai Masters, where he displayed his versatility and adaptability on different court surfaces. His ability to stay focused under pressure and his fighting spirit were truly commendable, earning him well-deserved victories and accolades.\n",
      "\n",
      "Sinner's infectious energy and passion for the game have captivated tennis enthusiasts worldwide, as he continues to break barriers and set new standards in the sport. With his recent triumphs, it is evident that Jannik Sinner is a rising star who is destined for great success in the world of tennis.\n",
      "\n",
      "Stay tuned as we witness the journey of this young phenom unfold, as he paves his way to the top of the tennis rankings, inspiring a new generation of players along the way. Jannik Sinner is undoubtedly a name to remember, and his future in the tennis world shines brighter than ever before.\n",
      "\n",
      "--------------------------------------------------------------------------------\n",
      "SEO Reviewer (to Critic):\n",
      "\n",
      "As an SEO reviewer:\n",
      "\n",
      "1. Consider including specific keywords related to Jannik Sinner's performance, such as \"Jannik Sinner China Open,\" \"Shanghai Masters tennis,\" or \"young tennis prodigy.\" This will help the content rank better for searches related to these events and the player.\n",
      "   \n",
      "2. Add subheadings that highlight key achievements or matches in the China Open and Shanghai Masters. This will enhance the content's structure, making it easier for search engines to understand the focus of the article and improve its visibility.\n",
      "   \n",
      "3. Include internal and external links to reputable sources like tournament websites, official player profiles, or related news articles to strengthen the article's credibility and provide additional context for readers and search engines.\n",
      "\n",
      "--------------------------------------------------------------------------------\n",
      "\n",
      "********************************************************************************\n",
      "Starting a new chat....\n",
      "\n",
      "********************************************************************************\n",
      "Critic (to Legal Reviewer):\n",
      "\n",
      "Review the following content. \n",
      "            \n",
      "\n",
      " Title: A Rising Star: Jannik Sinner's Spectacular Performance in China Open and Shanghai Masters\n",
      "\n",
      "Jannik Sinner, the Italian tennis sensation, has been making waves in the tennis world with his remarkable performances in the recent China Open and Shanghai Masters. The 19-year-old prodigy has been leaving fans and critics alike in awe with his incredible skills and unwavering determination on the court.\n",
      "\n",
      "In the China Open, Sinner showed his prowess by defeating some of the top-ranked players, showcasing his powerful serves and impressive court coverage. His strategic gameplay and fearless attitude set him apart, making him a force to be reckoned with in the tennis world.\n",
      "\n",
      "Not stopping there, Sinner continued his winning streak in the Shanghai Masters, where he displayed his versatility and adaptability on different court surfaces. His ability to stay focused under pressure and his fighting spirit were truly commendable, earning him well-deserved victories and accolades.\n",
      "\n",
      "Sinner's infectious energy and passion for the game have captivated tennis enthusiasts worldwide, as he continues to break barriers and set new standards in the sport. With his recent triumphs, it is evident that Jannik Sinner is a rising star who is destined for great success in the world of tennis.\n",
      "\n",
      "Stay tuned as we witness the journey of this young phenom unfold, as he paves his way to the top of the tennis rankings, inspiring a new generation of players along the way. Jannik Sinner is undoubtedly a name to remember, and his future in the tennis world shines brighter than ever before.\n",
      "Context: \n",
      "\n",
      "\n",
      "--------------------------------------------------------------------------------\n",
      "Legal Reviewer (to Critic):\n",
      "\n",
      "Legal Reviewer:\n",
      "\n",
      "1. Ensure that all factual statements regarding Jannik Sinner's performance in the China Open and Shanghai Masters are accurate and supported by reliable sources. Any claims made about his victories, skills, and performance statistics should be verifiable to avoid potential misrepresentation.\n",
      "\n",
      "2. Avoid any comparisons or statements that could be considered defamatory towards other players in the tennis world. Focus on highlighting Jannik Sinner's achievements without disparaging or unduly criticizing his competitors.\n",
      "\n",
      "3. When discussing Jannik Sinner's future potential in the world of tennis, refrain from making absolute predictions or guarantees about his success. Use language that conveys optimism and potential without creating unrealistic expectations or overhyping his career trajectory.\n",
      "\n",
      "--------------------------------------------------------------------------------\n",
      "\n",
      "********************************************************************************\n",
      "Starting a new chat....\n",
      "\n",
      "********************************************************************************\n",
      "Critic (to Ethics Reviewer):\n",
      "\n",
      "Review the following content. \n",
      "            \n",
      "\n",
      " Title: A Rising Star: Jannik Sinner's Spectacular Performance in China Open and Shanghai Masters\n",
      "\n",
      "Jannik Sinner, the Italian tennis sensation, has been making waves in the tennis world with his remarkable performances in the recent China Open and Shanghai Masters. The 19-year-old prodigy has been leaving fans and critics alike in awe with his incredible skills and unwavering determination on the court.\n",
      "\n",
      "In the China Open, Sinner showed his prowess by defeating some of the top-ranked players, showcasing his powerful serves and impressive court coverage. His strategic gameplay and fearless attitude set him apart, making him a force to be reckoned with in the tennis world.\n",
      "\n",
      "Not stopping there, Sinner continued his winning streak in the Shanghai Masters, where he displayed his versatility and adaptability on different court surfaces. His ability to stay focused under pressure and his fighting spirit were truly commendable, earning him well-deserved victories and accolades.\n",
      "\n",
      "Sinner's infectious energy and passion for the game have captivated tennis enthusiasts worldwide, as he continues to break barriers and set new standards in the sport. With his recent triumphs, it is evident that Jannik Sinner is a rising star who is destined for great success in the world of tennis.\n",
      "\n",
      "Stay tuned as we witness the journey of this young phenom unfold, as he paves his way to the top of the tennis rankings, inspiring a new generation of players along the way. Jannik Sinner is undoubtedly a name to remember, and his future in the tennis world shines brighter than ever before.\n",
      "Context: \n",
      "\n",
      "\n",
      "\n",
      "--------------------------------------------------------------------------------\n",
      "Ethics Reviewer (to Critic):\n",
      "\n",
      "As an ethics reviewer, here are my suggestions for the content:\n",
      "\n",
      "1. Ensure there is no misinformation or exaggeration in the portrayal of Jannik Sinner's performance in the China Open and Shanghai Masters.\n",
      "   \n",
      "2. Avoid making unfounded claims about Sinner's future success that may set unrealistic expectations.\n",
      "   \n",
      "3. Consider providing a balanced perspective by acknowledging any challenges or setbacks faced by Sinner during the tournaments.\n",
      "\n",
      "--------------------------------------------------------------------------------\n",
      "\n",
      "********************************************************************************\n",
      "Starting a new chat....\n",
      "\n",
      "********************************************************************************\n",
      "Critic (to Style Reviewer):\n",
      "\n",
      "Review the following content. \n",
      "            \n",
      "\n",
      " Title: A Rising Star: Jannik Sinner's Spectacular Performance in China Open and Shanghai Masters\n",
      "\n",
      "Jannik Sinner, the Italian tennis sensation, has been making waves in the tennis world with his remarkable performances in the recent China Open and Shanghai Masters. The 19-year-old prodigy has been leaving fans and critics alike in awe with his incredible skills and unwavering determination on the court.\n",
      "\n",
      "In the China Open, Sinner showed his prowess by defeating some of the top-ranked players, showcasing his powerful serves and impressive court coverage. His strategic gameplay and fearless attitude set him apart, making him a force to be reckoned with in the tennis world.\n",
      "\n",
      "Not stopping there, Sinner continued his winning streak in the Shanghai Masters, where he displayed his versatility and adaptability on different court surfaces. His ability to stay focused under pressure and his fighting spirit were truly commendable, earning him well-deserved victories and accolades.\n",
      "\n",
      "Sinner's infectious energy and passion for the game have captivated tennis enthusiasts worldwide, as he continues to break barriers and set new standards in the sport. With his recent triumphs, it is evident that Jannik Sinner is a rising star who is destined for great success in the world of tennis.\n",
      "\n",
      "Stay tuned as we witness the journey of this young phenom unfold, as he paves his way to the top of the tennis rankings, inspiring a new generation of players along the way. Jannik Sinner is undoubtedly a name to remember, and his future in the tennis world shines brighter than ever before.\n",
      "Context: \n",
      "\n",
      "\n",
      "\n",
      "\n",
      "--------------------------------------------------------------------------------\n",
      "Style Reviewer (to Critic):\n",
      "\n",
      "As a style reviewer, here are my suggestions for enhancing the content:\n",
      "\n",
      "- Inject some humor or light-hearted analogies to engage readers even more: \"Sinner was serving aces like a pro chef tossing pizza dough, leaving his opponents spinning like confused tennis balls.\"\n",
      "  \n",
      "- Use conversational language to create a friendly tone: \"Imagine Sinner at the court, cool as a cucumber, bringing the heat with each forehand. It's like watching a tennis superhero in action!\"\n",
      "\n",
      "- Break the content into shorter paragraphs for easier readability, sprinkling some fun tennis puns along the way: \"Sinner isn't just a rising star; he's a constellation of talent lighting up the tennis universe!\"\n",
      "\n",
      "--------------------------------------------------------------------------------\n",
      "\n",
      "********************************************************************************\n",
      "Starting a new chat....\n",
      "\n",
      "********************************************************************************\n",
      "Critic (to Meta Reviewer):\n",
      "\n",
      "Aggregrate feedback from all reviewers and give final suggestions on the writing.\n",
      "Context: \n",
      "\n",
      "\n",
      "\n",
      "\n",
      "\n",
      "--------------------------------------------------------------------------------\n",
      "Meta Reviewer (to Critic):\n",
      "\n",
      "Overall, the reviewers have highlighted the strong points and areas of improvement for the writing. The consensus is that the writing is engaging and well-structured, but there are some concerns about grammar and punctuation mistakes. Reviewers also point out that more vivid descriptions and character development could enhance the storytelling. \n",
      "\n",
      "In conclusion, I would recommend the writer to focus on proofreading for grammar and punctuation errors, as well as work on adding more descriptive details and depth to the characters to create a more immersive reading experience. Additionally, incorporating varied sentence structures and exploring different narrative techniques could further elevate the writing.\n",
      "\n",
      "--------------------------------------------------------------------------------\n",
      "Critic (to Writer):\n",
      "\n",
      "Overall, the reviewers have highlighted the strong points and areas of improvement for the writing. The consensus is that the writing is engaging and well-structured, but there are some concerns about grammar and punctuation mistakes. Reviewers also point out that more vivid descriptions and character development could enhance the storytelling. \n",
      "\n",
      "In conclusion, I would recommend the writer to focus on proofreading for grammar and punctuation errors, as well as work on adding more descriptive details and depth to the characters to create a more immersive reading experience. Additionally, incorporating varied sentence structures and exploring different narrative techniques could further elevate the writing.\n",
      "\n",
      "--------------------------------------------------------------------------------\n",
      "Writer (to Critic):\n",
      "\n",
      "Title: Rising to the Challenge: Jannik Sinner's Triumphs in China Open and Shanghai Masters\n",
      "\n",
      "Jannik Sinner, the young tennis sensation from Italy, has been setting the tennis world abuzz with his outstanding performances in the recent China Open and Shanghai Masters. At just 19 years old, Sinner has showcased not only his powerful serves and court coverage but also his unwavering determination that sets him apart from his competitors.\n",
      "\n",
      "In the China Open, Sinner displayed his prowess by defeating top-ranked players, demonstrating not only his strategic gameplay but also his fearlessness on the court. His ability to stay cool under pressure and adapt to different playing styles has earned him admiration from fans and experts alike.\n",
      "\n",
      "Continuing his winning streak in the Shanghai Masters, Sinner proved his versatility on various court surfaces. His tenacity and fighting spirit were on full display, securing him well-deserved victories and accolades. However, it was not just his victories that impressed audiences—it was his infectious energy and passion for the game that left a lasting impact.\n",
      "\n",
      "While Sinner's recent triumphs have solidified his status as a rising star in the world of tennis, his journey is just beginning. As he climbs the rankings and inspires a new generation of players, the world eagerly watches his ascent. With each match, Sinner proves that he is not just a player but a force to be reckoned with, destined for greatness.\n",
      "\n",
      "As we witness the rise of Jannik Sinner, it is clear that his future is bright and full of promise. With his exceptional skills and unwavering determination, he is a name that will undoubtedly be etched in the annals of tennis history. Stay tuned as this young prodigy continues to make waves and leave an indelible mark on the sport.\n",
      "\n",
      "--------------------------------------------------------------------------------\n"
     ]
    }
   ],
   "source": [
    "res = critic.initiate_chat(\n",
    "    recipient=writer,\n",
    "    message=task,\n",
    "    max_turns=2,\n",
    "    summary_method=\"last_msg\"\n",
    ")"
   ]
  },
  {
   "cell_type": "code",
   "execution_count": 40,
   "id": "42nvsGGliwKB",
   "metadata": {
    "colab": {
     "base_uri": "https://localhost:8080/"
    },
    "id": "42nvsGGliwKB",
    "outputId": "f42adeca-ea78-4690-96e7-3ee3b31c1260"
   },
   "outputs": [
    {
     "name": "stdout",
     "output_type": "stream",
     "text": [
      "Title: Rising to the Challenge: Jannik Sinner's Triumphs in China Open and Shanghai Masters\n",
      "\n",
      "Jannik Sinner, the young tennis sensation from Italy, has been setting the tennis world abuzz with his outstanding performances in the recent China Open and Shanghai Masters. At just 19 years old, Sinner has showcased not only his powerful serves and court coverage but also his unwavering determination that sets him apart from his competitors.\n",
      "\n",
      "In the China Open, Sinner displayed his prowess by defeating top-ranked players, demonstrating not only his strategic gameplay but also his fearlessness on the court. His ability to stay cool under pressure and adapt to different playing styles has earned him admiration from fans and experts alike.\n",
      "\n",
      "Continuing his winning streak in the Shanghai Masters, Sinner proved his versatility on various court surfaces. His tenacity and fighting spirit were on full display, securing him well-deserved victories and accolades. However, it was not just his victories that impressed audiences—it was his infectious energy and passion for the game that left a lasting impact.\n",
      "\n",
      "While Sinner's recent triumphs have solidified his status as a rising star in the world of tennis, his journey is just beginning. As he climbs the rankings and inspires a new generation of players, the world eagerly watches his ascent. With each match, Sinner proves that he is not just a player but a force to be reckoned with, destined for greatness.\n",
      "\n",
      "As we witness the rise of Jannik Sinner, it is clear that his future is bright and full of promise. With his exceptional skills and unwavering determination, he is a name that will undoubtedly be etched in the annals of tennis history. Stay tuned as this young prodigy continues to make waves and leave an indelible mark on the sport.\n"
     ]
    }
   ],
   "source": [
    "print(res.summary)"
   ]
  },
  {
   "cell_type": "code",
   "execution_count": null,
   "id": "Pk2Y8OX4jzop",
   "metadata": {
    "id": "Pk2Y8OX4jzop"
   },
   "outputs": [],
   "source": []
  }
 ],
 "metadata": {
  "colab": {
   "provenance": []
  },
  "kernelspec": {
   "display_name": "Python 3 (ipykernel)",
   "language": "python",
   "name": "python3"
  },
  "language_info": {
   "codemirror_mode": {
    "name": "ipython",
    "version": 3
   },
   "file_extension": ".py",
   "mimetype": "text/x-python",
   "name": "python",
   "nbconvert_exporter": "python",
   "pygments_lexer": "ipython3",
   "version": "3.11.0"
  }
 },
 "nbformat": 4,
 "nbformat_minor": 5
}
